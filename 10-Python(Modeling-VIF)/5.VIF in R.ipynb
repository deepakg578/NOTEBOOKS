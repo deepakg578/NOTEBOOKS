{
 "cells": [
  {
   "cell_type": "markdown",
   "metadata": {},
   "source": [
    "### What is multicollinearity?\n",
    "* Multicollinearity exists when two independent variables are highly correlated.\n",
    "* When two X variables are highly correlated, they both convey essentially the same\n",
    "information.\n",
    "\n",
    "### Why is multicollinearity a problem?\n",
    "* If the goal is simply to predict Y from a set of X variables, then multicollinearity is not\n",
    "a serious problem. If the goal is to understand how the various X variables impact Y,\n",
    "then multicollinearity is a big problem.\n",
    "* Automated regression algorithms tends to overfit in the presence of multicollinearity.\n",
    "* Leads to unreasonable coefficient estimates, large standard errors, large pvalues and\n",
    "consequently bad interpretation/inference.\n",
    "* Leads to mis-specification of the model.\n",
    "Confidential\n",
    "\n",
    "### Causes of multicollinearity\n",
    "* Improper use of dummy variables (e.g. failure to exclude one category)\n",
    "* Including a variable that is computed from other variables in the equation\n",
    "(e.g. family income = husband‟s income + wife‟s income, and the regression\n",
    "includes all 3 income measures)\n",
    "* In effect, including the same or almost the same variable twice (height in\n",
    "feet and height in inches; or, more commonly, two different\n",
    "operationalizations of the same identical concept)\n",
    "* The above all imply some sort of error on the analyst‟s part. But, it may\n",
    "just be that variables really and truly are highly correlated.\n",
    "\n",
    "### Detection of multicollinearity\n",
    "* High pairwise correlations between the X variables. (But three or more X\n",
    "variables can be multicollinear together without having high pairwise\n",
    "correlations.)\n",
    "* Regression coefficients change drastically when adding or deleting an X\n",
    "variable.\n",
    "* A regression coefficient has the opposite sign than what is expected.\n",
    "* Formally, variance inflation factors (VIF) measure how much the variance of\n",
    "the estimated coefficients are increased over the case of no correlation\n",
    "among the X variables. If no two X variables are correlated, then all the VIFs\n",
    "will be 1. “A general rule is that the VIF should not exceed 10” "
   ]
  },
  {
   "cell_type": "markdown",
   "metadata": {},
   "source": [
    "### Dealing with multicollinearity\n",
    "* Increasing the sample size is a common first step since when sample size is increased,\n",
    "standard error decreases.\n",
    "* Combine variables into a composite variable. Example: if height and weight are collinear\n",
    "independent variables, remove height and weight from the model, and use surface area\n",
    "(calculated from height and weight) instead.\n",
    "* The easiest solution: Remove the most intercorrelated variable(s) from analysis. This\n",
    "method is misguided if the variables were there due to the theory of the model, which\n",
    "they should have been. "
   ]
  },
  {
   "cell_type": "code",
   "execution_count": 11,
   "metadata": {
    "collapsed": false
   },
   "outputs": [],
   "source": [
    "vif_func<-function(in_frame,thresh=10,trace=T,...){\n",
    "  \n",
    "  require(fmsb)\n",
    "  \n",
    "  if(class(in_frame) != 'data.frame') in_frame<-data.frame(in_frame)\n",
    "  \n",
    "  #get initial vif value for all comparisons of variables\n",
    "  vif_init<-NULL\n",
    "  var_names <- names(in_frame)\n",
    "  for(val in var_names){\n",
    "    regressors <- var_names[-which(var_names == val)]\n",
    "    form <- paste(regressors, collapse = '+')\n",
    "    form_in <- formula(paste(val, '~', form))\n",
    "    vif_init<-rbind(vif_init, c(val, VIF(lm(form_in, data = in_frame, ...))))\n",
    "  }\n",
    "  vif_max<-max(as.numeric(vif_init[,2]), na.rm = TRUE)\n",
    "  \n",
    "  if(vif_max < thresh){\n",
    "    if(trace==T){ #print output of each iteration\n",
    "      prmatrix(vif_init,collab=c('var','vif'),rowlab=rep('',nrow(vif_init)),quote=F)\n",
    "      cat('\\n')\n",
    "      cat(paste('All variables have VIF < ', thresh,', max VIF ',round(vif_max,2), sep=''),'\\n\\n')\n",
    "    }\n",
    "    return(var_names)\n",
    "  }\n",
    "  else{\n",
    "    \n",
    "    in_dat<-in_frame\n",
    "    \n",
    "    #backwards selection of explanatory variables, stops when all VIF values are below 'thresh'\n",
    "    while(vif_max >= thresh){\n",
    "      \n",
    "      vif_vals<-NULL\n",
    "      var_names <- names(in_dat)\n",
    "      \n",
    "      for(val in var_names){\n",
    "        regressors <- var_names[-which(var_names == val)]\n",
    "        form <- paste(regressors, collapse = '+')\n",
    "        form_in <- formula(paste(val, '~', form))\n",
    "        vif_add<-VIF(lm(form_in, data = in_dat, ...))\n",
    "        vif_vals<-rbind(vif_vals,c(val,vif_add))\n",
    "      }\n",
    "      max_row<-which(vif_vals[,2] == max(as.numeric(vif_vals[,2]), na.rm = TRUE))[1]\n",
    "      \n",
    "      vif_max<-as.numeric(vif_vals[max_row,2])\n",
    "      \n",
    "      if(vif_max<thresh) break\n",
    "      \n",
    "      if(trace==T){ #print output of each iteration\n",
    "        prmatrix(vif_vals,collab=c('var','vif'),rowlab=rep('',nrow(vif_vals)),quote=F)\n",
    "        cat('\\n')\n",
    "        cat('removed: ',vif_vals[max_row,1],vif_max,'\\n\\n')\n",
    "        flush.console()\n",
    "      }\n",
    "      \n",
    "      in_dat<-in_dat[,!names(in_dat) %in% vif_vals[max_row,1]]\n",
    "      \n",
    "    }\n",
    "    \n",
    "    return(names(in_dat))\n",
    "    \n",
    "  }\n",
    "  \n",
    "}"
   ]
  },
  {
   "cell_type": "code",
   "execution_count": 12,
   "metadata": {
    "collapsed": false
   },
   "outputs": [],
   "source": [
    "df <- read.csv('vif.csv')"
   ]
  },
  {
   "cell_type": "code",
   "execution_count": 13,
   "metadata": {
    "collapsed": true
   },
   "outputs": [],
   "source": [
    "eqn <- \"y ~ X1+X2+X3+X4+X5+X6+X7+X8+X9+X10+X11+X12+X13+X14+X15\""
   ]
  },
  {
   "cell_type": "code",
   "execution_count": 14,
   "metadata": {
    "collapsed": true
   },
   "outputs": [],
   "source": [
    "mod1<-lm(eqn,data=df)"
   ]
  },
  {
   "cell_type": "code",
   "execution_count": 15,
   "metadata": {
    "collapsed": false
   },
   "outputs": [
    {
     "data": {
      "text/plain": [
       "\n",
       "Call:\n",
       "lm(formula = eqn, data = df)\n",
       "\n",
       "Residuals:\n",
       "    Min      1Q  Median      3Q     Max \n",
       "-65.855 -13.150   0.647  13.548  53.344 \n",
       "\n",
       "Coefficients:\n",
       "            Estimate Std. Error t value Pr(>|t|)   \n",
       "(Intercept)    0.631      1.489   0.424  0.67233   \n",
       "X1             5.523      2.345   2.356  0.01954 * \n",
       "X2            -7.089      3.389  -2.091  0.03787 * \n",
       "X3             2.512      1.685   1.490  0.13788   \n",
       "X4             3.811      5.430   0.702  0.48362   \n",
       "X5            -4.776      1.766  -2.704  0.00749 **\n",
       "X6            11.374      8.777   1.296  0.19665   \n",
       "X7            -3.426      6.207  -0.552  0.58166   \n",
       "X8            -0.310      7.855  -0.039  0.96857   \n",
       "X9            -6.424      3.279  -1.959  0.05160 . \n",
       "X10           11.559      5.761   2.007  0.04626 * \n",
       "X11            6.768      3.546   1.909  0.05782 . \n",
       "X12            4.830      3.235   1.493  0.13712   \n",
       "X13            2.271      1.465   1.550  0.12294   \n",
       "X14           -1.182      3.619  -0.327  0.74433   \n",
       "X15            2.849      3.905   0.730  0.46647   \n",
       "---\n",
       "Signif. codes:  0 '***' 0.001 '**' 0.01 '*' 0.05 '.' 0.1 ' ' 1\n",
       "\n",
       "Residual standard error: 20.38 on 184 degrees of freedom\n",
       "Multiple R-squared:  0.774,\tAdjusted R-squared:  0.7556 \n",
       "F-statistic: 42.02 on 15 and 184 DF,  p-value: < 2.2e-16\n"
      ]
     },
     "metadata": {},
     "output_type": "display_data"
    }
   ],
   "source": [
    "summary(mod1)"
   ]
  },
  {
   "cell_type": "code",
   "execution_count": 17,
   "metadata": {
    "collapsed": false
   },
   "outputs": [
    {
     "name": "stdout",
     "output_type": "stream",
     "text": [
      " var vif             \n",
      " X1  27.7352782121335\n",
      " X2  36.894719655662 \n",
      " X3  12.5694198119223\n",
      " X4  50.7385544946882\n",
      " X5  8.35069942576805\n",
      " X6  114.685122257738\n",
      " X7  67.3415419903541\n",
      " X8  153.59701278562 \n",
      " X9  48.2266628032823\n",
      " X10 50.7371404020434\n",
      " X11 33.9720046914933\n",
      " X12 43.2541022327502\n",
      " X13 12.0823286945155\n",
      " X14 74.6186892748866\n",
      " X15 29.8722458974499\n",
      "\n",
      "removed:  X8 153.597 \n",
      "\n",
      " var vif             \n",
      " X1  6.67306561905865\n",
      " X2  7.98347501276441\n",
      " X3  4.56187657664034\n",
      " X4  8.03048468539905\n",
      " X5  7.70736760798638\n",
      " X6  19.6743072243842\n",
      " X7  52.9521669899093\n",
      " X9  17.8683960667889\n",
      " X10 46.2484642812219\n",
      " X11 18.247944611281 \n",
      " X12 42.1336977950459\n",
      " X13 10.8973377459043\n",
      " X14 37.929695266819 \n",
      " X15 21.5847028895811\n",
      "\n",
      "removed:  X7 52.95217 \n",
      "\n",
      " var vif             \n",
      " X1  6.54376168047226\n",
      " X2  7.68236114724478\n",
      " X3  4.04873004990446\n",
      " X4  5.08958904355854\n",
      " X5  2.65685239969468\n",
      " X6  9.126853848419  \n",
      " X9  2.89940351016053\n",
      " X10 4.24712217527482\n",
      " X11 4.45202381076983\n",
      " X12 12.8835110865084\n",
      " X13 1.92759852497866\n",
      " X14 6.02382345980614\n",
      " X15 8.33332235733304\n",
      "\n",
      "removed:  X12 12.88351 \n",
      "\n",
      " var vif             \n",
      " X1  4.21690743787512\n",
      " X2  6.88058249767732\n",
      " X3  3.88265091743092\n",
      " X4  4.48146995291991\n",
      " X5  2.20144300276456\n",
      " X6  7.76775127223797\n",
      " X9  2.71324446999845\n",
      " X10 2.90517847810397\n",
      " X11 4.43541888867455\n",
      " X13 1.78221291037053\n",
      " X14 5.02289299188363\n",
      " X15 3.02196822769458\n",
      "\n",
      "removed:  X6 7.767751 \n",
      "\n"
     ]
    },
    {
     "data": {
      "text/html": [
       "<ol class=list-inline>\n",
       "\t<li>'X1'</li>\n",
       "\t<li>'X2'</li>\n",
       "\t<li>'X3'</li>\n",
       "\t<li>'X4'</li>\n",
       "\t<li>'X5'</li>\n",
       "\t<li>'X9'</li>\n",
       "\t<li>'X10'</li>\n",
       "\t<li>'X11'</li>\n",
       "\t<li>'X13'</li>\n",
       "\t<li>'X14'</li>\n",
       "\t<li>'X15'</li>\n",
       "</ol>\n"
      ],
      "text/latex": [
       "\\begin{enumerate*}\n",
       "\\item 'X1'\n",
       "\\item 'X2'\n",
       "\\item 'X3'\n",
       "\\item 'X4'\n",
       "\\item 'X5'\n",
       "\\item 'X9'\n",
       "\\item 'X10'\n",
       "\\item 'X11'\n",
       "\\item 'X13'\n",
       "\\item 'X14'\n",
       "\\item 'X15'\n",
       "\\end{enumerate*}\n"
      ],
      "text/markdown": [
       "1. 'X1'\n",
       "2. 'X2'\n",
       "3. 'X3'\n",
       "4. 'X4'\n",
       "5. 'X5'\n",
       "6. 'X9'\n",
       "7. 'X10'\n",
       "8. 'X11'\n",
       "9. 'X13'\n",
       "10. 'X14'\n",
       "11. 'X15'\n",
       "\n",
       "\n"
      ],
      "text/plain": [
       " [1] \"X1\"  \"X2\"  \"X3\"  \"X4\"  \"X5\"  \"X9\"  \"X10\" \"X11\" \"X13\" \"X14\" \"X15\""
      ]
     },
     "metadata": {},
     "output_type": "display_data"
    }
   ],
   "source": [
    "vif_func(in_frame=subset( df, select = -y ),thresh=5,trace=T)"
   ]
  },
  {
   "cell_type": "code",
   "execution_count": null,
   "metadata": {
    "collapsed": true
   },
   "outputs": [],
   "source": []
  }
 ],
 "metadata": {
  "kernelspec": {
   "display_name": "R",
   "language": "R",
   "name": "ir"
  },
  "language_info": {
   "codemirror_mode": "r",
   "file_extension": ".r",
   "mimetype": "text/x-r-source",
   "name": "R",
   "pygments_lexer": "r",
   "version": "3.3.2"
  }
 },
 "nbformat": 4,
 "nbformat_minor": 2
}
