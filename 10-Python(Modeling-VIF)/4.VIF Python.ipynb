{
 "cells": [
  {
   "cell_type": "code",
   "execution_count": 2,
   "metadata": {
    "collapsed": false
   },
   "outputs": [],
   "source": [
    "#Imports\n",
    "import pandas as pd\n",
    "import numpy as np\n",
    "from patsy import dmatrices\n",
    "import statsmodels.api as sm\n",
    "from statsmodels.stats.outliers_influence import variance_inflation_factor\n",
    "\n"
   ]
  },
  {
   "cell_type": "code",
   "execution_count": 3,
   "metadata": {
    "collapsed": false
   },
   "outputs": [
    {
     "data": {
      "text/html": [
       "<div>\n",
       "<table border=\"1\" class=\"dataframe\">\n",
       "  <thead>\n",
       "    <tr style=\"text-align: right;\">\n",
       "      <th></th>\n",
       "      <th>Unnamed: 0</th>\n",
       "      <th>y</th>\n",
       "      <th>X1</th>\n",
       "      <th>X2</th>\n",
       "      <th>X3</th>\n",
       "      <th>X4</th>\n",
       "      <th>X5</th>\n",
       "      <th>X6</th>\n",
       "      <th>X7</th>\n",
       "      <th>X8</th>\n",
       "      <th>X9</th>\n",
       "      <th>X10</th>\n",
       "      <th>X11</th>\n",
       "      <th>X12</th>\n",
       "      <th>X13</th>\n",
       "      <th>X14</th>\n",
       "      <th>X15</th>\n",
       "    </tr>\n",
       "  </thead>\n",
       "  <tbody>\n",
       "    <tr>\n",
       "      <th>0</th>\n",
       "      <td>1</td>\n",
       "      <td>-38.227132</td>\n",
       "      <td>-0.058972</td>\n",
       "      <td>-0.206567</td>\n",
       "      <td>0.800651</td>\n",
       "      <td>0.775224</td>\n",
       "      <td>1.967855</td>\n",
       "      <td>0.378186</td>\n",
       "      <td>3.341408</td>\n",
       "      <td>-2.317802</td>\n",
       "      <td>-2.515558</td>\n",
       "      <td>-3.988083</td>\n",
       "      <td>-3.862908</td>\n",
       "      <td>4.879319</td>\n",
       "      <td>1.250428</td>\n",
       "      <td>3.247059</td>\n",
       "      <td>-0.035007</td>\n",
       "    </tr>\n",
       "    <tr>\n",
       "      <th>1</th>\n",
       "      <td>2</td>\n",
       "      <td>-37.675237</td>\n",
       "      <td>-1.627567</td>\n",
       "      <td>-1.613886</td>\n",
       "      <td>0.105250</td>\n",
       "      <td>1.380120</td>\n",
       "      <td>5.814475</td>\n",
       "      <td>2.651844</td>\n",
       "      <td>3.965394</td>\n",
       "      <td>-0.366479</td>\n",
       "      <td>-4.974998</td>\n",
       "      <td>0.184738</td>\n",
       "      <td>-5.380564</td>\n",
       "      <td>-0.577288</td>\n",
       "      <td>-4.827699</td>\n",
       "      <td>6.719420</td>\n",
       "      <td>1.811248</td>\n",
       "    </tr>\n",
       "    <tr>\n",
       "      <th>2</th>\n",
       "      <td>3</td>\n",
       "      <td>-57.970633</td>\n",
       "      <td>-3.808515</td>\n",
       "      <td>3.791119</td>\n",
       "      <td>3.994495</td>\n",
       "      <td>-0.104410</td>\n",
       "      <td>0.663476</td>\n",
       "      <td>1.213484</td>\n",
       "      <td>2.488109</td>\n",
       "      <td>-0.205445</td>\n",
       "      <td>-1.870075</td>\n",
       "      <td>-1.035900</td>\n",
       "      <td>-1.350974</td>\n",
       "      <td>-1.029284</td>\n",
       "      <td>2.840111</td>\n",
       "      <td>-0.848216</td>\n",
       "      <td>0.403430</td>\n",
       "    </tr>\n",
       "    <tr>\n",
       "      <th>3</th>\n",
       "      <td>4</td>\n",
       "      <td>-12.646060</td>\n",
       "      <td>-5.383439</td>\n",
       "      <td>2.249870</td>\n",
       "      <td>3.844734</td>\n",
       "      <td>-2.479057</td>\n",
       "      <td>1.436955</td>\n",
       "      <td>1.951578</td>\n",
       "      <td>1.138720</td>\n",
       "      <td>-0.522607</td>\n",
       "      <td>-2.962268</td>\n",
       "      <td>-0.273728</td>\n",
       "      <td>-0.222272</td>\n",
       "      <td>-2.935165</td>\n",
       "      <td>-2.345417</td>\n",
       "      <td>-1.263170</td>\n",
       "      <td>3.167941</td>\n",
       "    </tr>\n",
       "    <tr>\n",
       "      <th>4</th>\n",
       "      <td>5</td>\n",
       "      <td>-16.220116</td>\n",
       "      <td>-5.619411</td>\n",
       "      <td>1.904953</td>\n",
       "      <td>5.689017</td>\n",
       "      <td>-2.080941</td>\n",
       "      <td>-5.967984</td>\n",
       "      <td>0.815694</td>\n",
       "      <td>0.054039</td>\n",
       "      <td>0.323300</td>\n",
       "      <td>-1.827142</td>\n",
       "      <td>0.984362</td>\n",
       "      <td>-1.380817</td>\n",
       "      <td>-4.432278</td>\n",
       "      <td>5.542334</td>\n",
       "      <td>-4.785662</td>\n",
       "      <td>-0.584143</td>\n",
       "    </tr>\n",
       "  </tbody>\n",
       "</table>\n",
       "</div>"
      ],
      "text/plain": [
       "   Unnamed: 0          y        X1        X2        X3        X4        X5  \\\n",
       "0           1 -38.227132 -0.058972 -0.206567  0.800651  0.775224  1.967855   \n",
       "1           2 -37.675237 -1.627567 -1.613886  0.105250  1.380120  5.814475   \n",
       "2           3 -57.970633 -3.808515  3.791119  3.994495 -0.104410  0.663476   \n",
       "3           4 -12.646060 -5.383439  2.249870  3.844734 -2.479057  1.436955   \n",
       "4           5 -16.220116 -5.619411  1.904953  5.689017 -2.080941 -5.967984   \n",
       "\n",
       "         X6        X7        X8        X9       X10       X11       X12  \\\n",
       "0  0.378186  3.341408 -2.317802 -2.515558 -3.988083 -3.862908  4.879319   \n",
       "1  2.651844  3.965394 -0.366479 -4.974998  0.184738 -5.380564 -0.577288   \n",
       "2  1.213484  2.488109 -0.205445 -1.870075 -1.035900 -1.350974 -1.029284   \n",
       "3  1.951578  1.138720 -0.522607 -2.962268 -0.273728 -0.222272 -2.935165   \n",
       "4  0.815694  0.054039  0.323300 -1.827142  0.984362 -1.380817 -4.432278   \n",
       "\n",
       "        X13       X14       X15  \n",
       "0  1.250428  3.247059 -0.035007  \n",
       "1 -4.827699  6.719420  1.811248  \n",
       "2  2.840111 -0.848216  0.403430  \n",
       "3 -2.345417 -1.263170  3.167941  \n",
       "4  5.542334 -4.785662 -0.584143  "
      ]
     },
     "execution_count": 3,
     "metadata": {},
     "output_type": "execute_result"
    }
   ],
   "source": [
    "df = pd.read_csv('vif.csv')\n",
    "df.dropna()\n",
    "df1 = df._get_numeric_data() #drop non-numeric cols\n",
    "\n",
    "df1.head()"
   ]
  },
  {
   "cell_type": "code",
   "execution_count": 4,
   "metadata": {
    "collapsed": true
   },
   "outputs": [],
   "source": [
    "df2=df1.drop('y',axis=1)"
   ]
  },
  {
   "cell_type": "code",
   "execution_count": 5,
   "metadata": {
    "collapsed": false
   },
   "outputs": [],
   "source": [
    "from statsmodels.stats.outliers_influence import variance_inflation_factor  \n",
    "\n",
    "def calculate_vif_(X):\n",
    "    variables = list(X.columns)\n",
    "    vif = {variable:variance_inflation_factor(exog=X.values, exog_idx=ix) for ix,variable in enumerate(list(X.columns))}\n",
    "    return vif"
   ]
  },
  {
   "cell_type": "code",
   "execution_count": 6,
   "metadata": {
    "collapsed": false
   },
   "outputs": [],
   "source": [
    "vifDict = calculate_vif_(df2)"
   ]
  },
  {
   "cell_type": "code",
   "execution_count": 7,
   "metadata": {
    "collapsed": false
   },
   "outputs": [
    {
     "data": {
      "text/plain": [
       "{'Unnamed: 0': 1.056905722637264,\n",
       " 'X1': 27.953159132110354,\n",
       " 'X10': 51.486387838720887,\n",
       " 'X11': 34.078312249888448,\n",
       " 'X12': 44.575303135869781,\n",
       " 'X13': 12.168985404919226,\n",
       " 'X14': 74.97190313242082,\n",
       " 'X15': 30.604729744222702,\n",
       " 'X2': 36.850507536635142,\n",
       " 'X3': 12.809747032810531,\n",
       " 'X4': 50.894501539829449,\n",
       " 'X5': 8.4351615177161818,\n",
       " 'X6': 115.22890360004568,\n",
       " 'X7': 68.235614935086758,\n",
       " 'X8': 153.82341808366408,\n",
       " 'X9': 48.407920684253426}"
      ]
     },
     "execution_count": 7,
     "metadata": {},
     "output_type": "execute_result"
    }
   ],
   "source": [
    "vifDict"
   ]
  },
  {
   "cell_type": "code",
   "execution_count": 20,
   "metadata": {
    "collapsed": true
   },
   "outputs": [],
   "source": [
    "from statsmodels.stats.outliers_influence import variance_inflation_factor  \n",
    "\n",
    "def calculate_vif_(X):\n",
    "    variables = list(X.columns)\n",
    "    vif = {variable:variance_inflation_factor(exog=X.values, exog_idx=ix) for ix,variable in enumerate(list(X.columns))}\n",
    "    return vif\n",
    "\n",
    "def loop_vif(data_frame,dep_var,vif_cut_off):\n",
    "    data_frame.dropna(inplace = True)\n",
    "    data_frame=data_frame.drop(dep_var,axis=1)\n",
    "    data_frame = data_frame._get_numeric_data() #drop non-numeric cols\n",
    "    \n",
    "    \n",
    "    max_vif = vif_cut_off +2\n",
    "    \n",
    "    while(max_vif >= vif_cut_off):\n",
    "    \n",
    "        vifDict = calculate_vif_(data_frame)\n",
    "    \n",
    "        vifDf = pd.DataFrame()\n",
    "        vifDf['variables'] = vifDict.keys()\n",
    "        vifDf['vifScore'] = vifDict.values()\n",
    "        vifDf.sort_values(by=['vifScore'],ascending=False,inplace=True)\n",
    "        vifDf.reset_index(inplace=True,drop=True)\n",
    "        print(vifDf)\n",
    "        max_vif = max(vifDf['vifScore'])\n",
    "        \n",
    "        if(max_vif > vif_cut_off):\n",
    "            drop_var = vifDf[vifDf['vifScore'] == max(vifDf['vifScore'])]['variables'][0]\n",
    "            print('Variable {} will be removed as VIF score {} is greater than {}'.format(drop_var,max_vif,vif_cut_off))\n",
    "            data_frame.drop(drop_var,axis=1,inplace=True)\n",
    "    return(data_frame.columns)\n"
   ]
  },
  {
   "cell_type": "code",
   "execution_count": 21,
   "metadata": {
    "collapsed": true
   },
   "outputs": [],
   "source": [
    "df = pd.read_csv('vif.csv')"
   ]
  },
  {
   "cell_type": "code",
   "execution_count": 22,
   "metadata": {
    "collapsed": false
   },
   "outputs": [
    {
     "data": {
      "text/plain": [
       "Index(['y', 'X1', 'X2', 'X3', 'X4', 'X5', 'X6', 'X7', 'X8', 'X9', 'X10', 'X11',\n",
       "       'X12', 'X13', 'X14', 'X15'],\n",
       "      dtype='object')"
      ]
     },
     "execution_count": 22,
     "metadata": {},
     "output_type": "execute_result"
    }
   ],
   "source": [
    "df.columns"
   ]
  },
  {
   "cell_type": "code",
   "execution_count": 23,
   "metadata": {
    "collapsed": false
   },
   "outputs": [
    {
     "name": "stdout",
     "output_type": "stream",
     "text": [
      "   variables    vifScore\n",
      "0         X8  153.612375\n",
      "1         X6  115.228883\n",
      "2        X14   74.598818\n",
      "3         X7   67.290179\n",
      "4         X4   50.891559\n",
      "5        X10   50.767700\n",
      "6         X9   48.142476\n",
      "7        X12   44.324220\n",
      "8         X2   36.848908\n",
      "9        X11   34.051869\n",
      "10       X15   30.522286\n",
      "11        X1   27.907582\n",
      "12        X3   12.802736\n",
      "13       X13   12.082014\n",
      "14        X5    8.354233\n",
      "Variable X8 will be removed as VIF score 153.6123750492101 is greater than 5\n",
      "   variables   vifScore\n",
      "0         X7  52.998266\n",
      "1        X10  46.340609\n",
      "2        X12  43.163684\n",
      "3        X14  37.936287\n",
      "4        X15  22.030004\n",
      "5         X6  19.800169\n",
      "6        X11  18.324388\n",
      "7         X9  17.869381\n",
      "8        X13  10.895628\n",
      "9         X4   8.068404\n",
      "10        X2   7.984754\n",
      "11        X5   7.718239\n",
      "12        X1   6.722488\n",
      "13        X3   4.597275\n",
      "Variable X7 will be removed as VIF score 52.99826643117125 is greater than 5\n",
      "   variables   vifScore\n",
      "0        X12  13.203847\n",
      "1         X6   9.187639\n",
      "2        X15   8.454310\n",
      "3         X2   7.684612\n",
      "4         X1   6.591254\n",
      "5        X14   5.968533\n",
      "6         X4   5.114973\n",
      "7        X11   4.455493\n",
      "8        X10   4.249106\n",
      "9         X3   4.082010\n",
      "10        X9   2.888712\n",
      "11        X5   2.662135\n",
      "12       X13   1.926642\n",
      "Variable X12 will be removed as VIF score 13.20384697058436 is greater than 5\n",
      "   variables  vifScore\n",
      "0         X6  7.819478\n",
      "1         X2  6.882474\n",
      "2        X14  4.967169\n",
      "3         X4  4.503818\n",
      "4        X11  4.438819\n",
      "5         X1  4.246339\n",
      "6         X3  3.912780\n",
      "7        X15  3.027429\n",
      "8        X10  2.902312\n",
      "9         X9  2.702546\n",
      "10        X5  2.205740\n",
      "11       X13  1.781255\n",
      "Variable X6 will be removed as VIF score 7.8194779545611075 is greater than 5\n",
      "   variables  vifScore\n",
      "0        X14  4.518791\n",
      "1         X4  4.334174\n",
      "2         X1  4.233093\n",
      "3         X3  3.787293\n",
      "4        X15  2.991700\n",
      "5         X9  2.698975\n",
      "6         X2  2.415230\n",
      "7        X10  2.389940\n",
      "8         X5  2.146935\n",
      "9        X11  1.865533\n",
      "10       X13  1.653146\n"
     ]
    },
    {
     "data": {
      "text/plain": [
       "Index(['X1', 'X2', 'X3', 'X4', 'X5', 'X9', 'X10', 'X11', 'X13', 'X14', 'X15'], dtype='object')"
      ]
     },
     "execution_count": 23,
     "metadata": {},
     "output_type": "execute_result"
    }
   ],
   "source": [
    "loop_vif(df,'y',5)"
   ]
  },
  {
   "cell_type": "code",
   "execution_count": null,
   "metadata": {
    "collapsed": true
   },
   "outputs": [],
   "source": []
  }
 ],
 "metadata": {
  "kernelspec": {
   "display_name": "Python 3",
   "language": "python",
   "name": "python3"
  },
  "language_info": {
   "codemirror_mode": {
    "name": "ipython",
    "version": 3
   },
   "file_extension": ".py",
   "mimetype": "text/x-python",
   "name": "python",
   "nbconvert_exporter": "python",
   "pygments_lexer": "ipython3",
   "version": "3.6.0"
  }
 },
 "nbformat": 4,
 "nbformat_minor": 2
}
