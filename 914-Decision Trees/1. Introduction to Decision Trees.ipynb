{
 "cells": [
  {
   "cell_type": "markdown",
   "metadata": {},
   "source": [
    "# Contents\n",
    "\n",
    "* Intutive example\n",
    "* ID3 algorithm\n",
    "* Entropy\n",
    "* Information gain\n",
    "* Overfitting in Decision trees"
   ]
  },
  {
   "cell_type": "markdown",
   "metadata": {},
   "source": [
    "## Intutive example\n",
    "\n",
    "A decision tree is a graph that uses a branching method to illustrate every possible outcome of a decision.\n",
    "\n",
    "Lets try to understand this using an example.\n",
    "\n",
    "We have collected 2 weeks of data for a player with weather information. Using this example we will build Decision tree which will help us to identify outcome of new case."
   ]
  },
  {
   "cell_type": "markdown",
   "metadata": {},
   "source": [
    "![](d1.png)"
   ]
  },
  {
   "cell_type": "markdown",
   "metadata": {},
   "source": [
    "For out understanding lets just start with Outlook and see how data splits \n",
    "\n",
    "![](d2.png)\n",
    "\n",
    "Overcast has **pure ** subset, so we don't have to do anyting further to it. The other subsets are mixed so we will further split them. "
   ]
  },
  {
   "cell_type": "markdown",
   "metadata": {},
   "source": [
    "Next for Sunny let pick humid for split and for Rain let put Wind for split\n",
    "![](d3.png)"
   ]
  },
  {
   "cell_type": "markdown",
   "metadata": {},
   "source": [
    "Now based on above splits we have achieved subsets which are pure. So our decision tree will look like:\n",
    "![](d4.png)\n",
    "\n",
    "Here, tree dosen't need to be balanced. Some nodes can go deeper than other. "
   ]
  },
  {
   "cell_type": "markdown",
   "metadata": {},
   "source": [
    "In the process we remember the count of outcome at each node. This is helpful when we **Prune** the tree.\n",
    "![](d5.png)\n",
    "\n",
    "Instead of deviding tree on Humidity we may decide to cut the tree off and we would end up in unpure set. So how we would identify if a case fall in left side of tree?\n",
    "\n",
    "As player played in 2 days and not played in 3 days, so he is most likely not to play "
   ]
  },
  {
   "cell_type": "markdown",
   "metadata": {},
   "source": [
    "## ID3 algorithm\n",
    "\n",
    "The algorithm which builds this data structure is called ID3 algorithm and it is a recursive algorithm.\n",
    "![](d6.png)"
   ]
  },
  {
   "cell_type": "markdown",
   "metadata": {},
   "source": [
    "** How do you pick the best attribute? **\n",
    "\n",
    "You can randomly pick any atribute and it will result on different partition of data.\n",
    "\n",
    "![](d7.png)\n",
    "\n",
    "In general you want split from decision tree which is heavily biased to either Positive or Negative outcome.\n",
    "\n",
    "We want some measure/formula which gives information about purity of subsets"
   ]
  },
  {
   "cell_type": "markdown",
   "metadata": {},
   "source": [
    "## Entropy\n",
    "\n",
    "There are many different ways to define purity of subsets one way to define it is Entropy.\n",
    "\n",
    "![](d8.png)\n",
    "\n",
    "example:\n",
    "\n",
    "![](d9.png)\n",
    "\n",
    "Entropy can be understood with below graph, if set is purely negative or postive it will have lower number on the other hand if set is balanced it will hive higher number\n",
    "![](d10.png)"
   ]
  },
  {
   "cell_type": "markdown",
   "metadata": {},
   "source": [
    "## Information Gain\n",
    "\n",
    "Entropy gave information about single subset, but when building decision tree we can have multiple subsets at each node.\n",
    "\n",
    "We are going to take average at each splits.\n",
    "\n",
    "![](d11.png)\n",
    "\n",
    "![](d12.png)\n",
    "\n",
    "![](d13.png)\n",
    "\n",
    "* Gains tells you how certain positive / negative become when you pick an attribute\n",
    "* So you have to pick every attribute and compute IG for each attribute and then select the attribute that has highest IG\n",
    "* You do this process recursively, you do it to root then to child and go on till you find best split\n",
    "* You do this process one level split at a time\n",
    "\n"
   ]
  },
  {
   "cell_type": "markdown",
   "metadata": {},
   "source": [
    "## Overfitting in decision trees\n",
    "\n",
    "The good and bad thing about decision tree is that it will always partition perfectly. Because you will keep splitting the data until you get ** singletons **. The singletons instance will always be pure as they will either contain negative or positive instance.\n",
    "\n",
    "![](d14.png)"
   ]
  },
  {
   "cell_type": "code",
   "execution_count": null,
   "metadata": {
    "collapsed": true
   },
   "outputs": [],
   "source": []
  }
 ],
 "metadata": {
  "kernelspec": {
   "display_name": "Python 3",
   "language": "python",
   "name": "python3"
  },
  "language_info": {
   "codemirror_mode": {
    "name": "ipython",
    "version": 3
   },
   "file_extension": ".py",
   "mimetype": "text/x-python",
   "name": "python",
   "nbconvert_exporter": "python",
   "pygments_lexer": "ipython3",
   "version": "3.6.1"
  }
 },
 "nbformat": 4,
 "nbformat_minor": 2
}
