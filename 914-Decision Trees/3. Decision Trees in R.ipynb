{
 "cells": [
  {
   "cell_type": "markdown",
   "metadata": {},
   "source": [
    "### Get data"
   ]
  },
  {
   "cell_type": "code",
   "execution_count": 1,
   "metadata": {
    "collapsed": true
   },
   "outputs": [],
   "source": [
    "df <- read.csv('advertising.csv')"
   ]
  },
  {
   "cell_type": "markdown",
   "metadata": {},
   "source": [
    "### Check data"
   ]
  },
  {
   "cell_type": "code",
   "execution_count": 4,
   "metadata": {},
   "outputs": [
    {
     "data": {
      "text/html": [
       "<table>\n",
       "<thead><tr><th scope=col>Daily.Time.Spent.on.Site</th><th scope=col>Age</th><th scope=col>Area.Income</th><th scope=col>Daily.Internet.Usage</th><th scope=col>City</th><th scope=col>Male</th><th scope=col>Country</th><th scope=col>Clicked.on.Ad</th></tr></thead>\n",
       "<tbody>\n",
       "\t<tr><td>68.95         </td><td>35            </td><td>61833.90      </td><td>256.09        </td><td>Wrightburgh   </td><td>0             </td><td>Tunisia       </td><td>0             </td></tr>\n",
       "\t<tr><td>80.23         </td><td>31            </td><td>68441.85      </td><td>193.77        </td><td>West Jodi     </td><td>1             </td><td>Nauru         </td><td>0             </td></tr>\n",
       "\t<tr><td>69.47         </td><td>26            </td><td>59785.94      </td><td>236.50        </td><td>Davidton      </td><td>0             </td><td>San Marino    </td><td>0             </td></tr>\n",
       "\t<tr><td>74.15         </td><td>29            </td><td>54806.18      </td><td>245.89        </td><td>West Terrifurt</td><td>1             </td><td>Italy         </td><td>0             </td></tr>\n",
       "\t<tr><td>68.37         </td><td>35            </td><td>73889.99      </td><td>225.58        </td><td>South Manuel  </td><td>0             </td><td>Iceland       </td><td>0             </td></tr>\n",
       "\t<tr><td>59.99         </td><td>23            </td><td>59761.56      </td><td>226.74        </td><td>Jamieberg     </td><td>1             </td><td>Norway        </td><td>0             </td></tr>\n",
       "</tbody>\n",
       "</table>\n"
      ],
      "text/latex": [
       "\\begin{tabular}{r|llllllll}\n",
       " Daily.Time.Spent.on.Site & Age & Area.Income & Daily.Internet.Usage & City & Male & Country & Clicked.on.Ad\\\\\n",
       "\\hline\n",
       "\t 68.95          & 35             & 61833.90       & 256.09         & Wrightburgh    & 0              & Tunisia        & 0             \\\\\n",
       "\t 80.23          & 31             & 68441.85       & 193.77         & West Jodi      & 1              & Nauru          & 0             \\\\\n",
       "\t 69.47          & 26             & 59785.94       & 236.50         & Davidton       & 0              & San Marino     & 0             \\\\\n",
       "\t 74.15          & 29             & 54806.18       & 245.89         & West Terrifurt & 1              & Italy          & 0             \\\\\n",
       "\t 68.37          & 35             & 73889.99       & 225.58         & South Manuel   & 0              & Iceland        & 0             \\\\\n",
       "\t 59.99          & 23             & 59761.56       & 226.74         & Jamieberg      & 1              & Norway         & 0             \\\\\n",
       "\\end{tabular}\n"
      ],
      "text/markdown": [
       "\n",
       "Daily.Time.Spent.on.Site | Age | Area.Income | Daily.Internet.Usage | City | Male | Country | Clicked.on.Ad | \n",
       "|---|---|---|---|---|---|\n",
       "| 68.95          | 35             | 61833.90       | 256.09         | Wrightburgh    | 0              | Tunisia        | 0              | \n",
       "| 80.23          | 31             | 68441.85       | 193.77         | West Jodi      | 1              | Nauru          | 0              | \n",
       "| 69.47          | 26             | 59785.94       | 236.50         | Davidton       | 0              | San Marino     | 0              | \n",
       "| 74.15          | 29             | 54806.18       | 245.89         | West Terrifurt | 1              | Italy          | 0              | \n",
       "| 68.37          | 35             | 73889.99       | 225.58         | South Manuel   | 0              | Iceland        | 0              | \n",
       "| 59.99          | 23             | 59761.56       | 226.74         | Jamieberg      | 1              | Norway         | 0              | \n",
       "\n",
       "\n"
      ],
      "text/plain": [
       "  Daily.Time.Spent.on.Site Age Area.Income Daily.Internet.Usage City          \n",
       "1 68.95                    35  61833.90    256.09               Wrightburgh   \n",
       "2 80.23                    31  68441.85    193.77               West Jodi     \n",
       "3 69.47                    26  59785.94    236.50               Davidton      \n",
       "4 74.15                    29  54806.18    245.89               West Terrifurt\n",
       "5 68.37                    35  73889.99    225.58               South Manuel  \n",
       "6 59.99                    23  59761.56    226.74               Jamieberg     \n",
       "  Male Country    Clicked.on.Ad\n",
       "1 0    Tunisia    0            \n",
       "2 1    Nauru      0            \n",
       "3 0    San Marino 0            \n",
       "4 1    Italy      0            \n",
       "5 0    Iceland    0            \n",
       "6 1    Norway     0            "
      ]
     },
     "metadata": {},
     "output_type": "display_data"
    }
   ],
   "source": [
    "head(df)"
   ]
  },
  {
   "cell_type": "code",
   "execution_count": 3,
   "metadata": {
    "collapsed": true
   },
   "outputs": [],
   "source": [
    "df <- subset(df,select = -c(Timestamp,Ad.Topic.Line)) "
   ]
  },
  {
   "cell_type": "code",
   "execution_count": 5,
   "metadata": {},
   "outputs": [
    {
     "name": "stdout",
     "output_type": "stream",
     "text": [
      "'data.frame':\t1000 obs. of  8 variables:\n",
      " $ Daily.Time.Spent.on.Site: num  69 80.2 69.5 74.2 68.4 ...\n",
      " $ Age                     : int  35 31 26 29 35 23 33 48 30 20 ...\n",
      " $ Area.Income             : num  61834 68442 59786 54806 73890 ...\n",
      " $ Daily.Internet.Usage    : num  256 194 236 246 226 ...\n",
      " $ City                    : Factor w/ 969 levels \"Adamsbury\",\"Adamside\",..: 962 904 112 940 806 283 47 672 885 713 ...\n",
      " $ Male                    : int  0 1 0 1 0 1 0 1 1 1 ...\n",
      " $ Country                 : Factor w/ 237 levels \"Afghanistan\",..: 216 148 185 104 97 159 146 13 83 79 ...\n",
      " $ Clicked.on.Ad           : int  0 0 0 0 0 0 0 1 0 0 ...\n"
     ]
    }
   ],
   "source": [
    "str(df)"
   ]
  },
  {
   "cell_type": "code",
   "execution_count": 6,
   "metadata": {},
   "outputs": [
    {
     "data": {
      "text/html": [
       "<ol class=list-inline>\n",
       "\t<li>'Daily.Time.Spent.on.Site'</li>\n",
       "\t<li>'Age'</li>\n",
       "\t<li>'Area.Income'</li>\n",
       "\t<li>'Daily.Internet.Usage'</li>\n",
       "\t<li>'City'</li>\n",
       "\t<li>'Male'</li>\n",
       "\t<li>'Country'</li>\n",
       "\t<li>'Clicked.on.Ad'</li>\n",
       "</ol>\n"
      ],
      "text/latex": [
       "\\begin{enumerate*}\n",
       "\\item 'Daily.Time.Spent.on.Site'\n",
       "\\item 'Age'\n",
       "\\item 'Area.Income'\n",
       "\\item 'Daily.Internet.Usage'\n",
       "\\item 'City'\n",
       "\\item 'Male'\n",
       "\\item 'Country'\n",
       "\\item 'Clicked.on.Ad'\n",
       "\\end{enumerate*}\n"
      ],
      "text/markdown": [
       "1. 'Daily.Time.Spent.on.Site'\n",
       "2. 'Age'\n",
       "3. 'Area.Income'\n",
       "4. 'Daily.Internet.Usage'\n",
       "5. 'City'\n",
       "6. 'Male'\n",
       "7. 'Country'\n",
       "8. 'Clicked.on.Ad'\n",
       "\n",
       "\n"
      ],
      "text/plain": [
       "[1] \"Daily.Time.Spent.on.Site\" \"Age\"                     \n",
       "[3] \"Area.Income\"              \"Daily.Internet.Usage\"    \n",
       "[5] \"City\"                     \"Male\"                    \n",
       "[7] \"Country\"                  \"Clicked.on.Ad\"           "
      ]
     },
     "metadata": {},
     "output_type": "display_data"
    }
   ],
   "source": [
    "colnames(df)"
   ]
  },
  {
   "cell_type": "markdown",
   "metadata": {},
   "source": [
    "### Find the count of factor variables"
   ]
  },
  {
   "cell_type": "code",
   "execution_count": 12,
   "metadata": {},
   "outputs": [],
   "source": [
    "var <- c('City','Country')"
   ]
  },
  {
   "cell_type": "code",
   "execution_count": 15,
   "metadata": {},
   "outputs": [
    {
     "data": {
      "text/html": [
       "<table>\n",
       "<thead><tr><th scope=col>City</th><th scope=col>no_rows</th></tr></thead>\n",
       "<tbody>\n",
       "\t<tr><td>Adamsbury      </td><td>1              </td></tr>\n",
       "\t<tr><td>Adamside       </td><td>1              </td></tr>\n",
       "\t<tr><td>Adamsstad      </td><td>1              </td></tr>\n",
       "\t<tr><td>Alanview       </td><td>1              </td></tr>\n",
       "\t<tr><td>Alexanderfurt  </td><td>1              </td></tr>\n",
       "\t<tr><td>Alexanderview  </td><td>1              </td></tr>\n",
       "\t<tr><td>Alexandrafort  </td><td>1              </td></tr>\n",
       "\t<tr><td>Alexisland     </td><td>1              </td></tr>\n",
       "\t<tr><td>Aliciatown     </td><td>1              </td></tr>\n",
       "\t<tr><td>Alvaradoport   </td><td>1              </td></tr>\n",
       "\t<tr><td>Alvarezland    </td><td>1              </td></tr>\n",
       "\t<tr><td>Amandafort     </td><td>1              </td></tr>\n",
       "\t<tr><td>Amandahaven    </td><td>1              </td></tr>\n",
       "\t<tr><td>Amandaland     </td><td>1              </td></tr>\n",
       "\t<tr><td>Amyfurt        </td><td>1              </td></tr>\n",
       "\t<tr><td>Amyhaven       </td><td>1              </td></tr>\n",
       "\t<tr><td>Andersonchester</td><td>1              </td></tr>\n",
       "\t<tr><td>Andersonfurt   </td><td>1              </td></tr>\n",
       "\t<tr><td>Andersonton    </td><td>1              </td></tr>\n",
       "\t<tr><td>Andrewborough  </td><td>1              </td></tr>\n",
       "\t<tr><td>Andrewmouth    </td><td>1              </td></tr>\n",
       "\t<tr><td>Angelhaven     </td><td>1              </td></tr>\n",
       "\t<tr><td>Anthonyfurt    </td><td>1              </td></tr>\n",
       "\t<tr><td>Ashleychester  </td><td>1              </td></tr>\n",
       "\t<tr><td>Ashleymouth    </td><td>1              </td></tr>\n",
       "\t<tr><td>Austinborough  </td><td>1              </td></tr>\n",
       "\t<tr><td>Austinland     </td><td>1              </td></tr>\n",
       "\t<tr><td>Bakerhaven     </td><td>1              </td></tr>\n",
       "\t<tr><td>Barbershire    </td><td>1              </td></tr>\n",
       "\t<tr><td>Beckton        </td><td>1              </td></tr>\n",
       "\t<tr><td>...</td><td>...</td></tr>\n",
       "\t<tr><td>West Terrifurt     </td><td>1                  </td></tr>\n",
       "\t<tr><td>West Thomas        </td><td>1                  </td></tr>\n",
       "\t<tr><td>West Tinashire     </td><td>1                  </td></tr>\n",
       "\t<tr><td>West Travismouth   </td><td>1                  </td></tr>\n",
       "\t<tr><td>West Wendyland     </td><td>1                  </td></tr>\n",
       "\t<tr><td>West William       </td><td>1                  </td></tr>\n",
       "\t<tr><td>West Zacharyborough</td><td>1                  </td></tr>\n",
       "\t<tr><td>Westshire          </td><td>1                  </td></tr>\n",
       "\t<tr><td>Whiteport          </td><td>1                  </td></tr>\n",
       "\t<tr><td>Whitneyfort        </td><td>1                  </td></tr>\n",
       "\t<tr><td>Wilcoxport         </td><td>1                  </td></tr>\n",
       "\t<tr><td>Williammouth       </td><td>1                  </td></tr>\n",
       "\t<tr><td>Williamport        </td><td>1                  </td></tr>\n",
       "\t<tr><td>Williamsborough    </td><td>1                  </td></tr>\n",
       "\t<tr><td>Williamsfort       </td><td>1                  </td></tr>\n",
       "\t<tr><td>Williamsmouth      </td><td>1                  </td></tr>\n",
       "\t<tr><td>Williamsport       </td><td>3                  </td></tr>\n",
       "\t<tr><td>Williamsside       </td><td>1                  </td></tr>\n",
       "\t<tr><td>Williamstad        </td><td>1                  </td></tr>\n",
       "\t<tr><td>Wilsonburgh        </td><td>1                  </td></tr>\n",
       "\t<tr><td>Wintersfort        </td><td>1                  </td></tr>\n",
       "\t<tr><td>Wongland           </td><td>1                  </td></tr>\n",
       "\t<tr><td>Wrightburgh        </td><td>2                  </td></tr>\n",
       "\t<tr><td>Wrightview         </td><td>1                  </td></tr>\n",
       "\t<tr><td>Yangside           </td><td>1                  </td></tr>\n",
       "\t<tr><td>Youngburgh         </td><td>1                  </td></tr>\n",
       "\t<tr><td>Youngfort          </td><td>1                  </td></tr>\n",
       "\t<tr><td>Yuton              </td><td>1                  </td></tr>\n",
       "\t<tr><td>Zacharystad        </td><td>1                  </td></tr>\n",
       "\t<tr><td>Zacharyton         </td><td>1                  </td></tr>\n",
       "</tbody>\n",
       "</table>\n"
      ],
      "text/latex": [
       "\\begin{tabular}{r|ll}\n",
       " City & no\\_rows\\\\\n",
       "\\hline\n",
       "\t Adamsbury       & 1              \\\\\n",
       "\t Adamside        & 1              \\\\\n",
       "\t Adamsstad       & 1              \\\\\n",
       "\t Alanview        & 1              \\\\\n",
       "\t Alexanderfurt   & 1              \\\\\n",
       "\t Alexanderview   & 1              \\\\\n",
       "\t Alexandrafort   & 1              \\\\\n",
       "\t Alexisland      & 1              \\\\\n",
       "\t Aliciatown      & 1              \\\\\n",
       "\t Alvaradoport    & 1              \\\\\n",
       "\t Alvarezland     & 1              \\\\\n",
       "\t Amandafort      & 1              \\\\\n",
       "\t Amandahaven     & 1              \\\\\n",
       "\t Amandaland      & 1              \\\\\n",
       "\t Amyfurt         & 1              \\\\\n",
       "\t Amyhaven        & 1              \\\\\n",
       "\t Andersonchester & 1              \\\\\n",
       "\t Andersonfurt    & 1              \\\\\n",
       "\t Andersonton     & 1              \\\\\n",
       "\t Andrewborough   & 1              \\\\\n",
       "\t Andrewmouth     & 1              \\\\\n",
       "\t Angelhaven      & 1              \\\\\n",
       "\t Anthonyfurt     & 1              \\\\\n",
       "\t Ashleychester   & 1              \\\\\n",
       "\t Ashleymouth     & 1              \\\\\n",
       "\t Austinborough   & 1              \\\\\n",
       "\t Austinland      & 1              \\\\\n",
       "\t Bakerhaven      & 1              \\\\\n",
       "\t Barbershire     & 1              \\\\\n",
       "\t Beckton         & 1              \\\\\n",
       "\t ... & ...\\\\\n",
       "\t West Terrifurt      & 1                  \\\\\n",
       "\t West Thomas         & 1                  \\\\\n",
       "\t West Tinashire      & 1                  \\\\\n",
       "\t West Travismouth    & 1                  \\\\\n",
       "\t West Wendyland      & 1                  \\\\\n",
       "\t West William        & 1                  \\\\\n",
       "\t West Zacharyborough & 1                  \\\\\n",
       "\t Westshire           & 1                  \\\\\n",
       "\t Whiteport           & 1                  \\\\\n",
       "\t Whitneyfort         & 1                  \\\\\n",
       "\t Wilcoxport          & 1                  \\\\\n",
       "\t Williammouth        & 1                  \\\\\n",
       "\t Williamport         & 1                  \\\\\n",
       "\t Williamsborough     & 1                  \\\\\n",
       "\t Williamsfort        & 1                  \\\\\n",
       "\t Williamsmouth       & 1                  \\\\\n",
       "\t Williamsport        & 3                  \\\\\n",
       "\t Williamsside        & 1                  \\\\\n",
       "\t Williamstad         & 1                  \\\\\n",
       "\t Wilsonburgh         & 1                  \\\\\n",
       "\t Wintersfort         & 1                  \\\\\n",
       "\t Wongland            & 1                  \\\\\n",
       "\t Wrightburgh         & 2                  \\\\\n",
       "\t Wrightview          & 1                  \\\\\n",
       "\t Yangside            & 1                  \\\\\n",
       "\t Youngburgh          & 1                  \\\\\n",
       "\t Youngfort           & 1                  \\\\\n",
       "\t Yuton               & 1                  \\\\\n",
       "\t Zacharystad         & 1                  \\\\\n",
       "\t Zacharyton          & 1                  \\\\\n",
       "\\end{tabular}\n"
      ],
      "text/markdown": [
       "\n",
       "City | no_rows | \n",
       "|---|---|---|---|---|---|---|---|---|---|---|---|---|---|---|---|---|---|---|---|---|---|---|---|---|---|---|---|---|---|---|---|---|---|---|---|---|---|---|---|---|---|---|---|---|---|---|---|---|---|---|---|---|---|---|---|---|---|---|---|---|\n",
       "| Adamsbury       | 1               | \n",
       "| Adamside        | 1               | \n",
       "| Adamsstad       | 1               | \n",
       "| Alanview        | 1               | \n",
       "| Alexanderfurt   | 1               | \n",
       "| Alexanderview   | 1               | \n",
       "| Alexandrafort   | 1               | \n",
       "| Alexisland      | 1               | \n",
       "| Aliciatown      | 1               | \n",
       "| Alvaradoport    | 1               | \n",
       "| Alvarezland     | 1               | \n",
       "| Amandafort      | 1               | \n",
       "| Amandahaven     | 1               | \n",
       "| Amandaland      | 1               | \n",
       "| Amyfurt         | 1               | \n",
       "| Amyhaven        | 1               | \n",
       "| Andersonchester | 1               | \n",
       "| Andersonfurt    | 1               | \n",
       "| Andersonton     | 1               | \n",
       "| Andrewborough   | 1               | \n",
       "| Andrewmouth     | 1               | \n",
       "| Angelhaven      | 1               | \n",
       "| Anthonyfurt     | 1               | \n",
       "| Ashleychester   | 1               | \n",
       "| Ashleymouth     | 1               | \n",
       "| Austinborough   | 1               | \n",
       "| Austinland      | 1               | \n",
       "| Bakerhaven      | 1               | \n",
       "| Barbershire     | 1               | \n",
       "| Beckton         | 1               | \n",
       "| ... | ... | \n",
       "| West Terrifurt      | 1                   | \n",
       "| West Thomas         | 1                   | \n",
       "| West Tinashire      | 1                   | \n",
       "| West Travismouth    | 1                   | \n",
       "| West Wendyland      | 1                   | \n",
       "| West William        | 1                   | \n",
       "| West Zacharyborough | 1                   | \n",
       "| Westshire           | 1                   | \n",
       "| Whiteport           | 1                   | \n",
       "| Whitneyfort         | 1                   | \n",
       "| Wilcoxport          | 1                   | \n",
       "| Williammouth        | 1                   | \n",
       "| Williamport         | 1                   | \n",
       "| Williamsborough     | 1                   | \n",
       "| Williamsfort        | 1                   | \n",
       "| Williamsmouth       | 1                   | \n",
       "| Williamsport        | 3                   | \n",
       "| Williamsside        | 1                   | \n",
       "| Williamstad         | 1                   | \n",
       "| Wilsonburgh         | 1                   | \n",
       "| Wintersfort         | 1                   | \n",
       "| Wongland            | 1                   | \n",
       "| Wrightburgh         | 2                   | \n",
       "| Wrightview          | 1                   | \n",
       "| Yangside            | 1                   | \n",
       "| Youngburgh          | 1                   | \n",
       "| Youngfort           | 1                   | \n",
       "| Yuton               | 1                   | \n",
       "| Zacharystad         | 1                   | \n",
       "| Zacharyton          | 1                   | \n",
       "\n",
       "\n"
      ],
      "text/plain": [
       "    City                no_rows\n",
       "1   Adamsbury           1      \n",
       "2   Adamside            1      \n",
       "3   Adamsstad           1      \n",
       "4   Alanview            1      \n",
       "5   Alexanderfurt       1      \n",
       "6   Alexanderview       1      \n",
       "7   Alexandrafort       1      \n",
       "8   Alexisland          1      \n",
       "9   Aliciatown          1      \n",
       "10  Alvaradoport        1      \n",
       "11  Alvarezland         1      \n",
       "12  Amandafort          1      \n",
       "13  Amandahaven         1      \n",
       "14  Amandaland          1      \n",
       "15  Amyfurt             1      \n",
       "16  Amyhaven            1      \n",
       "17  Andersonchester     1      \n",
       "18  Andersonfurt        1      \n",
       "19  Andersonton         1      \n",
       "20  Andrewborough       1      \n",
       "21  Andrewmouth         1      \n",
       "22  Angelhaven          1      \n",
       "23  Anthonyfurt         1      \n",
       "24  Ashleychester       1      \n",
       "25  Ashleymouth         1      \n",
       "26  Austinborough       1      \n",
       "27  Austinland          1      \n",
       "28  Bakerhaven          1      \n",
       "29  Barbershire         1      \n",
       "30  Beckton             1      \n",
       "... ...                 ...    \n",
       "940 West Terrifurt      1      \n",
       "941 West Thomas         1      \n",
       "942 West Tinashire      1      \n",
       "943 West Travismouth    1      \n",
       "944 West Wendyland      1      \n",
       "945 West William        1      \n",
       "946 West Zacharyborough 1      \n",
       "947 Westshire           1      \n",
       "948 Whiteport           1      \n",
       "949 Whitneyfort         1      \n",
       "950 Wilcoxport          1      \n",
       "951 Williammouth        1      \n",
       "952 Williamport         1      \n",
       "953 Williamsborough     1      \n",
       "954 Williamsfort        1      \n",
       "955 Williamsmouth       1      \n",
       "956 Williamsport        3      \n",
       "957 Williamsside        1      \n",
       "958 Williamstad         1      \n",
       "959 Wilsonburgh         1      \n",
       "960 Wintersfort         1      \n",
       "961 Wongland            1      \n",
       "962 Wrightburgh         2      \n",
       "963 Wrightview          1      \n",
       "964 Yangside            1      \n",
       "965 Youngburgh          1      \n",
       "966 Youngfort           1      \n",
       "967 Yuton               1      \n",
       "968 Zacharystad         1      \n",
       "969 Zacharyton          1      "
      ]
     },
     "metadata": {},
     "output_type": "display_data"
    }
   ],
   "source": [
    "library(dplyr)\n",
    "\n",
    "df %>% \n",
    "  group_by(City) %>%\n",
    "  summarise(no_rows = length(City))\n"
   ]
  },
  {
   "cell_type": "code",
   "execution_count": 16,
   "metadata": {},
   "outputs": [
    {
     "data": {
      "text/html": [
       "<table>\n",
       "<thead><tr><th scope=col>Country</th><th scope=col>no_rows</th></tr></thead>\n",
       "<tbody>\n",
       "\t<tr><td>Afghanistan                                        </td><td>8                                                  </td></tr>\n",
       "\t<tr><td>Albania                                            </td><td>7                                                  </td></tr>\n",
       "\t<tr><td>Algeria                                            </td><td>6                                                  </td></tr>\n",
       "\t<tr><td>American Samoa                                     </td><td>5                                                  </td></tr>\n",
       "\t<tr><td>Andorra                                            </td><td>2                                                  </td></tr>\n",
       "\t<tr><td>Angola                                             </td><td>4                                                  </td></tr>\n",
       "\t<tr><td>Anguilla                                           </td><td>6                                                  </td></tr>\n",
       "\t<tr><td>Antarctica (the territory South of 60 deg S)       </td><td>3                                                  </td></tr>\n",
       "\t<tr><td>Antigua and Barbuda                                </td><td>5                                                  </td></tr>\n",
       "\t<tr><td>Argentina                                          </td><td>2                                                  </td></tr>\n",
       "\t<tr><td>Armenia                                            </td><td>3                                                  </td></tr>\n",
       "\t<tr><td>Aruba                                              </td><td>1                                                  </td></tr>\n",
       "\t<tr><td>Australia                                          </td><td>8                                                  </td></tr>\n",
       "\t<tr><td>Austria                                            </td><td>5                                                  </td></tr>\n",
       "\t<tr><td>Azerbaijan                                         </td><td>3                                                  </td></tr>\n",
       "\t<tr><td>Bahamas                                            </td><td>7                                                  </td></tr>\n",
       "\t<tr><td>Bahrain                                            </td><td>5                                                  </td></tr>\n",
       "\t<tr><td>Bangladesh                                         </td><td>4                                                  </td></tr>\n",
       "\t<tr><td>Barbados                                           </td><td>5                                                  </td></tr>\n",
       "\t<tr><td>Belarus                                            </td><td>6                                                  </td></tr>\n",
       "\t<tr><td>Belgium                                            </td><td>5                                                  </td></tr>\n",
       "\t<tr><td>Belize                                             </td><td>5                                                  </td></tr>\n",
       "\t<tr><td>Benin                                              </td><td>2                                                  </td></tr>\n",
       "\t<tr><td>Bermuda                                            </td><td>1                                                  </td></tr>\n",
       "\t<tr><td>Bhutan                                             </td><td>2                                                  </td></tr>\n",
       "\t<tr><td>Bolivia                                            </td><td>6                                                  </td></tr>\n",
       "\t<tr><td>Bosnia and Herzegovina                             </td><td>7                                                  </td></tr>\n",
       "\t<tr><td>Bouvet Island (Bouvetoya)                          </td><td>5                                                  </td></tr>\n",
       "\t<tr><td>Brazil                                             </td><td>5                                                  </td></tr>\n",
       "\t<tr><td>British Indian Ocean Territory (Chagos Archipelago)</td><td>1                                                  </td></tr>\n",
       "\t<tr><td>...</td><td>...</td></tr>\n",
       "\t<tr><td>Tajikistan                          </td><td>3                                   </td></tr>\n",
       "\t<tr><td>Tanzania                            </td><td>3                                   </td></tr>\n",
       "\t<tr><td>Thailand                            </td><td>4                                   </td></tr>\n",
       "\t<tr><td>Timor-Leste                         </td><td>5                                   </td></tr>\n",
       "\t<tr><td>Togo                                </td><td>3                                   </td></tr>\n",
       "\t<tr><td>Tokelau                             </td><td>4                                   </td></tr>\n",
       "\t<tr><td>Tonga                               </td><td>5                                   </td></tr>\n",
       "\t<tr><td>Trinidad and Tobago                 </td><td>3                                   </td></tr>\n",
       "\t<tr><td>Tunisia                             </td><td>4                                   </td></tr>\n",
       "\t<tr><td>Turkey                              </td><td>8                                   </td></tr>\n",
       "\t<tr><td>Turkmenistan                        </td><td>6                                   </td></tr>\n",
       "\t<tr><td>Turks and Caicos Islands            </td><td>5                                   </td></tr>\n",
       "\t<tr><td>Tuvalu                              </td><td>4                                   </td></tr>\n",
       "\t<tr><td>Uganda                              </td><td>4                                   </td></tr>\n",
       "\t<tr><td>Ukraine                             </td><td>5                                   </td></tr>\n",
       "\t<tr><td>United Arab Emirates                </td><td>6                                   </td></tr>\n",
       "\t<tr><td>United Kingdom                      </td><td>3                                   </td></tr>\n",
       "\t<tr><td>United States Minor Outlying Islands</td><td>4                                   </td></tr>\n",
       "\t<tr><td>United States of America            </td><td>5                                   </td></tr>\n",
       "\t<tr><td>United States Virgin Islands        </td><td>4                                   </td></tr>\n",
       "\t<tr><td>Uruguay                             </td><td>5                                   </td></tr>\n",
       "\t<tr><td>Uzbekistan                          </td><td>2                                   </td></tr>\n",
       "\t<tr><td>Vanuatu                             </td><td>6                                   </td></tr>\n",
       "\t<tr><td>Venezuela                           </td><td>7                                   </td></tr>\n",
       "\t<tr><td>Vietnam                             </td><td>3                                   </td></tr>\n",
       "\t<tr><td>Wallis and Futuna                   </td><td>4                                   </td></tr>\n",
       "\t<tr><td>Western Sahara                      </td><td>7                                   </td></tr>\n",
       "\t<tr><td>Yemen                               </td><td>3                                   </td></tr>\n",
       "\t<tr><td>Zambia                              </td><td>4                                   </td></tr>\n",
       "\t<tr><td>Zimbabwe                            </td><td>6                                   </td></tr>\n",
       "</tbody>\n",
       "</table>\n"
      ],
      "text/latex": [
       "\\begin{tabular}{r|ll}\n",
       " Country & no\\_rows\\\\\n",
       "\\hline\n",
       "\t Afghanistan                                         & 8                                                  \\\\\n",
       "\t Albania                                             & 7                                                  \\\\\n",
       "\t Algeria                                             & 6                                                  \\\\\n",
       "\t American Samoa                                      & 5                                                  \\\\\n",
       "\t Andorra                                             & 2                                                  \\\\\n",
       "\t Angola                                              & 4                                                  \\\\\n",
       "\t Anguilla                                            & 6                                                  \\\\\n",
       "\t Antarctica (the territory South of 60 deg S)        & 3                                                  \\\\\n",
       "\t Antigua and Barbuda                                 & 5                                                  \\\\\n",
       "\t Argentina                                           & 2                                                  \\\\\n",
       "\t Armenia                                             & 3                                                  \\\\\n",
       "\t Aruba                                               & 1                                                  \\\\\n",
       "\t Australia                                           & 8                                                  \\\\\n",
       "\t Austria                                             & 5                                                  \\\\\n",
       "\t Azerbaijan                                          & 3                                                  \\\\\n",
       "\t Bahamas                                             & 7                                                  \\\\\n",
       "\t Bahrain                                             & 5                                                  \\\\\n",
       "\t Bangladesh                                          & 4                                                  \\\\\n",
       "\t Barbados                                            & 5                                                  \\\\\n",
       "\t Belarus                                             & 6                                                  \\\\\n",
       "\t Belgium                                             & 5                                                  \\\\\n",
       "\t Belize                                              & 5                                                  \\\\\n",
       "\t Benin                                               & 2                                                  \\\\\n",
       "\t Bermuda                                             & 1                                                  \\\\\n",
       "\t Bhutan                                              & 2                                                  \\\\\n",
       "\t Bolivia                                             & 6                                                  \\\\\n",
       "\t Bosnia and Herzegovina                              & 7                                                  \\\\\n",
       "\t Bouvet Island (Bouvetoya)                           & 5                                                  \\\\\n",
       "\t Brazil                                              & 5                                                  \\\\\n",
       "\t British Indian Ocean Territory (Chagos Archipelago) & 1                                                  \\\\\n",
       "\t ... & ...\\\\\n",
       "\t Tajikistan                           & 3                                   \\\\\n",
       "\t Tanzania                             & 3                                   \\\\\n",
       "\t Thailand                             & 4                                   \\\\\n",
       "\t Timor-Leste                          & 5                                   \\\\\n",
       "\t Togo                                 & 3                                   \\\\\n",
       "\t Tokelau                              & 4                                   \\\\\n",
       "\t Tonga                                & 5                                   \\\\\n",
       "\t Trinidad and Tobago                  & 3                                   \\\\\n",
       "\t Tunisia                              & 4                                   \\\\\n",
       "\t Turkey                               & 8                                   \\\\\n",
       "\t Turkmenistan                         & 6                                   \\\\\n",
       "\t Turks and Caicos Islands             & 5                                   \\\\\n",
       "\t Tuvalu                               & 4                                   \\\\\n",
       "\t Uganda                               & 4                                   \\\\\n",
       "\t Ukraine                              & 5                                   \\\\\n",
       "\t United Arab Emirates                 & 6                                   \\\\\n",
       "\t United Kingdom                       & 3                                   \\\\\n",
       "\t United States Minor Outlying Islands & 4                                   \\\\\n",
       "\t United States of America             & 5                                   \\\\\n",
       "\t United States Virgin Islands         & 4                                   \\\\\n",
       "\t Uruguay                              & 5                                   \\\\\n",
       "\t Uzbekistan                           & 2                                   \\\\\n",
       "\t Vanuatu                              & 6                                   \\\\\n",
       "\t Venezuela                            & 7                                   \\\\\n",
       "\t Vietnam                              & 3                                   \\\\\n",
       "\t Wallis and Futuna                    & 4                                   \\\\\n",
       "\t Western Sahara                       & 7                                   \\\\\n",
       "\t Yemen                                & 3                                   \\\\\n",
       "\t Zambia                               & 4                                   \\\\\n",
       "\t Zimbabwe                             & 6                                   \\\\\n",
       "\\end{tabular}\n"
      ],
      "text/markdown": [
       "\n",
       "Country | no_rows | \n",
       "|---|---|---|---|---|---|---|---|---|---|---|---|---|---|---|---|---|---|---|---|---|---|---|---|---|---|---|---|---|---|---|---|---|---|---|---|---|---|---|---|---|---|---|---|---|---|---|---|---|---|---|---|---|---|---|---|---|---|---|---|---|\n",
       "| Afghanistan                                         | 8                                                   | \n",
       "| Albania                                             | 7                                                   | \n",
       "| Algeria                                             | 6                                                   | \n",
       "| American Samoa                                      | 5                                                   | \n",
       "| Andorra                                             | 2                                                   | \n",
       "| Angola                                              | 4                                                   | \n",
       "| Anguilla                                            | 6                                                   | \n",
       "| Antarctica (the territory South of 60 deg S)        | 3                                                   | \n",
       "| Antigua and Barbuda                                 | 5                                                   | \n",
       "| Argentina                                           | 2                                                   | \n",
       "| Armenia                                             | 3                                                   | \n",
       "| Aruba                                               | 1                                                   | \n",
       "| Australia                                           | 8                                                   | \n",
       "| Austria                                             | 5                                                   | \n",
       "| Azerbaijan                                          | 3                                                   | \n",
       "| Bahamas                                             | 7                                                   | \n",
       "| Bahrain                                             | 5                                                   | \n",
       "| Bangladesh                                          | 4                                                   | \n",
       "| Barbados                                            | 5                                                   | \n",
       "| Belarus                                             | 6                                                   | \n",
       "| Belgium                                             | 5                                                   | \n",
       "| Belize                                              | 5                                                   | \n",
       "| Benin                                               | 2                                                   | \n",
       "| Bermuda                                             | 1                                                   | \n",
       "| Bhutan                                              | 2                                                   | \n",
       "| Bolivia                                             | 6                                                   | \n",
       "| Bosnia and Herzegovina                              | 7                                                   | \n",
       "| Bouvet Island (Bouvetoya)                           | 5                                                   | \n",
       "| Brazil                                              | 5                                                   | \n",
       "| British Indian Ocean Territory (Chagos Archipelago) | 1                                                   | \n",
       "| ... | ... | \n",
       "| Tajikistan                           | 3                                    | \n",
       "| Tanzania                             | 3                                    | \n",
       "| Thailand                             | 4                                    | \n",
       "| Timor-Leste                          | 5                                    | \n",
       "| Togo                                 | 3                                    | \n",
       "| Tokelau                              | 4                                    | \n",
       "| Tonga                                | 5                                    | \n",
       "| Trinidad and Tobago                  | 3                                    | \n",
       "| Tunisia                              | 4                                    | \n",
       "| Turkey                               | 8                                    | \n",
       "| Turkmenistan                         | 6                                    | \n",
       "| Turks and Caicos Islands             | 5                                    | \n",
       "| Tuvalu                               | 4                                    | \n",
       "| Uganda                               | 4                                    | \n",
       "| Ukraine                              | 5                                    | \n",
       "| United Arab Emirates                 | 6                                    | \n",
       "| United Kingdom                       | 3                                    | \n",
       "| United States Minor Outlying Islands | 4                                    | \n",
       "| United States of America             | 5                                    | \n",
       "| United States Virgin Islands         | 4                                    | \n",
       "| Uruguay                              | 5                                    | \n",
       "| Uzbekistan                           | 2                                    | \n",
       "| Vanuatu                              | 6                                    | \n",
       "| Venezuela                            | 7                                    | \n",
       "| Vietnam                              | 3                                    | \n",
       "| Wallis and Futuna                    | 4                                    | \n",
       "| Western Sahara                       | 7                                    | \n",
       "| Yemen                                | 3                                    | \n",
       "| Zambia                               | 4                                    | \n",
       "| Zimbabwe                             | 6                                    | \n",
       "\n",
       "\n"
      ],
      "text/plain": [
       "    Country                                             no_rows\n",
       "1   Afghanistan                                         8      \n",
       "2   Albania                                             7      \n",
       "3   Algeria                                             6      \n",
       "4   American Samoa                                      5      \n",
       "5   Andorra                                             2      \n",
       "6   Angola                                              4      \n",
       "7   Anguilla                                            6      \n",
       "8   Antarctica (the territory South of 60 deg S)        3      \n",
       "9   Antigua and Barbuda                                 5      \n",
       "10  Argentina                                           2      \n",
       "11  Armenia                                             3      \n",
       "12  Aruba                                               1      \n",
       "13  Australia                                           8      \n",
       "14  Austria                                             5      \n",
       "15  Azerbaijan                                          3      \n",
       "16  Bahamas                                             7      \n",
       "17  Bahrain                                             5      \n",
       "18  Bangladesh                                          4      \n",
       "19  Barbados                                            5      \n",
       "20  Belarus                                             6      \n",
       "21  Belgium                                             5      \n",
       "22  Belize                                              5      \n",
       "23  Benin                                               2      \n",
       "24  Bermuda                                             1      \n",
       "25  Bhutan                                              2      \n",
       "26  Bolivia                                             6      \n",
       "27  Bosnia and Herzegovina                              7      \n",
       "28  Bouvet Island (Bouvetoya)                           5      \n",
       "29  Brazil                                              5      \n",
       "30  British Indian Ocean Territory (Chagos Archipelago) 1      \n",
       "... ...                                                 ...    \n",
       "208 Tajikistan                                          3      \n",
       "209 Tanzania                                            3      \n",
       "210 Thailand                                            4      \n",
       "211 Timor-Leste                                         5      \n",
       "212 Togo                                                3      \n",
       "213 Tokelau                                             4      \n",
       "214 Tonga                                               5      \n",
       "215 Trinidad and Tobago                                 3      \n",
       "216 Tunisia                                             4      \n",
       "217 Turkey                                              8      \n",
       "218 Turkmenistan                                        6      \n",
       "219 Turks and Caicos Islands                            5      \n",
       "220 Tuvalu                                              4      \n",
       "221 Uganda                                              4      \n",
       "222 Ukraine                                             5      \n",
       "223 United Arab Emirates                                6      \n",
       "224 United Kingdom                                      3      \n",
       "225 United States Minor Outlying Islands                4      \n",
       "226 United States of America                            5      \n",
       "227 United States Virgin Islands                        4      \n",
       "228 Uruguay                                             5      \n",
       "229 Uzbekistan                                          2      \n",
       "230 Vanuatu                                             6      \n",
       "231 Venezuela                                           7      \n",
       "232 Vietnam                                             3      \n",
       "233 Wallis and Futuna                                   4      \n",
       "234 Western Sahara                                      7      \n",
       "235 Yemen                                               3      \n",
       "236 Zambia                                              4      \n",
       "237 Zimbabwe                                            6      "
      ]
     },
     "metadata": {},
     "output_type": "display_data"
    }
   ],
   "source": [
    "df %>% \n",
    "  group_by(Country) %>%\n",
    "  summarise(no_rows = length(Country))"
   ]
  },
  {
   "cell_type": "markdown",
   "metadata": {},
   "source": [
    "### Create dummy values"
   ]
  },
  {
   "cell_type": "code",
   "execution_count": null,
   "metadata": {
    "collapsed": true
   },
   "outputs": [],
   "source": [
    "#install.packages('dummies',repos = 'http://cran.us.r-project.org')"
   ]
  },
  {
   "cell_type": "code",
   "execution_count": 18,
   "metadata": {},
   "outputs": [
    {
     "name": "stderr",
     "output_type": "stream",
     "text": [
      "dummies-1.5.6 provided by Decision Patterns\n",
      "\n"
     ]
    }
   ],
   "source": [
    "library(dummies)\n"
   ]
  },
  {
   "cell_type": "code",
   "execution_count": 23,
   "metadata": {
    "collapsed": true
   },
   "outputs": [],
   "source": [
    "df1 <- cbind(df, dummy(df$City, sep = \"_\"))\n",
    "df <- cbind(df1, dummy(df$Country, sep = \"_\"))"
   ]
  },
  {
   "cell_type": "code",
   "execution_count": 24,
   "metadata": {},
   "outputs": [
    {
     "data": {
      "text/html": [
       "1214"
      ],
      "text/latex": [
       "1214"
      ],
      "text/markdown": [
       "1214"
      ],
      "text/plain": [
       "[1] 1214"
      ]
     },
     "metadata": {},
     "output_type": "display_data"
    }
   ],
   "source": [
    "length(colnames(df))"
   ]
  },
  {
   "cell_type": "code",
   "execution_count": 25,
   "metadata": {
    "collapsed": true
   },
   "outputs": [],
   "source": [
    "df <- subset(df,select = -c(City,Country))"
   ]
  },
  {
   "cell_type": "code",
   "execution_count": 26,
   "metadata": {},
   "outputs": [
    {
     "data": {
      "text/html": [
       "1212"
      ],
      "text/latex": [
       "1212"
      ],
      "text/markdown": [
       "1212"
      ],
      "text/plain": [
       "[1] 1212"
      ]
     },
     "metadata": {},
     "output_type": "display_data"
    }
   ],
   "source": [
    "length(colnames(df))"
   ]
  },
  {
   "cell_type": "markdown",
   "metadata": {},
   "source": [
    "### Train test split"
   ]
  },
  {
   "cell_type": "code",
   "execution_count": 27,
   "metadata": {
    "collapsed": true
   },
   "outputs": [],
   "source": [
    "library(caTools)\n",
    "set.seed(101)\n",
    "\n",
    "split = sample.split(df$Clicked.on.Ad, SplitRatio = 0.70)\n",
    "\n",
    "final.train = subset(df, split == TRUE)\n",
    "final.test = subset(df, split == FALSE)"
   ]
  },
  {
   "cell_type": "markdown",
   "metadata": {},
   "source": [
    "### Build the Model"
   ]
  },
  {
   "cell_type": "code",
   "execution_count": null,
   "metadata": {
    "collapsed": true
   },
   "outputs": [],
   "source": [
    "#install.packages('rpart',repos = 'http://cran.us.r-project.org')"
   ]
  },
  {
   "cell_type": "code",
   "execution_count": 28,
   "metadata": {
    "collapsed": true
   },
   "outputs": [],
   "source": [
    "library(rpart)"
   ]
  },
  {
   "cell_type": "code",
   "execution_count": 37,
   "metadata": {
    "collapsed": true
   },
   "outputs": [],
   "source": [
    "tree <- rpart(Clicked.on.Ad ~ . , method='class', data= final.train)"
   ]
  },
  {
   "cell_type": "code",
   "execution_count": 38,
   "metadata": {},
   "outputs": [
    {
     "name": "stdout",
     "output_type": "stream",
     "text": [
      "\n",
      "Classification tree:\n",
      "rpart(formula = Clicked.on.Ad ~ ., data = final.train, method = \"class\")\n",
      "\n",
      "Variables actually used in tree construction:\n",
      "[1] Area.Income              Daily.Internet.Usage     Daily.Time.Spent.on.Site\n",
      "\n",
      "Root node error: 350/700 = 0.5\n",
      "\n",
      "n= 700 \n",
      "\n",
      "        CP nsplit rel error  xerror     xstd\n",
      "1 0.785714      0  1.000000 1.08571 0.037657\n",
      "2 0.082857      1  0.214286 0.22286 0.023786\n",
      "3 0.021429      2  0.131429 0.14571 0.019647\n",
      "4 0.014286      4  0.088571 0.13429 0.018919\n",
      "5 0.010000      5  0.074286 0.12857 0.018540\n"
     ]
    }
   ],
   "source": [
    "printcp(tree)"
   ]
  },
  {
   "cell_type": "markdown",
   "metadata": {},
   "source": [
    "### Plot The tree"
   ]
  },
  {
   "cell_type": "code",
   "execution_count": 39,
   "metadata": {},
   "outputs": [
    {
     "data": {
      "image/png": "[encoded data removed]",
      "text/plain": [
       "Plot with title \"Adver\""
      ]
     },
     "metadata": {},
     "output_type": "display_data"
    }
   ],
   "source": [
    "plot(tree, uniform=TRUE, main=\"Adver\")\n",
    "text(tree, use.n=TRUE, all=TRUE)"
   ]
  },
  {
   "cell_type": "code",
   "execution_count": 41,
   "metadata": {},
   "outputs": [],
   "source": [
    "predicted.values.test <- predict(tree,final.test)"
   ]
  },
  {
   "cell_type": "code",
   "execution_count": 49,
   "metadata": {},
   "outputs": [],
   "source": [
    "#predicted.values.test"
   ]
  },
  {
   "cell_type": "code",
   "execution_count": 48,
   "metadata": {},
   "outputs": [
    {
     "data": {
      "text/plain": [
       "       \n",
       "          0   1\n",
       "  FALSE 147  10\n",
       "  TRUE    3 140"
      ]
     },
     "metadata": {},
     "output_type": "display_data"
    }
   ],
   "source": [
    "table(predicted.values.test[,2]>.5,final.test$Clicked.on.Ad)"
   ]
  },
  {
   "cell_type": "code",
   "execution_count": 55,
   "metadata": {
    "collapsed": true
   },
   "outputs": [],
   "source": [
    "# Function: evaluation metrics\n",
    "    ## True positives (TP) - Correctly idd as success\n",
    "    ## True negatives (TN) - Correctly idd as failure\n",
    "    ## False positives (FP) - success incorrectly idd as failure\n",
    "    ## False negatives (FN) - failure incorrectly idd as success\n",
    "    ## Precision - P = TP/(TP+FP) how many idd actually success/failure\n",
    "    ## Recall - R = TP/(TP+FN) how many of the successes correctly idd\n",
    "    ## F-score - F = (2 * P * R)/(P + R) harm mean of precision and recall\n",
    "prf <- function(predAct){\n",
    "    ## predAct is two col dataframe of pred,act\n",
    "    preds = predAct[,1]\n",
    "    trues = predAct[,2]\n",
    "    xTab <- table(preds, trues)\n",
    "    clss <- as.character(sort(unique(preds)))\n",
    "    r <- matrix(NA, ncol = 7, nrow = 1, \n",
    "        dimnames = list(c(),c('Acc',\n",
    "        paste(\"Precision\",clss[1],sep='_'), \n",
    "        paste(\"Recall\",clss[1],sep='_'), \n",
    "        paste(\"F-score\",clss[1],sep='_'), \n",
    "        paste(\"Precision\",clss[2],sep='_'), \n",
    "        paste(\"Recall\",clss[2],sep='_'), \n",
    "        paste(\"F-score\",clss[2],sep='_'))))\n",
    "    r[1,1] <- sum(xTab[1,1],xTab[2,2])/sum(xTab) # Accuracy\n",
    "    r[1,2] <- xTab[1,1]/sum(xTab[,1]) # Miss Precision\n",
    "    r[1,3] <- xTab[1,1]/sum(xTab[1,]) # Miss Recall\n",
    "    r[1,4] <- (2*r[1,2]*r[1,3])/sum(r[1,2],r[1,3]) # Miss F\n",
    "    r[1,5] <- xTab[2,2]/sum(xTab[,2]) # Hit Precision\n",
    "    r[1,6] <- xTab[2,2]/sum(xTab[2,]) # Hit Recall\n",
    "    r[1,7] <- (2*r[1,5]*r[1,6])/sum(r[1,5],r[1,6]) # Hit F\n",
    "    r}"
   ]
  },
  {
   "cell_type": "code",
   "execution_count": 66,
   "metadata": {
    "collapsed": true
   },
   "outputs": [],
   "source": [
    "pred <- function(prob){\n",
    "if (prob >.5) {\n",
    "  return(1)\n",
    "} else {\n",
    "  return(0)\n",
    "}\n",
    "}"
   ]
  },
  {
   "cell_type": "code",
   "execution_count": 67,
   "metadata": {},
   "outputs": [
    {
     "data": {
      "text/html": [
       "0"
      ],
      "text/latex": [
       "0"
      ],
      "text/markdown": [
       "0"
      ],
      "text/plain": [
       "[1] 0"
      ]
     },
     "metadata": {},
     "output_type": "display_data"
    }
   ],
   "source": [
    "pred(.3)"
   ]
  },
  {
   "cell_type": "code",
   "execution_count": 70,
   "metadata": {},
   "outputs": [],
   "source": [
    "final.test$Pred <- lapply(predicted.values.test[,2],pred)"
   ]
  },
  {
   "cell_type": "code",
   "execution_count": 72,
   "metadata": {},
   "outputs": [],
   "source": [
    "#final.test$Pred"
   ]
  },
  {
   "cell_type": "code",
   "execution_count": 82,
   "metadata": {},
   "outputs": [
    {
     "data": {
      "text/html": [
       "<table>\n",
       "<thead><tr><th scope=col>Acc</th><th scope=col>Precision_0</th><th scope=col>Recall_0</th><th scope=col>F-score_0</th><th scope=col>Precision_1</th><th scope=col>Recall_1</th><th scope=col>F-score_1</th></tr></thead>\n",
       "<tbody>\n",
       "\t<tr><td>0.9566667</td><td>0.98     </td><td>0.9363057</td><td>0.9576547</td><td>0.9333333</td><td>0.979021 </td><td>0.9556314</td></tr>\n",
       "</tbody>\n",
       "</table>\n"
      ],
      "text/latex": [
       "\\begin{tabular}{lllllll}\n",
       " Acc & Precision\\_0 & Recall\\_0 & F-score\\_0 & Precision\\_1 & Recall\\_1 & F-score\\_1\\\\\n",
       "\\hline\n",
       "\t 0.9566667 & 0.98      & 0.9363057 & 0.9576547 & 0.9333333 & 0.979021  & 0.9556314\\\\\n",
       "\\end{tabular}\n"
      ],
      "text/markdown": [
       "\n",
       "Acc | Precision_0 | Recall_0 | F-score_0 | Precision_1 | Recall_1 | F-score_1 | \n",
       "|---|\n",
       "| 0.9566667 | 0.98      | 0.9363057 | 0.9576547 | 0.9333333 | 0.979021  | 0.9556314 | \n",
       "\n",
       "\n"
      ],
      "text/plain": [
       "     Acc       Precision_0 Recall_0  F-score_0 Precision_1 Recall_1 F-score_1\n",
       "[1,] 0.9566667 0.98        0.9363057 0.9576547 0.9333333   0.979021 0.9556314"
      ]
     },
     "metadata": {},
     "output_type": "display_data"
    }
   ],
   "source": [
    "pred <- as.integer(final.test$Pred)\n",
    "act <- final.test$Clicked.on.Ad\n",
    "predAct <- data.frame(pred,act)\n",
    "prf(predAct)"
   ]
  }
 ],
 "metadata": {
  "kernelspec": {
   "display_name": "R",
   "language": "R",
   "name": "ir"
  },
  "language_info": {
   "codemirror_mode": "r",
   "file_extension": ".r",
   "mimetype": "text/x-r-source",
   "name": "R",
   "pygments_lexer": "r",
   "version": "3.4.1"
  }
 },
 "nbformat": 4,
 "nbformat_minor": 2
}
