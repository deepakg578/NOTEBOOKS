{
 "cells": [
  {
   "cell_type": "markdown",
   "metadata": {},
   "source": [
    "### Data Exploration "
   ]
  },
  {
   "cell_type": "code",
   "execution_count": 2,
   "metadata": {},
   "outputs": [],
   "source": [
    "import logging\n",
    "logging.root.handlers = []  # Jupyter messes up logging so needs a reset\n",
    "logging.basicConfig(format='%(asctime)s : %(levelname)s : %(message)s', level=logging.INFO)\n",
    "from smart_open import smart_open\n",
    "import pandas as pd\n",
    "import numpy as np\n",
    "from numpy import random\n",
    "import gensim\n",
    "import nltk\n",
    "from sklearn.cross_validation import train_test_split\n",
    "from sklearn import linear_model\n",
    "from sklearn.feature_extraction.text import CountVectorizer, TfidfVectorizer\n",
    "from sklearn.metrics import accuracy_score, confusion_matrix\n",
    "import matplotlib.pyplot as plt\n",
    "from gensim.models import Word2Vec\n",
    "from sklearn.neighbors import KNeighborsClassifier\n",
    "from sklearn import linear_model\n",
    "from nltk.corpus import stopwords\n",
    "\n",
    "%matplotlib inline\n",
    "import os"
   ]
  },
  {
   "cell_type": "markdown",
   "metadata": {},
   "source": [
    "### Word2vec\n"
   ]
  },
  {
   "cell_type": "code",
   "execution_count": 4,
   "metadata": {},
   "outputs": [
    {
     "name": "stderr",
     "output_type": "stream",
     "text": [
      "2017-11-18 07:39:33,808 : INFO : collecting all words and their counts\n",
      "2017-11-18 07:39:33,824 : INFO : PROGRESS: at sentence #0, processed 0 words, keeping 0 word types\n",
      "2017-11-18 07:39:34,148 : INFO : PROGRESS: at sentence #10000, processed 602732 words, keeping 42088 word types\n",
      "2017-11-18 07:39:34,400 : INFO : PROGRESS: at sentence #20000, processed 1226414 words, keeping 66969 word types\n",
      "2017-11-18 07:39:34,642 : INFO : PROGRESS: at sentence #30000, processed 1826359 words, keeping 87037 word types\n",
      "2017-11-18 07:39:34,878 : INFO : PROGRESS: at sentence #40000, processed 2437465 words, keeping 105921 word types\n",
      "2017-11-18 07:39:35,115 : INFO : PROGRESS: at sentence #50000, processed 3045678 words, keeping 123164 word types\n",
      "2017-11-18 07:39:35,364 : INFO : PROGRESS: at sentence #60000, processed 3644092 words, keeping 139054 word types\n",
      "2017-11-18 07:39:35,600 : INFO : PROGRESS: at sentence #70000, processed 4249122 words, keeping 154442 word types\n",
      "2017-11-18 07:39:35,839 : INFO : PROGRESS: at sentence #80000, processed 4853806 words, keeping 169248 word types\n",
      "2017-11-18 07:39:36,083 : INFO : PROGRESS: at sentence #90000, processed 5453670 words, keeping 183507 word types\n",
      "2017-11-18 07:39:36,320 : INFO : PROGRESS: at sentence #100000, processed 6065571 words, keeping 197378 word types\n",
      "2017-11-18 07:39:36,351 : INFO : collected 198487 word types from a corpus of 6115146 raw words and 100785 sentences\n",
      "2017-11-18 07:39:36,366 : INFO : Loading a fresh vocabulary\n",
      "2017-11-18 07:39:36,551 : INFO : min_count=5 retains 29525 unique words (14% of original 198487, drops 168962)\n",
      "2017-11-18 07:39:36,567 : INFO : min_count=5 leaves 5895517 word corpus (96% of original 6115146, drops 219629)\n",
      "2017-11-18 07:39:36,731 : INFO : deleting the raw counts dictionary of 198487 items\n",
      "2017-11-18 07:39:36,747 : INFO : sample=0.001 downsamples 45 most-common words\n",
      "2017-11-18 07:39:36,762 : INFO : downsampling leaves estimated 4368779 word corpus (74.1% of prior 5895517)\n",
      "2017-11-18 07:39:36,778 : INFO : estimated required memory for 29525 words and 100 dimensions: 38382500 bytes\n",
      "2017-11-18 07:39:36,929 : INFO : resetting layer weights\n",
      "2017-11-18 07:39:37,599 : INFO : training model with 3 workers on 29525 vocabulary and 100 features, using sg=0 hs=0 sample=0.001 negative=5 window=5\n",
      "2017-11-18 07:39:38,623 : INFO : PROGRESS: at 3.35% examples, 727661 words/s, in_qsize 3, out_qsize 0\n",
      "2017-11-18 07:39:39,625 : INFO : PROGRESS: at 6.23% examples, 676137 words/s, in_qsize 0, out_qsize 0\n",
      "2017-11-18 07:39:40,626 : INFO : PROGRESS: at 9.06% examples, 658432 words/s, in_qsize 3, out_qsize 0\n",
      "2017-11-18 07:39:41,637 : INFO : PROGRESS: at 12.40% examples, 672798 words/s, in_qsize 0, out_qsize 0\n",
      "2017-11-18 07:39:42,639 : INFO : PROGRESS: at 15.73% examples, 684254 words/s, in_qsize 0, out_qsize 0\n",
      "2017-11-18 07:39:43,637 : INFO : PROGRESS: at 19.17% examples, 695422 words/s, in_qsize 0, out_qsize 0\n",
      "2017-11-18 07:39:44,635 : INFO : PROGRESS: at 22.47% examples, 699131 words/s, in_qsize 0, out_qsize 0\n",
      "2017-11-18 07:39:45,653 : INFO : PROGRESS: at 25.83% examples, 703455 words/s, in_qsize 0, out_qsize 0\n",
      "2017-11-18 07:39:46,659 : INFO : PROGRESS: at 28.71% examples, 694859 words/s, in_qsize 3, out_qsize 0\n",
      "2017-11-18 07:39:47,657 : INFO : PROGRESS: at 32.00% examples, 695612 words/s, in_qsize 0, out_qsize 0\n",
      "2017-11-18 07:39:48,678 : INFO : PROGRESS: at 35.36% examples, 697923 words/s, in_qsize 0, out_qsize 0\n",
      "2017-11-18 07:39:49,691 : INFO : PROGRESS: at 38.78% examples, 701105 words/s, in_qsize 1, out_qsize 0\n",
      "2017-11-18 07:39:50,697 : INFO : PROGRESS: at 42.21% examples, 704496 words/s, in_qsize 0, out_qsize 0\n",
      "2017-11-18 07:39:51,710 : INFO : PROGRESS: at 45.54% examples, 706402 words/s, in_qsize 0, out_qsize 0\n",
      "2017-11-18 07:39:52,700 : INFO : PROGRESS: at 48.86% examples, 707992 words/s, in_qsize 0, out_qsize 0\n",
      "2017-11-18 07:39:53,719 : INFO : PROGRESS: at 52.27% examples, 709123 words/s, in_qsize 0, out_qsize 0\n",
      "2017-11-18 07:39:54,725 : INFO : PROGRESS: at 55.67% examples, 711004 words/s, in_qsize 0, out_qsize 0\n",
      "2017-11-18 07:39:55,733 : INFO : PROGRESS: at 57.93% examples, 697893 words/s, in_qsize 6, out_qsize 0\n",
      "2017-11-18 07:39:56,762 : INFO : PROGRESS: at 60.35% examples, 688200 words/s, in_qsize 4, out_qsize 2\n",
      "2017-11-18 07:39:57,830 : INFO : PROGRESS: at 63.05% examples, 681860 words/s, in_qsize 5, out_qsize 4\n",
      "2017-11-18 07:39:58,835 : INFO : PROGRESS: at 66.49% examples, 684643 words/s, in_qsize 0, out_qsize 0\n",
      "2017-11-18 07:39:59,825 : INFO : PROGRESS: at 69.81% examples, 686735 words/s, in_qsize 0, out_qsize 0\n",
      "2017-11-18 07:40:00,830 : INFO : PROGRESS: at 72.69% examples, 683766 words/s, in_qsize 5, out_qsize 0\n",
      "2017-11-18 07:40:01,838 : INFO : PROGRESS: at 75.34% examples, 679465 words/s, in_qsize 3, out_qsize 1\n",
      "2017-11-18 07:40:02,851 : INFO : PROGRESS: at 78.16% examples, 676232 words/s, in_qsize 3, out_qsize 0\n",
      "2017-11-18 07:40:03,861 : INFO : PROGRESS: at 80.54% examples, 670381 words/s, in_qsize 4, out_qsize 0\n",
      "2017-11-18 07:40:04,877 : INFO : PROGRESS: at 83.69% examples, 670884 words/s, in_qsize 1, out_qsize 0\n",
      "2017-11-18 07:40:05,885 : INFO : PROGRESS: at 87.16% examples, 673580 words/s, in_qsize 0, out_qsize 0\n",
      "2017-11-18 07:40:06,896 : INFO : PROGRESS: at 90.55% examples, 675807 words/s, in_qsize 0, out_qsize 0\n",
      "2017-11-18 07:40:07,902 : INFO : PROGRESS: at 93.97% examples, 677655 words/s, in_qsize 0, out_qsize 0\n",
      "2017-11-18 07:40:08,924 : INFO : PROGRESS: at 97.04% examples, 676824 words/s, in_qsize 5, out_qsize 0\n",
      "2017-11-18 07:40:09,797 : INFO : worker thread finished; awaiting finish of 2 more threads\n",
      "2017-11-18 07:40:09,812 : INFO : worker thread finished; awaiting finish of 1 more threads\n",
      "2017-11-18 07:40:09,828 : INFO : worker thread finished; awaiting finish of 0 more threads\n",
      "2017-11-18 07:40:09,844 : INFO : training on 30575730 raw words (21845652 effective words) took 32.2s, 677901 effective words/s\n"
     ]
    }
   ],
   "source": [
    "class MySentences(object):\n",
    "    def __init__(self, dirname):\n",
    "        self.dirname = dirname\n",
    " \n",
    "    def __iter__(self):\n",
    "        for fname in os.listdir(self.dirname):\n",
    "            for line in open(os.path.join(self.dirname, fname),encoding='utf-8'):\n",
    "                yield line.split()\n",
    "path = r\".\\data\"\n",
    "sentences = MySentences(path) # a memory-friendly iterator\n",
    "model = gensim.models.Word2Vec(sentences)"
   ]
  },
  {
   "cell_type": "markdown",
   "metadata": {},
   "source": [
    "##### words similarity"
   ]
  },
  {
   "cell_type": "code",
   "execution_count": 5,
   "metadata": {},
   "outputs": [
    {
     "name": "stderr",
     "output_type": "stream",
     "text": [
      "2017-11-18 07:40:17,326 : INFO : precomputing L2-norms of word weight vectors\n"
     ]
    },
    {
     "data": {
      "text/plain": [
       "[('car,', 0.8604972958564758),\n",
       " ('car.', 0.7899080514907837),\n",
       " ('vehicle', 0.7668356895446777),\n",
       " ('cars', 0.696347713470459),\n",
       " ('taxi', 0.661823034286499),\n",
       " ('cab', 0.6418629884719849),\n",
       " ('car!', 0.6350436210632324),\n",
       " ('luggage', 0.6217143535614014),\n",
       " ('valet', 0.6129454970359802),\n",
       " ('bags', 0.6078158617019653),\n",
       " ('GPS', 0.6036229133605957),\n",
       " ('car;', 0.5945501923561096),\n",
       " ('ticket', 0.5874740481376648),\n",
       " ('van', 0.5796502828598022),\n",
       " ('garage', 0.5607550740242004),\n",
       " ('shuttle', 0.5576666593551636),\n",
       " ('self', 0.550648033618927),\n",
       " ('bus', 0.5431119799613953),\n",
       " ('cars.', 0.5423146486282349),\n",
       " ('vehicle,', 0.5329115390777588)]"
      ]
     },
     "execution_count": 5,
     "metadata": {},
     "output_type": "execute_result"
    }
   ],
   "source": [
    "model.similar_by_word('car',topn=20)"
   ]
  },
  {
   "cell_type": "code",
   "execution_count": 6,
   "metadata": {
    "scrolled": true
   },
   "outputs": [
    {
     "data": {
      "text/plain": [
       "[('pleased', 0.7358478307723999),\n",
       " ('satisfied', 0.6941587924957275),\n",
       " ('delighted', 0.6824095249176025),\n",
       " ('thrilled', 0.6501786708831787),\n",
       " ('disappointed', 0.6388288140296936),\n",
       " ('Happy', 0.6231675744056702),\n",
       " ('impressed', 0.6103938817977905),\n",
       " ('successful.', 0.5632472038269043),\n",
       " ('excited', 0.5510956048965454),\n",
       " ('glad', 0.5375357866287231)]"
      ]
     },
     "execution_count": 6,
     "metadata": {},
     "output_type": "execute_result"
    }
   ],
   "source": [
    "model.similar_by_word('happy')"
   ]
  },
  {
   "cell_type": "code",
   "execution_count": 7,
   "metadata": {},
   "outputs": [
    {
     "data": {
      "text/plain": [
       "[('AC', 0.8658554553985596),\n",
       " ('A-C', 0.8485249280929565),\n",
       " ('heating', 0.8165978193283081),\n",
       " ('a-c', 0.8145250082015991),\n",
       " ('heater', 0.7864929437637329),\n",
       " ('unit', 0.7831959128379822),\n",
       " ('temperature', 0.762860894203186),\n",
       " ('thermostat', 0.747360110282898),\n",
       " ('heat', 0.7463091611862183),\n",
       " ('heating-air', 0.7043873071670532)]"
      ]
     },
     "execution_count": 7,
     "metadata": {},
     "output_type": "execute_result"
    }
   ],
   "source": [
    "model.similar_by_word('air')"
   ]
  },
  {
   "cell_type": "code",
   "execution_count": 24,
   "metadata": {},
   "outputs": [
    {
     "data": {
      "text/plain": [
       "array([  6.75244927e-01,   1.69252884e+00,  -1.34279132e+00,\n",
       "        -2.72852749e-01,   4.58544016e-01,   3.74226749e-01,\n",
       "        -2.17961535e-01,   3.39037895e-01,  -4.31499213e-01,\n",
       "         3.06116343e-01,  -1.18176496e+00,   1.48169446e+00,\n",
       "         6.27144277e-01,   1.07159448e+00,   3.75951678e-01,\n",
       "         1.49658740e+00,  -2.11421311e-01,   8.27095568e-01,\n",
       "         1.13788456e-01,  -1.98481843e-01,   5.13112366e-01,\n",
       "         7.72560120e-01,  -1.09760273e+00,  -1.02342062e-01,\n",
       "        -6.32154584e-01,   2.86602318e-01,   7.03604996e-01,\n",
       "         3.46706867e-01,  -1.78326061e-03,   4.85298991e-01,\n",
       "        -9.69418406e-01,  -8.71953845e-01,   1.00046791e-01,\n",
       "        -4.19474185e-01,  -3.06704044e-01,  -5.20145036e-02,\n",
       "        -4.86813098e-01,  -3.99453431e-01,  -2.15260804e-01,\n",
       "        -1.42943311e+00,   3.32618922e-01,   1.34044075e+00,\n",
       "         7.87804902e-01,  -2.22009420e-01,   1.43464565e+00,\n",
       "         2.02022657e-01,   5.55818856e-01,  -1.43742359e+00,\n",
       "        -8.85276973e-01,  -8.45799446e-01,   9.23225004e-03,\n",
       "        -6.76468432e-01,  -4.17595170e-03,   1.83858037e-01,\n",
       "        -7.54320920e-01,  -1.15402091e+00,   7.72039950e-01,\n",
       "        -8.82440388e-01,   9.39336896e-01,   2.86401093e-01,\n",
       "         1.69725895e+00,  -6.93160355e-01,   9.81882334e-01,\n",
       "         9.73269999e-01,  -7.65858829e-01,   2.35107392e-02,\n",
       "        -1.97471753e-01,  -8.69207144e-01,  -7.04680681e-01,\n",
       "        -1.09913361e+00,   1.48844981e+00,  -1.04275084e+00,\n",
       "        -1.15128243e+00,   4.21113223e-01,   7.81606495e-01,\n",
       "         1.95117557e+00,  -1.12659025e+00,   2.86333948e-01,\n",
       "        -2.24173144e-01,   1.07588112e+00,   4.86313373e-01,\n",
       "         4.50740099e-01,   4.03308898e-01,  -1.14614928e+00,\n",
       "         6.18768454e-01,   6.32384002e-01,   1.52494800e+00,\n",
       "         1.34983301e-01,  -1.07434785e+00,   7.90325776e-02,\n",
       "         1.09129876e-01,   7.98576832e-01,   9.92570072e-02,\n",
       "         9.96950924e-01,   7.88083673e-01,  -4.66329426e-01,\n",
       "         2.28032857e-01,  -1.65210754e-01,   2.38402694e-01,\n",
       "         1.12875342e+00], dtype=float32)"
      ]
     },
     "execution_count": 24,
     "metadata": {},
     "output_type": "execute_result"
    }
   ],
   "source": [
    "model['heat']"
   ]
  },
  {
   "cell_type": "markdown",
   "metadata": {},
   "source": [
    "## visualization of 100 dim word2vec"
   ]
  },
  {
   "cell_type": "markdown",
   "metadata": {},
   "source": [
    "### Create a subset of known class for understanding"
   ]
  },
  {
   "cell_type": "code",
   "execution_count": 21,
   "metadata": {
    "collapsed": true
   },
   "outputs": [],
   "source": [
    "targets = ['car','truck','vehicle','van','cab','bike','taxi','keys','ruined','heat',\n",
    "           'snow','icy','slippery','pavement','rain','wet','construction','rocks','water','ice']\n",
    "classes = [1,1,1,1,1,1,1,1,1,1,\n",
    "           2,2,2,2,2,2,2,2,2,2]"
   ]
  },
  {
   "cell_type": "code",
   "execution_count": 22,
   "metadata": {},
   "outputs": [],
   "source": [
    "X_target=[]\n",
    "for w in targets:\n",
    "    X_target.append(model[w])\n",
    "X_target = np.asarray(X_target)"
   ]
  },
  {
   "cell_type": "markdown",
   "metadata": {},
   "source": [
    "\n"
   ]
  },
  {
   "cell_type": "code",
   "execution_count": 17,
   "metadata": {},
   "outputs": [
    {
     "data": {
      "text/plain": [
       "numpy.ndarray"
      ]
     },
     "execution_count": 17,
     "metadata": {},
     "output_type": "execute_result"
    }
   ],
   "source": [
    "type(X_target)"
   ]
  },
  {
   "cell_type": "markdown",
   "metadata": {},
   "source": [
    "### From all list of word from model only select 10,000 for training tSNE model "
   ]
  },
  {
   "cell_type": "code",
   "execution_count": 25,
   "metadata": {},
   "outputs": [],
   "source": [
    "word_list = list(model.wv.vocab)[:10000]\n",
    "X_subset=[]\n",
    "for w in word_list:\n",
    "    X_subset.append(model[w])\n",
    "X_subset = np.asarray(X_subset)"
   ]
  },
  {
   "cell_type": "code",
   "execution_count": 26,
   "metadata": {},
   "outputs": [
    {
     "name": "stdout",
     "output_type": "stream",
     "text": [
      "(10020, 100)\n"
     ]
    }
   ],
   "source": [
    "X_target = np.concatenate((X_subset, X_target))\n",
    "print(X_target.shape)"
   ]
  },
  {
   "cell_type": "code",
   "execution_count": 27,
   "metadata": {},
   "outputs": [
    {
     "name": "stdout",
     "output_type": "stream",
     "text": [
      "[[ 1.18846583 -0.78935003  1.88314497 ...,  2.47267342  0.89102232\n",
      "  -0.24286652]\n",
      " [-0.41363776 -2.3831296   3.91091251 ...,  1.2288028   1.1196245\n",
      "  -1.39930594]\n",
      " [-1.92788625 -1.80006635  0.53950316 ..., -3.23850012  0.30841377\n",
      "   0.63069528]\n",
      " ..., \n",
      " [-0.09675864 -0.04544745 -0.07386545 ...,  0.08680413  0.06955484\n",
      "   0.03209593]\n",
      " [-0.8944295   3.34365153 -0.93935853 ...,  0.19071083  2.42297292\n",
      "   1.39280248]\n",
      " [-1.03113985  2.33881545 -2.21320963 ...,  1.15653253  0.65195453\n",
      "   0.57549423]]\n"
     ]
    }
   ],
   "source": [
    "print(X_target)"
   ]
  },
  {
   "cell_type": "markdown",
   "metadata": {},
   "source": [
    "### Run tSNE on sample data"
   ]
  },
  {
   "cell_type": "code",
   "execution_count": 29,
   "metadata": {},
   "outputs": [
    {
     "name": "stdout",
     "output_type": "stream",
     "text": [
      "[t-SNE] Computing pairwise distances...\n",
      "[t-SNE] Computed conditional probabilities for sample 1000 / 10020\n",
      "[t-SNE] Computed conditional probabilities for sample 2000 / 10020\n",
      "[t-SNE] Computed conditional probabilities for sample 3000 / 10020\n",
      "[t-SNE] Computed conditional probabilities for sample 4000 / 10020\n",
      "[t-SNE] Computed conditional probabilities for sample 5000 / 10020\n",
      "[t-SNE] Computed conditional probabilities for sample 6000 / 10020\n",
      "[t-SNE] Computed conditional probabilities for sample 7000 / 10020\n",
      "[t-SNE] Computed conditional probabilities for sample 8000 / 10020\n",
      "[t-SNE] Computed conditional probabilities for sample 9000 / 10020\n",
      "[t-SNE] Computed conditional probabilities for sample 10000 / 10020\n",
      "[t-SNE] Computed conditional probabilities for sample 10020 / 10020\n",
      "[t-SNE] Mean sigma: 0.282974\n",
      "[t-SNE] Iteration 50: error = 89.6806958, gradient norm = 0.0229050 (50 iterations in 222.309s)\n",
      "[t-SNE] Iteration 100: error = 89.8179622, gradient norm = 0.0320810 (50 iterations in 220.370s)\n",
      "[t-SNE] Iteration 150: error = 89.2763455, gradient norm = 0.0378269 (50 iterations in 221.552s)\n",
      "[t-SNE] Iteration 200: error = 89.7320280, gradient norm = 0.0326118 (50 iterations in 222.423s)\n",
      "[t-SNE] Iteration 250: error = 89.7201042, gradient norm = 0.0209235 (50 iterations in 245.705s)\n",
      "[t-SNE] KL divergence after 250 iterations with early exaggeration: 89.720104\n",
      "[t-SNE] Error after 251 iterations: 179769313486231570814527423731704356798070567525844996598917476803157260780028538760589558632766878171540458953514382464234321326889464182768467546703537516986049910576551282076245490090389328944075868508455133942304583236903222948165808559332123348274797826204144723168738177180919299881250404026184124858368.000000\n",
      "(10020, 2)\n",
      "Wall time: 20min 4s\n"
     ]
    }
   ],
   "source": [
    "%%time\n",
    "from sklearn.manifold import TSNE\n",
    "X_tsne = TSNE(n_components=2, perplexity=40, init='pca', method='exact',\n",
    "                  random_state=0, n_iter=250, verbose=2).fit_transform(X_target)\n",
    "print(X_tsne.shape)"
   ]
  },
  {
   "cell_type": "code",
   "execution_count": 30,
   "metadata": {},
   "outputs": [
    {
     "name": "stdout",
     "output_type": "stream",
     "text": [
      "(20, 2)\n"
     ]
    }
   ],
   "source": [
    "X_tsne_target = X_tsne[-20:,:]\n",
    "print(X_tsne_target.shape)"
   ]
  },
  {
   "cell_type": "code",
   "execution_count": 31,
   "metadata": {},
   "outputs": [
    {
     "data": {
      "text/plain": [
       "array([ 0.04396219, -0.00273348], dtype=float32)"
      ]
     },
     "execution_count": 31,
     "metadata": {},
     "output_type": "execute_result"
    }
   ],
   "source": [
    "X_tsne[0]"
   ]
  },
  {
   "cell_type": "code",
   "execution_count": 32,
   "metadata": {
    "collapsed": true
   },
   "outputs": [],
   "source": [
    "def plot_words(X, labels, classes=None, xlimits=None, ylimits=None):\n",
    "    fig = plt.figure(figsize=(10, 10))\n",
    "    if xlimits is not None:\n",
    "        plt.xlim(xlimits)\n",
    "    if ylimits is not None:\n",
    "        \n",
    "        plt.ylim(ylimits)\n",
    "    plt.scatter(X[:, 0], X[:, 1], c=classes)\n",
    "    for i, txt in enumerate(labels):\n",
    "        plt.annotate(txt, (X[i, 0], X[i, 1]))"
   ]
  },
  {
   "cell_type": "code",
   "execution_count": 33,
   "metadata": {},
   "outputs": [
    {
     "data": {
      "image/png": "[encoded data removed]",
      "text/plain": [
       "<matplotlib.figure.Figure at 0x1b57df28>"
      ]
     },
     "metadata": {},
     "output_type": "display_data"
    }
   ],
   "source": [
    "plot_words(X_tsne_target, targets, classes=None)"
   ]
  },
  {
   "cell_type": "code",
   "execution_count": 34,
   "metadata": {},
   "outputs": [],
   "source": [
    "test_list = [model['Price'],model['Car']]"
   ]
  },
  {
   "cell_type": "code",
   "execution_count": 35,
   "metadata": {},
   "outputs": [
    {
     "data": {
      "text/plain": [
       "numpy.ndarray"
      ]
     },
     "execution_count": 35,
     "metadata": {},
     "output_type": "execute_result"
    }
   ],
   "source": [
    "x_test_list = np.asarray(test_list)\n",
    "type(x_test_list)"
   ]
  },
  {
   "cell_type": "code",
   "execution_count": 36,
   "metadata": {},
   "outputs": [
    {
     "data": {
      "text/plain": [
       "array([-0.32350028,  0.21794589, -0.56272304, -0.20706373, -0.30413049,\n",
       "        0.61482155,  0.07374875, -0.13043872,  0.41728339,  0.10426742,\n",
       "       -0.24321328,  0.38646838,  0.22257398, -0.20879371,  0.13749233,\n",
       "       -0.16313072, -0.10759009, -0.65000051,  0.03749456,  0.00392886,\n",
       "       -0.19520319, -0.03228759, -0.09032401,  0.19243823, -0.03988422,\n",
       "       -0.15445881, -0.13978745,  0.3237192 ,  0.01424465, -0.30897897,\n",
       "        0.35474899,  0.05735765, -0.39970404, -0.35844424,  0.40106478,\n",
       "       -0.05650198,  0.0220844 , -0.29659808, -0.1311658 , -0.03149764,\n",
       "       -0.20436183, -0.04999708, -0.09433889,  0.09609676, -0.03284318,\n",
       "        0.22745043, -0.03748848,  0.04247122, -0.18624595,  0.3092863 ,\n",
       "        0.41773704,  0.37471139,  0.01929984, -0.41639999,  0.22406287,\n",
       "       -0.01979105,  0.16008754,  0.07849552, -0.09945501, -0.02359963,\n",
       "       -0.34041214,  0.51417178, -0.04208781, -0.66772485, -0.08571034,\n",
       "        0.23643962, -0.53565216, -0.06181964,  0.54919505,  0.21599753,\n",
       "        0.84061664,  0.22464137, -0.75658882, -0.25557956, -0.04489367,\n",
       "        0.31059119, -0.19156162, -0.23776329,  0.44374967,  0.22611704,\n",
       "       -0.4150908 ,  0.8147977 , -0.04693501,  0.22222488, -0.00116593,\n",
       "        0.06603552, -0.53293848,  0.4708648 , -0.13516538,  0.04412246,\n",
       "       -0.25265142, -0.36031109,  0.21152183, -0.14043486, -0.2402366 ,\n",
       "       -0.43163803, -0.1839488 , -0.1194062 , -0.47985843, -0.81132191], dtype=float32)"
      ]
     },
     "execution_count": 36,
     "metadata": {},
     "output_type": "execute_result"
    }
   ],
   "source": [
    "x_test_list[0]"
   ]
  },
  {
   "cell_type": "code",
   "execution_count": 37,
   "metadata": {},
   "outputs": [
    {
     "data": {
      "image/png": "[encoded data removed]",
      "text/plain": [
       "<matplotlib.figure.Figure at 0x1b585320>"
      ]
     },
     "metadata": {},
     "output_type": "display_data"
    }
   ],
   "source": [
    "plot_words(x_test_list, ['Price','Car'], classes=None)"
   ]
  },
  {
   "cell_type": "code",
   "execution_count": 34,
   "metadata": {},
   "outputs": [],
   "source": [
    "#plot_words(X_tsne, word_list, xlimits=[-5,10], ylimits=[-5,5])"
   ]
  },
  {
   "cell_type": "code",
   "execution_count": 38,
   "metadata": {},
   "outputs": [
    {
     "data": {
      "image/png": "[encoded data removed]",
      "text/plain": [
       "<matplotlib.figure.Figure at 0x1b585f28>"
      ]
     },
     "metadata": {},
     "output_type": "display_data"
    }
   ],
   "source": [
    "plot_words(X_tsne_target, targets, classes=classes)"
   ]
  },
  {
   "cell_type": "code",
   "execution_count": null,
   "metadata": {
    "collapsed": true
   },
   "outputs": [],
   "source": []
  }
 ],
 "metadata": {
  "kernelspec": {
   "display_name": "Python 3",
   "language": "python",
   "name": "python3"
  },
  "language_info": {
   "codemirror_mode": {
    "name": "ipython",
    "version": 3
   },
   "file_extension": ".py",
   "mimetype": "text/x-python",
   "name": "python",
   "nbconvert_exporter": "python",
   "pygments_lexer": "ipython3",
   "version": "3.6.1"
  }
 },
 "nbformat": 4,
 "nbformat_minor": 1
}
