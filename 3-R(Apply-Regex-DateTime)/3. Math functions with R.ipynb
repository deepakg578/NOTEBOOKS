{
 "cells": [
  {
   "cell_type": "markdown",
   "metadata": {},
   "source": [
    "\n",
    "We've talked a bit about some of the built-in math functions and features in R, but let's have one more look at a few of them:\n",
    "* abs(): computes the absolute value.\n",
    "* sum(): returns the sum of all the values present in the input.\n",
    "* mean(): computes the arithmetic mean.\n",
    "* round(): rounds values (additional arguments to nearest)\n"
   ]
  },
  {
   "cell_type": "code",
   "execution_count": 8,
   "metadata": {
    "collapsed": true
   },
   "outputs": [],
   "source": [
    "x <- c(-1,0,1,2,3,4,5)"
   ]
  },
  {
   "cell_type": "code",
   "execution_count": 9,
   "metadata": {
    "collapsed": false
   },
   "outputs": [
    {
     "data": {
      "text/html": [
       "2"
      ],
      "text/latex": [
       "2"
      ],
      "text/markdown": [
       "2"
      ],
      "text/plain": [
       "[1] 2"
      ]
     },
     "metadata": {},
     "output_type": "display_data"
    }
   ],
   "source": [
    "abs(-2)"
   ]
  },
  {
   "cell_type": "code",
   "execution_count": 11,
   "metadata": {
    "collapsed": false
   },
   "outputs": [
    {
     "data": {
      "text/html": [
       "<ol class=list-inline>\n",
       "\t<li>1</li>\n",
       "\t<li>0</li>\n",
       "\t<li>1</li>\n",
       "\t<li>2</li>\n",
       "\t<li>3</li>\n",
       "\t<li>4</li>\n",
       "\t<li>5</li>\n",
       "</ol>\n"
      ],
      "text/latex": [
       "\\begin{enumerate*}\n",
       "\\item 1\n",
       "\\item 0\n",
       "\\item 1\n",
       "\\item 2\n",
       "\\item 3\n",
       "\\item 4\n",
       "\\item 5\n",
       "\\end{enumerate*}\n"
      ],
      "text/markdown": [
       "1. 1\n",
       "2. 0\n",
       "3. 1\n",
       "4. 2\n",
       "5. 3\n",
       "6. 4\n",
       "7. 5\n",
       "\n",
       "\n"
      ],
      "text/plain": [
       "[1] 1 0 1 2 3 4 5"
      ]
     },
     "metadata": {},
     "output_type": "display_data"
    }
   ],
   "source": [
    "abs(x)"
   ]
  },
  {
   "cell_type": "code",
   "execution_count": 12,
   "metadata": {
    "collapsed": false
   },
   "outputs": [
    {
     "data": {
      "text/html": [
       "14"
      ],
      "text/latex": [
       "14"
      ],
      "text/markdown": [
       "14"
      ],
      "text/plain": [
       "[1] 14"
      ]
     },
     "metadata": {},
     "output_type": "display_data"
    }
   ],
   "source": [
    "sum(x)"
   ]
  },
  {
   "cell_type": "code",
   "execution_count": 13,
   "metadata": {
    "collapsed": false
   },
   "outputs": [
    {
     "data": {
      "text/html": [
       "2"
      ],
      "text/latex": [
       "2"
      ],
      "text/markdown": [
       "2"
      ],
      "text/plain": [
       "[1] 2"
      ]
     },
     "metadata": {},
     "output_type": "display_data"
    }
   ],
   "source": [
    "mean(x)"
   ]
  },
  {
   "cell_type": "code",
   "execution_count": 14,
   "metadata": {
    "collapsed": false
   },
   "outputs": [
    {
     "data": {
      "text/html": [
       "23"
      ],
      "text/latex": [
       "23"
      ],
      "text/markdown": [
       "23"
      ],
      "text/plain": [
       "[1] 23"
      ]
     },
     "metadata": {},
     "output_type": "display_data"
    }
   ],
   "source": [
    "round(23.1231)"
   ]
  },
  {
   "cell_type": "code",
   "execution_count": 15,
   "metadata": {
    "collapsed": false
   },
   "outputs": [
    {
     "data": {
      "text/html": [
       "23.12"
      ],
      "text/latex": [
       "23.12"
      ],
      "text/markdown": [
       "23.12"
      ],
      "text/plain": [
       "[1] 23.12"
      ]
     },
     "metadata": {},
     "output_type": "display_data"
    }
   ],
   "source": [
    "round(23.1231234,2)"
   ]
  },
  {
   "cell_type": "code",
   "execution_count": 16,
   "metadata": {
    "collapsed": false
   },
   "outputs": [
    {
     "data": {
      "text/html": [
       "<ol class=list-inline>\n",
       "\t<li>1</li>\n",
       "\t<li>0</li>\n",
       "\t<li>1</li>\n",
       "\t<li>2</li>\n",
       "\t<li>3</li>\n",
       "\t<li>4</li>\n",
       "\t<li>5</li>\n",
       "</ol>\n"
      ],
      "text/latex": [
       "\\begin{enumerate*}\n",
       "\\item 1\n",
       "\\item 0\n",
       "\\item 1\n",
       "\\item 2\n",
       "\\item 3\n",
       "\\item 4\n",
       "\\item 5\n",
       "\\end{enumerate*}\n"
      ],
      "text/markdown": [
       "1. 1\n",
       "2. 0\n",
       "3. 1\n",
       "4. 2\n",
       "5. 3\n",
       "6. 4\n",
       "7. 5\n",
       "\n",
       "\n"
      ],
      "text/plain": [
       "[1] 1 0 1 2 3 4 5"
      ]
     },
     "metadata": {},
     "output_type": "display_data"
    }
   ],
   "source": [
    "abs(x)"
   ]
  },
  {
   "cell_type": "code",
   "execution_count": 17,
   "metadata": {
    "collapsed": false
   },
   "outputs": [
    {
     "name": "stderr",
     "output_type": "stream",
     "text": [
      "Warning message in sqrt(x):\n",
      "\"NaNs produced\""
     ]
    },
    {
     "data": {
      "text/html": [
       "<ol class=list-inline>\n",
       "\t<li>NaN</li>\n",
       "\t<li>0</li>\n",
       "\t<li>1</li>\n",
       "\t<li>1.4142135623731</li>\n",
       "\t<li>1.73205080756888</li>\n",
       "\t<li>2</li>\n",
       "\t<li>2.23606797749979</li>\n",
       "</ol>\n"
      ],
      "text/latex": [
       "\\begin{enumerate*}\n",
       "\\item NaN\n",
       "\\item 0\n",
       "\\item 1\n",
       "\\item 1.4142135623731\n",
       "\\item 1.73205080756888\n",
       "\\item 2\n",
       "\\item 2.23606797749979\n",
       "\\end{enumerate*}\n"
      ],
      "text/markdown": [
       "1. NaN\n",
       "2. 0\n",
       "3. 1\n",
       "4. 1.4142135623731\n",
       "5. 1.73205080756888\n",
       "6. 2\n",
       "7. 2.23606797749979\n",
       "\n",
       "\n"
      ],
      "text/plain": [
       "[1]      NaN 0.000000 1.000000 1.414214 1.732051 2.000000 2.236068"
      ]
     },
     "metadata": {},
     "output_type": "display_data"
    }
   ],
   "source": [
    "sqrt(x)"
   ]
  },
  {
   "cell_type": "code",
   "execution_count": 18,
   "metadata": {
    "collapsed": false
   },
   "outputs": [
    {
     "data": {
      "text/html": [
       "4"
      ],
      "text/latex": [
       "4"
      ],
      "text/markdown": [
       "4"
      ],
      "text/plain": [
       "[1] 4"
      ]
     },
     "metadata": {},
     "output_type": "display_data"
    }
   ],
   "source": [
    "ceiling(3.123)"
   ]
  },
  {
   "cell_type": "code",
   "execution_count": 19,
   "metadata": {
    "collapsed": false
   },
   "outputs": [
    {
     "data": {
      "text/html": [
       "3"
      ],
      "text/latex": [
       "3"
      ],
      "text/markdown": [
       "3"
      ],
      "text/plain": [
       "[1] 3"
      ]
     },
     "metadata": {},
     "output_type": "display_data"
    }
   ],
   "source": [
    "floor(3.123)"
   ]
  },
  {
   "cell_type": "code",
   "execution_count": 20,
   "metadata": {
    "collapsed": false
   },
   "outputs": [
    {
     "data": {
      "text/html": [
       "88"
      ],
      "text/latex": [
       "88"
      ],
      "text/markdown": [
       "88"
      ],
      "text/plain": [
       "[1] 88"
      ]
     },
     "metadata": {},
     "output_type": "display_data"
    }
   ],
   "source": [
    "trunc(88.9)"
   ]
  },
  {
   "cell_type": "code",
   "execution_count": 21,
   "metadata": {
    "collapsed": false
   },
   "outputs": [
    {
     "data": {
      "text/html": [
       "3.5"
      ],
      "text/latex": [
       "3.5"
      ],
      "text/markdown": [
       "3.5"
      ],
      "text/plain": [
       "[1] 3.5"
      ]
     },
     "metadata": {},
     "output_type": "display_data"
    }
   ],
   "source": [
    "signif(3.475, digits=2) "
   ]
  },
  {
   "cell_type": "code",
   "execution_count": 22,
   "metadata": {
    "collapsed": false
   },
   "outputs": [
    {
     "data": {
      "text/html": [
       "<ol class=list-inline>\n",
       "\t<li>0.54030230586814</li>\n",
       "\t<li>1</li>\n",
       "\t<li>0.54030230586814</li>\n",
       "\t<li>-0.416146836547142</li>\n",
       "\t<li>-0.989992496600445</li>\n",
       "\t<li>-0.653643620863612</li>\n",
       "\t<li>0.283662185463226</li>\n",
       "</ol>\n"
      ],
      "text/latex": [
       "\\begin{enumerate*}\n",
       "\\item 0.54030230586814\n",
       "\\item 1\n",
       "\\item 0.54030230586814\n",
       "\\item -0.416146836547142\n",
       "\\item -0.989992496600445\n",
       "\\item -0.653643620863612\n",
       "\\item 0.283662185463226\n",
       "\\end{enumerate*}\n"
      ],
      "text/markdown": [
       "1. 0.54030230586814\n",
       "2. 1\n",
       "3. 0.54030230586814\n",
       "4. -0.416146836547142\n",
       "5. -0.989992496600445\n",
       "6. -0.653643620863612\n",
       "7. 0.283662185463226\n",
       "\n",
       "\n"
      ],
      "text/plain": [
       "[1]  0.5403023  1.0000000  0.5403023 -0.4161468 -0.9899925 -0.6536436  0.2836622"
      ]
     },
     "metadata": {},
     "output_type": "display_data"
    }
   ],
   "source": [
    "cos(x)"
   ]
  },
  {
   "cell_type": "code",
   "execution_count": 23,
   "metadata": {
    "collapsed": false
   },
   "outputs": [
    {
     "data": {
      "text/html": [
       "<ol class=list-inline>\n",
       "\t<li>-0.841470984807897</li>\n",
       "\t<li>0</li>\n",
       "\t<li>0.841470984807897</li>\n",
       "\t<li>0.909297426825682</li>\n",
       "\t<li>0.141120008059867</li>\n",
       "\t<li>-0.756802495307928</li>\n",
       "\t<li>-0.958924274663138</li>\n",
       "</ol>\n"
      ],
      "text/latex": [
       "\\begin{enumerate*}\n",
       "\\item -0.841470984807897\n",
       "\\item 0\n",
       "\\item 0.841470984807897\n",
       "\\item 0.909297426825682\n",
       "\\item 0.141120008059867\n",
       "\\item -0.756802495307928\n",
       "\\item -0.958924274663138\n",
       "\\end{enumerate*}\n"
      ],
      "text/markdown": [
       "1. -0.841470984807897\n",
       "2. 0\n",
       "3. 0.841470984807897\n",
       "4. 0.909297426825682\n",
       "5. 0.141120008059867\n",
       "6. -0.756802495307928\n",
       "7. -0.958924274663138\n",
       "\n",
       "\n"
      ],
      "text/plain": [
       "[1] -0.8414710  0.0000000  0.8414710  0.9092974  0.1411200 -0.7568025 -0.9589243"
      ]
     },
     "metadata": {},
     "output_type": "display_data"
    }
   ],
   "source": [
    "sin(x)"
   ]
  },
  {
   "cell_type": "code",
   "execution_count": 24,
   "metadata": {
    "collapsed": false
   },
   "outputs": [
    {
     "data": {
      "text/html": [
       "<ol class=list-inline>\n",
       "\t<li>-1.5574077246549</li>\n",
       "\t<li>0</li>\n",
       "\t<li>1.5574077246549</li>\n",
       "\t<li>-2.18503986326152</li>\n",
       "\t<li>-0.142546543074278</li>\n",
       "\t<li>1.15782128234958</li>\n",
       "\t<li>-3.38051500624659</li>\n",
       "</ol>\n"
      ],
      "text/latex": [
       "\\begin{enumerate*}\n",
       "\\item -1.5574077246549\n",
       "\\item 0\n",
       "\\item 1.5574077246549\n",
       "\\item -2.18503986326152\n",
       "\\item -0.142546543074278\n",
       "\\item 1.15782128234958\n",
       "\\item -3.38051500624659\n",
       "\\end{enumerate*}\n"
      ],
      "text/markdown": [
       "1. -1.5574077246549\n",
       "2. 0\n",
       "3. 1.5574077246549\n",
       "4. -2.18503986326152\n",
       "5. -0.142546543074278\n",
       "6. 1.15782128234958\n",
       "7. -3.38051500624659\n",
       "\n",
       "\n"
      ],
      "text/plain": [
       "[1] -1.5574077  0.0000000  1.5574077 -2.1850399 -0.1425465  1.1578213 -3.3805150"
      ]
     },
     "metadata": {},
     "output_type": "display_data"
    }
   ],
   "source": [
    "tan(x)"
   ]
  },
  {
   "cell_type": "code",
   "execution_count": 25,
   "metadata": {
    "collapsed": false
   },
   "outputs": [
    {
     "name": "stderr",
     "output_type": "stream",
     "text": [
      "Warning message in log(x):\n",
      "\"NaNs produced\""
     ]
    },
    {
     "data": {
      "text/html": [
       "<ol class=list-inline>\n",
       "\t<li>NaN</li>\n",
       "\t<li>-Inf</li>\n",
       "\t<li>0</li>\n",
       "\t<li>0.693147180559945</li>\n",
       "\t<li>1.09861228866811</li>\n",
       "\t<li>1.38629436111989</li>\n",
       "\t<li>1.6094379124341</li>\n",
       "</ol>\n"
      ],
      "text/latex": [
       "\\begin{enumerate*}\n",
       "\\item NaN\n",
       "\\item -Inf\n",
       "\\item 0\n",
       "\\item 0.693147180559945\n",
       "\\item 1.09861228866811\n",
       "\\item 1.38629436111989\n",
       "\\item 1.6094379124341\n",
       "\\end{enumerate*}\n"
      ],
      "text/markdown": [
       "1. NaN\n",
       "2. -Inf\n",
       "3. 0\n",
       "4. 0.693147180559945\n",
       "5. 1.09861228866811\n",
       "6. 1.38629436111989\n",
       "7. 1.6094379124341\n",
       "\n",
       "\n"
      ],
      "text/plain": [
       "[1]       NaN      -Inf 0.0000000 0.6931472 1.0986123 1.3862944 1.6094379"
      ]
     },
     "metadata": {},
     "output_type": "display_data"
    }
   ],
   "source": [
    "log(x)"
   ]
  },
  {
   "cell_type": "code",
   "execution_count": 26,
   "metadata": {
    "collapsed": false
   },
   "outputs": [
    {
     "name": "stderr",
     "output_type": "stream",
     "text": [
      "Warning message in eval(expr, envir, enclos):\n",
      "\"NaNs produced\""
     ]
    },
    {
     "data": {
      "text/html": [
       "<ol class=list-inline>\n",
       "\t<li>NaN</li>\n",
       "\t<li>-Inf</li>\n",
       "\t<li>0</li>\n",
       "\t<li>0.301029995663981</li>\n",
       "\t<li>0.477121254719662</li>\n",
       "\t<li>0.602059991327962</li>\n",
       "\t<li>0.698970004336019</li>\n",
       "</ol>\n"
      ],
      "text/latex": [
       "\\begin{enumerate*}\n",
       "\\item NaN\n",
       "\\item -Inf\n",
       "\\item 0\n",
       "\\item 0.301029995663981\n",
       "\\item 0.477121254719662\n",
       "\\item 0.602059991327962\n",
       "\\item 0.698970004336019\n",
       "\\end{enumerate*}\n"
      ],
      "text/markdown": [
       "1. NaN\n",
       "2. -Inf\n",
       "3. 0\n",
       "4. 0.301029995663981\n",
       "5. 0.477121254719662\n",
       "6. 0.602059991327962\n",
       "7. 0.698970004336019\n",
       "\n",
       "\n"
      ],
      "text/plain": [
       "[1]       NaN      -Inf 0.0000000 0.3010300 0.4771213 0.6020600 0.6989700"
      ]
     },
     "metadata": {},
     "output_type": "display_data"
    }
   ],
   "source": [
    "log10(x)"
   ]
  },
  {
   "cell_type": "code",
   "execution_count": 27,
   "metadata": {
    "collapsed": false
   },
   "outputs": [
    {
     "data": {
      "text/html": [
       "<ol class=list-inline>\n",
       "\t<li>0.367879441171442</li>\n",
       "\t<li>1</li>\n",
       "\t<li>2.71828182845905</li>\n",
       "\t<li>7.38905609893065</li>\n",
       "\t<li>20.0855369231877</li>\n",
       "\t<li>54.5981500331442</li>\n",
       "\t<li>148.413159102577</li>\n",
       "</ol>\n"
      ],
      "text/latex": [
       "\\begin{enumerate*}\n",
       "\\item 0.367879441171442\n",
       "\\item 1\n",
       "\\item 2.71828182845905\n",
       "\\item 7.38905609893065\n",
       "\\item 20.0855369231877\n",
       "\\item 54.5981500331442\n",
       "\\item 148.413159102577\n",
       "\\end{enumerate*}\n"
      ],
      "text/markdown": [
       "1. 0.367879441171442\n",
       "2. 1\n",
       "3. 2.71828182845905\n",
       "4. 7.38905609893065\n",
       "5. 20.0855369231877\n",
       "6. 54.5981500331442\n",
       "7. 148.413159102577\n",
       "\n",
       "\n"
      ],
      "text/plain": [
       "[1]   0.3678794   1.0000000   2.7182818   7.3890561  20.0855369  54.5981500\n",
       "[7] 148.4131591"
      ]
     },
     "metadata": {},
     "output_type": "display_data"
    }
   ],
   "source": [
    "exp(x)"
   ]
  },
  {
   "cell_type": "code",
   "execution_count": null,
   "metadata": {
    "collapsed": true
   },
   "outputs": [],
   "source": []
  }
 ],
 "metadata": {
  "kernelspec": {
   "display_name": "R",
   "language": "R",
   "name": "ir"
  },
  "language_info": {
   "codemirror_mode": "r",
   "file_extension": ".r",
   "mimetype": "text/x-r-source",
   "name": "R",
   "pygments_lexer": "r",
   "version": "3.3.2"
  }
 },
 "nbformat": 4,
 "nbformat_minor": 2
}
