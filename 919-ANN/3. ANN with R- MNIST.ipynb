{
 "cells": [
  {
   "cell_type": "markdown",
   "metadata": {},
   "source": [
    "###  Use data from Tensorflow library"
   ]
  },
  {
   "cell_type": "code",
   "execution_count": 1,
   "metadata": {
    "collapsed": true
   },
   "outputs": [],
   "source": [
    "library(tensorflow)\n",
    "datasets <- tf$contrib$learn$datasets\n",
    "mnist <- datasets$mnist$read_data_sets(\"MNIST-data\", one_hot = TRUE)"
   ]
  },
  {
   "cell_type": "markdown",
   "metadata": {},
   "source": [
    "### Define tensorflow placeholders for :\n",
    "\n",
    "* Input - x\n",
    "* Weight - W\n",
    "* Bias - b\n",
    "* Actual Output - y\n",
    "* Predicted Output - y_\n",
    "* cost function - cross_entropy\n",
    "* optimizer \n",
    "* training step\n"
   ]
  },
  {
   "cell_type": "code",
   "execution_count": 2,
   "metadata": {
    "collapsed": true
   },
   "outputs": [],
   "source": [
    "x <- tf$placeholder(tf$float32, shape(NULL, 784L))\n",
    "W <- tf$Variable(tf$zeros(shape(784L, 10L)))\n",
    "b <- tf$Variable(tf$zeros(shape(10L)))\n",
    "y <- tf$nn$softmax(tf$matmul(x, W) + b)\n",
    "y_ <- tf$placeholder(tf$float32, shape(NULL, 10L))\n",
    "cross_entropy <- tf$reduce_mean(-tf$reduce_sum(y_ * tf$log(y), reduction_indices=1L))\n",
    "\n",
    "optimizer <- tf$train$GradientDescentOptimizer(0.5)\n",
    "train_step <- optimizer$minimize(cross_entropy)\n"
   ]
  },
  {
   "cell_type": "markdown",
   "metadata": {},
   "source": [
    "### Initialize Tensorflow session"
   ]
  },
  {
   "cell_type": "code",
   "execution_count": 3,
   "metadata": {
    "collapsed": true
   },
   "outputs": [],
   "source": [
    "init <- tf$global_variables_initializer()\n",
    "sess <- tf$Session()\n",
    "sess$run(init)"
   ]
  },
  {
   "cell_type": "markdown",
   "metadata": {},
   "source": [
    "### Train the model 1000 times with 100 observations at a time"
   ]
  },
  {
   "cell_type": "code",
   "execution_count": 4,
   "metadata": {
    "collapsed": true
   },
   "outputs": [],
   "source": [
    "for (i in 1:1000) {\n",
    "  batches <- mnist$train$next_batch(100L)\n",
    "  batch_xs <- batches[[1]]\n",
    "  batch_ys <- batches[[2]]\n",
    "  sess$run(train_step,\n",
    "           feed_dict = dict(x = batch_xs, y_ = batch_ys))\n",
    "}"
   ]
  },
  {
   "cell_type": "markdown",
   "metadata": {},
   "source": [
    "### Evaluate the outcome"
   ]
  },
  {
   "cell_type": "code",
   "execution_count": 5,
   "metadata": {
    "collapsed": true
   },
   "outputs": [],
   "source": [
    "correct_prediction <- tf$equal(tf$argmax(y, 1L), tf$argmax(y_, 1L))"
   ]
  },
  {
   "cell_type": "code",
   "execution_count": 6,
   "metadata": {
    "collapsed": true
   },
   "outputs": [],
   "source": [
    "accuracy <- tf$reduce_mean(tf$cast(correct_prediction, tf$float32))"
   ]
  },
  {
   "cell_type": "code",
   "execution_count": 7,
   "metadata": {},
   "outputs": [
    {
     "data": {
      "text/html": [
       "0.919900000095367"
      ],
      "text/latex": [
       "0.919900000095367"
      ],
      "text/markdown": [
       "0.919900000095367"
      ],
      "text/plain": [
       "[1] 0.9199"
      ]
     },
     "metadata": {},
     "output_type": "display_data"
    }
   ],
   "source": [
    "sess$run(accuracy, feed_dict=dict(x = mnist$test$images, y_ = mnist$test$labels))"
   ]
  },
  {
   "cell_type": "code",
   "execution_count": null,
   "metadata": {
    "collapsed": true
   },
   "outputs": [],
   "source": []
  }
 ],
 "metadata": {
  "kernelspec": {
   "display_name": "R",
   "language": "R",
   "name": "ir"
  },
  "language_info": {
   "codemirror_mode": "r",
   "file_extension": ".r",
   "mimetype": "text/x-r-source",
   "name": "R",
   "pygments_lexer": "r",
   "version": "3.4.1"
  }
 },
 "nbformat": 4,
 "nbformat_minor": 2
}
