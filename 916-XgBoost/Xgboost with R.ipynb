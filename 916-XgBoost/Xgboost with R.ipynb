{
 "cells": [
  {
   "cell_type": "code",
   "execution_count": 98,
   "metadata": {
    "collapsed": true
   },
   "outputs": [],
   "source": [
    "train <- read.csv('wage_train.csv')\n",
    "test <- read.csv('wage_test.csv')"
   ]
  },
  {
   "cell_type": "code",
   "execution_count": 99,
   "metadata": {},
   "outputs": [
    {
     "name": "stdout",
     "output_type": "stream",
     "text": [
      "'data.frame':\t30162 obs. of  15 variables:\n",
      " $ age           : int  39 50 38 53 28 37 49 52 31 42 ...\n",
      " $ workclass     : int  5 4 2 2 2 2 2 4 2 2 ...\n",
      " $ fnlwgt        : int  77516 83311 215646 234721 338409 284582 160187 209642 45781 159449 ...\n",
      " $ education     : int  9 9 11 1 9 12 6 11 12 9 ...\n",
      " $ education_num : int  13 13 9 7 13 14 5 9 14 13 ...\n",
      " $ marital_status: int  4 2 0 2 2 2 3 2 4 2 ...\n",
      " $ occupation    : int  0 3 5 5 9 3 7 3 9 3 ...\n",
      " $ relationship  : int  1 0 1 0 5 5 1 0 1 0 ...\n",
      " $ race          : int  4 4 4 2 2 4 2 4 4 4 ...\n",
      " $ sex           : int  1 1 1 1 0 0 0 1 0 1 ...\n",
      " $ capital_gain  : int  2174 0 0 0 0 0 0 0 14084 5178 ...\n",
      " $ capital_loss  : int  0 0 0 0 0 0 0 0 0 0 ...\n",
      " $ hours_per_week: int  40 13 40 40 40 40 16 45 50 40 ...\n",
      " $ native_country: int  38 38 38 38 4 38 22 38 38 38 ...\n",
      " $ wage_class    : int  0 0 0 0 0 0 0 1 1 1 ...\n"
     ]
    }
   ],
   "source": [
    "str(train)"
   ]
  },
  {
   "cell_type": "code",
   "execution_count": 100,
   "metadata": {},
   "outputs": [
    {
     "name": "stdout",
     "output_type": "stream",
     "text": [
      "'data.frame':\t15060 obs. of  15 variables:\n",
      " $ age           : int  25 38 28 44 34 63 24 55 65 36 ...\n",
      " $ workclass     : int  2 2 1 2 2 4 2 2 2 0 ...\n",
      " $ fnlwgt        : int  226802 89814 336951 160323 198693 104626 369667 104996 184454 212465 ...\n",
      " $ education     : int  1 11 7 15 0 14 15 5 11 9 ...\n",
      " $ education_num : int  7 9 12 10 6 15 10 4 9 13 ...\n",
      " $ marital_status: int  4 2 2 2 4 2 4 2 2 2 ...\n",
      " $ occupation    : int  6 4 10 6 7 9 7 2 6 0 ...\n",
      " $ relationship  : int  3 0 0 0 1 0 4 0 0 0 ...\n",
      " $ race          : int  2 4 4 2 4 4 4 4 4 4 ...\n",
      " $ sex           : int  1 1 1 1 1 1 0 1 1 1 ...\n",
      " $ capital_gain  : int  0 0 0 7688 0 3103 0 0 6418 0 ...\n",
      " $ capital_loss  : int  0 0 0 0 0 0 0 0 0 0 ...\n",
      " $ hours_per_week: int  40 50 40 40 30 32 40 10 40 40 ...\n",
      " $ native_country: int  38 38 38 38 38 38 38 38 38 38 ...\n",
      " $ wage_class    : int  0 0 1 1 0 1 0 0 1 0 ...\n"
     ]
    }
   ],
   "source": [
    "str(test)"
   ]
  },
  {
   "cell_type": "markdown",
   "metadata": {},
   "source": [
    "### RF"
   ]
  },
  {
   "cell_type": "code",
   "execution_count": 6,
   "metadata": {},
   "outputs": [
    {
     "name": "stderr",
     "output_type": "stream",
     "text": [
      "Loading required package: lattice\n",
      "Loading required package: ggplot2\n",
      "\n",
      "Attaching package: 'ggplot2'\n",
      "\n",
      "The following object is masked from 'package:randomForest':\n",
      "\n",
      "    margin\n",
      "\n"
     ]
    }
   ],
   "source": [
    "library(randomForest)\n",
    "library(caret)\n"
   ]
  },
  {
   "cell_type": "code",
   "execution_count": 3,
   "metadata": {
    "collapsed": true
   },
   "outputs": [],
   "source": [
    "set.seed(10)\n",
    "rf.model <- randomForest(as.factor(wage_class) ~ ., data = train,\n",
    "                         ntree = 100, nodesize = 20)"
   ]
  },
  {
   "cell_type": "code",
   "execution_count": 4,
   "metadata": {
    "collapsed": true
   },
   "outputs": [],
   "source": [
    "rf.predict <- predict(rf.model, test)"
   ]
  },
  {
   "cell_type": "code",
   "execution_count": 7,
   "metadata": {},
   "outputs": [
    {
     "data": {
      "text/plain": [
       "Confusion Matrix and Statistics\n",
       "\n",
       "          Reference\n",
       "Prediction     0     1\n",
       "         0 10639   721\n",
       "         1  1404  2296\n",
       "                                          \n",
       "               Accuracy : 0.8589          \n",
       "                 95% CI : (0.8532, 0.8644)\n",
       "    No Information Rate : 0.7997          \n",
       "    P-Value [Acc > NIR] : < 2.2e-16       \n",
       "                                          \n",
       "                  Kappa : 0.594           \n",
       " Mcnemar's Test P-Value : < 2.2e-16       \n",
       "                                          \n",
       "            Sensitivity : 0.8834          \n",
       "            Specificity : 0.7610          \n",
       "         Pos Pred Value : 0.9365          \n",
       "         Neg Pred Value : 0.6205          \n",
       "             Prevalence : 0.7997          \n",
       "         Detection Rate : 0.7064          \n",
       "   Detection Prevalence : 0.7543          \n",
       "      Balanced Accuracy : 0.8222          \n",
       "                                          \n",
       "       'Positive' Class : 0               \n",
       "                                          "
      ]
     },
     "metadata": {},
     "output_type": "display_data"
    }
   ],
   "source": [
    "confusionMatrix(test$wage_class, rf.predict)"
   ]
  },
  {
   "cell_type": "markdown",
   "metadata": {},
   "source": [
    "### Logistic regression"
   ]
  },
  {
   "cell_type": "code",
   "execution_count": 8,
   "metadata": {},
   "outputs": [
    {
     "name": "stderr",
     "output_type": "stream",
     "text": [
      "Warning message:\n",
      "\"glm.fit: fitted probabilities numerically 0 or 1 occurred\""
     ]
    }
   ],
   "source": [
    "glm.model <- glm(as.factor(wage_class) ~ ., data = train, family = \"binomial\")\n",
    "glm.predict <- predict(glm.model, test, type = \"response\")"
   ]
  },
  {
   "cell_type": "code",
   "execution_count": 10,
   "metadata": {},
   "outputs": [
    {
     "data": {
      "text/plain": [
       "Confusion Matrix and Statistics\n",
       "\n",
       "          Reference\n",
       "Prediction     0     1\n",
       "         0 10657   703\n",
       "         1  2006  1694\n",
       "                                          \n",
       "               Accuracy : 0.8201          \n",
       "                 95% CI : (0.8139, 0.8262)\n",
       "    No Information Rate : 0.8408          \n",
       "    P-Value [Acc > NIR] : 1               \n",
       "                                          \n",
       "                  Kappa : 0.4493          \n",
       " Mcnemar's Test P-Value : <2e-16          \n",
       "                                          \n",
       "            Sensitivity : 0.7067          \n",
       "            Specificity : 0.8416          \n",
       "         Pos Pred Value : 0.4578          \n",
       "         Neg Pred Value : 0.9381          \n",
       "             Prevalence : 0.1592          \n",
       "         Detection Rate : 0.1125          \n",
       "   Detection Prevalence : 0.2457          \n",
       "      Balanced Accuracy : 0.7742          \n",
       "                                          \n",
       "       'Positive' Class : 1               \n",
       "                                          "
      ]
     },
     "metadata": {},
     "output_type": "display_data"
    }
   ],
   "source": [
    "confusionMatrix(test$wage_class, as.integer(as.logical(glm.predict > 0.5)),positive = '1')"
   ]
  },
  {
   "cell_type": "markdown",
   "metadata": {},
   "source": [
    "### Decision Tree"
   ]
  },
  {
   "cell_type": "code",
   "execution_count": 11,
   "metadata": {
    "collapsed": true
   },
   "outputs": [],
   "source": [
    "library(rpart)\n",
    "library(rpart.plot)"
   ]
  },
  {
   "cell_type": "code",
   "execution_count": 13,
   "metadata": {},
   "outputs": [],
   "source": [
    "tree.model <- rpart(as.factor(wage_class) ~ ., data = train, method = \"class\", minbucket = 20)\n"
   ]
  },
  {
   "cell_type": "code",
   "execution_count": 14,
   "metadata": {},
   "outputs": [
    {
     "data": {
      "image/png": "[encoded data removed]",
      "text/plain": [
       "Plot with title \"Wage Class\""
      ]
     },
     "metadata": {},
     "output_type": "display_data"
    }
   ],
   "source": [
    "plot(tree.model, uniform=TRUE, main=\"Wage Class\")\n",
    "text(tree.model, use.n=TRUE, all=TRUE)"
   ]
  },
  {
   "cell_type": "code",
   "execution_count": 15,
   "metadata": {},
   "outputs": [
    {
     "data": {
      "text/plain": [
       "Confusion Matrix and Statistics\n",
       "\n",
       "          Reference\n",
       "Prediction     0     1\n",
       "         0 10745   615\n",
       "         1  1810  1890\n",
       "                                         \n",
       "               Accuracy : 0.839          \n",
       "                 95% CI : (0.833, 0.8448)\n",
       "    No Information Rate : 0.8337         \n",
       "    P-Value [Acc > NIR] : 0.04052        \n",
       "                                         \n",
       "                  Kappa : 0.5125         \n",
       " Mcnemar's Test P-Value : < 2e-16        \n",
       "                                         \n",
       "            Sensitivity : 0.8558         \n",
       "            Specificity : 0.7545         \n",
       "         Pos Pred Value : 0.9459         \n",
       "         Neg Pred Value : 0.5108         \n",
       "             Prevalence : 0.8337         \n",
       "         Detection Rate : 0.7135         \n",
       "   Detection Prevalence : 0.7543         \n",
       "      Balanced Accuracy : 0.8052         \n",
       "                                         \n",
       "       'Positive' Class : 0              \n",
       "                                         "
      ]
     },
     "metadata": {},
     "output_type": "display_data"
    }
   ],
   "source": [
    "tree.predict <- predict(tree.model, test, type = \"class\")\n",
    "confusionMatrix(test$wage_class, tree.predict)"
   ]
  },
  {
   "cell_type": "markdown",
   "metadata": {},
   "source": [
    "### GBM"
   ]
  },
  {
   "cell_type": "code",
   "execution_count": null,
   "metadata": {
    "collapsed": true
   },
   "outputs": [],
   "source": [
    "#install.packages('gbm',repos = 'http://cran.us.r-project.org')"
   ]
  },
  {
   "cell_type": "code",
   "execution_count": 17,
   "metadata": {},
   "outputs": [
    {
     "name": "stderr",
     "output_type": "stream",
     "text": [
      "Loading required package: survival\n",
      "\n",
      "Attaching package: 'survival'\n",
      "\n",
      "The following object is masked from 'package:caret':\n",
      "\n",
      "    cluster\n",
      "\n",
      "Loading required package: splines\n",
      "Loading required package: parallel\n",
      "Loaded gbm 2.1.3\n"
     ]
    }
   ],
   "source": [
    "library(gbm)"
   ]
  },
  {
   "cell_type": "code",
   "execution_count": 33,
   "metadata": {
    "collapsed": true
   },
   "outputs": [],
   "source": [
    "gbmModel = gbm(formula = wage_class ~ .,\n",
    "               distribution = \"bernoulli\",\n",
    "               data = train,\n",
    "               n.trees = 100,\n",
    "               shrinkage = .01,\n",
    "               n.minobsinnode = 20)"
   ]
  },
  {
   "cell_type": "code",
   "execution_count": 31,
   "metadata": {},
   "outputs": [],
   "source": [
    "gbm.predict = predict(object = gbmModel,\n",
    "                              newdata = test,\n",
    "                              n.trees = 100,\n",
    "                              type = \"response\")\n"
   ]
  },
  {
   "cell_type": "code",
   "execution_count": 32,
   "metadata": {},
   "outputs": [
    {
     "data": {
      "text/plain": [
       "Confusion Matrix and Statistics\n",
       "\n",
       "          Reference\n",
       "Prediction     0     1\n",
       "         0 11357     3\n",
       "         1  3251   449\n",
       "                                          \n",
       "               Accuracy : 0.7839          \n",
       "                 95% CI : (0.7773, 0.7905)\n",
       "    No Information Rate : 0.97            \n",
       "    P-Value [Acc > NIR] : 1               \n",
       "                                          \n",
       "                  Kappa : 0.172           \n",
       " Mcnemar's Test P-Value : <2e-16          \n",
       "                                          \n",
       "            Sensitivity : 0.7775          \n",
       "            Specificity : 0.9934          \n",
       "         Pos Pred Value : 0.9997          \n",
       "         Neg Pred Value : 0.1214          \n",
       "             Prevalence : 0.9700          \n",
       "         Detection Rate : 0.7541          \n",
       "   Detection Prevalence : 0.7543          \n",
       "      Balanced Accuracy : 0.8854          \n",
       "                                          \n",
       "       'Positive' Class : 0               \n",
       "                                          "
      ]
     },
     "metadata": {},
     "output_type": "display_data"
    }
   ],
   "source": [
    "confusionMatrix(test$wage_class, as.integer(as.logical(gbm.predict > 0.5)))"
   ]
  },
  {
   "cell_type": "markdown",
   "metadata": {},
   "source": [
    "### Xgboost"
   ]
  },
  {
   "cell_type": "code",
   "execution_count": 111,
   "metadata": {},
   "outputs": [
    {
     "name": "stderr",
     "output_type": "stream",
     "text": [
      "Loading required package: data.table\n",
      "\n",
      "Attaching package: 'data.table'\n",
      "\n",
      "The following objects are masked from 'package:dplyr':\n",
      "\n",
      "    between, first, last\n",
      "\n"
     ]
    }
   ],
   "source": [
    "require(xgboost)\n",
    "require(data.table)\n",
    "require(Matrix)"
   ]
  },
  {
   "cell_type": "code",
   "execution_count": 112,
   "metadata": {},
   "outputs": [],
   "source": [
    "sparse_matrix <- sparse.model.matrix(wage_class~.-1, data = train)"
   ]
  },
  {
   "cell_type": "code",
   "execution_count": 113,
   "metadata": {},
   "outputs": [
    {
     "name": "stderr",
     "output_type": "stream",
     "text": [
      "   [[ suppressing 14 column names 'age', 'workclass', 'fnlwgt' ... ]]\n"
     ]
    },
    {
     "data": {
      "text/plain": [
       "6 x 14 sparse Matrix of class \"dgCMatrix\"\n",
       "                                          \n",
       "1 39 5  77516  9 13 4 . 1 4 1 2174 . 40 38\n",
       "2 50 4  83311  9 13 2 3 . 4 1    . . 13 38\n",
       "3 38 2 215646 11  9 . 5 1 4 1    . . 40 38\n",
       "4 53 2 234721  1  7 2 5 . 2 1    . . 40 38\n",
       "5 28 2 338409  9 13 2 9 5 2 .    . . 40  4\n",
       "6 37 2 284582 12 14 2 3 5 4 .    . . 40 38"
      ]
     },
     "metadata": {},
     "output_type": "display_data"
    }
   ],
   "source": [
    "head(sparse_matrix)"
   ]
  },
  {
   "cell_type": "code",
   "execution_count": 119,
   "metadata": {},
   "outputs": [
    {
     "name": "stdout",
     "output_type": "stream",
     "text": [
      "[1]\ttrain-error:0.158478 \n",
      "[2]\ttrain-error:0.152211 \n",
      "[3]\ttrain-error:0.147769 \n",
      "[4]\ttrain-error:0.142994 \n",
      "[5]\ttrain-error:0.138585 \n",
      "[6]\ttrain-error:0.136662 \n",
      "[7]\ttrain-error:0.136264 \n",
      "[8]\ttrain-error:0.134839 \n",
      "[9]\ttrain-error:0.132717 \n",
      "[10]\ttrain-error:0.132087 \n"
     ]
    }
   ],
   "source": [
    "bst <- xgboost(data = sparse_matrix, label = train$wage_class, max.depth = 4,\n",
    "               eta = 1, nthread = 2, nround = 10,objective = \"binary:logistic\")"
   ]
  },
  {
   "cell_type": "code",
   "execution_count": 120,
   "metadata": {
    "collapsed": true
   },
   "outputs": [],
   "source": [
    "sparse_test <- sparse.model.matrix(wage_class~.-1, data = test)"
   ]
  },
  {
   "cell_type": "code",
   "execution_count": 121,
   "metadata": {},
   "outputs": [],
   "source": [
    "# predict values in test set\n",
    "y_pred <- predict(bst, sparse_test)"
   ]
  },
  {
   "cell_type": "code",
   "execution_count": 122,
   "metadata": {},
   "outputs": [
    {
     "data": {
      "text/html": [
       "15060"
      ],
      "text/latex": [
       "15060"
      ],
      "text/markdown": [
       "15060"
      ],
      "text/plain": [
       "[1] 15060"
      ]
     },
     "metadata": {},
     "output_type": "display_data"
    }
   ],
   "source": [
    "length(y_pred)"
   ]
  },
  {
   "cell_type": "code",
   "execution_count": 123,
   "metadata": {},
   "outputs": [
    {
     "data": {
      "text/plain": [
       "Confusion Matrix and Statistics\n",
       "\n",
       "          Reference\n",
       "Prediction     0     1\n",
       "         0 10650   710\n",
       "         1  1363  2337\n",
       "                                          \n",
       "               Accuracy : 0.8624          \n",
       "                 95% CI : (0.8567, 0.8678)\n",
       "    No Information Rate : 0.7977          \n",
       "    P-Value [Acc > NIR] : < 2.2e-16       \n",
       "                                          \n",
       "                  Kappa : 0.6051          \n",
       " Mcnemar's Test P-Value : < 2.2e-16       \n",
       "                                          \n",
       "            Sensitivity : 0.8865          \n",
       "            Specificity : 0.7670          \n",
       "         Pos Pred Value : 0.9375          \n",
       "         Neg Pred Value : 0.6316          \n",
       "             Prevalence : 0.7977          \n",
       "         Detection Rate : 0.7072          \n",
       "   Detection Prevalence : 0.7543          \n",
       "      Balanced Accuracy : 0.8268          \n",
       "                                          \n",
       "       'Positive' Class : 0               \n",
       "                                          "
      ]
     },
     "metadata": {},
     "output_type": "display_data"
    }
   ],
   "source": [
    "confusionMatrix(test$wage_class, as.integer(as.logical(y_pred > 0.5)))"
   ]
  },
  {
   "cell_type": "code",
   "execution_count": 124,
   "metadata": {},
   "outputs": [
    {
     "data": {
      "text/html": [
       "<table>\n",
       "<thead><tr><th scope=col>Feature</th><th scope=col>Gain</th><th scope=col>Cover</th><th scope=col>Frequency</th></tr></thead>\n",
       "<tbody>\n",
       "\t<tr><td>relationship  </td><td>0.33655399    </td><td>0.06468604    </td><td>0.05925926    </td></tr>\n",
       "\t<tr><td>capital_gain  </td><td>0.20059916    </td><td>0.21030937    </td><td>0.15555556    </td></tr>\n",
       "\t<tr><td>education_num </td><td>0.19250670    </td><td>0.13851639    </td><td>0.11851852    </td></tr>\n",
       "\t<tr><td>age           </td><td>0.08014330    </td><td>0.09223470    </td><td>0.10370370    </td></tr>\n",
       "\t<tr><td>capital_loss  </td><td>0.05508677    </td><td>0.16669376    </td><td>0.13333333    </td></tr>\n",
       "\t<tr><td>hours_per_week</td><td>0.04161977    </td><td>0.07419463    </td><td>0.08148148    </td></tr>\n",
       "</tbody>\n",
       "</table>\n"
      ],
      "text/latex": [
       "\\begin{tabular}{r|llll}\n",
       " Feature & Gain & Cover & Frequency\\\\\n",
       "\\hline\n",
       "\t relationship   & 0.33655399     & 0.06468604     & 0.05925926    \\\\\n",
       "\t capital\\_gain   & 0.20059916       & 0.21030937       & 0.15555556      \\\\\n",
       "\t education\\_num  & 0.19250670       & 0.13851639       & 0.11851852      \\\\\n",
       "\t age            & 0.08014330     & 0.09223470     & 0.10370370    \\\\\n",
       "\t capital\\_loss   & 0.05508677       & 0.16669376       & 0.13333333      \\\\\n",
       "\t hours\\_per\\_week & 0.04161977         & 0.07419463         & 0.08148148        \\\\\n",
       "\\end{tabular}\n"
      ],
      "text/markdown": [
       "\n",
       "Feature | Gain | Cover | Frequency | \n",
       "|---|---|---|---|---|---|\n",
       "| relationship   | 0.33655399     | 0.06468604     | 0.05925926     | \n",
       "| capital_gain   | 0.20059916     | 0.21030937     | 0.15555556     | \n",
       "| education_num  | 0.19250670     | 0.13851639     | 0.11851852     | \n",
       "| age            | 0.08014330     | 0.09223470     | 0.10370370     | \n",
       "| capital_loss   | 0.05508677     | 0.16669376     | 0.13333333     | \n",
       "| hours_per_week | 0.04161977     | 0.07419463     | 0.08148148     | \n",
       "\n",
       "\n"
      ],
      "text/plain": [
       "  Feature        Gain       Cover      Frequency \n",
       "1 relationship   0.33655399 0.06468604 0.05925926\n",
       "2 capital_gain   0.20059916 0.21030937 0.15555556\n",
       "3 education_num  0.19250670 0.13851639 0.11851852\n",
       "4 age            0.08014330 0.09223470 0.10370370\n",
       "5 capital_loss   0.05508677 0.16669376 0.13333333\n",
       "6 hours_per_week 0.04161977 0.07419463 0.08148148"
      ]
     },
     "metadata": {},
     "output_type": "display_data"
    }
   ],
   "source": [
    "importance <- xgb.importance(feature_names = sparse_matrix@Dimnames[[2]], model = bst)\n",
    "head(importance)"
   ]
  },
  {
   "cell_type": "code",
   "execution_count": null,
   "metadata": {
    "collapsed": true
   },
   "outputs": [],
   "source": []
  }
 ],
 "metadata": {
  "kernelspec": {
   "display_name": "R",
   "language": "R",
   "name": "ir"
  },
  "language_info": {
   "codemirror_mode": "r",
   "file_extension": ".r",
   "mimetype": "text/x-r-source",
   "name": "R",
   "pygments_lexer": "r",
   "version": "3.4.1"
  }
 },
 "nbformat": 4,
 "nbformat_minor": 2
}
