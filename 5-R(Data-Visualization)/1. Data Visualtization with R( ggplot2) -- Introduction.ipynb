{
 "cells": [
  {
   "cell_type": "markdown",
   "metadata": {},
   "source": [
    "##  ggplot2\n",
    "\n",
    "ggplot2 has several advantages:\n",
    "* Plot specification at a high level of abstraction\n",
    "* Very flexible\n",
    "* Theme system for polishing plot appearance\n",
    "* Mature and complete graphics system\n",
    "\n",
    "What ggplot2 not ideal for:\n",
    "* Interactive graphics\n",
    "* Graph Theory Plots (Graph Nodes)\n",
    "* 3-D Graphics\n",
    "\n",
    "** Anatomy of ggplot2 **\n",
    "![](grammar_layers.png)"
   ]
  },
  {
   "cell_type": "code",
   "execution_count": 2,
   "metadata": {
    "collapsed": false
   },
   "outputs": [
    {
     "name": "stderr",
     "output_type": "stream",
     "text": [
      "Warning message:\n",
      "\"package 'ggplot2' was built under R version 3.3.3\""
     ]
    }
   ],
   "source": [
    "# import ggplot2\n",
    "library(ggplot2)"
   ]
  },
  {
   "cell_type": "code",
   "execution_count": 3,
   "metadata": {
    "collapsed": true
   },
   "outputs": [],
   "source": [
    "library(data.table)\n",
    "# You may need to put the entire file path to the downloaded csv file!\n",
    "df <- fread('state_real_estate_data.csv')"
   ]
  },
  {
   "cell_type": "code",
   "execution_count": 4,
   "metadata": {
    "collapsed": false
   },
   "outputs": [
    {
     "data": {
      "text/html": [
       "<table>\n",
       "<thead><tr><th scope=col>State</th><th scope=col>region</th><th scope=col>Date</th><th scope=col>Home.Value</th><th scope=col>Structure.Cost</th><th scope=col>Land.Value</th><th scope=col>Land.Share..Pct.</th><th scope=col>Home.Price.Index</th><th scope=col>Land.Price.Index</th></tr></thead>\n",
       "<tbody>\n",
       "\t<tr><td>AK    </td><td>West  </td><td>20101 </td><td>224952</td><td>160599</td><td>64352 </td><td>28.6  </td><td>1.481 </td><td>1.552 </td></tr>\n",
       "\t<tr><td>AK    </td><td>West  </td><td>20102 </td><td>225511</td><td>160252</td><td>65259 </td><td>28.9  </td><td>1.484 </td><td>1.576 </td></tr>\n",
       "\t<tr><td>AK    </td><td>West  </td><td>20093 </td><td>225820</td><td>163791</td><td>62029 </td><td>27.5  </td><td>1.486 </td><td>1.494 </td></tr>\n",
       "\t<tr><td>AK    </td><td>West  </td><td>20094 </td><td>224994</td><td>161787</td><td>63207 </td><td>28.1  </td><td>1.481 </td><td>1.524 </td></tr>\n",
       "\t<tr><td>AK    </td><td>West  </td><td>20074 </td><td>234590</td><td>155400</td><td>79190 </td><td>33.8  </td><td>1.544 </td><td>1.885 </td></tr>\n",
       "\t<tr><td>AK    </td><td>West  </td><td>20081 </td><td>233714</td><td>157458</td><td>76256 </td><td>32.6  </td><td>1.538 </td><td>1.817 </td></tr>\n",
       "</tbody>\n",
       "</table>\n"
      ],
      "text/latex": [
       "\\begin{tabular}{r|lllllllll}\n",
       " State & region & Date & Home.Value & Structure.Cost & Land.Value & Land.Share..Pct. & Home.Price.Index & Land.Price.Index\\\\\n",
       "\\hline\n",
       "\t AK     & West   & 20101  & 224952 & 160599 & 64352  & 28.6   & 1.481  & 1.552 \\\\\n",
       "\t AK     & West   & 20102  & 225511 & 160252 & 65259  & 28.9   & 1.484  & 1.576 \\\\\n",
       "\t AK     & West   & 20093  & 225820 & 163791 & 62029  & 27.5   & 1.486  & 1.494 \\\\\n",
       "\t AK     & West   & 20094  & 224994 & 161787 & 63207  & 28.1   & 1.481  & 1.524 \\\\\n",
       "\t AK     & West   & 20074  & 234590 & 155400 & 79190  & 33.8   & 1.544  & 1.885 \\\\\n",
       "\t AK     & West   & 20081  & 233714 & 157458 & 76256  & 32.6   & 1.538  & 1.817 \\\\\n",
       "\\end{tabular}\n"
      ],
      "text/markdown": [
       "\n",
       "State | region | Date | Home.Value | Structure.Cost | Land.Value | Land.Share..Pct. | Home.Price.Index | Land.Price.Index | \n",
       "|---|---|---|---|---|---|\n",
       "| AK     | West   | 20101  | 224952 | 160599 | 64352  | 28.6   | 1.481  | 1.552  | \n",
       "| AK     | West   | 20102  | 225511 | 160252 | 65259  | 28.9   | 1.484  | 1.576  | \n",
       "| AK     | West   | 20093  | 225820 | 163791 | 62029  | 27.5   | 1.486  | 1.494  | \n",
       "| AK     | West   | 20094  | 224994 | 161787 | 63207  | 28.1   | 1.481  | 1.524  | \n",
       "| AK     | West   | 20074  | 234590 | 155400 | 79190  | 33.8   | 1.544  | 1.885  | \n",
       "| AK     | West   | 20081  | 233714 | 157458 | 76256  | 32.6   | 1.538  | 1.817  | \n",
       "\n",
       "\n"
      ],
      "text/plain": [
       "  State region Date  Home.Value Structure.Cost Land.Value Land.Share..Pct.\n",
       "1 AK    West   20101 224952     160599         64352      28.6            \n",
       "2 AK    West   20102 225511     160252         65259      28.9            \n",
       "3 AK    West   20093 225820     163791         62029      27.5            \n",
       "4 AK    West   20094 224994     161787         63207      28.1            \n",
       "5 AK    West   20074 234590     155400         79190      33.8            \n",
       "6 AK    West   20081 233714     157458         76256      32.6            \n",
       "  Home.Price.Index Land.Price.Index\n",
       "1 1.481            1.552           \n",
       "2 1.484            1.576           \n",
       "3 1.486            1.494           \n",
       "4 1.481            1.524           \n",
       "5 1.544            1.885           \n",
       "6 1.538            1.817           "
      ]
     },
     "metadata": {},
     "output_type": "display_data"
    }
   ],
   "source": [
    "head(df)"
   ]
  },
  {
   "cell_type": "code",
   "execution_count": 5,
   "metadata": {
    "collapsed": false
   },
   "outputs": [
    {
     "data": {
      "text/html": [
       "<table>\n",
       "<thead><tr><th scope=col>State</th><th scope=col>region</th><th scope=col>Date</th><th scope=col>Home.Value</th><th scope=col>Structure.Cost</th><th scope=col>Land.Value</th><th scope=col>Land.Share..Pct.</th><th scope=col>Home.Price.Index</th><th scope=col>Land.Price.Index</th></tr></thead>\n",
       "<tbody>\n",
       "\t<tr><td>DC    </td><td>NA    </td><td>20092 </td><td>630361</td><td>148268</td><td>482092</td><td>76.5  </td><td>2.409 </td><td>2.802 </td></tr>\n",
       "\t<tr><td>DC    </td><td>NA    </td><td>20093 </td><td>632103</td><td>148074</td><td>484029</td><td>76.6  </td><td>2.415 </td><td>2.817 </td></tr>\n",
       "\t<tr><td>DC    </td><td>NA    </td><td>20114 </td><td>676463</td><td>165456</td><td>511007</td><td>75.5  </td><td>2.585 </td><td>3.025 </td></tr>\n",
       "\t<tr><td>DC    </td><td>NA    </td><td>20121 </td><td>690234</td><td>166701</td><td>523532</td><td>75.8  </td><td>2.637 </td><td>3.107 </td></tr>\n",
       "\t<tr><td>DC    </td><td>NA    </td><td>20122 </td><td>705645</td><td>167978</td><td>537666</td><td>76.2  </td><td>2.696 </td><td>3.198 </td></tr>\n",
       "\t<tr><td>DC    </td><td>NA    </td><td>20123 </td><td>722514</td><td>169289</td><td>553225</td><td>76.6  </td><td>2.761 </td><td>3.299 </td></tr>\n",
       "</tbody>\n",
       "</table>\n"
      ],
      "text/latex": [
       "\\begin{tabular}{r|lllllllll}\n",
       " State & region & Date & Home.Value & Structure.Cost & Land.Value & Land.Share..Pct. & Home.Price.Index & Land.Price.Index\\\\\n",
       "\\hline\n",
       "\t DC     & NA     & 20092  & 630361 & 148268 & 482092 & 76.5   & 2.409  & 2.802 \\\\\n",
       "\t DC     & NA     & 20093  & 632103 & 148074 & 484029 & 76.6   & 2.415  & 2.817 \\\\\n",
       "\t DC     & NA     & 20114  & 676463 & 165456 & 511007 & 75.5   & 2.585  & 3.025 \\\\\n",
       "\t DC     & NA     & 20121  & 690234 & 166701 & 523532 & 75.8   & 2.637  & 3.107 \\\\\n",
       "\t DC     & NA     & 20122  & 705645 & 167978 & 537666 & 76.2   & 2.696  & 3.198 \\\\\n",
       "\t DC     & NA     & 20123  & 722514 & 169289 & 553225 & 76.6   & 2.761  & 3.299 \\\\\n",
       "\\end{tabular}\n"
      ],
      "text/markdown": [
       "\n",
       "State | region | Date | Home.Value | Structure.Cost | Land.Value | Land.Share..Pct. | Home.Price.Index | Land.Price.Index | \n",
       "|---|---|---|---|---|---|\n",
       "| DC     | NA     | 20092  | 630361 | 148268 | 482092 | 76.5   | 2.409  | 2.802  | \n",
       "| DC     | NA     | 20093  | 632103 | 148074 | 484029 | 76.6   | 2.415  | 2.817  | \n",
       "| DC     | NA     | 20114  | 676463 | 165456 | 511007 | 75.5   | 2.585  | 3.025  | \n",
       "| DC     | NA     | 20121  | 690234 | 166701 | 523532 | 75.8   | 2.637  | 3.107  | \n",
       "| DC     | NA     | 20122  | 705645 | 167978 | 537666 | 76.2   | 2.696  | 3.198  | \n",
       "| DC     | NA     | 20123  | 722514 | 169289 | 553225 | 76.6   | 2.761  | 3.299  | \n",
       "\n",
       "\n"
      ],
      "text/plain": [
       "  State region Date  Home.Value Structure.Cost Land.Value Land.Share..Pct.\n",
       "1 DC    NA     20092 630361     148268         482092     76.5            \n",
       "2 DC    NA     20093 632103     148074         484029     76.6            \n",
       "3 DC    NA     20114 676463     165456         511007     75.5            \n",
       "4 DC    NA     20121 690234     166701         523532     75.8            \n",
       "5 DC    NA     20122 705645     167978         537666     76.2            \n",
       "6 DC    NA     20123 722514     169289         553225     76.6            \n",
       "  Home.Price.Index Land.Price.Index\n",
       "1 2.409            2.802           \n",
       "2 2.415            2.817           \n",
       "3 2.585            3.025           \n",
       "4 2.637            3.107           \n",
       "5 2.696            3.198           \n",
       "6 2.761            3.299           "
      ]
     },
     "metadata": {},
     "output_type": "display_data"
    }
   ],
   "source": [
    "tail(df)"
   ]
  },
  {
   "cell_type": "code",
   "execution_count": 6,
   "metadata": {
    "collapsed": false
   },
   "outputs": [
    {
     "name": "stdout",
     "output_type": "stream",
     "text": [
      "Classes 'data.table' and 'data.frame':\t7803 obs. of  9 variables:\n",
      " $ State           : chr  \"AK\" \"AK\" \"AK\" \"AK\" ...\n",
      " $ region          : chr  \"West\" \"West\" \"West\" \"West\" ...\n",
      " $ Date            : int  20101 20102 20093 20094 20074 20081 20082 20083 20084 20091 ...\n",
      " $ Home.Value      : int  224952 225511 225820 224994 234590 233714 232999 232164 231039 229395 ...\n",
      " $ Structure.Cost  : int  160599 160252 163791 161787 155400 157458 160092 162704 164739 165424 ...\n",
      " $ Land.Value      : int  64352 65259 62029 63207 79190 76256 72906 69460 66299 63971 ...\n",
      " $ Land.Share..Pct.: num  28.6 28.9 27.5 28.1 33.8 32.6 31.3 29.9 28.7 27.9 ...\n",
      " $ Home.Price.Index: num  1.48 1.48 1.49 1.48 1.54 ...\n",
      " $ Land.Price.Index: num  1.55 1.58 1.49 1.52 1.88 ...\n",
      " - attr(*, \".internal.selfref\")=<externalptr> \n"
     ]
    }
   ],
   "source": [
    "str(df)"
   ]
  },
  {
   "cell_type": "code",
   "execution_count": 7,
   "metadata": {
    "collapsed": false
   },
   "outputs": [
    {
     "data": {
      "text/plain": [
       "    State              region               Date         Home.Value    \n",
       " Length:7803        Length:7803        Min.   :19751   Min.   : 18763  \n",
       " Class :character   Class :character   1st Qu.:19843   1st Qu.: 62235  \n",
       " Mode  :character   Mode  :character   Median :19941   Median :108724  \n",
       "                                       Mean   :19939   Mean   :135313  \n",
       "                                       3rd Qu.:20033   3rd Qu.:172031  \n",
       "                                       Max.   :20131   Max.   :862885  \n",
       " Structure.Cost     Land.Value     Land.Share..Pct. Home.Price.Index\n",
       " Min.   : 17825   Min.   :   938   Min.   : 5.00    Min.   :0.1350  \n",
       " 1st Qu.: 53777   1st Qu.:  4178   1st Qu.: 5.00    1st Qu.:0.4550  \n",
       " Median : 88352   Median :  9478   Median :10.40    Median :0.7830  \n",
       " Mean   : 99534   Mean   : 35779   Mean   :18.17    Mean   :0.8695  \n",
       " 3rd Qu.:134871   3rd Qu.: 38631   3rd Qu.:26.30    3rd Qu.:1.2075  \n",
       " Max.   :325595   Max.   :594417   Max.   :81.70    Max.   :2.8930  \n",
       " Land.Price.Index \n",
       " Min.   : 0.0000  \n",
       " 1st Qu.: 0.0020  \n",
       " Median : 0.2520  \n",
       " Mean   : 0.9912  \n",
       " 3rd Qu.: 1.1510  \n",
       " Max.   :15.4340  "
      ]
     },
     "metadata": {},
     "output_type": "display_data"
    }
   ],
   "source": [
    "summary(df)"
   ]
  },
  {
   "cell_type": "markdown",
   "metadata": {},
   "source": [
    "### Using ggplot2\n",
    "\n",
    "Histograms are a great way of quickly exploring your data! We have a couple of options for quickly producing histograms off the columns of a data frame. We have:\n",
    "* hist()\n",
    "* qplot()\n",
    "* ggplot()\n",
    "They differ mainly in one main component, for each of these methods you usually trade-off ease of use for ability to customize.\n",
    "\n",
    "Note! In RStudio you'll need to call print(plot_name) to display your plots. Also the plots will look a lot better in RStudio than here in the notes.\n",
    "Let's show quick use cases of each:"
   ]
  },
  {
   "cell_type": "code",
   "execution_count": 8,
   "metadata": {
    "collapsed": false
   },
   "outputs": [
    {
     "data": {
      "image/png": "[encoded data removed]",
      "text/plain": [
       "Plot with title \"Histogram of df[[\"Home.Value\"]]\""
      ]
     },
     "metadata": {},
     "output_type": "display_data"
    }
   ],
   "source": [
    "# Pass a column straight into hist()\n",
    "hist(df[['Home.Value']])"
   ]
  },
  {
   "cell_type": "markdown",
   "metadata": {
    "collapsed": true
   },
   "source": [
    "#### Using qplot\n",
    "Notice the auto-adjustment of the color theme and the binwidth."
   ]
  },
  {
   "cell_type": "code",
   "execution_count": 9,
   "metadata": {
    "collapsed": false
   },
   "outputs": [
    {
     "name": "stderr",
     "output_type": "stream",
     "text": [
      "`stat_bin()` using `bins = 30`. Pick better value with `binwidth`.\n"
     ]
    },
    {
     "data": {},
     "metadata": {},
     "output_type": "display_data"
    },
    {
     "data": {
      "image/png": "[encoded data removed]",
      "text/plain": [
       "plot without title"
      ]
     },
     "metadata": {},
     "output_type": "display_data"
    }
   ],
   "source": [
    "qplot(df[['Home.Value']])"
   ]
  },
  {
   "cell_type": "code",
   "execution_count": 10,
   "metadata": {
    "collapsed": false
   },
   "outputs": [
    {
     "name": "stderr",
     "output_type": "stream",
     "text": [
      "`stat_bin()` using `bins = 30`. Pick better value with `binwidth`.\n"
     ]
    },
    {
     "data": {},
     "metadata": {},
     "output_type": "display_data"
    },
    {
     "data": {
      "image/png": "[encoded data removed]",
      "text/plain": [
       "plot without title"
      ]
     },
     "metadata": {},
     "output_type": "display_data"
    }
   ],
   "source": [
    "# Using ggplot, lots of ability to customize, but bit more complicated!\n",
    "ggplot(data = df,aes(df$Home.Value))+geom_histogram()"
   ]
  },
  {
   "cell_type": "markdown",
   "metadata": {},
   "source": [
    "#### Quick Example of Customization\n",
    "Let's explore qplot further! In the last example we just passed a single column and qplot automatically knew to do a histogram, from now on we're going to be a little more formal and pass in the entire data source and then specify what columns to grab and how to plot it:"
   ]
  },
  {
   "cell_type": "code",
   "execution_count": 11,
   "metadata": {
    "collapsed": false
   },
   "outputs": [
    {
     "name": "stderr",
     "output_type": "stream",
     "text": [
      "`stat_bin()` using `bins = 30`. Pick better value with `binwidth`.\n",
      "Warning message:\n",
      "\"Removed 94 rows containing non-finite values (stat_bin).\""
     ]
    },
    {
     "data": {},
     "metadata": {},
     "output_type": "display_data"
    },
    {
     "data": {
      "image/png": "[encoded data removed]",
      "text/plain": [
       "plot without title"
      ]
     },
     "metadata": {},
     "output_type": "display_data"
    }
   ],
   "source": [
    "# Customize the histogram further\n",
    "qplot(data=df,x=Home.Value,geom = 'histogram',xlim=c(0,500000), color='red')"
   ]
  },
  {
   "cell_type": "code",
   "execution_count": null,
   "metadata": {
    "collapsed": true
   },
   "outputs": [],
   "source": []
  }
 ],
 "metadata": {
  "kernelspec": {
   "display_name": "R",
   "language": "R",
   "name": "ir"
  },
  "language_info": {
   "codemirror_mode": "r",
   "file_extension": ".r",
   "mimetype": "text/x-r-source",
   "name": "R",
   "pygments_lexer": "r",
   "version": "3.3.2"
  }
 },
 "nbformat": 4,
 "nbformat_minor": 2
}
