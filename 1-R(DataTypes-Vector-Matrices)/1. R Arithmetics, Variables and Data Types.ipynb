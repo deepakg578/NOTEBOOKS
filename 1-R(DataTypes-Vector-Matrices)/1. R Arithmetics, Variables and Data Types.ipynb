{
 "cells": [
  {
   "cell_type": "markdown",
   "metadata": {},
   "source": [
    "## Contents\n",
    "\n",
    "* Arithmetic in R\n",
    "* Variables in R\n",
    "* Print in R\n",
    "* R Data types\n",
    "    * Numeric\n",
    "    * Boolean\n",
    "    * Character\n",
    "* Vectors\n",
    "    * Basics\n",
    "    * Operations\n",
    "    * Indexing and sclicing\n",
    "* Comparison Operator\n",
    "* R Matrices\n",
    "    * Creating Matrix\n",
    "    * Arithmetic\n",
    "    * Operations\n",
    "    * Selection and Indexing\n",
    "    * Factor and Categorical Metrics\n",
    "* R Data Frames\n",
    "    * Basics\n",
    "    * Indexing and Selection\n",
    "    * Operations\n",
    "* R Lists\n",
    "* R Input and Output\n",
    "    * CSV files\n",
    "    * Excel files\n",
    "    * SQL\n",
    "    "
   ]
  },
  {
   "cell_type": "code",
   "execution_count": 1,
   "metadata": {
    "collapsed": false
   },
   "outputs": [
    {
     "data": {
      "text/html": [
       "<dl>\n",
       "\t<dt>$platform</dt>\n",
       "\t\t<dd>'x86_64-w64-mingw32'</dd>\n",
       "\t<dt>$arch</dt>\n",
       "\t\t<dd>'x86_64'</dd>\n",
       "\t<dt>$os</dt>\n",
       "\t\t<dd>'mingw32'</dd>\n",
       "\t<dt>$system</dt>\n",
       "\t\t<dd>'x86_64, mingw32'</dd>\n",
       "\t<dt>$status</dt>\n",
       "\t\t<dd>''</dd>\n",
       "\t<dt>$major</dt>\n",
       "\t\t<dd>'3'</dd>\n",
       "\t<dt>$minor</dt>\n",
       "\t\t<dd>'3.2'</dd>\n",
       "\t<dt>$year</dt>\n",
       "\t\t<dd>'2016'</dd>\n",
       "\t<dt>$month</dt>\n",
       "\t\t<dd>'10'</dd>\n",
       "\t<dt>$day</dt>\n",
       "\t\t<dd>'31'</dd>\n",
       "\t<dt>$`svn rev`</dt>\n",
       "\t\t<dd>'71607'</dd>\n",
       "\t<dt>$language</dt>\n",
       "\t\t<dd>'R'</dd>\n",
       "\t<dt>$version.string</dt>\n",
       "\t\t<dd>'R version 3.3.2 (2016-10-31)'</dd>\n",
       "\t<dt>$nickname</dt>\n",
       "\t\t<dd>'Sincere Pumpkin Patch'</dd>\n",
       "</dl>\n"
      ],
      "text/latex": [
       "\\begin{description}\n",
       "\\item[\\$platform] 'x86\\_64-w64-mingw32'\n",
       "\\item[\\$arch] 'x86\\_64'\n",
       "\\item[\\$os] 'mingw32'\n",
       "\\item[\\$system] 'x86\\_64, mingw32'\n",
       "\\item[\\$status] ''\n",
       "\\item[\\$major] '3'\n",
       "\\item[\\$minor] '3.2'\n",
       "\\item[\\$year] '2016'\n",
       "\\item[\\$month] '10'\n",
       "\\item[\\$day] '31'\n",
       "\\item[\\$`svn rev`] '71607'\n",
       "\\item[\\$language] 'R'\n",
       "\\item[\\$version.string] 'R version 3.3.2 (2016-10-31)'\n",
       "\\item[\\$nickname] 'Sincere Pumpkin Patch'\n",
       "\\end{description}\n"
      ],
      "text/markdown": [
       "$platform\n",
       ":   'x86_64-w64-mingw32'\n",
       "$arch\n",
       ":   'x86_64'\n",
       "$os\n",
       ":   'mingw32'\n",
       "$system\n",
       ":   'x86_64, mingw32'\n",
       "$status\n",
       ":   ''\n",
       "$major\n",
       ":   '3'\n",
       "$minor\n",
       ":   '3.2'\n",
       "$year\n",
       ":   '2016'\n",
       "$month\n",
       ":   '10'\n",
       "$day\n",
       ":   '31'\n",
       "$`svn rev`\n",
       ":   '71607'\n",
       "$language\n",
       ":   'R'\n",
       "$version.string\n",
       ":   'R version 3.3.2 (2016-10-31)'\n",
       "$nickname\n",
       ":   'Sincere Pumpkin Patch'\n",
       "\n",
       "\n"
      ],
      "text/plain": [
       "$platform\n",
       "[1] \"x86_64-w64-mingw32\"\n",
       "\n",
       "$arch\n",
       "[1] \"x86_64\"\n",
       "\n",
       "$os\n",
       "[1] \"mingw32\"\n",
       "\n",
       "$system\n",
       "[1] \"x86_64, mingw32\"\n",
       "\n",
       "$status\n",
       "[1] \"\"\n",
       "\n",
       "$major\n",
       "[1] \"3\"\n",
       "\n",
       "$minor\n",
       "[1] \"3.2\"\n",
       "\n",
       "$year\n",
       "[1] \"2016\"\n",
       "\n",
       "$month\n",
       "[1] \"10\"\n",
       "\n",
       "$day\n",
       "[1] \"31\"\n",
       "\n",
       "$`svn rev`\n",
       "[1] \"71607\"\n",
       "\n",
       "$language\n",
       "[1] \"R\"\n",
       "\n",
       "$version.string\n",
       "[1] \"R version 3.3.2 (2016-10-31)\"\n",
       "\n",
       "$nickname\n",
       "[1] \"Sincere Pumpkin Patch\"\n"
      ]
     },
     "metadata": {},
     "output_type": "display_data"
    }
   ],
   "source": [
    "R.Version()"
   ]
  },
  {
   "cell_type": "markdown",
   "metadata": {},
   "source": [
    "## Arithmetic with R"
   ]
  },
  {
   "cell_type": "markdown",
   "metadata": {},
   "source": [
    "#### Addition"
   ]
  },
  {
   "cell_type": "code",
   "execution_count": 7,
   "metadata": {
    "collapsed": false
   },
   "outputs": [
    {
     "data": {
      "text/html": [
       "3"
      ],
      "text/latex": [
       "3"
      ],
      "text/markdown": [
       "3"
      ],
      "text/plain": [
       "[1] 3"
      ]
     },
     "metadata": {},
     "output_type": "display_data"
    }
   ],
   "source": [
    "1+2"
   ]
  },
  {
   "cell_type": "markdown",
   "metadata": {},
   "source": [
    "#### Substraction"
   ]
  },
  {
   "cell_type": "code",
   "execution_count": 8,
   "metadata": {
    "collapsed": false
   },
   "outputs": [
    {
     "data": {
      "text/html": [
       "2"
      ],
      "text/latex": [
       "2"
      ],
      "text/markdown": [
       "2"
      ],
      "text/plain": [
       "[1] 2"
      ]
     },
     "metadata": {},
     "output_type": "display_data"
    }
   ],
   "source": [
    "5-3"
   ]
  },
  {
   "cell_type": "markdown",
   "metadata": {},
   "source": [
    "#### Division"
   ]
  },
  {
   "cell_type": "code",
   "execution_count": 9,
   "metadata": {
    "collapsed": false
   },
   "outputs": [
    {
     "data": {
      "text/html": [
       "5"
      ],
      "text/latex": [
       "5"
      ],
      "text/markdown": [
       "5"
      ],
      "text/plain": [
       "[1] 5"
      ]
     },
     "metadata": {},
     "output_type": "display_data"
    }
   ],
   "source": [
    "10/2"
   ]
  },
  {
   "cell_type": "markdown",
   "metadata": {},
   "source": [
    "#### Exponents"
   ]
  },
  {
   "cell_type": "code",
   "execution_count": 10,
   "metadata": {
    "collapsed": false
   },
   "outputs": [
    {
     "data": {
      "text/html": [
       "8"
      ],
      "text/latex": [
       "8"
      ],
      "text/markdown": [
       "8"
      ],
      "text/plain": [
       "[1] 8"
      ]
     },
     "metadata": {},
     "output_type": "display_data"
    }
   ],
   "source": [
    "2^3"
   ]
  },
  {
   "cell_type": "markdown",
   "metadata": {},
   "source": [
    "#### Modulo"
   ]
  },
  {
   "cell_type": "code",
   "execution_count": 11,
   "metadata": {
    "collapsed": false
   },
   "outputs": [
    {
     "data": {
      "text/html": [
       "2"
      ],
      "text/latex": [
       "2"
      ],
      "text/markdown": [
       "2"
      ],
      "text/plain": [
       "[1] 2"
      ]
     },
     "metadata": {},
     "output_type": "display_data"
    }
   ],
   "source": [
    "5%%3"
   ]
  },
  {
   "cell_type": "markdown",
   "metadata": {},
   "source": [
    "#### Order of Operations"
   ]
  },
  {
   "cell_type": "code",
   "execution_count": 12,
   "metadata": {
    "collapsed": false
   },
   "outputs": [
    {
     "data": {
      "text/html": [
       "45"
      ],
      "text/latex": [
       "45"
      ],
      "text/markdown": [
       "45"
      ],
      "text/plain": [
       "[1] 45"
      ]
     },
     "metadata": {},
     "output_type": "display_data"
    }
   ],
   "source": [
    "(10 * 2) + (50 / 2)"
   ]
  },
  {
   "cell_type": "markdown",
   "metadata": {},
   "source": [
    "## Variables in R\n",
    "\n",
    "You can use the <- character to assign a variable, note how it kind of looks like an arrow pointing from the object to the variable name."
   ]
  },
  {
   "cell_type": "code",
   "execution_count": 1,
   "metadata": {
    "collapsed": true
   },
   "outputs": [],
   "source": [
    "# Use hashtags for comments\n",
    "variable.name <- 100"
   ]
  },
  {
   "cell_type": "code",
   "execution_count": 2,
   "metadata": {
    "collapsed": false
   },
   "outputs": [
    {
     "data": {
      "text/html": [
       "100"
      ],
      "text/latex": [
       "100"
      ],
      "text/markdown": [
       "100"
      ],
      "text/plain": [
       "[1] 100"
      ]
     },
     "metadata": {},
     "output_type": "display_data"
    }
   ],
   "source": [
    "# Let's see the variable!\n",
    "variable.name"
   ]
  },
  {
   "cell_type": "markdown",
   "metadata": {},
   "source": [
    "#### Working with variables\n",
    "We can use variables together and work with them, for example:"
   ]
  },
  {
   "cell_type": "code",
   "execution_count": 3,
   "metadata": {
    "collapsed": true
   },
   "outputs": [],
   "source": [
    "bank.account <- 100"
   ]
  },
  {
   "cell_type": "code",
   "execution_count": 4,
   "metadata": {
    "collapsed": true
   },
   "outputs": [],
   "source": [
    "deposit <- 10"
   ]
  },
  {
   "cell_type": "code",
   "execution_count": 5,
   "metadata": {
    "collapsed": true
   },
   "outputs": [],
   "source": [
    "bank.account <- bank.account + deposit"
   ]
  },
  {
   "cell_type": "code",
   "execution_count": 6,
   "metadata": {
    "collapsed": false
   },
   "outputs": [
    {
     "data": {
      "text/html": [
       "110"
      ],
      "text/latex": [
       "110"
      ],
      "text/markdown": [
       "110"
      ],
      "text/plain": [
       "[1] 110"
      ]
     },
     "metadata": {},
     "output_type": "display_data"
    }
   ],
   "source": [
    "bank.account"
   ]
  },
  {
   "cell_type": "markdown",
   "metadata": {},
   "source": [
    "## Print Formatting\n",
    "We can use the print() function to print out variables or strings:"
   ]
  },
  {
   "cell_type": "code",
   "execution_count": 28,
   "metadata": {
    "collapsed": false
   },
   "outputs": [
    {
     "name": "stdout",
     "output_type": "stream",
     "text": [
      "[1] \"hello\"\n"
     ]
    }
   ],
   "source": [
    "print(\"hello\")"
   ]
  },
  {
   "cell_type": "code",
   "execution_count": 29,
   "metadata": {
    "collapsed": false
   },
   "outputs": [
    {
     "name": "stdout",
     "output_type": "stream",
     "text": [
      "[1] 10\n"
     ]
    }
   ],
   "source": [
    "x <- 10\n",
    "print(x)"
   ]
  },
  {
   "cell_type": "code",
   "execution_count": 30,
   "metadata": {
    "collapsed": false
   },
   "outputs": [
    {
     "name": "stdout",
     "output_type": "stream",
     "text": [
      "                     mpg cyl  disp  hp drat    wt  qsec vs am gear carb\n",
      "Mazda RX4           21.0   6 160.0 110 3.90 2.620 16.46  0  1    4    4\n",
      "Mazda RX4 Wag       21.0   6 160.0 110 3.90 2.875 17.02  0  1    4    4\n",
      "Datsun 710          22.8   4 108.0  93 3.85 2.320 18.61  1  1    4    1\n",
      "Hornet 4 Drive      21.4   6 258.0 110 3.08 3.215 19.44  1  0    3    1\n",
      "Hornet Sportabout   18.7   8 360.0 175 3.15 3.440 17.02  0  0    3    2\n",
      "Valiant             18.1   6 225.0 105 2.76 3.460 20.22  1  0    3    1\n",
      "Duster 360          14.3   8 360.0 245 3.21 3.570 15.84  0  0    3    4\n",
      "Merc 240D           24.4   4 146.7  62 3.69 3.190 20.00  1  0    4    2\n",
      "Merc 230            22.8   4 140.8  95 3.92 3.150 22.90  1  0    4    2\n",
      "Merc 280            19.2   6 167.6 123 3.92 3.440 18.30  1  0    4    4\n",
      "Merc 280C           17.8   6 167.6 123 3.92 3.440 18.90  1  0    4    4\n",
      "Merc 450SE          16.4   8 275.8 180 3.07 4.070 17.40  0  0    3    3\n",
      "Merc 450SL          17.3   8 275.8 180 3.07 3.730 17.60  0  0    3    3\n",
      "Merc 450SLC         15.2   8 275.8 180 3.07 3.780 18.00  0  0    3    3\n",
      "Cadillac Fleetwood  10.4   8 472.0 205 2.93 5.250 17.98  0  0    3    4\n",
      "Lincoln Continental 10.4   8 460.0 215 3.00 5.424 17.82  0  0    3    4\n",
      "Chrysler Imperial   14.7   8 440.0 230 3.23 5.345 17.42  0  0    3    4\n",
      "Fiat 128            32.4   4  78.7  66 4.08 2.200 19.47  1  1    4    1\n",
      "Honda Civic         30.4   4  75.7  52 4.93 1.615 18.52  1  1    4    2\n",
      "Toyota Corolla      33.9   4  71.1  65 4.22 1.835 19.90  1  1    4    1\n",
      "Toyota Corona       21.5   4 120.1  97 3.70 2.465 20.01  1  0    3    1\n",
      "Dodge Challenger    15.5   8 318.0 150 2.76 3.520 16.87  0  0    3    2\n",
      "AMC Javelin         15.2   8 304.0 150 3.15 3.435 17.30  0  0    3    2\n",
      "Camaro Z28          13.3   8 350.0 245 3.73 3.840 15.41  0  0    3    4\n",
      "Pontiac Firebird    19.2   8 400.0 175 3.08 3.845 17.05  0  0    3    2\n",
      "Fiat X1-9           27.3   4  79.0  66 4.08 1.935 18.90  1  1    4    1\n",
      "Porsche 914-2       26.0   4 120.3  91 4.43 2.140 16.70  0  1    5    2\n",
      "Lotus Europa        30.4   4  95.1 113 3.77 1.513 16.90  1  1    5    2\n",
      "Ford Pantera L      15.8   8 351.0 264 4.22 3.170 14.50  0  1    5    4\n",
      "Ferrari Dino        19.7   6 145.0 175 3.62 2.770 15.50  0  1    5    6\n",
      "Maserati Bora       15.0   8 301.0 335 3.54 3.570 14.60  0  1    5    8\n",
      "Volvo 142E          21.4   4 121.0 109 4.11 2.780 18.60  1  1    4    2\n"
     ]
    }
   ],
   "source": [
    "x <- mtcars\n",
    "print(mtcars)"
   ]
  },
  {
   "cell_type": "markdown",
   "metadata": {},
   "source": [
    "### Formatting\n",
    "We can format strings and variables together for printing in a few different ways:\n",
    "\n",
    "** paste()**\n",
    "\n",
    "The paste() function looks like this:\n",
    "\n",
    "paste (..., sep = \" \")\n",
    "\n",
    "Where ... are the things you want to paste and sep is the separator you want between the pasted items, by default it is a space. For example:"
   ]
  },
  {
   "cell_type": "code",
   "execution_count": 31,
   "metadata": {
    "collapsed": false
   },
   "outputs": [
    {
     "name": "stdout",
     "output_type": "stream",
     "text": [
      "[1] \"hello world\"\n"
     ]
    }
   ],
   "source": [
    "print(paste('hello','world'))"
   ]
  },
  {
   "cell_type": "code",
   "execution_count": 32,
   "metadata": {
    "collapsed": false
   },
   "outputs": [
    {
     "name": "stdout",
     "output_type": "stream",
     "text": [
      "[1] \"hello-|-world\"\n"
     ]
    }
   ],
   "source": [
    "print(paste('hello','world',sep='-|-'))"
   ]
  },
  {
   "cell_type": "markdown",
   "metadata": {},
   "source": [
    "** paste0()**\n",
    "\n",
    "paste0(..., collapse) is equivalent to paste(..., sep = \"\", collapse), slightly more efficiently."
   ]
  },
  {
   "cell_type": "code",
   "execution_count": 33,
   "metadata": {
    "collapsed": false
   },
   "outputs": [
    {
     "data": {
      "text/html": [
       "'helloworld'"
      ],
      "text/latex": [
       "'helloworld'"
      ],
      "text/markdown": [
       "'helloworld'"
      ],
      "text/plain": [
       "[1] \"helloworld\""
      ]
     },
     "metadata": {},
     "output_type": "display_data"
    }
   ],
   "source": [
    "paste0('hello','world')"
   ]
  },
  {
   "cell_type": "markdown",
   "metadata": {},
   "source": [
    "##### sprintf\n",
    "srpintf() is a wrapper for the C function sprintf, that returns a character vector containing a formatted combination of text and variable values. Meaning you can use % codes to place in variables by specifying all of them at the end. This is best shown through example:"
   ]
  },
  {
   "cell_type": "code",
   "execution_count": 34,
   "metadata": {
    "collapsed": false
   },
   "outputs": [
    {
     "data": {
      "text/html": [
       "'Sven is 7.100000 feet tall\n",
       "'"
      ],
      "text/latex": [
       "'Sven is 7.100000 feet tall\n",
       "'"
      ],
      "text/markdown": [
       "'Sven is 7.100000 feet tall\n",
       "'"
      ],
      "text/plain": [
       "[1] \"Sven is 7.100000 feet tall\\n\""
      ]
     },
     "metadata": {},
     "output_type": "display_data"
    }
   ],
   "source": [
    "sprintf(\"%s is %f feet tall\\n\", \"Sven\", 7.1)"
   ]
  },
  {
   "cell_type": "code",
   "execution_count": 35,
   "metadata": {
    "collapsed": false
   },
   "outputs": [
    {
     "ename": "ERROR",
     "evalue": "Error in sprintf(\"%s is %i feet tall\\n\", \"Sven\", 7.1): invalid format '%i'; use format %f, %e, %g or %a for numeric objects\n",
     "output_type": "error",
     "traceback": [
      "Error in sprintf(\"%s is %i feet tall\\n\", \"Sven\", 7.1): invalid format '%i'; use format %f, %e, %g or %a for numeric objects\nTraceback:\n",
      "1. sprintf(\"%s is %i feet tall\\n\", \"Sven\", 7.1)"
     ]
    }
   ],
   "source": [
    "# THIS WILL PRODUCE AN ERROR BECAUSE 7.1 is a float, not an integer\n",
    "sprintf(\"%s is %i feet tall\\n\", \"Sven\", 7.1)"
   ]
  },
  {
   "cell_type": "code",
   "execution_count": 36,
   "metadata": {
    "collapsed": true
   },
   "outputs": [],
   "source": [
    "help(sprintf)"
   ]
  },
  {
   "cell_type": "markdown",
   "metadata": {},
   "source": [
    "## R Data Types\n",
    "\n",
    "#### Numerics\n",
    "Decimal (floating point values) are part of the numeric class in R"
   ]
  },
  {
   "cell_type": "code",
   "execution_count": 13,
   "metadata": {
    "collapsed": true
   },
   "outputs": [],
   "source": [
    "n <- 2.2"
   ]
  },
  {
   "cell_type": "markdown",
   "metadata": {},
   "source": [
    "#### Integers¶\n",
    "Natural (whole) numbers are known as integers and are also part of the numeric class"
   ]
  },
  {
   "cell_type": "code",
   "execution_count": 14,
   "metadata": {
    "collapsed": true
   },
   "outputs": [],
   "source": [
    "i <- 5"
   ]
  },
  {
   "cell_type": "markdown",
   "metadata": {},
   "source": [
    "#### Logical¶\n",
    "Boolean values (True and False) are part of the logical class. In R these are written in All Caps."
   ]
  },
  {
   "cell_type": "code",
   "execution_count": 15,
   "metadata": {
    "collapsed": true
   },
   "outputs": [],
   "source": [
    "t <- TRUE\n",
    "f <- FALSE"
   ]
  },
  {
   "cell_type": "code",
   "execution_count": 16,
   "metadata": {
    "collapsed": false
   },
   "outputs": [
    {
     "data": {
      "text/html": [
       "TRUE"
      ],
      "text/latex": [
       "TRUE"
      ],
      "text/markdown": [
       "TRUE"
      ],
      "text/plain": [
       "[1] TRUE"
      ]
     },
     "metadata": {},
     "output_type": "display_data"
    }
   ],
   "source": [
    "t"
   ]
  },
  {
   "cell_type": "code",
   "execution_count": 17,
   "metadata": {
    "collapsed": false
   },
   "outputs": [
    {
     "data": {
      "text/html": [
       "FALSE"
      ],
      "text/latex": [
       "FALSE"
      ],
      "text/markdown": [
       "FALSE"
      ],
      "text/plain": [
       "[1] FALSE"
      ]
     },
     "metadata": {},
     "output_type": "display_data"
    }
   ],
   "source": [
    "f"
   ]
  },
  {
   "cell_type": "markdown",
   "metadata": {},
   "source": [
    "#### Characters\n",
    "Text/string values are known as characters in R. You use quotation marks to create a text character string:"
   ]
  },
  {
   "cell_type": "code",
   "execution_count": 18,
   "metadata": {
    "collapsed": true
   },
   "outputs": [],
   "source": [
    "char <- \"Hello World!\""
   ]
  },
  {
   "cell_type": "code",
   "execution_count": 19,
   "metadata": {
    "collapsed": false
   },
   "outputs": [
    {
     "data": {
      "text/html": [
       "'Hello World!'"
      ],
      "text/latex": [
       "'Hello World!'"
      ],
      "text/markdown": [
       "'Hello World!'"
      ],
      "text/plain": [
       "[1] \"Hello World!\""
      ]
     },
     "metadata": {},
     "output_type": "display_data"
    }
   ],
   "source": [
    "char"
   ]
  },
  {
   "cell_type": "code",
   "execution_count": 20,
   "metadata": {
    "collapsed": true
   },
   "outputs": [],
   "source": [
    "# Also single quotes\n",
    "c <- 'Single Quote Char'"
   ]
  },
  {
   "cell_type": "code",
   "execution_count": 21,
   "metadata": {
    "collapsed": false
   },
   "outputs": [
    {
     "data": {
      "text/html": [
       "'Single Quote Char'"
      ],
      "text/latex": [
       "'Single Quote Char'"
      ],
      "text/markdown": [
       "'Single Quote Char'"
      ],
      "text/plain": [
       "[1] \"Single Quote Char\""
      ]
     },
     "metadata": {},
     "output_type": "display_data"
    }
   ],
   "source": [
    "c"
   ]
  },
  {
   "cell_type": "markdown",
   "metadata": {},
   "source": [
    "#### Checking Data Type Classes\n",
    "You can use the class() function to check the data type of a variable:"
   ]
  },
  {
   "cell_type": "code",
   "execution_count": 22,
   "metadata": {
    "collapsed": false
   },
   "outputs": [
    {
     "data": {
      "text/html": [
       "'logical'"
      ],
      "text/latex": [
       "'logical'"
      ],
      "text/markdown": [
       "'logical'"
      ],
      "text/plain": [
       "[1] \"logical\""
      ]
     },
     "metadata": {},
     "output_type": "display_data"
    }
   ],
   "source": [
    "class(t)"
   ]
  },
  {
   "cell_type": "code",
   "execution_count": 23,
   "metadata": {
    "collapsed": false
   },
   "outputs": [
    {
     "data": {
      "text/html": [
       "'logical'"
      ],
      "text/latex": [
       "'logical'"
      ],
      "text/markdown": [
       "'logical'"
      ],
      "text/plain": [
       "[1] \"logical\""
      ]
     },
     "metadata": {},
     "output_type": "display_data"
    }
   ],
   "source": [
    "class(f)"
   ]
  },
  {
   "cell_type": "code",
   "execution_count": 24,
   "metadata": {
    "collapsed": false
   },
   "outputs": [
    {
     "data": {
      "text/html": [
       "'character'"
      ],
      "text/latex": [
       "'character'"
      ],
      "text/markdown": [
       "'character'"
      ],
      "text/plain": [
       "[1] \"character\""
      ]
     },
     "metadata": {},
     "output_type": "display_data"
    }
   ],
   "source": [
    "class(char)"
   ]
  },
  {
   "cell_type": "code",
   "execution_count": 25,
   "metadata": {
    "collapsed": false
   },
   "outputs": [
    {
     "data": {
      "text/html": [
       "'character'"
      ],
      "text/latex": [
       "'character'"
      ],
      "text/markdown": [
       "'character'"
      ],
      "text/plain": [
       "[1] \"character\""
      ]
     },
     "metadata": {},
     "output_type": "display_data"
    }
   ],
   "source": [
    "class(c)"
   ]
  },
  {
   "cell_type": "code",
   "execution_count": 26,
   "metadata": {
    "collapsed": false
   },
   "outputs": [
    {
     "data": {
      "text/html": [
       "'numeric'"
      ],
      "text/latex": [
       "'numeric'"
      ],
      "text/markdown": [
       "'numeric'"
      ],
      "text/plain": [
       "[1] \"numeric\""
      ]
     },
     "metadata": {},
     "output_type": "display_data"
    }
   ],
   "source": [
    "class(n)"
   ]
  },
  {
   "cell_type": "code",
   "execution_count": 27,
   "metadata": {
    "collapsed": false
   },
   "outputs": [
    {
     "data": {
      "text/html": [
       "'numeric'"
      ],
      "text/latex": [
       "'numeric'"
      ],
      "text/markdown": [
       "'numeric'"
      ],
      "text/plain": [
       "[1] \"numeric\""
      ]
     },
     "metadata": {},
     "output_type": "display_data"
    }
   ],
   "source": [
    "class(i)"
   ]
  },
  {
   "cell_type": "markdown",
   "metadata": {},
   "source": []
  }
 ],
 "metadata": {
  "kernelspec": {
   "display_name": "R",
   "language": "R",
   "name": "ir"
  },
  "language_info": {
   "codemirror_mode": "r",
   "file_extension": ".r",
   "mimetype": "text/x-r-source",
   "name": "R",
   "pygments_lexer": "r",
   "version": "3.3.2"
  }
 },
 "nbformat": 4,
 "nbformat_minor": 2
}
