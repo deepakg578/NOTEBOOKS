{
 "cells": [
  {
   "cell_type": "code",
   "execution_count": 1,
   "metadata": {
    "collapsed": true
   },
   "outputs": [],
   "source": [
    "df <- read.table(\"RawData.txt\", sep='\\t',header=T)"
   ]
  },
  {
   "cell_type": "code",
   "execution_count": 2,
   "metadata": {},
   "outputs": [
    {
     "data": {
      "text/html": [
       "<table>\n",
       "<thead><tr><th scope=col>DesignElementAccession</th><th scope=col>r14</th><th scope=col>h45</th><th scope=col>c11</th><th scope=col>r11</th><th scope=col>c07</th><th scope=col>h42</th><th scope=col>r15</th><th scope=col>c01</th><th scope=col>h29</th><th scope=col>...</th><th scope=col>ol1</th><th scope=col>oh2</th><th scope=col>h39</th><th scope=col>ol2</th><th scope=col>h36</th><th scope=col>h32</th><th scope=col>ol4</th><th scope=col>h43</th><th scope=col>ok1</th><th scope=col>c13</th></tr></thead>\n",
       "<tbody>\n",
       "\t<tr><td>1053_at  </td><td>6.373977 </td><td>6.498170 </td><td>6.271771 </td><td>6.092041 </td><td>6.095927 </td><td>6.231528 </td><td>6.224557 </td><td>6.088380 </td><td>6.434522 </td><td>...      </td><td>7.112439 </td><td>5.318629 </td><td>6.215611 </td><td>6.180396 </td><td>6.159161 </td><td>6.112102 </td><td>6.359853 </td><td>6.010906 </td><td>5.487759 </td><td>6.132752 </td></tr>\n",
       "\t<tr><td>117_at   </td><td>5.986182 </td><td>4.861167 </td><td>5.566699 </td><td>5.590227 </td><td>5.442939 </td><td>4.813677 </td><td>5.846941 </td><td>5.287694 </td><td>5.105851 </td><td>...      </td><td>5.887796 </td><td>5.547567 </td><td>4.907229 </td><td>6.068774 </td><td>5.060538 </td><td>5.032473 </td><td>6.129550 </td><td>5.453822 </td><td>5.890119 </td><td>6.076962 </td></tr>\n",
       "\t<tr><td>121_at   </td><td>7.468118 </td><td>6.947996 </td><td>6.943583 </td><td>7.536698 </td><td>6.891398 </td><td>6.991917 </td><td>7.480361 </td><td>7.085893 </td><td>6.991272 </td><td>...      </td><td>8.600026 </td><td>7.929316 </td><td>6.976579 </td><td>8.518147 </td><td>6.906314 </td><td>6.933430 </td><td>8.460821 </td><td>6.820811 </td><td>9.621613 </td><td>7.078397 </td></tr>\n",
       "\t<tr><td>1255_g_at</td><td>4.495150 </td><td>4.485995 </td><td>3.671166 </td><td>3.934822 </td><td>3.731431 </td><td>4.725323 </td><td>4.197779 </td><td>3.690022 </td><td>3.901748 </td><td>...      </td><td>3.795719 </td><td>3.783556 </td><td>4.799098 </td><td>4.088304 </td><td>4.849719 </td><td>3.800073 </td><td>3.845422 </td><td>5.849745 </td><td>3.702792 </td><td>3.700239 </td></tr>\n",
       "\t<tr><td>1294_at  </td><td>6.474134 </td><td>5.935137 </td><td>6.053127 </td><td>6.626716 </td><td>6.047488 </td><td>5.764919 </td><td>6.456931 </td><td>5.997556 </td><td>6.298908 </td><td>...      </td><td>6.881747 </td><td>6.007709 </td><td>6.096295 </td><td>7.090866 </td><td>5.735626 </td><td>5.542066 </td><td>7.093881 </td><td>6.177195 </td><td>6.268033 </td><td>5.802780 </td></tr>\n",
       "\t<tr><td>1316_at  </td><td>6.566103 </td><td>5.881393 </td><td>6.637986 </td><td>6.457661 </td><td>6.404971 </td><td>6.320837 </td><td>6.401506 </td><td>6.728948 </td><td>6.265974 </td><td>...      </td><td>6.584197 </td><td>6.327250 </td><td>5.995072 </td><td>6.171435 </td><td>5.920712 </td><td>5.858981 </td><td>5.949051 </td><td>6.090151 </td><td>6.302667 </td><td>6.691495 </td></tr>\n",
       "</tbody>\n",
       "</table>\n"
      ],
      "text/latex": [
       "\\begin{tabular}{r|llllllllllllllllllllllllllllllll}\n",
       " DesignElementAccession & r14 & h45 & c11 & r11 & c07 & h42 & r15 & c01 & h29 & ... & ol1 & oh2 & h39 & ol2 & h36 & h32 & ol4 & h43 & ok1 & c13\\\\\n",
       "\\hline\n",
       "\t 1053\\_at   & 6.373977    & 6.498170    & 6.271771    & 6.092041    & 6.095927    & 6.231528    & 6.224557    & 6.088380    & 6.434522    & ...         & 7.112439    & 5.318629    & 6.215611    & 6.180396    & 6.159161    & 6.112102    & 6.359853    & 6.010906    & 5.487759    & 6.132752   \\\\\n",
       "\t 117\\_at    & 5.986182    & 4.861167    & 5.566699    & 5.590227    & 5.442939    & 4.813677    & 5.846941    & 5.287694    & 5.105851    & ...         & 5.887796    & 5.547567    & 4.907229    & 6.068774    & 5.060538    & 5.032473    & 6.129550    & 5.453822    & 5.890119    & 6.076962   \\\\\n",
       "\t 121\\_at    & 7.468118    & 6.947996    & 6.943583    & 7.536698    & 6.891398    & 6.991917    & 7.480361    & 7.085893    & 6.991272    & ...         & 8.600026    & 7.929316    & 6.976579    & 8.518147    & 6.906314    & 6.933430    & 8.460821    & 6.820811    & 9.621613    & 7.078397   \\\\\n",
       "\t 1255\\_g\\_at & 4.495150      & 4.485995      & 3.671166      & 3.934822      & 3.731431      & 4.725323      & 4.197779      & 3.690022      & 3.901748      & ...           & 3.795719      & 3.783556      & 4.799098      & 4.088304      & 4.849719      & 3.800073      & 3.845422      & 5.849745      & 3.702792      & 3.700239     \\\\\n",
       "\t 1294\\_at   & 6.474134    & 5.935137    & 6.053127    & 6.626716    & 6.047488    & 5.764919    & 6.456931    & 5.997556    & 6.298908    & ...         & 6.881747    & 6.007709    & 6.096295    & 7.090866    & 5.735626    & 5.542066    & 7.093881    & 6.177195    & 6.268033    & 5.802780   \\\\\n",
       "\t 1316\\_at   & 6.566103    & 5.881393    & 6.637986    & 6.457661    & 6.404971    & 6.320837    & 6.401506    & 6.728948    & 6.265974    & ...         & 6.584197    & 6.327250    & 5.995072    & 6.171435    & 5.920712    & 5.858981    & 5.949051    & 6.090151    & 6.302667    & 6.691495   \\\\\n",
       "\\end{tabular}\n"
      ],
      "text/markdown": [
       "\n",
       "DesignElementAccession | r14 | h45 | c11 | r11 | c07 | h42 | r15 | c01 | h29 | ... | ol1 | oh2 | h39 | ol2 | h36 | h32 | ol4 | h43 | ok1 | c13 | \n",
       "|---|---|---|---|---|---|\n",
       "| 1053_at   | 6.373977  | 6.498170  | 6.271771  | 6.092041  | 6.095927  | 6.231528  | 6.224557  | 6.088380  | 6.434522  | ...       | 7.112439  | 5.318629  | 6.215611  | 6.180396  | 6.159161  | 6.112102  | 6.359853  | 6.010906  | 5.487759  | 6.132752  | \n",
       "| 117_at    | 5.986182  | 4.861167  | 5.566699  | 5.590227  | 5.442939  | 4.813677  | 5.846941  | 5.287694  | 5.105851  | ...       | 5.887796  | 5.547567  | 4.907229  | 6.068774  | 5.060538  | 5.032473  | 6.129550  | 5.453822  | 5.890119  | 6.076962  | \n",
       "| 121_at    | 7.468118  | 6.947996  | 6.943583  | 7.536698  | 6.891398  | 6.991917  | 7.480361  | 7.085893  | 6.991272  | ...       | 8.600026  | 7.929316  | 6.976579  | 8.518147  | 6.906314  | 6.933430  | 8.460821  | 6.820811  | 9.621613  | 7.078397  | \n",
       "| 1255_g_at | 4.495150  | 4.485995  | 3.671166  | 3.934822  | 3.731431  | 4.725323  | 4.197779  | 3.690022  | 3.901748  | ...       | 3.795719  | 3.783556  | 4.799098  | 4.088304  | 4.849719  | 3.800073  | 3.845422  | 5.849745  | 3.702792  | 3.700239  | \n",
       "| 1294_at   | 6.474134  | 5.935137  | 6.053127  | 6.626716  | 6.047488  | 5.764919  | 6.456931  | 5.997556  | 6.298908  | ...       | 6.881747  | 6.007709  | 6.096295  | 7.090866  | 5.735626  | 5.542066  | 7.093881  | 6.177195  | 6.268033  | 5.802780  | \n",
       "| 1316_at   | 6.566103  | 5.881393  | 6.637986  | 6.457661  | 6.404971  | 6.320837  | 6.401506  | 6.728948  | 6.265974  | ...       | 6.584197  | 6.327250  | 5.995072  | 6.171435  | 5.920712  | 5.858981  | 5.949051  | 6.090151  | 6.302667  | 6.691495  | \n",
       "\n",
       "\n"
      ],
      "text/plain": [
       "  DesignElementAccession r14      h45      c11      r11      c07      h42     \n",
       "1 1053_at                6.373977 6.498170 6.271771 6.092041 6.095927 6.231528\n",
       "2 117_at                 5.986182 4.861167 5.566699 5.590227 5.442939 4.813677\n",
       "3 121_at                 7.468118 6.947996 6.943583 7.536698 6.891398 6.991917\n",
       "4 1255_g_at              4.495150 4.485995 3.671166 3.934822 3.731431 4.725323\n",
       "5 1294_at                6.474134 5.935137 6.053127 6.626716 6.047488 5.764919\n",
       "6 1316_at                6.566103 5.881393 6.637986 6.457661 6.404971 6.320837\n",
       "  r15      c01      h29      ... ol1      oh2      h39      ol2      h36     \n",
       "1 6.224557 6.088380 6.434522 ... 7.112439 5.318629 6.215611 6.180396 6.159161\n",
       "2 5.846941 5.287694 5.105851 ... 5.887796 5.547567 4.907229 6.068774 5.060538\n",
       "3 7.480361 7.085893 6.991272 ... 8.600026 7.929316 6.976579 8.518147 6.906314\n",
       "4 4.197779 3.690022 3.901748 ... 3.795719 3.783556 4.799098 4.088304 4.849719\n",
       "5 6.456931 5.997556 6.298908 ... 6.881747 6.007709 6.096295 7.090866 5.735626\n",
       "6 6.401506 6.728948 6.265974 ... 6.584197 6.327250 5.995072 6.171435 5.920712\n",
       "  h32      ol4      h43      ok1      c13     \n",
       "1 6.112102 6.359853 6.010906 5.487759 6.132752\n",
       "2 5.032473 6.129550 5.453822 5.890119 6.076962\n",
       "3 6.933430 8.460821 6.820811 9.621613 7.078397\n",
       "4 3.800073 3.845422 5.849745 3.702792 3.700239\n",
       "5 5.542066 7.093881 6.177195 6.268033 5.802780\n",
       "6 5.858981 5.949051 6.090151 6.302667 6.691495"
      ]
     },
     "metadata": {},
     "output_type": "display_data"
    }
   ],
   "source": [
    "head(df)"
   ]
  },
  {
   "cell_type": "code",
   "execution_count": 3,
   "metadata": {
    "collapsed": true
   },
   "outputs": [],
   "source": [
    "df <- df[,-c(1)]"
   ]
  },
  {
   "cell_type": "code",
   "execution_count": 4,
   "metadata": {},
   "outputs": [
    {
     "name": "stdout",
     "output_type": "stream",
     "text": [
      "'data.frame':\t54674 obs. of  31 variables:\n",
      " $ r14: num  6.37 5.99 7.47 4.5 6.47 ...\n",
      " $ h45: num  6.5 4.86 6.95 4.49 5.94 ...\n",
      " $ c11: num  6.27 5.57 6.94 3.67 6.05 ...\n",
      " $ r11: num  6.09 5.59 7.54 3.93 6.63 ...\n",
      " $ c07: num  6.1 5.44 6.89 3.73 6.05 ...\n",
      " $ h42: num  6.23 4.81 6.99 4.73 5.76 ...\n",
      " $ r15: num  6.22 5.85 7.48 4.2 6.46 ...\n",
      " $ c01: num  6.09 5.29 7.09 3.69 6 ...\n",
      " $ h29: num  6.43 5.11 6.99 3.9 6.3 ...\n",
      " $ h17: num  6.02 5.27 6.87 4.13 5.86 ...\n",
      " $ h62: num  6.22 5.12 6.83 5.2 5.8 ...\n",
      " $ c15: num  6.69 5.54 7.07 3.62 5.87 ...\n",
      " $ c14: num  6.23 5.83 7.13 3.45 6.05 ...\n",
      " $ ol5: num  6.67 5.98 8.56 3.76 7 ...\n",
      " $ h18: num  6.16 6.35 7.05 3.96 5.79 ...\n",
      " $ oh1: num  5.22 5.32 8.1 3.85 5.99 ...\n",
      " $ r06: num  6.54 5.68 7.34 4.31 6.45 ...\n",
      " $ ob1: num  5.21 5.68 8.17 3.92 5.91 ...\n",
      " $ ol3: num  6.69 6.06 8.52 3.81 7.24 ...\n",
      " $ r07: num  5.9 6.04 7.29 4.26 6.83 ...\n",
      " $ r08: num  5.93 5.83 7.49 4.02 6.55 ...\n",
      " $ ol1: num  7.11 5.89 8.6 3.8 6.88 ...\n",
      " $ oh2: num  5.32 5.55 7.93 3.78 6.01 ...\n",
      " $ h39: num  6.22 4.91 6.98 4.8 6.1 ...\n",
      " $ ol2: num  6.18 6.07 8.52 4.09 7.09 ...\n",
      " $ h36: num  6.16 5.06 6.91 4.85 5.74 ...\n",
      " $ h32: num  6.11 5.03 6.93 3.8 5.54 ...\n",
      " $ ol4: num  6.36 6.13 8.46 3.85 7.09 ...\n",
      " $ h43: num  6.01 5.45 6.82 5.85 6.18 ...\n",
      " $ ok1: num  5.49 5.89 9.62 3.7 6.27 ...\n",
      " $ c13: num  6.13 6.08 7.08 3.7 5.8 ...\n"
     ]
    }
   ],
   "source": [
    "str(df)"
   ]
  },
  {
   "cell_type": "code",
   "execution_count": 11,
   "metadata": {},
   "outputs": [],
   "source": [
    "library(data.table)\n",
    "\n",
    "\n",
    "# transpose\n",
    "  t_df <- transpose(df)\n",
    "\n",
    "# get row and colnames in order\n",
    "  colnames(t_df) <- rownames(df)\n",
    "  rownames(t_df) <- colnames(df)"
   ]
  },
  {
   "cell_type": "code",
   "execution_count": 12,
   "metadata": {
    "collapsed": true
   },
   "outputs": [],
   "source": [
    "df.dist = dist(t_df)"
   ]
  },
  {
   "cell_type": "code",
   "execution_count": 13,
   "metadata": {
    "collapsed": true
   },
   "outputs": [],
   "source": [
    "df.hclust = hclust(df.dist)"
   ]
  },
  {
   "cell_type": "code",
   "execution_count": 14,
   "metadata": {
    "collapsed": true
   },
   "outputs": [],
   "source": [
    "cnam <- colnames(df)"
   ]
  },
  {
   "cell_type": "code",
   "execution_count": 15,
   "metadata": {},
   "outputs": [
    {
     "data": {
      "image/png": "[encoded data removed]",
      "text/plain": [
       "Plot with title \"Default from hclust\""
      ]
     },
     "metadata": {},
     "output_type": "display_data"
    }
   ],
   "source": [
    "plot(df.hclust,main='Default from hclust')"
   ]
  },
  {
   "cell_type": "code",
   "execution_count": 15,
   "metadata": {
    "collapsed": true
   },
   "outputs": [],
   "source": [
    "cars<- mtcars"
   ]
  },
  {
   "cell_type": "code",
   "execution_count": 16,
   "metadata": {},
   "outputs": [
    {
     "data": {
      "text/html": [
       "<table>\n",
       "<thead><tr><th></th><th scope=col>mpg</th><th scope=col>cyl</th><th scope=col>disp</th><th scope=col>hp</th><th scope=col>drat</th><th scope=col>wt</th><th scope=col>qsec</th><th scope=col>vs</th><th scope=col>am</th><th scope=col>gear</th><th scope=col>carb</th></tr></thead>\n",
       "<tbody>\n",
       "\t<tr><th scope=row>Mazda RX4</th><td>21.0 </td><td>6    </td><td>160  </td><td>110  </td><td>3.90 </td><td>2.620</td><td>16.46</td><td>0    </td><td>1    </td><td>4    </td><td>4    </td></tr>\n",
       "\t<tr><th scope=row>Mazda RX4 Wag</th><td>21.0 </td><td>6    </td><td>160  </td><td>110  </td><td>3.90 </td><td>2.875</td><td>17.02</td><td>0    </td><td>1    </td><td>4    </td><td>4    </td></tr>\n",
       "\t<tr><th scope=row>Datsun 710</th><td>22.8 </td><td>4    </td><td>108  </td><td> 93  </td><td>3.85 </td><td>2.320</td><td>18.61</td><td>1    </td><td>1    </td><td>4    </td><td>1    </td></tr>\n",
       "\t<tr><th scope=row>Hornet 4 Drive</th><td>21.4 </td><td>6    </td><td>258  </td><td>110  </td><td>3.08 </td><td>3.215</td><td>19.44</td><td>1    </td><td>0    </td><td>3    </td><td>1    </td></tr>\n",
       "\t<tr><th scope=row>Hornet Sportabout</th><td>18.7 </td><td>8    </td><td>360  </td><td>175  </td><td>3.15 </td><td>3.440</td><td>17.02</td><td>0    </td><td>0    </td><td>3    </td><td>2    </td></tr>\n",
       "\t<tr><th scope=row>Valiant</th><td>18.1 </td><td>6    </td><td>225  </td><td>105  </td><td>2.76 </td><td>3.460</td><td>20.22</td><td>1    </td><td>0    </td><td>3    </td><td>1    </td></tr>\n",
       "</tbody>\n",
       "</table>\n"
      ],
      "text/latex": [
       "\\begin{tabular}{r|lllllllllll}\n",
       "  & mpg & cyl & disp & hp & drat & wt & qsec & vs & am & gear & carb\\\\\n",
       "\\hline\n",
       "\tMazda RX4 & 21.0  & 6     & 160   & 110   & 3.90  & 2.620 & 16.46 & 0     & 1     & 4     & 4    \\\\\n",
       "\tMazda RX4 Wag & 21.0  & 6     & 160   & 110   & 3.90  & 2.875 & 17.02 & 0     & 1     & 4     & 4    \\\\\n",
       "\tDatsun 710 & 22.8  & 4     & 108   &  93   & 3.85  & 2.320 & 18.61 & 1     & 1     & 4     & 1    \\\\\n",
       "\tHornet 4 Drive & 21.4  & 6     & 258   & 110   & 3.08  & 3.215 & 19.44 & 1     & 0     & 3     & 1    \\\\\n",
       "\tHornet Sportabout & 18.7  & 8     & 360   & 175   & 3.15  & 3.440 & 17.02 & 0     & 0     & 3     & 2    \\\\\n",
       "\tValiant & 18.1  & 6     & 225   & 105   & 2.76  & 3.460 & 20.22 & 1     & 0     & 3     & 1    \\\\\n",
       "\\end{tabular}\n"
      ],
      "text/markdown": [
       "\n",
       "| <!--/--> | mpg | cyl | disp | hp | drat | wt | qsec | vs | am | gear | carb | \n",
       "|---|---|---|---|---|---|\n",
       "| Mazda RX4 | 21.0  | 6     | 160   | 110   | 3.90  | 2.620 | 16.46 | 0     | 1     | 4     | 4     | \n",
       "| Mazda RX4 Wag | 21.0  | 6     | 160   | 110   | 3.90  | 2.875 | 17.02 | 0     | 1     | 4     | 4     | \n",
       "| Datsun 710 | 22.8  | 4     | 108   |  93   | 3.85  | 2.320 | 18.61 | 1     | 1     | 4     | 1     | \n",
       "| Hornet 4 Drive | 21.4  | 6     | 258   | 110   | 3.08  | 3.215 | 19.44 | 1     | 0     | 3     | 1     | \n",
       "| Hornet Sportabout | 18.7  | 8     | 360   | 175   | 3.15  | 3.440 | 17.02 | 0     | 0     | 3     | 2     | \n",
       "| Valiant | 18.1  | 6     | 225   | 105   | 2.76  | 3.460 | 20.22 | 1     | 0     | 3     | 1     | \n",
       "\n",
       "\n"
      ],
      "text/plain": [
       "                  mpg  cyl disp hp  drat wt    qsec  vs am gear carb\n",
       "Mazda RX4         21.0 6   160  110 3.90 2.620 16.46 0  1  4    4   \n",
       "Mazda RX4 Wag     21.0 6   160  110 3.90 2.875 17.02 0  1  4    4   \n",
       "Datsun 710        22.8 4   108   93 3.85 2.320 18.61 1  1  4    1   \n",
       "Hornet 4 Drive    21.4 6   258  110 3.08 3.215 19.44 1  0  3    1   \n",
       "Hornet Sportabout 18.7 8   360  175 3.15 3.440 17.02 0  0  3    2   \n",
       "Valiant           18.1 6   225  105 2.76 3.460 20.22 1  0  3    1   "
      ]
     },
     "metadata": {},
     "output_type": "display_data"
    }
   ],
   "source": [
    "head(cars)"
   ]
  },
  {
   "cell_type": "code",
   "execution_count": 17,
   "metadata": {
    "collapsed": true
   },
   "outputs": [],
   "source": [
    "df.dist = dist(cars)"
   ]
  },
  {
   "cell_type": "code",
   "execution_count": 18,
   "metadata": {
    "collapsed": true
   },
   "outputs": [],
   "source": [
    "df.hclust = hclust(df.dist)"
   ]
  },
  {
   "cell_type": "code",
   "execution_count": 19,
   "metadata": {},
   "outputs": [
    {
     "data": {
      "image/png": "[encoded data removed]",
      "text/plain": [
       "Plot with title \"Default from hclust\""
      ]
     },
     "metadata": {},
     "output_type": "display_data"
    }
   ],
   "source": [
    "plot(df.hclust,main='Default from hclust')"
   ]
  },
  {
   "cell_type": "code",
   "execution_count": null,
   "metadata": {
    "collapsed": true
   },
   "outputs": [],
   "source": []
  }
 ],
 "metadata": {
  "kernelspec": {
   "display_name": "R",
   "language": "R",
   "name": "ir"
  },
  "language_info": {
   "codemirror_mode": "r",
   "file_extension": ".r",
   "mimetype": "text/x-r-source",
   "name": "R",
   "pygments_lexer": "r",
   "version": "3.4.1"
  }
 },
 "nbformat": 4,
 "nbformat_minor": 2
}
