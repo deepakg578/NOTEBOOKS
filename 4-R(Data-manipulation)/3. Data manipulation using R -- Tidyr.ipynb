{
 "cells": [
  {
   "cell_type": "markdown",
   "metadata": {},
   "source": [
    "### tidyr \n",
    "\n",
    "is a complementary package that will help us create tidy data sets! \n",
    "\n",
    "So what do we mean when we say \"tidy data\"?\n",
    "\n",
    "Tidy data is when we have a data set where every row is an observation and every column is a variable, this way the data is organized in such a way where every cell is a value for a specific variable of a specific observation. \n",
    "\n",
    "Having your data in this format will help build an understanding of your data and allow you to analyze or visualize it quickly and efficiently."
   ]
  },
  {
   "cell_type": "code",
   "execution_count": null,
   "metadata": {
    "collapsed": true
   },
   "outputs": [],
   "source": [
    "install.packages('tidyr',repos = 'http://cran.us.r-project.org')"
   ]
  },
  {
   "cell_type": "code",
   "execution_count": 1,
   "metadata": {
    "collapsed": false
   },
   "outputs": [
    {
     "name": "stderr",
     "output_type": "stream",
     "text": [
      "Warning message:\n",
      "\"package 'tidyr' was built under R version 3.3.3\""
     ]
    }
   ],
   "source": [
    "library(tidyr)"
   ]
  },
  {
   "cell_type": "markdown",
   "metadata": {},
   "source": [
    "#### Using tidyr\n",
    "We'll cover some of the most useful functions in tidyr. Including the following:\n",
    "* gather()\n",
    "* spread()\n",
    "* separate()\n",
    "* unite()\n",
    "Which basically perform the following actions:\n",
    "![](tidyr.png)"
   ]
  },
  {
   "cell_type": "code",
   "execution_count": 2,
   "metadata": {
    "collapsed": true
   },
   "outputs": [],
   "source": [
    "comp <- c(1,1,1,2,2,2,3,3,3)\n",
    "yr <- c(1998,1999,2000,1998,1999,2000,1998,1999,2000)\n",
    "q1 <- runif(9, min=0, max=100)\n",
    "q2 <- runif(9, min=0, max=100)\n",
    "q3 <- runif(9, min=0, max=100)\n",
    "q4 <- runif(9, min=0, max=100)\n",
    "\n",
    "df <- data.frame(comp=comp,year=yr,Qtr1 = q1,Qtr2 = q2,Qtr3 = q3,Qtr4 = q4)"
   ]
  },
  {
   "cell_type": "code",
   "execution_count": 3,
   "metadata": {
    "collapsed": false
   },
   "outputs": [
    {
     "data": {
      "text/html": [
       "<table>\n",
       "<thead><tr><th scope=col>comp</th><th scope=col>year</th><th scope=col>Qtr1</th><th scope=col>Qtr2</th><th scope=col>Qtr3</th><th scope=col>Qtr4</th></tr></thead>\n",
       "<tbody>\n",
       "\t<tr><td>1        </td><td>1998     </td><td>90.411598</td><td>78.39619 </td><td>11.670574</td><td>35.327891</td></tr>\n",
       "\t<tr><td>1        </td><td>1999     </td><td>51.638577</td><td>26.21051 </td><td>81.938727</td><td>90.771895</td></tr>\n",
       "\t<tr><td>1        </td><td>2000     </td><td>32.563391</td><td>25.47253 </td><td>18.109562</td><td>14.077333</td></tr>\n",
       "\t<tr><td>2        </td><td>1998     </td><td> 1.369264</td><td>90.72584 </td><td>21.164542</td><td>56.351912</td></tr>\n",
       "\t<tr><td>2        </td><td>1999     </td><td>93.889504</td><td>42.56093 </td><td>38.072993</td><td>47.818591</td></tr>\n",
       "\t<tr><td>2        </td><td>2000     </td><td>39.035870</td><td>20.88066 </td><td>72.318015</td><td> 8.922451</td></tr>\n",
       "\t<tr><td>3        </td><td>1998     </td><td>98.432074</td><td>77.44286 </td><td>17.096590</td><td>16.491282</td></tr>\n",
       "\t<tr><td>3        </td><td>1999     </td><td>87.682781</td><td>37.49570 </td><td> 2.159055</td><td>80.141546</td></tr>\n",
       "\t<tr><td>3        </td><td>2000     </td><td>51.058822</td><td>68.94565 </td><td>18.174035</td><td>41.611849</td></tr>\n",
       "</tbody>\n",
       "</table>\n"
      ],
      "text/latex": [
       "\\begin{tabular}{r|llllll}\n",
       " comp & year & Qtr1 & Qtr2 & Qtr3 & Qtr4\\\\\n",
       "\\hline\n",
       "\t 1         & 1998      & 90.411598 & 78.39619  & 11.670574 & 35.327891\\\\\n",
       "\t 1         & 1999      & 51.638577 & 26.21051  & 81.938727 & 90.771895\\\\\n",
       "\t 1         & 2000      & 32.563391 & 25.47253  & 18.109562 & 14.077333\\\\\n",
       "\t 2         & 1998      &  1.369264 & 90.72584  & 21.164542 & 56.351912\\\\\n",
       "\t 2         & 1999      & 93.889504 & 42.56093  & 38.072993 & 47.818591\\\\\n",
       "\t 2         & 2000      & 39.035870 & 20.88066  & 72.318015 &  8.922451\\\\\n",
       "\t 3         & 1998      & 98.432074 & 77.44286  & 17.096590 & 16.491282\\\\\n",
       "\t 3         & 1999      & 87.682781 & 37.49570  &  2.159055 & 80.141546\\\\\n",
       "\t 3         & 2000      & 51.058822 & 68.94565  & 18.174035 & 41.611849\\\\\n",
       "\\end{tabular}\n"
      ],
      "text/markdown": [
       "\n",
       "comp | year | Qtr1 | Qtr2 | Qtr3 | Qtr4 | \n",
       "|---|---|---|---|---|---|---|---|---|\n",
       "| 1         | 1998      | 90.411598 | 78.39619  | 11.670574 | 35.327891 | \n",
       "| 1         | 1999      | 51.638577 | 26.21051  | 81.938727 | 90.771895 | \n",
       "| 1         | 2000      | 32.563391 | 25.47253  | 18.109562 | 14.077333 | \n",
       "| 2         | 1998      |  1.369264 | 90.72584  | 21.164542 | 56.351912 | \n",
       "| 2         | 1999      | 93.889504 | 42.56093  | 38.072993 | 47.818591 | \n",
       "| 2         | 2000      | 39.035870 | 20.88066  | 72.318015 |  8.922451 | \n",
       "| 3         | 1998      | 98.432074 | 77.44286  | 17.096590 | 16.491282 | \n",
       "| 3         | 1999      | 87.682781 | 37.49570  |  2.159055 | 80.141546 | \n",
       "| 3         | 2000      | 51.058822 | 68.94565  | 18.174035 | 41.611849 | \n",
       "\n",
       "\n"
      ],
      "text/plain": [
       "  comp year Qtr1      Qtr2     Qtr3      Qtr4     \n",
       "1 1    1998 90.411598 78.39619 11.670574 35.327891\n",
       "2 1    1999 51.638577 26.21051 81.938727 90.771895\n",
       "3 1    2000 32.563391 25.47253 18.109562 14.077333\n",
       "4 2    1998  1.369264 90.72584 21.164542 56.351912\n",
       "5 2    1999 93.889504 42.56093 38.072993 47.818591\n",
       "6 2    2000 39.035870 20.88066 72.318015  8.922451\n",
       "7 3    1998 98.432074 77.44286 17.096590 16.491282\n",
       "8 3    1999 87.682781 37.49570  2.159055 80.141546\n",
       "9 3    2000 51.058822 68.94565 18.174035 41.611849"
      ]
     },
     "metadata": {},
     "output_type": "display_data"
    }
   ],
   "source": [
    "df"
   ]
  },
  {
   "cell_type": "markdown",
   "metadata": {},
   "source": [
    "#### gather()\n",
    "The gather() function will collapse multiple columns into key-pair values. The data frame above is considered wide since the time variable (represented as quarters) is structured such that each quarter represents a variable. To re-structure the time component as an individual variable, we can gather each quarter within one column variable and also gather the values associated with each quarter in a second column variable."
   ]
  },
  {
   "cell_type": "code",
   "execution_count": 4,
   "metadata": {
    "collapsed": false
   },
   "outputs": [
    {
     "data": {
      "text/html": [
       "<table>\n",
       "<thead><tr><th scope=col>comp</th><th scope=col>year</th><th scope=col>Quarter</th><th scope=col>Revenue</th></tr></thead>\n",
       "<tbody>\n",
       "\t<tr><td>1        </td><td>1998     </td><td>Qtr1     </td><td>90.411598</td></tr>\n",
       "\t<tr><td>1        </td><td>1999     </td><td>Qtr1     </td><td>51.638577</td></tr>\n",
       "\t<tr><td>1        </td><td>2000     </td><td>Qtr1     </td><td>32.563391</td></tr>\n",
       "\t<tr><td>2        </td><td>1998     </td><td>Qtr1     </td><td> 1.369264</td></tr>\n",
       "\t<tr><td>2        </td><td>1999     </td><td>Qtr1     </td><td>93.889504</td></tr>\n",
       "\t<tr><td>2        </td><td>2000     </td><td>Qtr1     </td><td>39.035870</td></tr>\n",
       "</tbody>\n",
       "</table>\n"
      ],
      "text/latex": [
       "\\begin{tabular}{r|llll}\n",
       " comp & year & Quarter & Revenue\\\\\n",
       "\\hline\n",
       "\t 1         & 1998      & Qtr1      & 90.411598\\\\\n",
       "\t 1         & 1999      & Qtr1      & 51.638577\\\\\n",
       "\t 1         & 2000      & Qtr1      & 32.563391\\\\\n",
       "\t 2         & 1998      & Qtr1      &  1.369264\\\\\n",
       "\t 2         & 1999      & Qtr1      & 93.889504\\\\\n",
       "\t 2         & 2000      & Qtr1      & 39.035870\\\\\n",
       "\\end{tabular}\n"
      ],
      "text/markdown": [
       "\n",
       "comp | year | Quarter | Revenue | \n",
       "|---|---|---|---|---|---|\n",
       "| 1         | 1998      | Qtr1      | 90.411598 | \n",
       "| 1         | 1999      | Qtr1      | 51.638577 | \n",
       "| 1         | 2000      | Qtr1      | 32.563391 | \n",
       "| 2         | 1998      | Qtr1      |  1.369264 | \n",
       "| 2         | 1999      | Qtr1      | 93.889504 | \n",
       "| 2         | 2000      | Qtr1      | 39.035870 | \n",
       "\n",
       "\n"
      ],
      "text/plain": [
       "  comp year Quarter Revenue  \n",
       "1 1    1998 Qtr1    90.411598\n",
       "2 1    1999 Qtr1    51.638577\n",
       "3 1    2000 Qtr1    32.563391\n",
       "4 2    1998 Qtr1     1.369264\n",
       "5 2    1999 Qtr1    93.889504\n",
       "6 2    2000 Qtr1    39.035870"
      ]
     },
     "metadata": {},
     "output_type": "display_data"
    }
   ],
   "source": [
    "# Using Pipe Operator\n",
    "head(df %>% gather(Quarter,Revenue,Qtr1:Qtr4))"
   ]
  },
  {
   "cell_type": "code",
   "execution_count": 5,
   "metadata": {
    "collapsed": false
   },
   "outputs": [
    {
     "data": {
      "text/html": [
       "<table>\n",
       "<thead><tr><th scope=col>comp</th><th scope=col>year</th><th scope=col>Quarter</th><th scope=col>Revenue</th></tr></thead>\n",
       "<tbody>\n",
       "\t<tr><td>1        </td><td>1998     </td><td>Qtr1     </td><td>90.411598</td></tr>\n",
       "\t<tr><td>1        </td><td>1999     </td><td>Qtr1     </td><td>51.638577</td></tr>\n",
       "\t<tr><td>1        </td><td>2000     </td><td>Qtr1     </td><td>32.563391</td></tr>\n",
       "\t<tr><td>2        </td><td>1998     </td><td>Qtr1     </td><td> 1.369264</td></tr>\n",
       "\t<tr><td>2        </td><td>1999     </td><td>Qtr1     </td><td>93.889504</td></tr>\n",
       "\t<tr><td>2        </td><td>2000     </td><td>Qtr1     </td><td>39.035870</td></tr>\n",
       "</tbody>\n",
       "</table>\n"
      ],
      "text/latex": [
       "\\begin{tabular}{r|llll}\n",
       " comp & year & Quarter & Revenue\\\\\n",
       "\\hline\n",
       "\t 1         & 1998      & Qtr1      & 90.411598\\\\\n",
       "\t 1         & 1999      & Qtr1      & 51.638577\\\\\n",
       "\t 1         & 2000      & Qtr1      & 32.563391\\\\\n",
       "\t 2         & 1998      & Qtr1      &  1.369264\\\\\n",
       "\t 2         & 1999      & Qtr1      & 93.889504\\\\\n",
       "\t 2         & 2000      & Qtr1      & 39.035870\\\\\n",
       "\\end{tabular}\n"
      ],
      "text/markdown": [
       "\n",
       "comp | year | Quarter | Revenue | \n",
       "|---|---|---|---|---|---|\n",
       "| 1         | 1998      | Qtr1      | 90.411598 | \n",
       "| 1         | 1999      | Qtr1      | 51.638577 | \n",
       "| 1         | 2000      | Qtr1      | 32.563391 | \n",
       "| 2         | 1998      | Qtr1      |  1.369264 | \n",
       "| 2         | 1999      | Qtr1      | 93.889504 | \n",
       "| 2         | 2000      | Qtr1      | 39.035870 | \n",
       "\n",
       "\n"
      ],
      "text/plain": [
       "  comp year Quarter Revenue  \n",
       "1 1    1998 Qtr1    90.411598\n",
       "2 1    1999 Qtr1    51.638577\n",
       "3 1    2000 Qtr1    32.563391\n",
       "4 2    1998 Qtr1     1.369264\n",
       "5 2    1999 Qtr1    93.889504\n",
       "6 2    2000 Qtr1    39.035870"
      ]
     },
     "metadata": {},
     "output_type": "display_data"
    }
   ],
   "source": [
    "# With just the function\n",
    "head(gather(df,Quarter,Revenue,Qtr1:Qtr4))"
   ]
  },
  {
   "cell_type": "markdown",
   "metadata": {},
   "source": [
    "#### spread()\n",
    "This is the complement of gather(), which is why its called spread():"
   ]
  },
  {
   "cell_type": "code",
   "execution_count": 6,
   "metadata": {
    "collapsed": false
   },
   "outputs": [
    {
     "data": {
      "text/html": [
       "<table>\n",
       "<thead><tr><th scope=col>time</th><th scope=col>X</th><th scope=col>Y</th><th scope=col>Z</th></tr></thead>\n",
       "<tbody>\n",
       "\t<tr><td>2009-01-01 </td><td>-0.67617504</td><td> 0.5373382 </td><td> 1.2713331 </td></tr>\n",
       "\t<tr><td>2009-01-02 </td><td>-0.73874289</td><td> 0.4867887 </td><td> 4.0688372 </td></tr>\n",
       "\t<tr><td>2009-01-03 </td><td>-0.14114617</td><td>-0.3510557 </td><td>-0.3192114 </td></tr>\n",
       "\t<tr><td>2009-01-04 </td><td>-0.28869712</td><td> 2.4373541 </td><td> 8.6399955 </td></tr>\n",
       "\t<tr><td>2009-01-05 </td><td>-0.07698958</td><td> 1.2369380 </td><td>-1.0573427 </td></tr>\n",
       "\t<tr><td>2009-01-06 </td><td> 0.36590506</td><td> 1.9921965 </td><td>-0.6378107 </td></tr>\n",
       "\t<tr><td>2009-01-07 </td><td> 2.38829606</td><td> 2.5406383 </td><td> 2.4057947 </td></tr>\n",
       "\t<tr><td>2009-01-08 </td><td> 2.40330976</td><td> 0.6556786 </td><td> 1.1706668 </td></tr>\n",
       "\t<tr><td>2009-01-09 </td><td>-0.72113029</td><td> 3.1957786 </td><td>-0.4922158 </td></tr>\n",
       "\t<tr><td>2009-01-10 </td><td>-0.32945186</td><td> 1.7061675 </td><td> 4.2872891 </td></tr>\n",
       "</tbody>\n",
       "</table>\n"
      ],
      "text/latex": [
       "\\begin{tabular}{r|llll}\n",
       " time & X & Y & Z\\\\\n",
       "\\hline\n",
       "\t 2009-01-01  & -0.67617504 &  0.5373382  &  1.2713331 \\\\\n",
       "\t 2009-01-02  & -0.73874289 &  0.4867887  &  4.0688372 \\\\\n",
       "\t 2009-01-03  & -0.14114617 & -0.3510557  & -0.3192114 \\\\\n",
       "\t 2009-01-04  & -0.28869712 &  2.4373541  &  8.6399955 \\\\\n",
       "\t 2009-01-05  & -0.07698958 &  1.2369380  & -1.0573427 \\\\\n",
       "\t 2009-01-06  &  0.36590506 &  1.9921965  & -0.6378107 \\\\\n",
       "\t 2009-01-07  &  2.38829606 &  2.5406383  &  2.4057947 \\\\\n",
       "\t 2009-01-08  &  2.40330976 &  0.6556786  &  1.1706668 \\\\\n",
       "\t 2009-01-09  & -0.72113029 &  3.1957786  & -0.4922158 \\\\\n",
       "\t 2009-01-10  & -0.32945186 &  1.7061675  &  4.2872891 \\\\\n",
       "\\end{tabular}\n"
      ],
      "text/markdown": [
       "\n",
       "time | X | Y | Z | \n",
       "|---|---|---|---|---|---|---|---|---|---|\n",
       "| 2009-01-01  | -0.67617504 |  0.5373382  |  1.2713331  | \n",
       "| 2009-01-02  | -0.73874289 |  0.4867887  |  4.0688372  | \n",
       "| 2009-01-03  | -0.14114617 | -0.3510557  | -0.3192114  | \n",
       "| 2009-01-04  | -0.28869712 |  2.4373541  |  8.6399955  | \n",
       "| 2009-01-05  | -0.07698958 |  1.2369380  | -1.0573427  | \n",
       "| 2009-01-06  |  0.36590506 |  1.9921965  | -0.6378107  | \n",
       "| 2009-01-07  |  2.38829606 |  2.5406383  |  2.4057947  | \n",
       "| 2009-01-08  |  2.40330976 |  0.6556786  |  1.1706668  | \n",
       "| 2009-01-09  | -0.72113029 |  3.1957786  | -0.4922158  | \n",
       "| 2009-01-10  | -0.32945186 |  1.7061675  |  4.2872891  | \n",
       "\n",
       "\n"
      ],
      "text/plain": [
       "   time       X           Y          Z         \n",
       "1  2009-01-01 -0.67617504  0.5373382  1.2713331\n",
       "2  2009-01-02 -0.73874289  0.4867887  4.0688372\n",
       "3  2009-01-03 -0.14114617 -0.3510557 -0.3192114\n",
       "4  2009-01-04 -0.28869712  2.4373541  8.6399955\n",
       "5  2009-01-05 -0.07698958  1.2369380 -1.0573427\n",
       "6  2009-01-06  0.36590506  1.9921965 -0.6378107\n",
       "7  2009-01-07  2.38829606  2.5406383  2.4057947\n",
       "8  2009-01-08  2.40330976  0.6556786  1.1706668\n",
       "9  2009-01-09 -0.72113029  3.1957786 -0.4922158\n",
       "10 2009-01-10 -0.32945186  1.7061675  4.2872891"
      ]
     },
     "metadata": {},
     "output_type": "display_data"
    }
   ],
   "source": [
    "stocks <- data.frame(\n",
    "  time = as.Date('2009-01-01') + 0:9,\n",
    "  X = rnorm(10, 0, 1),\n",
    "  Y = rnorm(10, 0, 2),\n",
    "  Z = rnorm(10, 0, 4)\n",
    ")\n",
    "stocks"
   ]
  },
  {
   "cell_type": "code",
   "execution_count": 10,
   "metadata": {
    "collapsed": false
   },
   "outputs": [
    {
     "data": {
      "text/html": [
       "<table>\n",
       "<thead><tr><th scope=col>time</th><th scope=col>stock</th><th scope=col>price</th></tr></thead>\n",
       "<tbody>\n",
       "\t<tr><td>2009-01-01 </td><td>X          </td><td>-0.67617504</td></tr>\n",
       "\t<tr><td>2009-01-02 </td><td>X          </td><td>-0.73874289</td></tr>\n",
       "\t<tr><td>2009-01-03 </td><td>X          </td><td>-0.14114617</td></tr>\n",
       "\t<tr><td>2009-01-04 </td><td>X          </td><td>-0.28869712</td></tr>\n",
       "\t<tr><td>2009-01-05 </td><td>X          </td><td>-0.07698958</td></tr>\n",
       "\t<tr><td>2009-01-06 </td><td>X          </td><td> 0.36590506</td></tr>\n",
       "\t<tr><td>2009-01-07 </td><td>X          </td><td> 2.38829606</td></tr>\n",
       "\t<tr><td>2009-01-08 </td><td>X          </td><td> 2.40330976</td></tr>\n",
       "\t<tr><td>2009-01-09 </td><td>X          </td><td>-0.72113029</td></tr>\n",
       "\t<tr><td>2009-01-10 </td><td>X          </td><td>-0.32945186</td></tr>\n",
       "\t<tr><td>2009-01-01 </td><td>Y          </td><td> 0.53733815</td></tr>\n",
       "\t<tr><td>2009-01-02 </td><td>Y          </td><td> 0.48678866</td></tr>\n",
       "\t<tr><td>2009-01-03 </td><td>Y          </td><td>-0.35105570</td></tr>\n",
       "\t<tr><td>2009-01-04 </td><td>Y          </td><td> 2.43735406</td></tr>\n",
       "\t<tr><td>2009-01-05 </td><td>Y          </td><td> 1.23693797</td></tr>\n",
       "\t<tr><td>2009-01-06 </td><td>Y          </td><td> 1.99219648</td></tr>\n",
       "\t<tr><td>2009-01-07 </td><td>Y          </td><td> 2.54063832</td></tr>\n",
       "\t<tr><td>2009-01-08 </td><td>Y          </td><td> 0.65567861</td></tr>\n",
       "\t<tr><td>2009-01-09 </td><td>Y          </td><td> 3.19577860</td></tr>\n",
       "\t<tr><td>2009-01-10 </td><td>Y          </td><td> 1.70616751</td></tr>\n",
       "\t<tr><td>2009-01-01 </td><td>Z          </td><td> 1.27133311</td></tr>\n",
       "\t<tr><td>2009-01-02 </td><td>Z          </td><td> 4.06883718</td></tr>\n",
       "\t<tr><td>2009-01-03 </td><td>Z          </td><td>-0.31921141</td></tr>\n",
       "\t<tr><td>2009-01-04 </td><td>Z          </td><td> 8.63999552</td></tr>\n",
       "\t<tr><td>2009-01-05 </td><td>Z          </td><td>-1.05734265</td></tr>\n",
       "\t<tr><td>2009-01-06 </td><td>Z          </td><td>-0.63781069</td></tr>\n",
       "\t<tr><td>2009-01-07 </td><td>Z          </td><td> 2.40579473</td></tr>\n",
       "\t<tr><td>2009-01-08 </td><td>Z          </td><td> 1.17066678</td></tr>\n",
       "\t<tr><td>2009-01-09 </td><td>Z          </td><td>-0.49221580</td></tr>\n",
       "\t<tr><td>2009-01-10 </td><td>Z          </td><td> 4.28728910</td></tr>\n",
       "</tbody>\n",
       "</table>\n"
      ],
      "text/latex": [
       "\\begin{tabular}{r|lll}\n",
       " time & stock & price\\\\\n",
       "\\hline\n",
       "\t 2009-01-01  & X           & -0.67617504\\\\\n",
       "\t 2009-01-02  & X           & -0.73874289\\\\\n",
       "\t 2009-01-03  & X           & -0.14114617\\\\\n",
       "\t 2009-01-04  & X           & -0.28869712\\\\\n",
       "\t 2009-01-05  & X           & -0.07698958\\\\\n",
       "\t 2009-01-06  & X           &  0.36590506\\\\\n",
       "\t 2009-01-07  & X           &  2.38829606\\\\\n",
       "\t 2009-01-08  & X           &  2.40330976\\\\\n",
       "\t 2009-01-09  & X           & -0.72113029\\\\\n",
       "\t 2009-01-10  & X           & -0.32945186\\\\\n",
       "\t 2009-01-01  & Y           &  0.53733815\\\\\n",
       "\t 2009-01-02  & Y           &  0.48678866\\\\\n",
       "\t 2009-01-03  & Y           & -0.35105570\\\\\n",
       "\t 2009-01-04  & Y           &  2.43735406\\\\\n",
       "\t 2009-01-05  & Y           &  1.23693797\\\\\n",
       "\t 2009-01-06  & Y           &  1.99219648\\\\\n",
       "\t 2009-01-07  & Y           &  2.54063832\\\\\n",
       "\t 2009-01-08  & Y           &  0.65567861\\\\\n",
       "\t 2009-01-09  & Y           &  3.19577860\\\\\n",
       "\t 2009-01-10  & Y           &  1.70616751\\\\\n",
       "\t 2009-01-01  & Z           &  1.27133311\\\\\n",
       "\t 2009-01-02  & Z           &  4.06883718\\\\\n",
       "\t 2009-01-03  & Z           & -0.31921141\\\\\n",
       "\t 2009-01-04  & Z           &  8.63999552\\\\\n",
       "\t 2009-01-05  & Z           & -1.05734265\\\\\n",
       "\t 2009-01-06  & Z           & -0.63781069\\\\\n",
       "\t 2009-01-07  & Z           &  2.40579473\\\\\n",
       "\t 2009-01-08  & Z           &  1.17066678\\\\\n",
       "\t 2009-01-09  & Z           & -0.49221580\\\\\n",
       "\t 2009-01-10  & Z           &  4.28728910\\\\\n",
       "\\end{tabular}\n"
      ],
      "text/markdown": [
       "\n",
       "time | stock | price | \n",
       "|---|---|---|---|---|---|---|---|---|---|---|---|---|---|---|---|---|---|---|---|---|---|---|---|---|---|---|---|---|---|\n",
       "| 2009-01-01  | X           | -0.67617504 | \n",
       "| 2009-01-02  | X           | -0.73874289 | \n",
       "| 2009-01-03  | X           | -0.14114617 | \n",
       "| 2009-01-04  | X           | -0.28869712 | \n",
       "| 2009-01-05  | X           | -0.07698958 | \n",
       "| 2009-01-06  | X           |  0.36590506 | \n",
       "| 2009-01-07  | X           |  2.38829606 | \n",
       "| 2009-01-08  | X           |  2.40330976 | \n",
       "| 2009-01-09  | X           | -0.72113029 | \n",
       "| 2009-01-10  | X           | -0.32945186 | \n",
       "| 2009-01-01  | Y           |  0.53733815 | \n",
       "| 2009-01-02  | Y           |  0.48678866 | \n",
       "| 2009-01-03  | Y           | -0.35105570 | \n",
       "| 2009-01-04  | Y           |  2.43735406 | \n",
       "| 2009-01-05  | Y           |  1.23693797 | \n",
       "| 2009-01-06  | Y           |  1.99219648 | \n",
       "| 2009-01-07  | Y           |  2.54063832 | \n",
       "| 2009-01-08  | Y           |  0.65567861 | \n",
       "| 2009-01-09  | Y           |  3.19577860 | \n",
       "| 2009-01-10  | Y           |  1.70616751 | \n",
       "| 2009-01-01  | Z           |  1.27133311 | \n",
       "| 2009-01-02  | Z           |  4.06883718 | \n",
       "| 2009-01-03  | Z           | -0.31921141 | \n",
       "| 2009-01-04  | Z           |  8.63999552 | \n",
       "| 2009-01-05  | Z           | -1.05734265 | \n",
       "| 2009-01-06  | Z           | -0.63781069 | \n",
       "| 2009-01-07  | Z           |  2.40579473 | \n",
       "| 2009-01-08  | Z           |  1.17066678 | \n",
       "| 2009-01-09  | Z           | -0.49221580 | \n",
       "| 2009-01-10  | Z           |  4.28728910 | \n",
       "\n",
       "\n"
      ],
      "text/plain": [
       "   time       stock price      \n",
       "1  2009-01-01 X     -0.67617504\n",
       "2  2009-01-02 X     -0.73874289\n",
       "3  2009-01-03 X     -0.14114617\n",
       "4  2009-01-04 X     -0.28869712\n",
       "5  2009-01-05 X     -0.07698958\n",
       "6  2009-01-06 X      0.36590506\n",
       "7  2009-01-07 X      2.38829606\n",
       "8  2009-01-08 X      2.40330976\n",
       "9  2009-01-09 X     -0.72113029\n",
       "10 2009-01-10 X     -0.32945186\n",
       "11 2009-01-01 Y      0.53733815\n",
       "12 2009-01-02 Y      0.48678866\n",
       "13 2009-01-03 Y     -0.35105570\n",
       "14 2009-01-04 Y      2.43735406\n",
       "15 2009-01-05 Y      1.23693797\n",
       "16 2009-01-06 Y      1.99219648\n",
       "17 2009-01-07 Y      2.54063832\n",
       "18 2009-01-08 Y      0.65567861\n",
       "19 2009-01-09 Y      3.19577860\n",
       "20 2009-01-10 Y      1.70616751\n",
       "21 2009-01-01 Z      1.27133311\n",
       "22 2009-01-02 Z      4.06883718\n",
       "23 2009-01-03 Z     -0.31921141\n",
       "24 2009-01-04 Z      8.63999552\n",
       "25 2009-01-05 Z     -1.05734265\n",
       "26 2009-01-06 Z     -0.63781069\n",
       "27 2009-01-07 Z      2.40579473\n",
       "28 2009-01-08 Z      1.17066678\n",
       "29 2009-01-09 Z     -0.49221580\n",
       "30 2009-01-10 Z      4.28728910"
      ]
     },
     "metadata": {},
     "output_type": "display_data"
    }
   ],
   "source": [
    "stocksm <- stocks %>% gather(stock, price, -time)\n",
    "stocksm"
   ]
  },
  {
   "cell_type": "code",
   "execution_count": 11,
   "metadata": {
    "collapsed": false
   },
   "outputs": [
    {
     "data": {
      "text/html": [
       "<table>\n",
       "<thead><tr><th scope=col>time</th><th scope=col>X</th><th scope=col>Y</th><th scope=col>Z</th></tr></thead>\n",
       "<tbody>\n",
       "\t<tr><td>2009-01-01 </td><td>-0.67617504</td><td> 0.5373382 </td><td> 1.2713331 </td></tr>\n",
       "\t<tr><td>2009-01-02 </td><td>-0.73874289</td><td> 0.4867887 </td><td> 4.0688372 </td></tr>\n",
       "\t<tr><td>2009-01-03 </td><td>-0.14114617</td><td>-0.3510557 </td><td>-0.3192114 </td></tr>\n",
       "\t<tr><td>2009-01-04 </td><td>-0.28869712</td><td> 2.4373541 </td><td> 8.6399955 </td></tr>\n",
       "\t<tr><td>2009-01-05 </td><td>-0.07698958</td><td> 1.2369380 </td><td>-1.0573427 </td></tr>\n",
       "\t<tr><td>2009-01-06 </td><td> 0.36590506</td><td> 1.9921965 </td><td>-0.6378107 </td></tr>\n",
       "\t<tr><td>2009-01-07 </td><td> 2.38829606</td><td> 2.5406383 </td><td> 2.4057947 </td></tr>\n",
       "\t<tr><td>2009-01-08 </td><td> 2.40330976</td><td> 0.6556786 </td><td> 1.1706668 </td></tr>\n",
       "\t<tr><td>2009-01-09 </td><td>-0.72113029</td><td> 3.1957786 </td><td>-0.4922158 </td></tr>\n",
       "\t<tr><td>2009-01-10 </td><td>-0.32945186</td><td> 1.7061675 </td><td> 4.2872891 </td></tr>\n",
       "</tbody>\n",
       "</table>\n"
      ],
      "text/latex": [
       "\\begin{tabular}{r|llll}\n",
       " time & X & Y & Z\\\\\n",
       "\\hline\n",
       "\t 2009-01-01  & -0.67617504 &  0.5373382  &  1.2713331 \\\\\n",
       "\t 2009-01-02  & -0.73874289 &  0.4867887  &  4.0688372 \\\\\n",
       "\t 2009-01-03  & -0.14114617 & -0.3510557  & -0.3192114 \\\\\n",
       "\t 2009-01-04  & -0.28869712 &  2.4373541  &  8.6399955 \\\\\n",
       "\t 2009-01-05  & -0.07698958 &  1.2369380  & -1.0573427 \\\\\n",
       "\t 2009-01-06  &  0.36590506 &  1.9921965  & -0.6378107 \\\\\n",
       "\t 2009-01-07  &  2.38829606 &  2.5406383  &  2.4057947 \\\\\n",
       "\t 2009-01-08  &  2.40330976 &  0.6556786  &  1.1706668 \\\\\n",
       "\t 2009-01-09  & -0.72113029 &  3.1957786  & -0.4922158 \\\\\n",
       "\t 2009-01-10  & -0.32945186 &  1.7061675  &  4.2872891 \\\\\n",
       "\\end{tabular}\n"
      ],
      "text/markdown": [
       "\n",
       "time | X | Y | Z | \n",
       "|---|---|---|---|---|---|---|---|---|---|\n",
       "| 2009-01-01  | -0.67617504 |  0.5373382  |  1.2713331  | \n",
       "| 2009-01-02  | -0.73874289 |  0.4867887  |  4.0688372  | \n",
       "| 2009-01-03  | -0.14114617 | -0.3510557  | -0.3192114  | \n",
       "| 2009-01-04  | -0.28869712 |  2.4373541  |  8.6399955  | \n",
       "| 2009-01-05  | -0.07698958 |  1.2369380  | -1.0573427  | \n",
       "| 2009-01-06  |  0.36590506 |  1.9921965  | -0.6378107  | \n",
       "| 2009-01-07  |  2.38829606 |  2.5406383  |  2.4057947  | \n",
       "| 2009-01-08  |  2.40330976 |  0.6556786  |  1.1706668  | \n",
       "| 2009-01-09  | -0.72113029 |  3.1957786  | -0.4922158  | \n",
       "| 2009-01-10  | -0.32945186 |  1.7061675  |  4.2872891  | \n",
       "\n",
       "\n"
      ],
      "text/plain": [
       "   time       X           Y          Z         \n",
       "1  2009-01-01 -0.67617504  0.5373382  1.2713331\n",
       "2  2009-01-02 -0.73874289  0.4867887  4.0688372\n",
       "3  2009-01-03 -0.14114617 -0.3510557 -0.3192114\n",
       "4  2009-01-04 -0.28869712  2.4373541  8.6399955\n",
       "5  2009-01-05 -0.07698958  1.2369380 -1.0573427\n",
       "6  2009-01-06  0.36590506  1.9921965 -0.6378107\n",
       "7  2009-01-07  2.38829606  2.5406383  2.4057947\n",
       "8  2009-01-08  2.40330976  0.6556786  1.1706668\n",
       "9  2009-01-09 -0.72113029  3.1957786 -0.4922158\n",
       "10 2009-01-10 -0.32945186  1.7061675  4.2872891"
      ]
     },
     "metadata": {},
     "output_type": "display_data"
    }
   ],
   "source": [
    "stocksm %>% spread(stock, price)"
   ]
  },
  {
   "cell_type": "code",
   "execution_count": 9,
   "metadata": {
    "collapsed": false
   },
   "outputs": [
    {
     "data": {
      "text/html": [
       "<table>\n",
       "<thead><tr><th scope=col>stock</th><th scope=col>2009-01-01</th><th scope=col>2009-01-02</th><th scope=col>2009-01-03</th><th scope=col>2009-01-04</th><th scope=col>2009-01-05</th><th scope=col>2009-01-06</th><th scope=col>2009-01-07</th><th scope=col>2009-01-08</th><th scope=col>2009-01-09</th><th scope=col>2009-01-10</th></tr></thead>\n",
       "<tbody>\n",
       "\t<tr><td>X          </td><td>-1.699440  </td><td> 1.7024699 </td><td> 0.41987631</td><td>-0.1469487 </td><td> 0.2435578 </td><td>-0.3095353 </td><td>-0.05923807</td><td> 1.339786  </td><td>-0.1638388 </td><td> 0.3425066 </td></tr>\n",
       "\t<tr><td>Y          </td><td> 1.223239  </td><td>-0.7459296 </td><td> 1.98558721</td><td>-3.3565078 </td><td> 2.4636961 </td><td> 0.5251956 </td><td> 0.90532909</td><td> 3.610204  </td><td> 2.4465776 </td><td>-1.1781083 </td></tr>\n",
       "\t<tr><td>Z          </td><td>10.612818  </td><td> 0.3913905 </td><td>-0.04911801</td><td>-0.6384783 </td><td>-0.1425639 </td><td> 0.9769487 </td><td> 0.22707234</td><td>-6.765140  </td><td>-1.0085843 </td><td>-4.8942197 </td></tr>\n",
       "</tbody>\n",
       "</table>\n"
      ],
      "text/latex": [
       "\\begin{tabular}{r|lllllllllll}\n",
       " stock & 2009-01-01 & 2009-01-02 & 2009-01-03 & 2009-01-04 & 2009-01-05 & 2009-01-06 & 2009-01-07 & 2009-01-08 & 2009-01-09 & 2009-01-10\\\\\n",
       "\\hline\n",
       "\t X           & -1.699440   &  1.7024699  &  0.41987631 & -0.1469487  &  0.2435578  & -0.3095353  & -0.05923807 &  1.339786   & -0.1638388  &  0.3425066 \\\\\n",
       "\t Y           &  1.223239   & -0.7459296  &  1.98558721 & -3.3565078  &  2.4636961  &  0.5251956  &  0.90532909 &  3.610204   &  2.4465776  & -1.1781083 \\\\\n",
       "\t Z           & 10.612818   &  0.3913905  & -0.04911801 & -0.6384783  & -0.1425639  &  0.9769487  &  0.22707234 & -6.765140   & -1.0085843  & -4.8942197 \\\\\n",
       "\\end{tabular}\n"
      ],
      "text/markdown": [
       "\n",
       "stock | 2009-01-01 | 2009-01-02 | 2009-01-03 | 2009-01-04 | 2009-01-05 | 2009-01-06 | 2009-01-07 | 2009-01-08 | 2009-01-09 | 2009-01-10 | \n",
       "|---|---|---|\n",
       "| X           | -1.699440   |  1.7024699  |  0.41987631 | -0.1469487  |  0.2435578  | -0.3095353  | -0.05923807 |  1.339786   | -0.1638388  |  0.3425066  | \n",
       "| Y           |  1.223239   | -0.7459296  |  1.98558721 | -3.3565078  |  2.4636961  |  0.5251956  |  0.90532909 |  3.610204   |  2.4465776  | -1.1781083  | \n",
       "| Z           | 10.612818   |  0.3913905  | -0.04911801 | -0.6384783  | -0.1425639  |  0.9769487  |  0.22707234 | -6.765140   | -1.0085843  | -4.8942197  | \n",
       "\n",
       "\n"
      ],
      "text/plain": [
       "  stock 2009-01-01 2009-01-02 2009-01-03  2009-01-04 2009-01-05 2009-01-06\n",
       "1 X     -1.699440   1.7024699  0.41987631 -0.1469487  0.2435578 -0.3095353\n",
       "2 Y      1.223239  -0.7459296  1.98558721 -3.3565078  2.4636961  0.5251956\n",
       "3 Z     10.612818   0.3913905 -0.04911801 -0.6384783 -0.1425639  0.9769487\n",
       "  2009-01-07  2009-01-08 2009-01-09 2009-01-10\n",
       "1 -0.05923807  1.339786  -0.1638388  0.3425066\n",
       "2  0.90532909  3.610204   2.4465776 -1.1781083\n",
       "3  0.22707234 -6.765140  -1.0085843 -4.8942197"
      ]
     },
     "metadata": {},
     "output_type": "display_data"
    }
   ],
   "source": [
    "stocksm %>% spread(time, price)"
   ]
  },
  {
   "cell_type": "markdown",
   "metadata": {},
   "source": [
    "#### separate()\n",
    "Given either regular expression or a vector of character positions, separate() turns a single character column into multiple columns."
   ]
  },
  {
   "cell_type": "code",
   "execution_count": 10,
   "metadata": {
    "collapsed": false
   },
   "outputs": [
    {
     "data": {
      "text/html": [
       "<table>\n",
       "<thead><tr><th scope=col>x</th></tr></thead>\n",
       "<tbody>\n",
       "\t<tr><td>NA </td></tr>\n",
       "\t<tr><td>a.x</td></tr>\n",
       "\t<tr><td>b.y</td></tr>\n",
       "\t<tr><td>c.z</td></tr>\n",
       "</tbody>\n",
       "</table>\n"
      ],
      "text/latex": [
       "\\begin{tabular}{r|l}\n",
       " x\\\\\n",
       "\\hline\n",
       "\t NA \\\\\n",
       "\t a.x\\\\\n",
       "\t b.y\\\\\n",
       "\t c.z\\\\\n",
       "\\end{tabular}\n"
      ],
      "text/markdown": [
       "\n",
       "x | \n",
       "|---|---|---|---|\n",
       "| NA  | \n",
       "| a.x | \n",
       "| b.y | \n",
       "| c.z | \n",
       "\n",
       "\n"
      ],
      "text/plain": [
       "  x  \n",
       "1 NA \n",
       "2 a.x\n",
       "3 b.y\n",
       "4 c.z"
      ]
     },
     "metadata": {},
     "output_type": "display_data"
    }
   ],
   "source": [
    "df <- data.frame(x = c(NA, \"a.x\", \"b.y\", \"c.z\"))\n",
    "df"
   ]
  },
  {
   "cell_type": "code",
   "execution_count": 11,
   "metadata": {
    "collapsed": false
   },
   "outputs": [
    {
     "data": {
      "text/html": [
       "<table>\n",
       "<thead><tr><th scope=col>ABC</th><th scope=col>XYZ</th></tr></thead>\n",
       "<tbody>\n",
       "\t<tr><td>NA</td><td>NA</td></tr>\n",
       "\t<tr><td>a </td><td>x </td></tr>\n",
       "\t<tr><td>b </td><td>y </td></tr>\n",
       "\t<tr><td>c </td><td>z </td></tr>\n",
       "</tbody>\n",
       "</table>\n"
      ],
      "text/latex": [
       "\\begin{tabular}{r|ll}\n",
       " ABC & XYZ\\\\\n",
       "\\hline\n",
       "\t NA & NA\\\\\n",
       "\t a  & x \\\\\n",
       "\t b  & y \\\\\n",
       "\t c  & z \\\\\n",
       "\\end{tabular}\n"
      ],
      "text/markdown": [
       "\n",
       "ABC | XYZ | \n",
       "|---|---|---|---|\n",
       "| NA | NA | \n",
       "| a  | x  | \n",
       "| b  | y  | \n",
       "| c  | z  | \n",
       "\n",
       "\n"
      ],
      "text/plain": [
       "  ABC XYZ\n",
       "1 NA  NA \n",
       "2 a   x  \n",
       "3 b   y  \n",
       "4 c   z  "
      ]
     },
     "metadata": {},
     "output_type": "display_data"
    }
   ],
   "source": [
    "df %>% separate(x, c(\"ABC\", \"XYZ\"))"
   ]
  },
  {
   "cell_type": "markdown",
   "metadata": {},
   "source": [
    "#### unite()\n",
    "Unite is a convenience function to paste together multiple columns into one."
   ]
  },
  {
   "cell_type": "code",
   "execution_count": 13,
   "metadata": {
    "collapsed": false
   },
   "outputs": [
    {
     "data": {
      "text/html": [
       "<table>\n",
       "<thead><tr><th></th><th scope=col>mpg</th><th scope=col>cyl</th><th scope=col>disp</th><th scope=col>hp</th><th scope=col>drat</th><th scope=col>wt</th><th scope=col>qsec</th><th scope=col>vs</th><th scope=col>am</th><th scope=col>gear</th><th scope=col>carb</th></tr></thead>\n",
       "<tbody>\n",
       "\t<tr><th scope=row>Mazda RX4</th><td>21.0 </td><td>6    </td><td>160  </td><td>110  </td><td>3.90 </td><td>2.620</td><td>16.46</td><td>0    </td><td>1    </td><td>4    </td><td>4    </td></tr>\n",
       "\t<tr><th scope=row>Mazda RX4 Wag</th><td>21.0 </td><td>6    </td><td>160  </td><td>110  </td><td>3.90 </td><td>2.875</td><td>17.02</td><td>0    </td><td>1    </td><td>4    </td><td>4    </td></tr>\n",
       "\t<tr><th scope=row>Datsun 710</th><td>22.8 </td><td>4    </td><td>108  </td><td> 93  </td><td>3.85 </td><td>2.320</td><td>18.61</td><td>1    </td><td>1    </td><td>4    </td><td>1    </td></tr>\n",
       "\t<tr><th scope=row>Hornet 4 Drive</th><td>21.4 </td><td>6    </td><td>258  </td><td>110  </td><td>3.08 </td><td>3.215</td><td>19.44</td><td>1    </td><td>0    </td><td>3    </td><td>1    </td></tr>\n",
       "\t<tr><th scope=row>Hornet Sportabout</th><td>18.7 </td><td>8    </td><td>360  </td><td>175  </td><td>3.15 </td><td>3.440</td><td>17.02</td><td>0    </td><td>0    </td><td>3    </td><td>2    </td></tr>\n",
       "\t<tr><th scope=row>Valiant</th><td>18.1 </td><td>6    </td><td>225  </td><td>105  </td><td>2.76 </td><td>3.460</td><td>20.22</td><td>1    </td><td>0    </td><td>3    </td><td>1    </td></tr>\n",
       "</tbody>\n",
       "</table>\n"
      ],
      "text/latex": [
       "\\begin{tabular}{r|lllllllllll}\n",
       "  & mpg & cyl & disp & hp & drat & wt & qsec & vs & am & gear & carb\\\\\n",
       "\\hline\n",
       "\tMazda RX4 & 21.0  & 6     & 160   & 110   & 3.90  & 2.620 & 16.46 & 0     & 1     & 4     & 4    \\\\\n",
       "\tMazda RX4 Wag & 21.0  & 6     & 160   & 110   & 3.90  & 2.875 & 17.02 & 0     & 1     & 4     & 4    \\\\\n",
       "\tDatsun 710 & 22.8  & 4     & 108   &  93   & 3.85  & 2.320 & 18.61 & 1     & 1     & 4     & 1    \\\\\n",
       "\tHornet 4 Drive & 21.4  & 6     & 258   & 110   & 3.08  & 3.215 & 19.44 & 1     & 0     & 3     & 1    \\\\\n",
       "\tHornet Sportabout & 18.7  & 8     & 360   & 175   & 3.15  & 3.440 & 17.02 & 0     & 0     & 3     & 2    \\\\\n",
       "\tValiant & 18.1  & 6     & 225   & 105   & 2.76  & 3.460 & 20.22 & 1     & 0     & 3     & 1    \\\\\n",
       "\\end{tabular}\n"
      ],
      "text/markdown": [
       "\n",
       "| <!--/--> | mpg | cyl | disp | hp | drat | wt | qsec | vs | am | gear | carb | \n",
       "|---|---|---|---|---|---|\n",
       "| Mazda RX4 | 21.0  | 6     | 160   | 110   | 3.90  | 2.620 | 16.46 | 0     | 1     | 4     | 4     | \n",
       "| Mazda RX4 Wag | 21.0  | 6     | 160   | 110   | 3.90  | 2.875 | 17.02 | 0     | 1     | 4     | 4     | \n",
       "| Datsun 710 | 22.8  | 4     | 108   |  93   | 3.85  | 2.320 | 18.61 | 1     | 1     | 4     | 1     | \n",
       "| Hornet 4 Drive | 21.4  | 6     | 258   | 110   | 3.08  | 3.215 | 19.44 | 1     | 0     | 3     | 1     | \n",
       "| Hornet Sportabout | 18.7  | 8     | 360   | 175   | 3.15  | 3.440 | 17.02 | 0     | 0     | 3     | 2     | \n",
       "| Valiant | 18.1  | 6     | 225   | 105   | 2.76  | 3.460 | 20.22 | 1     | 0     | 3     | 1     | \n",
       "\n",
       "\n"
      ],
      "text/plain": [
       "                  mpg  cyl disp hp  drat wt    qsec  vs am gear carb\n",
       "Mazda RX4         21.0 6   160  110 3.90 2.620 16.46 0  1  4    4   \n",
       "Mazda RX4 Wag     21.0 6   160  110 3.90 2.875 17.02 0  1  4    4   \n",
       "Datsun 710        22.8 4   108   93 3.85 2.320 18.61 1  1  4    1   \n",
       "Hornet 4 Drive    21.4 6   258  110 3.08 3.215 19.44 1  0  3    1   \n",
       "Hornet Sportabout 18.7 8   360  175 3.15 3.440 17.02 0  0  3    2   \n",
       "Valiant           18.1 6   225  105 2.76 3.460 20.22 1  0  3    1   "
      ]
     },
     "metadata": {},
     "output_type": "display_data"
    }
   ],
   "source": [
    "head(mtcars)"
   ]
  },
  {
   "cell_type": "code",
   "execution_count": 14,
   "metadata": {
    "collapsed": false
   },
   "outputs": [
    {
     "data": {
      "text/html": [
       "<table>\n",
       "<thead><tr><th></th><th scope=col>mpg</th><th scope=col>cyl</th><th scope=col>disp</th><th scope=col>hp</th><th scope=col>drat</th><th scope=col>wt</th><th scope=col>qsec</th><th scope=col>vs.am</th><th scope=col>gear</th><th scope=col>carb</th></tr></thead>\n",
       "<tbody>\n",
       "\t<tr><th scope=row>Mazda RX4</th><td>21.0 </td><td>6    </td><td>160.0</td><td>110  </td><td>3.90 </td><td>2.620</td><td>16.46</td><td>0.1  </td><td>4    </td><td>4    </td></tr>\n",
       "\t<tr><th scope=row>Mazda RX4 Wag</th><td>21.0 </td><td>6    </td><td>160.0</td><td>110  </td><td>3.90 </td><td>2.875</td><td>17.02</td><td>0.1  </td><td>4    </td><td>4    </td></tr>\n",
       "\t<tr><th scope=row>Datsun 710</th><td>22.8 </td><td>4    </td><td>108.0</td><td> 93  </td><td>3.85 </td><td>2.320</td><td>18.61</td><td>1.1  </td><td>4    </td><td>1    </td></tr>\n",
       "\t<tr><th scope=row>Hornet 4 Drive</th><td>21.4 </td><td>6    </td><td>258.0</td><td>110  </td><td>3.08 </td><td>3.215</td><td>19.44</td><td>1.0  </td><td>3    </td><td>1    </td></tr>\n",
       "\t<tr><th scope=row>Hornet Sportabout</th><td>18.7 </td><td>8    </td><td>360.0</td><td>175  </td><td>3.15 </td><td>3.440</td><td>17.02</td><td>0.0  </td><td>3    </td><td>2    </td></tr>\n",
       "\t<tr><th scope=row>Valiant</th><td>18.1 </td><td>6    </td><td>225.0</td><td>105  </td><td>2.76 </td><td>3.460</td><td>20.22</td><td>1.0  </td><td>3    </td><td>1    </td></tr>\n",
       "\t<tr><th scope=row>Duster 360</th><td>14.3 </td><td>8    </td><td>360.0</td><td>245  </td><td>3.21 </td><td>3.570</td><td>15.84</td><td>0.0  </td><td>3    </td><td>4    </td></tr>\n",
       "\t<tr><th scope=row>Merc 240D</th><td>24.4 </td><td>4    </td><td>146.7</td><td> 62  </td><td>3.69 </td><td>3.190</td><td>20.00</td><td>1.0  </td><td>4    </td><td>2    </td></tr>\n",
       "\t<tr><th scope=row>Merc 230</th><td>22.8 </td><td>4    </td><td>140.8</td><td> 95  </td><td>3.92 </td><td>3.150</td><td>22.90</td><td>1.0  </td><td>4    </td><td>2    </td></tr>\n",
       "\t<tr><th scope=row>Merc 280</th><td>19.2 </td><td>6    </td><td>167.6</td><td>123  </td><td>3.92 </td><td>3.440</td><td>18.30</td><td>1.0  </td><td>4    </td><td>4    </td></tr>\n",
       "\t<tr><th scope=row>Merc 280C</th><td>17.8 </td><td>6    </td><td>167.6</td><td>123  </td><td>3.92 </td><td>3.440</td><td>18.90</td><td>1.0  </td><td>4    </td><td>4    </td></tr>\n",
       "\t<tr><th scope=row>Merc 450SE</th><td>16.4 </td><td>8    </td><td>275.8</td><td>180  </td><td>3.07 </td><td>4.070</td><td>17.40</td><td>0.0  </td><td>3    </td><td>3    </td></tr>\n",
       "\t<tr><th scope=row>Merc 450SL</th><td>17.3 </td><td>8    </td><td>275.8</td><td>180  </td><td>3.07 </td><td>3.730</td><td>17.60</td><td>0.0  </td><td>3    </td><td>3    </td></tr>\n",
       "\t<tr><th scope=row>Merc 450SLC</th><td>15.2 </td><td>8    </td><td>275.8</td><td>180  </td><td>3.07 </td><td>3.780</td><td>18.00</td><td>0.0  </td><td>3    </td><td>3    </td></tr>\n",
       "\t<tr><th scope=row>Cadillac Fleetwood</th><td>10.4 </td><td>8    </td><td>472.0</td><td>205  </td><td>2.93 </td><td>5.250</td><td>17.98</td><td>0.0  </td><td>3    </td><td>4    </td></tr>\n",
       "\t<tr><th scope=row>Lincoln Continental</th><td>10.4 </td><td>8    </td><td>460.0</td><td>215  </td><td>3.00 </td><td>5.424</td><td>17.82</td><td>0.0  </td><td>3    </td><td>4    </td></tr>\n",
       "\t<tr><th scope=row>Chrysler Imperial</th><td>14.7 </td><td>8    </td><td>440.0</td><td>230  </td><td>3.23 </td><td>5.345</td><td>17.42</td><td>0.0  </td><td>3    </td><td>4    </td></tr>\n",
       "\t<tr><th scope=row>Fiat 128</th><td>32.4 </td><td>4    </td><td> 78.7</td><td> 66  </td><td>4.08 </td><td>2.200</td><td>19.47</td><td>1.1  </td><td>4    </td><td>1    </td></tr>\n",
       "\t<tr><th scope=row>Honda Civic</th><td>30.4 </td><td>4    </td><td> 75.7</td><td> 52  </td><td>4.93 </td><td>1.615</td><td>18.52</td><td>1.1  </td><td>4    </td><td>2    </td></tr>\n",
       "\t<tr><th scope=row>Toyota Corolla</th><td>33.9 </td><td>4    </td><td> 71.1</td><td> 65  </td><td>4.22 </td><td>1.835</td><td>19.90</td><td>1.1  </td><td>4    </td><td>1    </td></tr>\n",
       "\t<tr><th scope=row>Toyota Corona</th><td>21.5 </td><td>4    </td><td>120.1</td><td> 97  </td><td>3.70 </td><td>2.465</td><td>20.01</td><td>1.0  </td><td>3    </td><td>1    </td></tr>\n",
       "\t<tr><th scope=row>Dodge Challenger</th><td>15.5 </td><td>8    </td><td>318.0</td><td>150  </td><td>2.76 </td><td>3.520</td><td>16.87</td><td>0.0  </td><td>3    </td><td>2    </td></tr>\n",
       "\t<tr><th scope=row>AMC Javelin</th><td>15.2 </td><td>8    </td><td>304.0</td><td>150  </td><td>3.15 </td><td>3.435</td><td>17.30</td><td>0.0  </td><td>3    </td><td>2    </td></tr>\n",
       "\t<tr><th scope=row>Camaro Z28</th><td>13.3 </td><td>8    </td><td>350.0</td><td>245  </td><td>3.73 </td><td>3.840</td><td>15.41</td><td>0.0  </td><td>3    </td><td>4    </td></tr>\n",
       "\t<tr><th scope=row>Pontiac Firebird</th><td>19.2 </td><td>8    </td><td>400.0</td><td>175  </td><td>3.08 </td><td>3.845</td><td>17.05</td><td>0.0  </td><td>3    </td><td>2    </td></tr>\n",
       "\t<tr><th scope=row>Fiat X1-9</th><td>27.3 </td><td>4    </td><td> 79.0</td><td> 66  </td><td>4.08 </td><td>1.935</td><td>18.90</td><td>1.1  </td><td>4    </td><td>1    </td></tr>\n",
       "\t<tr><th scope=row>Porsche 914-2</th><td>26.0 </td><td>4    </td><td>120.3</td><td> 91  </td><td>4.43 </td><td>2.140</td><td>16.70</td><td>0.1  </td><td>5    </td><td>2    </td></tr>\n",
       "\t<tr><th scope=row>Lotus Europa</th><td>30.4 </td><td>4    </td><td> 95.1</td><td>113  </td><td>3.77 </td><td>1.513</td><td>16.90</td><td>1.1  </td><td>5    </td><td>2    </td></tr>\n",
       "\t<tr><th scope=row>Ford Pantera L</th><td>15.8 </td><td>8    </td><td>351.0</td><td>264  </td><td>4.22 </td><td>3.170</td><td>14.50</td><td>0.1  </td><td>5    </td><td>4    </td></tr>\n",
       "\t<tr><th scope=row>Ferrari Dino</th><td>19.7 </td><td>6    </td><td>145.0</td><td>175  </td><td>3.62 </td><td>2.770</td><td>15.50</td><td>0.1  </td><td>5    </td><td>6    </td></tr>\n",
       "\t<tr><th scope=row>Maserati Bora</th><td>15.0 </td><td>8    </td><td>301.0</td><td>335  </td><td>3.54 </td><td>3.570</td><td>14.60</td><td>0.1  </td><td>5    </td><td>8    </td></tr>\n",
       "\t<tr><th scope=row>Volvo 142E</th><td>21.4 </td><td>4    </td><td>121.0</td><td>109  </td><td>4.11 </td><td>2.780</td><td>18.60</td><td>1.1  </td><td>4    </td><td>2    </td></tr>\n",
       "</tbody>\n",
       "</table>\n"
      ],
      "text/latex": [
       "\\begin{tabular}{r|llllllllll}\n",
       "  & mpg & cyl & disp & hp & drat & wt & qsec & vs.am & gear & carb\\\\\n",
       "\\hline\n",
       "\tMazda RX4 & 21.0  & 6     & 160.0 & 110   & 3.90  & 2.620 & 16.46 & 0.1   & 4     & 4    \\\\\n",
       "\tMazda RX4 Wag & 21.0  & 6     & 160.0 & 110   & 3.90  & 2.875 & 17.02 & 0.1   & 4     & 4    \\\\\n",
       "\tDatsun 710 & 22.8  & 4     & 108.0 &  93   & 3.85  & 2.320 & 18.61 & 1.1   & 4     & 1    \\\\\n",
       "\tHornet 4 Drive & 21.4  & 6     & 258.0 & 110   & 3.08  & 3.215 & 19.44 & 1.0   & 3     & 1    \\\\\n",
       "\tHornet Sportabout & 18.7  & 8     & 360.0 & 175   & 3.15  & 3.440 & 17.02 & 0.0   & 3     & 2    \\\\\n",
       "\tValiant & 18.1  & 6     & 225.0 & 105   & 2.76  & 3.460 & 20.22 & 1.0   & 3     & 1    \\\\\n",
       "\tDuster 360 & 14.3  & 8     & 360.0 & 245   & 3.21  & 3.570 & 15.84 & 0.0   & 3     & 4    \\\\\n",
       "\tMerc 240D & 24.4  & 4     & 146.7 &  62   & 3.69  & 3.190 & 20.00 & 1.0   & 4     & 2    \\\\\n",
       "\tMerc 230 & 22.8  & 4     & 140.8 &  95   & 3.92  & 3.150 & 22.90 & 1.0   & 4     & 2    \\\\\n",
       "\tMerc 280 & 19.2  & 6     & 167.6 & 123   & 3.92  & 3.440 & 18.30 & 1.0   & 4     & 4    \\\\\n",
       "\tMerc 280C & 17.8  & 6     & 167.6 & 123   & 3.92  & 3.440 & 18.90 & 1.0   & 4     & 4    \\\\\n",
       "\tMerc 450SE & 16.4  & 8     & 275.8 & 180   & 3.07  & 4.070 & 17.40 & 0.0   & 3     & 3    \\\\\n",
       "\tMerc 450SL & 17.3  & 8     & 275.8 & 180   & 3.07  & 3.730 & 17.60 & 0.0   & 3     & 3    \\\\\n",
       "\tMerc 450SLC & 15.2  & 8     & 275.8 & 180   & 3.07  & 3.780 & 18.00 & 0.0   & 3     & 3    \\\\\n",
       "\tCadillac Fleetwood & 10.4  & 8     & 472.0 & 205   & 2.93  & 5.250 & 17.98 & 0.0   & 3     & 4    \\\\\n",
       "\tLincoln Continental & 10.4  & 8     & 460.0 & 215   & 3.00  & 5.424 & 17.82 & 0.0   & 3     & 4    \\\\\n",
       "\tChrysler Imperial & 14.7  & 8     & 440.0 & 230   & 3.23  & 5.345 & 17.42 & 0.0   & 3     & 4    \\\\\n",
       "\tFiat 128 & 32.4  & 4     &  78.7 &  66   & 4.08  & 2.200 & 19.47 & 1.1   & 4     & 1    \\\\\n",
       "\tHonda Civic & 30.4  & 4     &  75.7 &  52   & 4.93  & 1.615 & 18.52 & 1.1   & 4     & 2    \\\\\n",
       "\tToyota Corolla & 33.9  & 4     &  71.1 &  65   & 4.22  & 1.835 & 19.90 & 1.1   & 4     & 1    \\\\\n",
       "\tToyota Corona & 21.5  & 4     & 120.1 &  97   & 3.70  & 2.465 & 20.01 & 1.0   & 3     & 1    \\\\\n",
       "\tDodge Challenger & 15.5  & 8     & 318.0 & 150   & 2.76  & 3.520 & 16.87 & 0.0   & 3     & 2    \\\\\n",
       "\tAMC Javelin & 15.2  & 8     & 304.0 & 150   & 3.15  & 3.435 & 17.30 & 0.0   & 3     & 2    \\\\\n",
       "\tCamaro Z28 & 13.3  & 8     & 350.0 & 245   & 3.73  & 3.840 & 15.41 & 0.0   & 3     & 4    \\\\\n",
       "\tPontiac Firebird & 19.2  & 8     & 400.0 & 175   & 3.08  & 3.845 & 17.05 & 0.0   & 3     & 2    \\\\\n",
       "\tFiat X1-9 & 27.3  & 4     &  79.0 &  66   & 4.08  & 1.935 & 18.90 & 1.1   & 4     & 1    \\\\\n",
       "\tPorsche 914-2 & 26.0  & 4     & 120.3 &  91   & 4.43  & 2.140 & 16.70 & 0.1   & 5     & 2    \\\\\n",
       "\tLotus Europa & 30.4  & 4     &  95.1 & 113   & 3.77  & 1.513 & 16.90 & 1.1   & 5     & 2    \\\\\n",
       "\tFord Pantera L & 15.8  & 8     & 351.0 & 264   & 4.22  & 3.170 & 14.50 & 0.1   & 5     & 4    \\\\\n",
       "\tFerrari Dino & 19.7  & 6     & 145.0 & 175   & 3.62  & 2.770 & 15.50 & 0.1   & 5     & 6    \\\\\n",
       "\tMaserati Bora & 15.0  & 8     & 301.0 & 335   & 3.54  & 3.570 & 14.60 & 0.1   & 5     & 8    \\\\\n",
       "\tVolvo 142E & 21.4  & 4     & 121.0 & 109   & 4.11  & 2.780 & 18.60 & 1.1   & 4     & 2    \\\\\n",
       "\\end{tabular}\n"
      ],
      "text/markdown": [
       "\n",
       "| <!--/--> | mpg | cyl | disp | hp | drat | wt | qsec | vs.am | gear | carb | \n",
       "|---|---|---|---|---|---|---|---|---|---|---|---|---|---|---|---|---|---|---|---|---|---|---|---|---|---|---|---|---|---|---|---|\n",
       "| Mazda RX4 | 21.0  | 6     | 160.0 | 110   | 3.90  | 2.620 | 16.46 | 0.1   | 4     | 4     | \n",
       "| Mazda RX4 Wag | 21.0  | 6     | 160.0 | 110   | 3.90  | 2.875 | 17.02 | 0.1   | 4     | 4     | \n",
       "| Datsun 710 | 22.8  | 4     | 108.0 |  93   | 3.85  | 2.320 | 18.61 | 1.1   | 4     | 1     | \n",
       "| Hornet 4 Drive | 21.4  | 6     | 258.0 | 110   | 3.08  | 3.215 | 19.44 | 1.0   | 3     | 1     | \n",
       "| Hornet Sportabout | 18.7  | 8     | 360.0 | 175   | 3.15  | 3.440 | 17.02 | 0.0   | 3     | 2     | \n",
       "| Valiant | 18.1  | 6     | 225.0 | 105   | 2.76  | 3.460 | 20.22 | 1.0   | 3     | 1     | \n",
       "| Duster 360 | 14.3  | 8     | 360.0 | 245   | 3.21  | 3.570 | 15.84 | 0.0   | 3     | 4     | \n",
       "| Merc 240D | 24.4  | 4     | 146.7 |  62   | 3.69  | 3.190 | 20.00 | 1.0   | 4     | 2     | \n",
       "| Merc 230 | 22.8  | 4     | 140.8 |  95   | 3.92  | 3.150 | 22.90 | 1.0   | 4     | 2     | \n",
       "| Merc 280 | 19.2  | 6     | 167.6 | 123   | 3.92  | 3.440 | 18.30 | 1.0   | 4     | 4     | \n",
       "| Merc 280C | 17.8  | 6     | 167.6 | 123   | 3.92  | 3.440 | 18.90 | 1.0   | 4     | 4     | \n",
       "| Merc 450SE | 16.4  | 8     | 275.8 | 180   | 3.07  | 4.070 | 17.40 | 0.0   | 3     | 3     | \n",
       "| Merc 450SL | 17.3  | 8     | 275.8 | 180   | 3.07  | 3.730 | 17.60 | 0.0   | 3     | 3     | \n",
       "| Merc 450SLC | 15.2  | 8     | 275.8 | 180   | 3.07  | 3.780 | 18.00 | 0.0   | 3     | 3     | \n",
       "| Cadillac Fleetwood | 10.4  | 8     | 472.0 | 205   | 2.93  | 5.250 | 17.98 | 0.0   | 3     | 4     | \n",
       "| Lincoln Continental | 10.4  | 8     | 460.0 | 215   | 3.00  | 5.424 | 17.82 | 0.0   | 3     | 4     | \n",
       "| Chrysler Imperial | 14.7  | 8     | 440.0 | 230   | 3.23  | 5.345 | 17.42 | 0.0   | 3     | 4     | \n",
       "| Fiat 128 | 32.4  | 4     |  78.7 |  66   | 4.08  | 2.200 | 19.47 | 1.1   | 4     | 1     | \n",
       "| Honda Civic | 30.4  | 4     |  75.7 |  52   | 4.93  | 1.615 | 18.52 | 1.1   | 4     | 2     | \n",
       "| Toyota Corolla | 33.9  | 4     |  71.1 |  65   | 4.22  | 1.835 | 19.90 | 1.1   | 4     | 1     | \n",
       "| Toyota Corona | 21.5  | 4     | 120.1 |  97   | 3.70  | 2.465 | 20.01 | 1.0   | 3     | 1     | \n",
       "| Dodge Challenger | 15.5  | 8     | 318.0 | 150   | 2.76  | 3.520 | 16.87 | 0.0   | 3     | 2     | \n",
       "| AMC Javelin | 15.2  | 8     | 304.0 | 150   | 3.15  | 3.435 | 17.30 | 0.0   | 3     | 2     | \n",
       "| Camaro Z28 | 13.3  | 8     | 350.0 | 245   | 3.73  | 3.840 | 15.41 | 0.0   | 3     | 4     | \n",
       "| Pontiac Firebird | 19.2  | 8     | 400.0 | 175   | 3.08  | 3.845 | 17.05 | 0.0   | 3     | 2     | \n",
       "| Fiat X1-9 | 27.3  | 4     |  79.0 |  66   | 4.08  | 1.935 | 18.90 | 1.1   | 4     | 1     | \n",
       "| Porsche 914-2 | 26.0  | 4     | 120.3 |  91   | 4.43  | 2.140 | 16.70 | 0.1   | 5     | 2     | \n",
       "| Lotus Europa | 30.4  | 4     |  95.1 | 113   | 3.77  | 1.513 | 16.90 | 1.1   | 5     | 2     | \n",
       "| Ford Pantera L | 15.8  | 8     | 351.0 | 264   | 4.22  | 3.170 | 14.50 | 0.1   | 5     | 4     | \n",
       "| Ferrari Dino | 19.7  | 6     | 145.0 | 175   | 3.62  | 2.770 | 15.50 | 0.1   | 5     | 6     | \n",
       "| Maserati Bora | 15.0  | 8     | 301.0 | 335   | 3.54  | 3.570 | 14.60 | 0.1   | 5     | 8     | \n",
       "| Volvo 142E | 21.4  | 4     | 121.0 | 109   | 4.11  | 2.780 | 18.60 | 1.1   | 4     | 2     | \n",
       "\n",
       "\n"
      ],
      "text/plain": [
       "                    mpg  cyl disp  hp  drat wt    qsec  vs.am gear carb\n",
       "Mazda RX4           21.0 6   160.0 110 3.90 2.620 16.46 0.1   4    4   \n",
       "Mazda RX4 Wag       21.0 6   160.0 110 3.90 2.875 17.02 0.1   4    4   \n",
       "Datsun 710          22.8 4   108.0  93 3.85 2.320 18.61 1.1   4    1   \n",
       "Hornet 4 Drive      21.4 6   258.0 110 3.08 3.215 19.44 1.0   3    1   \n",
       "Hornet Sportabout   18.7 8   360.0 175 3.15 3.440 17.02 0.0   3    2   \n",
       "Valiant             18.1 6   225.0 105 2.76 3.460 20.22 1.0   3    1   \n",
       "Duster 360          14.3 8   360.0 245 3.21 3.570 15.84 0.0   3    4   \n",
       "Merc 240D           24.4 4   146.7  62 3.69 3.190 20.00 1.0   4    2   \n",
       "Merc 230            22.8 4   140.8  95 3.92 3.150 22.90 1.0   4    2   \n",
       "Merc 280            19.2 6   167.6 123 3.92 3.440 18.30 1.0   4    4   \n",
       "Merc 280C           17.8 6   167.6 123 3.92 3.440 18.90 1.0   4    4   \n",
       "Merc 450SE          16.4 8   275.8 180 3.07 4.070 17.40 0.0   3    3   \n",
       "Merc 450SL          17.3 8   275.8 180 3.07 3.730 17.60 0.0   3    3   \n",
       "Merc 450SLC         15.2 8   275.8 180 3.07 3.780 18.00 0.0   3    3   \n",
       "Cadillac Fleetwood  10.4 8   472.0 205 2.93 5.250 17.98 0.0   3    4   \n",
       "Lincoln Continental 10.4 8   460.0 215 3.00 5.424 17.82 0.0   3    4   \n",
       "Chrysler Imperial   14.7 8   440.0 230 3.23 5.345 17.42 0.0   3    4   \n",
       "Fiat 128            32.4 4    78.7  66 4.08 2.200 19.47 1.1   4    1   \n",
       "Honda Civic         30.4 4    75.7  52 4.93 1.615 18.52 1.1   4    2   \n",
       "Toyota Corolla      33.9 4    71.1  65 4.22 1.835 19.90 1.1   4    1   \n",
       "Toyota Corona       21.5 4   120.1  97 3.70 2.465 20.01 1.0   3    1   \n",
       "Dodge Challenger    15.5 8   318.0 150 2.76 3.520 16.87 0.0   3    2   \n",
       "AMC Javelin         15.2 8   304.0 150 3.15 3.435 17.30 0.0   3    2   \n",
       "Camaro Z28          13.3 8   350.0 245 3.73 3.840 15.41 0.0   3    4   \n",
       "Pontiac Firebird    19.2 8   400.0 175 3.08 3.845 17.05 0.0   3    2   \n",
       "Fiat X1-9           27.3 4    79.0  66 4.08 1.935 18.90 1.1   4    1   \n",
       "Porsche 914-2       26.0 4   120.3  91 4.43 2.140 16.70 0.1   5    2   \n",
       "Lotus Europa        30.4 4    95.1 113 3.77 1.513 16.90 1.1   5    2   \n",
       "Ford Pantera L      15.8 8   351.0 264 4.22 3.170 14.50 0.1   5    4   \n",
       "Ferrari Dino        19.7 6   145.0 175 3.62 2.770 15.50 0.1   5    6   \n",
       "Maserati Bora       15.0 8   301.0 335 3.54 3.570 14.60 0.1   5    8   \n",
       "Volvo 142E          21.4 4   121.0 109 4.11 2.780 18.60 1.1   4    2   "
      ]
     },
     "metadata": {},
     "output_type": "display_data"
    }
   ],
   "source": [
    "unite_(mtcars, \"vs.am\", c(\"vs\",\"am\"),sep = '.')"
   ]
  },
  {
   "cell_type": "code",
   "execution_count": 15,
   "metadata": {
    "collapsed": false
   },
   "outputs": [
    {
     "data": {
      "text/html": [
       "<table>\n",
       "<thead><tr><th></th><th scope=col>mpg</th><th scope=col>cyl</th><th scope=col>disp</th><th scope=col>hp</th><th scope=col>drat</th><th scope=col>wt</th><th scope=col>qsec</th><th scope=col>vs</th><th scope=col>am</th><th scope=col>gear</th><th scope=col>carb</th></tr></thead>\n",
       "<tbody>\n",
       "\t<tr><th scope=row>Mazda RX4</th><td>21.0 </td><td>6    </td><td>160.0</td><td>110  </td><td>3.90 </td><td>2.620</td><td>16.46</td><td>0    </td><td>1    </td><td>4    </td><td>4    </td></tr>\n",
       "\t<tr><th scope=row>Mazda RX4 Wag</th><td>21.0 </td><td>6    </td><td>160.0</td><td>110  </td><td>3.90 </td><td>2.875</td><td>17.02</td><td>0    </td><td>1    </td><td>4    </td><td>4    </td></tr>\n",
       "\t<tr><th scope=row>Datsun 710</th><td>22.8 </td><td>4    </td><td>108.0</td><td> 93  </td><td>3.85 </td><td>2.320</td><td>18.61</td><td>1    </td><td>1    </td><td>4    </td><td>1    </td></tr>\n",
       "\t<tr><th scope=row>Hornet 4 Drive</th><td>21.4 </td><td>6    </td><td>258.0</td><td>110  </td><td>3.08 </td><td>3.215</td><td>19.44</td><td>1    </td><td>0    </td><td>3    </td><td>1    </td></tr>\n",
       "\t<tr><th scope=row>Hornet Sportabout</th><td>18.7 </td><td>8    </td><td>360.0</td><td>175  </td><td>3.15 </td><td>3.440</td><td>17.02</td><td>0    </td><td>0    </td><td>3    </td><td>2    </td></tr>\n",
       "\t<tr><th scope=row>Valiant</th><td>18.1 </td><td>6    </td><td>225.0</td><td>105  </td><td>2.76 </td><td>3.460</td><td>20.22</td><td>1    </td><td>0    </td><td>3    </td><td>1    </td></tr>\n",
       "\t<tr><th scope=row>Duster 360</th><td>14.3 </td><td>8    </td><td>360.0</td><td>245  </td><td>3.21 </td><td>3.570</td><td>15.84</td><td>0    </td><td>0    </td><td>3    </td><td>4    </td></tr>\n",
       "\t<tr><th scope=row>Merc 240D</th><td>24.4 </td><td>4    </td><td>146.7</td><td> 62  </td><td>3.69 </td><td>3.190</td><td>20.00</td><td>1    </td><td>0    </td><td>4    </td><td>2    </td></tr>\n",
       "\t<tr><th scope=row>Merc 230</th><td>22.8 </td><td>4    </td><td>140.8</td><td> 95  </td><td>3.92 </td><td>3.150</td><td>22.90</td><td>1    </td><td>0    </td><td>4    </td><td>2    </td></tr>\n",
       "\t<tr><th scope=row>Merc 280</th><td>19.2 </td><td>6    </td><td>167.6</td><td>123  </td><td>3.92 </td><td>3.440</td><td>18.30</td><td>1    </td><td>0    </td><td>4    </td><td>4    </td></tr>\n",
       "\t<tr><th scope=row>Merc 280C</th><td>17.8 </td><td>6    </td><td>167.6</td><td>123  </td><td>3.92 </td><td>3.440</td><td>18.90</td><td>1    </td><td>0    </td><td>4    </td><td>4    </td></tr>\n",
       "\t<tr><th scope=row>Merc 450SE</th><td>16.4 </td><td>8    </td><td>275.8</td><td>180  </td><td>3.07 </td><td>4.070</td><td>17.40</td><td>0    </td><td>0    </td><td>3    </td><td>3    </td></tr>\n",
       "\t<tr><th scope=row>Merc 450SL</th><td>17.3 </td><td>8    </td><td>275.8</td><td>180  </td><td>3.07 </td><td>3.730</td><td>17.60</td><td>0    </td><td>0    </td><td>3    </td><td>3    </td></tr>\n",
       "\t<tr><th scope=row>Merc 450SLC</th><td>15.2 </td><td>8    </td><td>275.8</td><td>180  </td><td>3.07 </td><td>3.780</td><td>18.00</td><td>0    </td><td>0    </td><td>3    </td><td>3    </td></tr>\n",
       "\t<tr><th scope=row>Cadillac Fleetwood</th><td>10.4 </td><td>8    </td><td>472.0</td><td>205  </td><td>2.93 </td><td>5.250</td><td>17.98</td><td>0    </td><td>0    </td><td>3    </td><td>4    </td></tr>\n",
       "\t<tr><th scope=row>Lincoln Continental</th><td>10.4 </td><td>8    </td><td>460.0</td><td>215  </td><td>3.00 </td><td>5.424</td><td>17.82</td><td>0    </td><td>0    </td><td>3    </td><td>4    </td></tr>\n",
       "\t<tr><th scope=row>Chrysler Imperial</th><td>14.7 </td><td>8    </td><td>440.0</td><td>230  </td><td>3.23 </td><td>5.345</td><td>17.42</td><td>0    </td><td>0    </td><td>3    </td><td>4    </td></tr>\n",
       "\t<tr><th scope=row>Fiat 128</th><td>32.4 </td><td>4    </td><td> 78.7</td><td> 66  </td><td>4.08 </td><td>2.200</td><td>19.47</td><td>1    </td><td>1    </td><td>4    </td><td>1    </td></tr>\n",
       "\t<tr><th scope=row>Honda Civic</th><td>30.4 </td><td>4    </td><td> 75.7</td><td> 52  </td><td>4.93 </td><td>1.615</td><td>18.52</td><td>1    </td><td>1    </td><td>4    </td><td>2    </td></tr>\n",
       "\t<tr><th scope=row>Toyota Corolla</th><td>33.9 </td><td>4    </td><td> 71.1</td><td> 65  </td><td>4.22 </td><td>1.835</td><td>19.90</td><td>1    </td><td>1    </td><td>4    </td><td>1    </td></tr>\n",
       "\t<tr><th scope=row>Toyota Corona</th><td>21.5 </td><td>4    </td><td>120.1</td><td> 97  </td><td>3.70 </td><td>2.465</td><td>20.01</td><td>1    </td><td>0    </td><td>3    </td><td>1    </td></tr>\n",
       "\t<tr><th scope=row>Dodge Challenger</th><td>15.5 </td><td>8    </td><td>318.0</td><td>150  </td><td>2.76 </td><td>3.520</td><td>16.87</td><td>0    </td><td>0    </td><td>3    </td><td>2    </td></tr>\n",
       "\t<tr><th scope=row>AMC Javelin</th><td>15.2 </td><td>8    </td><td>304.0</td><td>150  </td><td>3.15 </td><td>3.435</td><td>17.30</td><td>0    </td><td>0    </td><td>3    </td><td>2    </td></tr>\n",
       "\t<tr><th scope=row>Camaro Z28</th><td>13.3 </td><td>8    </td><td>350.0</td><td>245  </td><td>3.73 </td><td>3.840</td><td>15.41</td><td>0    </td><td>0    </td><td>3    </td><td>4    </td></tr>\n",
       "\t<tr><th scope=row>Pontiac Firebird</th><td>19.2 </td><td>8    </td><td>400.0</td><td>175  </td><td>3.08 </td><td>3.845</td><td>17.05</td><td>0    </td><td>0    </td><td>3    </td><td>2    </td></tr>\n",
       "\t<tr><th scope=row>Fiat X1-9</th><td>27.3 </td><td>4    </td><td> 79.0</td><td> 66  </td><td>4.08 </td><td>1.935</td><td>18.90</td><td>1    </td><td>1    </td><td>4    </td><td>1    </td></tr>\n",
       "\t<tr><th scope=row>Porsche 914-2</th><td>26.0 </td><td>4    </td><td>120.3</td><td> 91  </td><td>4.43 </td><td>2.140</td><td>16.70</td><td>0    </td><td>1    </td><td>5    </td><td>2    </td></tr>\n",
       "\t<tr><th scope=row>Lotus Europa</th><td>30.4 </td><td>4    </td><td> 95.1</td><td>113  </td><td>3.77 </td><td>1.513</td><td>16.90</td><td>1    </td><td>1    </td><td>5    </td><td>2    </td></tr>\n",
       "\t<tr><th scope=row>Ford Pantera L</th><td>15.8 </td><td>8    </td><td>351.0</td><td>264  </td><td>4.22 </td><td>3.170</td><td>14.50</td><td>0    </td><td>1    </td><td>5    </td><td>4    </td></tr>\n",
       "\t<tr><th scope=row>Ferrari Dino</th><td>19.7 </td><td>6    </td><td>145.0</td><td>175  </td><td>3.62 </td><td>2.770</td><td>15.50</td><td>0    </td><td>1    </td><td>5    </td><td>6    </td></tr>\n",
       "\t<tr><th scope=row>Maserati Bora</th><td>15.0 </td><td>8    </td><td>301.0</td><td>335  </td><td>3.54 </td><td>3.570</td><td>14.60</td><td>0    </td><td>1    </td><td>5    </td><td>8    </td></tr>\n",
       "\t<tr><th scope=row>Volvo 142E</th><td>21.4 </td><td>4    </td><td>121.0</td><td>109  </td><td>4.11 </td><td>2.780</td><td>18.60</td><td>1    </td><td>1    </td><td>4    </td><td>2    </td></tr>\n",
       "</tbody>\n",
       "</table>\n"
      ],
      "text/latex": [
       "\\begin{tabular}{r|lllllllllll}\n",
       "  & mpg & cyl & disp & hp & drat & wt & qsec & vs & am & gear & carb\\\\\n",
       "\\hline\n",
       "\tMazda RX4 & 21.0  & 6     & 160.0 & 110   & 3.90  & 2.620 & 16.46 & 0     & 1     & 4     & 4    \\\\\n",
       "\tMazda RX4 Wag & 21.0  & 6     & 160.0 & 110   & 3.90  & 2.875 & 17.02 & 0     & 1     & 4     & 4    \\\\\n",
       "\tDatsun 710 & 22.8  & 4     & 108.0 &  93   & 3.85  & 2.320 & 18.61 & 1     & 1     & 4     & 1    \\\\\n",
       "\tHornet 4 Drive & 21.4  & 6     & 258.0 & 110   & 3.08  & 3.215 & 19.44 & 1     & 0     & 3     & 1    \\\\\n",
       "\tHornet Sportabout & 18.7  & 8     & 360.0 & 175   & 3.15  & 3.440 & 17.02 & 0     & 0     & 3     & 2    \\\\\n",
       "\tValiant & 18.1  & 6     & 225.0 & 105   & 2.76  & 3.460 & 20.22 & 1     & 0     & 3     & 1    \\\\\n",
       "\tDuster 360 & 14.3  & 8     & 360.0 & 245   & 3.21  & 3.570 & 15.84 & 0     & 0     & 3     & 4    \\\\\n",
       "\tMerc 240D & 24.4  & 4     & 146.7 &  62   & 3.69  & 3.190 & 20.00 & 1     & 0     & 4     & 2    \\\\\n",
       "\tMerc 230 & 22.8  & 4     & 140.8 &  95   & 3.92  & 3.150 & 22.90 & 1     & 0     & 4     & 2    \\\\\n",
       "\tMerc 280 & 19.2  & 6     & 167.6 & 123   & 3.92  & 3.440 & 18.30 & 1     & 0     & 4     & 4    \\\\\n",
       "\tMerc 280C & 17.8  & 6     & 167.6 & 123   & 3.92  & 3.440 & 18.90 & 1     & 0     & 4     & 4    \\\\\n",
       "\tMerc 450SE & 16.4  & 8     & 275.8 & 180   & 3.07  & 4.070 & 17.40 & 0     & 0     & 3     & 3    \\\\\n",
       "\tMerc 450SL & 17.3  & 8     & 275.8 & 180   & 3.07  & 3.730 & 17.60 & 0     & 0     & 3     & 3    \\\\\n",
       "\tMerc 450SLC & 15.2  & 8     & 275.8 & 180   & 3.07  & 3.780 & 18.00 & 0     & 0     & 3     & 3    \\\\\n",
       "\tCadillac Fleetwood & 10.4  & 8     & 472.0 & 205   & 2.93  & 5.250 & 17.98 & 0     & 0     & 3     & 4    \\\\\n",
       "\tLincoln Continental & 10.4  & 8     & 460.0 & 215   & 3.00  & 5.424 & 17.82 & 0     & 0     & 3     & 4    \\\\\n",
       "\tChrysler Imperial & 14.7  & 8     & 440.0 & 230   & 3.23  & 5.345 & 17.42 & 0     & 0     & 3     & 4    \\\\\n",
       "\tFiat 128 & 32.4  & 4     &  78.7 &  66   & 4.08  & 2.200 & 19.47 & 1     & 1     & 4     & 1    \\\\\n",
       "\tHonda Civic & 30.4  & 4     &  75.7 &  52   & 4.93  & 1.615 & 18.52 & 1     & 1     & 4     & 2    \\\\\n",
       "\tToyota Corolla & 33.9  & 4     &  71.1 &  65   & 4.22  & 1.835 & 19.90 & 1     & 1     & 4     & 1    \\\\\n",
       "\tToyota Corona & 21.5  & 4     & 120.1 &  97   & 3.70  & 2.465 & 20.01 & 1     & 0     & 3     & 1    \\\\\n",
       "\tDodge Challenger & 15.5  & 8     & 318.0 & 150   & 2.76  & 3.520 & 16.87 & 0     & 0     & 3     & 2    \\\\\n",
       "\tAMC Javelin & 15.2  & 8     & 304.0 & 150   & 3.15  & 3.435 & 17.30 & 0     & 0     & 3     & 2    \\\\\n",
       "\tCamaro Z28 & 13.3  & 8     & 350.0 & 245   & 3.73  & 3.840 & 15.41 & 0     & 0     & 3     & 4    \\\\\n",
       "\tPontiac Firebird & 19.2  & 8     & 400.0 & 175   & 3.08  & 3.845 & 17.05 & 0     & 0     & 3     & 2    \\\\\n",
       "\tFiat X1-9 & 27.3  & 4     &  79.0 &  66   & 4.08  & 1.935 & 18.90 & 1     & 1     & 4     & 1    \\\\\n",
       "\tPorsche 914-2 & 26.0  & 4     & 120.3 &  91   & 4.43  & 2.140 & 16.70 & 0     & 1     & 5     & 2    \\\\\n",
       "\tLotus Europa & 30.4  & 4     &  95.1 & 113   & 3.77  & 1.513 & 16.90 & 1     & 1     & 5     & 2    \\\\\n",
       "\tFord Pantera L & 15.8  & 8     & 351.0 & 264   & 4.22  & 3.170 & 14.50 & 0     & 1     & 5     & 4    \\\\\n",
       "\tFerrari Dino & 19.7  & 6     & 145.0 & 175   & 3.62  & 2.770 & 15.50 & 0     & 1     & 5     & 6    \\\\\n",
       "\tMaserati Bora & 15.0  & 8     & 301.0 & 335   & 3.54  & 3.570 & 14.60 & 0     & 1     & 5     & 8    \\\\\n",
       "\tVolvo 142E & 21.4  & 4     & 121.0 & 109   & 4.11  & 2.780 & 18.60 & 1     & 1     & 4     & 2    \\\\\n",
       "\\end{tabular}\n"
      ],
      "text/markdown": [
       "\n",
       "| <!--/--> | mpg | cyl | disp | hp | drat | wt | qsec | vs | am | gear | carb | \n",
       "|---|---|---|---|---|---|---|---|---|---|---|---|---|---|---|---|---|---|---|---|---|---|---|---|---|---|---|---|---|---|---|---|\n",
       "| Mazda RX4 | 21.0  | 6     | 160.0 | 110   | 3.90  | 2.620 | 16.46 | 0     | 1     | 4     | 4     | \n",
       "| Mazda RX4 Wag | 21.0  | 6     | 160.0 | 110   | 3.90  | 2.875 | 17.02 | 0     | 1     | 4     | 4     | \n",
       "| Datsun 710 | 22.8  | 4     | 108.0 |  93   | 3.85  | 2.320 | 18.61 | 1     | 1     | 4     | 1     | \n",
       "| Hornet 4 Drive | 21.4  | 6     | 258.0 | 110   | 3.08  | 3.215 | 19.44 | 1     | 0     | 3     | 1     | \n",
       "| Hornet Sportabout | 18.7  | 8     | 360.0 | 175   | 3.15  | 3.440 | 17.02 | 0     | 0     | 3     | 2     | \n",
       "| Valiant | 18.1  | 6     | 225.0 | 105   | 2.76  | 3.460 | 20.22 | 1     | 0     | 3     | 1     | \n",
       "| Duster 360 | 14.3  | 8     | 360.0 | 245   | 3.21  | 3.570 | 15.84 | 0     | 0     | 3     | 4     | \n",
       "| Merc 240D | 24.4  | 4     | 146.7 |  62   | 3.69  | 3.190 | 20.00 | 1     | 0     | 4     | 2     | \n",
       "| Merc 230 | 22.8  | 4     | 140.8 |  95   | 3.92  | 3.150 | 22.90 | 1     | 0     | 4     | 2     | \n",
       "| Merc 280 | 19.2  | 6     | 167.6 | 123   | 3.92  | 3.440 | 18.30 | 1     | 0     | 4     | 4     | \n",
       "| Merc 280C | 17.8  | 6     | 167.6 | 123   | 3.92  | 3.440 | 18.90 | 1     | 0     | 4     | 4     | \n",
       "| Merc 450SE | 16.4  | 8     | 275.8 | 180   | 3.07  | 4.070 | 17.40 | 0     | 0     | 3     | 3     | \n",
       "| Merc 450SL | 17.3  | 8     | 275.8 | 180   | 3.07  | 3.730 | 17.60 | 0     | 0     | 3     | 3     | \n",
       "| Merc 450SLC | 15.2  | 8     | 275.8 | 180   | 3.07  | 3.780 | 18.00 | 0     | 0     | 3     | 3     | \n",
       "| Cadillac Fleetwood | 10.4  | 8     | 472.0 | 205   | 2.93  | 5.250 | 17.98 | 0     | 0     | 3     | 4     | \n",
       "| Lincoln Continental | 10.4  | 8     | 460.0 | 215   | 3.00  | 5.424 | 17.82 | 0     | 0     | 3     | 4     | \n",
       "| Chrysler Imperial | 14.7  | 8     | 440.0 | 230   | 3.23  | 5.345 | 17.42 | 0     | 0     | 3     | 4     | \n",
       "| Fiat 128 | 32.4  | 4     |  78.7 |  66   | 4.08  | 2.200 | 19.47 | 1     | 1     | 4     | 1     | \n",
       "| Honda Civic | 30.4  | 4     |  75.7 |  52   | 4.93  | 1.615 | 18.52 | 1     | 1     | 4     | 2     | \n",
       "| Toyota Corolla | 33.9  | 4     |  71.1 |  65   | 4.22  | 1.835 | 19.90 | 1     | 1     | 4     | 1     | \n",
       "| Toyota Corona | 21.5  | 4     | 120.1 |  97   | 3.70  | 2.465 | 20.01 | 1     | 0     | 3     | 1     | \n",
       "| Dodge Challenger | 15.5  | 8     | 318.0 | 150   | 2.76  | 3.520 | 16.87 | 0     | 0     | 3     | 2     | \n",
       "| AMC Javelin | 15.2  | 8     | 304.0 | 150   | 3.15  | 3.435 | 17.30 | 0     | 0     | 3     | 2     | \n",
       "| Camaro Z28 | 13.3  | 8     | 350.0 | 245   | 3.73  | 3.840 | 15.41 | 0     | 0     | 3     | 4     | \n",
       "| Pontiac Firebird | 19.2  | 8     | 400.0 | 175   | 3.08  | 3.845 | 17.05 | 0     | 0     | 3     | 2     | \n",
       "| Fiat X1-9 | 27.3  | 4     |  79.0 |  66   | 4.08  | 1.935 | 18.90 | 1     | 1     | 4     | 1     | \n",
       "| Porsche 914-2 | 26.0  | 4     | 120.3 |  91   | 4.43  | 2.140 | 16.70 | 0     | 1     | 5     | 2     | \n",
       "| Lotus Europa | 30.4  | 4     |  95.1 | 113   | 3.77  | 1.513 | 16.90 | 1     | 1     | 5     | 2     | \n",
       "| Ford Pantera L | 15.8  | 8     | 351.0 | 264   | 4.22  | 3.170 | 14.50 | 0     | 1     | 5     | 4     | \n",
       "| Ferrari Dino | 19.7  | 6     | 145.0 | 175   | 3.62  | 2.770 | 15.50 | 0     | 1     | 5     | 6     | \n",
       "| Maserati Bora | 15.0  | 8     | 301.0 | 335   | 3.54  | 3.570 | 14.60 | 0     | 1     | 5     | 8     | \n",
       "| Volvo 142E | 21.4  | 4     | 121.0 | 109   | 4.11  | 2.780 | 18.60 | 1     | 1     | 4     | 2     | \n",
       "\n",
       "\n"
      ],
      "text/plain": [
       "                    mpg  cyl disp  hp  drat wt    qsec  vs am gear carb\n",
       "Mazda RX4           21.0 6   160.0 110 3.90 2.620 16.46 0  1  4    4   \n",
       "Mazda RX4 Wag       21.0 6   160.0 110 3.90 2.875 17.02 0  1  4    4   \n",
       "Datsun 710          22.8 4   108.0  93 3.85 2.320 18.61 1  1  4    1   \n",
       "Hornet 4 Drive      21.4 6   258.0 110 3.08 3.215 19.44 1  0  3    1   \n",
       "Hornet Sportabout   18.7 8   360.0 175 3.15 3.440 17.02 0  0  3    2   \n",
       "Valiant             18.1 6   225.0 105 2.76 3.460 20.22 1  0  3    1   \n",
       "Duster 360          14.3 8   360.0 245 3.21 3.570 15.84 0  0  3    4   \n",
       "Merc 240D           24.4 4   146.7  62 3.69 3.190 20.00 1  0  4    2   \n",
       "Merc 230            22.8 4   140.8  95 3.92 3.150 22.90 1  0  4    2   \n",
       "Merc 280            19.2 6   167.6 123 3.92 3.440 18.30 1  0  4    4   \n",
       "Merc 280C           17.8 6   167.6 123 3.92 3.440 18.90 1  0  4    4   \n",
       "Merc 450SE          16.4 8   275.8 180 3.07 4.070 17.40 0  0  3    3   \n",
       "Merc 450SL          17.3 8   275.8 180 3.07 3.730 17.60 0  0  3    3   \n",
       "Merc 450SLC         15.2 8   275.8 180 3.07 3.780 18.00 0  0  3    3   \n",
       "Cadillac Fleetwood  10.4 8   472.0 205 2.93 5.250 17.98 0  0  3    4   \n",
       "Lincoln Continental 10.4 8   460.0 215 3.00 5.424 17.82 0  0  3    4   \n",
       "Chrysler Imperial   14.7 8   440.0 230 3.23 5.345 17.42 0  0  3    4   \n",
       "Fiat 128            32.4 4    78.7  66 4.08 2.200 19.47 1  1  4    1   \n",
       "Honda Civic         30.4 4    75.7  52 4.93 1.615 18.52 1  1  4    2   \n",
       "Toyota Corolla      33.9 4    71.1  65 4.22 1.835 19.90 1  1  4    1   \n",
       "Toyota Corona       21.5 4   120.1  97 3.70 2.465 20.01 1  0  3    1   \n",
       "Dodge Challenger    15.5 8   318.0 150 2.76 3.520 16.87 0  0  3    2   \n",
       "AMC Javelin         15.2 8   304.0 150 3.15 3.435 17.30 0  0  3    2   \n",
       "Camaro Z28          13.3 8   350.0 245 3.73 3.840 15.41 0  0  3    4   \n",
       "Pontiac Firebird    19.2 8   400.0 175 3.08 3.845 17.05 0  0  3    2   \n",
       "Fiat X1-9           27.3 4    79.0  66 4.08 1.935 18.90 1  1  4    1   \n",
       "Porsche 914-2       26.0 4   120.3  91 4.43 2.140 16.70 0  1  5    2   \n",
       "Lotus Europa        30.4 4    95.1 113 3.77 1.513 16.90 1  1  5    2   \n",
       "Ford Pantera L      15.8 8   351.0 264 4.22 3.170 14.50 0  1  5    4   \n",
       "Ferrari Dino        19.7 6   145.0 175 3.62 2.770 15.50 0  1  5    6   \n",
       "Maserati Bora       15.0 8   301.0 335 3.54 3.570 14.60 0  1  5    8   \n",
       "Volvo 142E          21.4 4   121.0 109 4.11 2.780 18.60 1  1  4    2   "
      ]
     },
     "metadata": {},
     "output_type": "display_data"
    }
   ],
   "source": [
    "# Separate is the complement of unite\n",
    "mtcars %>%\n",
    "  unite(vs_am, vs, am) %>%\n",
    "  separate(vs_am, c(\"vs\", \"am\"))"
   ]
  },
  {
   "cell_type": "code",
   "execution_count": null,
   "metadata": {
    "collapsed": true
   },
   "outputs": [],
   "source": []
  }
 ],
 "metadata": {
  "kernelspec": {
   "display_name": "R",
   "language": "R",
   "name": "ir"
  },
  "language_info": {
   "codemirror_mode": "r",
   "file_extension": ".r",
   "mimetype": "text/x-r-source",
   "name": "R",
   "pygments_lexer": "r",
   "version": "3.3.2"
  }
 },
 "nbformat": 4,
 "nbformat_minor": 2
}
