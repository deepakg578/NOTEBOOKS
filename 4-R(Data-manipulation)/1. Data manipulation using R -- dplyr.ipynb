{
 "cells": [
  {
   "cell_type": "markdown",
   "metadata": {},
   "source": [
    "We'll be covering the following functions:\n",
    "* filter() (and slice())\n",
    "* arrange()\n",
    "* select() (and rename())\n",
    "* distinct()\n",
    "* mutate() (and transmute())\n",
    "* summarise()\n",
    "* sample_n() and sample_frac()\n",
    "* group_by()"
   ]
  },
  {
   "cell_type": "code",
   "execution_count": null,
   "metadata": {
    "collapsed": true
   },
   "outputs": [],
   "source": [
    "install.packages('dplyr',repos = 'http://cran.us.r-project.org')"
   ]
  },
  {
   "cell_type": "code",
   "execution_count": 1,
   "metadata": {
    "collapsed": false
   },
   "outputs": [
    {
     "name": "stderr",
     "output_type": "stream",
     "text": [
      "Warning message:\n",
      "\"package 'dplyr' was built under R version 3.3.3\"\n",
      "Attaching package: 'dplyr'\n",
      "\n",
      "The following objects are masked from 'package:stats':\n",
      "\n",
      "    filter, lag\n",
      "\n",
      "The following objects are masked from 'package:base':\n",
      "\n",
      "    intersect, setdiff, setequal, union\n",
      "\n"
     ]
    }
   ],
   "source": [
    "# Run it using\n",
    "library(dplyr)"
   ]
  },
  {
   "cell_type": "code",
   "execution_count": null,
   "metadata": {
    "collapsed": true
   },
   "outputs": [],
   "source": [
    "install.packages('nycflights13',repos = 'http://cran.us.r-project.org')"
   ]
  },
  {
   "cell_type": "code",
   "execution_count": 2,
   "metadata": {
    "collapsed": false,
    "scrolled": true
   },
   "outputs": [
    {
     "name": "stderr",
     "output_type": "stream",
     "text": [
      "Warning message:\n",
      "\"package 'nycflights13' was built under R version 3.3.3\""
     ]
    }
   ],
   "source": [
    "library(nycflights13)"
   ]
  },
  {
   "cell_type": "code",
   "execution_count": 3,
   "metadata": {
    "collapsed": false
   },
   "outputs": [
    {
     "data": {
      "text/plain": [
       "      year          month             day           dep_time    sched_dep_time\n",
       " Min.   :2013   Min.   : 1.000   Min.   : 1.00   Min.   :   1   Min.   : 106  \n",
       " 1st Qu.:2013   1st Qu.: 4.000   1st Qu.: 8.00   1st Qu.: 907   1st Qu.: 906  \n",
       " Median :2013   Median : 7.000   Median :16.00   Median :1401   Median :1359  \n",
       " Mean   :2013   Mean   : 6.549   Mean   :15.71   Mean   :1349   Mean   :1344  \n",
       " 3rd Qu.:2013   3rd Qu.:10.000   3rd Qu.:23.00   3rd Qu.:1744   3rd Qu.:1729  \n",
       " Max.   :2013   Max.   :12.000   Max.   :31.00   Max.   :2400   Max.   :2359  \n",
       "                                                 NA's   :8255                 \n",
       "   dep_delay          arr_time    sched_arr_time   arr_delay       \n",
       " Min.   : -43.00   Min.   :   1   Min.   :   1   Min.   : -86.000  \n",
       " 1st Qu.:  -5.00   1st Qu.:1104   1st Qu.:1124   1st Qu.: -17.000  \n",
       " Median :  -2.00   Median :1535   Median :1556   Median :  -5.000  \n",
       " Mean   :  12.64   Mean   :1502   Mean   :1536   Mean   :   6.895  \n",
       " 3rd Qu.:  11.00   3rd Qu.:1940   3rd Qu.:1945   3rd Qu.:  14.000  \n",
       " Max.   :1301.00   Max.   :2400   Max.   :2359   Max.   :1272.000  \n",
       " NA's   :8255      NA's   :8713                  NA's   :9430      \n",
       "   carrier              flight       tailnum             origin         \n",
       " Length:336776      Min.   :   1   Length:336776      Length:336776     \n",
       " Class :character   1st Qu.: 553   Class :character   Class :character  \n",
       " Mode  :character   Median :1496   Mode  :character   Mode  :character  \n",
       "                    Mean   :1972                                        \n",
       "                    3rd Qu.:3465                                        \n",
       "                    Max.   :8500                                        \n",
       "                                                                        \n",
       "     dest              air_time        distance         hour      \n",
       " Length:336776      Min.   : 20.0   Min.   :  17   Min.   : 1.00  \n",
       " Class :character   1st Qu.: 82.0   1st Qu.: 502   1st Qu.: 9.00  \n",
       " Mode  :character   Median :129.0   Median : 872   Median :13.00  \n",
       "                    Mean   :150.7   Mean   :1040   Mean   :13.18  \n",
       "                    3rd Qu.:192.0   3rd Qu.:1389   3rd Qu.:17.00  \n",
       "                    Max.   :695.0   Max.   :4983   Max.   :23.00  \n",
       "                    NA's   :9430                                  \n",
       "     minute        time_hour                  \n",
       " Min.   : 0.00   Min.   :2013-01-01 05:00:00  \n",
       " 1st Qu.: 8.00   1st Qu.:2013-04-04 13:00:00  \n",
       " Median :29.00   Median :2013-07-03 10:00:00  \n",
       " Mean   :26.23   Mean   :2013-07-03 05:02:36  \n",
       " 3rd Qu.:44.00   3rd Qu.:2013-10-01 07:00:00  \n",
       " Max.   :59.00   Max.   :2013-12-31 23:00:00  \n",
       "                                              "
      ]
     },
     "metadata": {},
     "output_type": "display_data"
    }
   ],
   "source": [
    "summary(flights)"
   ]
  },
  {
   "cell_type": "code",
   "execution_count": 4,
   "metadata": {
    "collapsed": false
   },
   "outputs": [
    {
     "data": {
      "text/html": [
       "<ol class=list-inline>\n",
       "\t<li>336776</li>\n",
       "\t<li>19</li>\n",
       "</ol>\n"
      ],
      "text/latex": [
       "\\begin{enumerate*}\n",
       "\\item 336776\n",
       "\\item 19\n",
       "\\end{enumerate*}\n"
      ],
      "text/markdown": [
       "1. 336776\n",
       "2. 19\n",
       "\n",
       "\n"
      ],
      "text/plain": [
       "[1] 336776     19"
      ]
     },
     "metadata": {},
     "output_type": "display_data"
    }
   ],
   "source": [
    "# Notice how large the data frame is:\n",
    "dim(flights)"
   ]
  },
  {
   "cell_type": "markdown",
   "metadata": {},
   "source": [
    "#### filter()\n",
    "filter() allows you to select a subset of rows in a data frame. The first argument is the name of the data frame. The second and subsequent arguments are the expressions that filter the data frame:\n",
    "\n",
    "For example, we can select all flights on November 3rd that were from American Airlines (AA) with:"
   ]
  },
  {
   "cell_type": "code",
   "execution_count": 5,
   "metadata": {
    "collapsed": false
   },
   "outputs": [
    {
     "name": "stderr",
     "output_type": "stream",
     "text": [
      "Warning message:\n",
      "\"package 'bindrcpp' was built under R version 3.3.3\""
     ]
    },
    {
     "data": {
      "text/html": [
       "<table>\n",
       "<thead><tr><th scope=col>year</th><th scope=col>month</th><th scope=col>day</th><th scope=col>dep_time</th><th scope=col>sched_dep_time</th><th scope=col>dep_delay</th><th scope=col>arr_time</th><th scope=col>sched_arr_time</th><th scope=col>arr_delay</th><th scope=col>carrier</th><th scope=col>flight</th><th scope=col>tailnum</th><th scope=col>origin</th><th scope=col>dest</th><th scope=col>air_time</th><th scope=col>distance</th><th scope=col>hour</th><th scope=col>minute</th><th scope=col>time_hour</th></tr></thead>\n",
       "<tbody>\n",
       "\t<tr><td>2013               </td><td>11                 </td><td>3                  </td><td>538                </td><td>545                </td><td>-7                 </td><td>824                </td><td>855                </td><td>-31                </td><td>AA                 </td><td>2243               </td><td>N5DWAA             </td><td>JFK                </td><td>MIA                </td><td>144                </td><td>1089               </td><td>5                  </td><td>45                 </td><td>2013-11-03 05:00:00</td></tr>\n",
       "\t<tr><td>2013               </td><td>11                 </td><td>3                  </td><td>556                </td><td>600                </td><td>-4                 </td><td>900                </td><td>905                </td><td> -5                </td><td>AA                 </td><td>1175               </td><td>N3CSAA             </td><td>LGA                </td><td>MIA                </td><td>148                </td><td>1096               </td><td>6                  </td><td> 0                 </td><td>2013-11-03 06:00:00</td></tr>\n",
       "\t<tr><td>2013               </td><td>11                 </td><td>3                  </td><td>604                </td><td>610                </td><td>-6                 </td><td>844                </td><td>855                </td><td>-11                </td><td>AA                 </td><td>1103               </td><td>N3KDAA             </td><td>LGA                </td><td>DFW                </td><td>192                </td><td>1389               </td><td>6                  </td><td>10                 </td><td>2013-11-03 06:00:00</td></tr>\n",
       "\t<tr><td>2013               </td><td>11                 </td><td>3                  </td><td>624                </td><td>629                </td><td>-5                 </td><td>907                </td><td>929                </td><td>-22                </td><td>AA                 </td><td>1205               </td><td>N3EJAA             </td><td>EWR                </td><td>MIA                </td><td>141                </td><td>1085               </td><td>6                  </td><td>29                 </td><td>2013-11-03 06:00:00</td></tr>\n",
       "\t<tr><td>2013               </td><td>11                 </td><td>3                  </td><td>625                </td><td>630                </td><td>-5                 </td><td>736                </td><td>805                </td><td>-29                </td><td>AA                 </td><td> 303               </td><td>N4WJAA             </td><td>LGA                </td><td>ORD                </td><td>113                </td><td> 733               </td><td>6                  </td><td>30                 </td><td>2013-11-03 06:00:00</td></tr>\n",
       "\t<tr><td>2013               </td><td>11                 </td><td>3                  </td><td>653                </td><td>655                </td><td>-2                 </td><td>925                </td><td>920                </td><td>  5                </td><td>AA                 </td><td>1263               </td><td>N634AA             </td><td>JFK                </td><td>LAS                </td><td>306                </td><td>2248               </td><td>6                  </td><td>55                 </td><td>2013-11-03 06:00:00</td></tr>\n",
       "</tbody>\n",
       "</table>\n"
      ],
      "text/latex": [
       "\\begin{tabular}{r|lllllllllllllllllll}\n",
       " year & month & day & dep\\_time & sched\\_dep\\_time & dep\\_delay & arr\\_time & sched\\_arr\\_time & arr\\_delay & carrier & flight & tailnum & origin & dest & air\\_time & distance & hour & minute & time\\_hour\\\\\n",
       "\\hline\n",
       "\t 2013                & 11                  & 3                   & 538                 & 545                 & -7                  & 824                 & 855                 & -31                 & AA                  & 2243                & N5DWAA              & JFK                 & MIA                 & 144                 & 1089                & 5                   & 45                  & 2013-11-03 05:00:00\\\\\n",
       "\t 2013                & 11                  & 3                   & 556                 & 600                 & -4                  & 900                 & 905                 &  -5                 & AA                  & 1175                & N3CSAA              & LGA                 & MIA                 & 148                 & 1096                & 6                   &  0                  & 2013-11-03 06:00:00\\\\\n",
       "\t 2013                & 11                  & 3                   & 604                 & 610                 & -6                  & 844                 & 855                 & -11                 & AA                  & 1103                & N3KDAA              & LGA                 & DFW                 & 192                 & 1389                & 6                   & 10                  & 2013-11-03 06:00:00\\\\\n",
       "\t 2013                & 11                  & 3                   & 624                 & 629                 & -5                  & 907                 & 929                 & -22                 & AA                  & 1205                & N3EJAA              & EWR                 & MIA                 & 141                 & 1085                & 6                   & 29                  & 2013-11-03 06:00:00\\\\\n",
       "\t 2013                & 11                  & 3                   & 625                 & 630                 & -5                  & 736                 & 805                 & -29                 & AA                  &  303                & N4WJAA              & LGA                 & ORD                 & 113                 &  733                & 6                   & 30                  & 2013-11-03 06:00:00\\\\\n",
       "\t 2013                & 11                  & 3                   & 653                 & 655                 & -2                  & 925                 & 920                 &   5                 & AA                  & 1263                & N634AA              & JFK                 & LAS                 & 306                 & 2248                & 6                   & 55                  & 2013-11-03 06:00:00\\\\\n",
       "\\end{tabular}\n"
      ],
      "text/markdown": [
       "\n",
       "year | month | day | dep_time | sched_dep_time | dep_delay | arr_time | sched_arr_time | arr_delay | carrier | flight | tailnum | origin | dest | air_time | distance | hour | minute | time_hour | \n",
       "|---|---|---|---|---|---|\n",
       "| 2013                | 11                  | 3                   | 538                 | 545                 | -7                  | 824                 | 855                 | -31                 | AA                  | 2243                | N5DWAA              | JFK                 | MIA                 | 144                 | 1089                | 5                   | 45                  | 2013-11-03 05:00:00 | \n",
       "| 2013                | 11                  | 3                   | 556                 | 600                 | -4                  | 900                 | 905                 |  -5                 | AA                  | 1175                | N3CSAA              | LGA                 | MIA                 | 148                 | 1096                | 6                   |  0                  | 2013-11-03 06:00:00 | \n",
       "| 2013                | 11                  | 3                   | 604                 | 610                 | -6                  | 844                 | 855                 | -11                 | AA                  | 1103                | N3KDAA              | LGA                 | DFW                 | 192                 | 1389                | 6                   | 10                  | 2013-11-03 06:00:00 | \n",
       "| 2013                | 11                  | 3                   | 624                 | 629                 | -5                  | 907                 | 929                 | -22                 | AA                  | 1205                | N3EJAA              | EWR                 | MIA                 | 141                 | 1085                | 6                   | 29                  | 2013-11-03 06:00:00 | \n",
       "| 2013                | 11                  | 3                   | 625                 | 630                 | -5                  | 736                 | 805                 | -29                 | AA                  |  303                | N4WJAA              | LGA                 | ORD                 | 113                 |  733                | 6                   | 30                  | 2013-11-03 06:00:00 | \n",
       "| 2013                | 11                  | 3                   | 653                 | 655                 | -2                  | 925                 | 920                 |   5                 | AA                  | 1263                | N634AA              | JFK                 | LAS                 | 306                 | 2248                | 6                   | 55                  | 2013-11-03 06:00:00 | \n",
       "\n",
       "\n"
      ],
      "text/plain": [
       "  year month day dep_time sched_dep_time dep_delay arr_time sched_arr_time\n",
       "1 2013 11    3   538      545            -7        824      855           \n",
       "2 2013 11    3   556      600            -4        900      905           \n",
       "3 2013 11    3   604      610            -6        844      855           \n",
       "4 2013 11    3   624      629            -5        907      929           \n",
       "5 2013 11    3   625      630            -5        736      805           \n",
       "6 2013 11    3   653      655            -2        925      920           \n",
       "  arr_delay carrier flight tailnum origin dest air_time distance hour minute\n",
       "1 -31       AA      2243   N5DWAA  JFK    MIA  144      1089     5    45    \n",
       "2  -5       AA      1175   N3CSAA  LGA    MIA  148      1096     6     0    \n",
       "3 -11       AA      1103   N3KDAA  LGA    DFW  192      1389     6    10    \n",
       "4 -22       AA      1205   N3EJAA  EWR    MIA  141      1085     6    29    \n",
       "5 -29       AA       303   N4WJAA  LGA    ORD  113       733     6    30    \n",
       "6   5       AA      1263   N634AA  JFK    LAS  306      2248     6    55    \n",
       "  time_hour          \n",
       "1 2013-11-03 05:00:00\n",
       "2 2013-11-03 06:00:00\n",
       "3 2013-11-03 06:00:00\n",
       "4 2013-11-03 06:00:00\n",
       "5 2013-11-03 06:00:00\n",
       "6 2013-11-03 06:00:00"
      ]
     },
     "metadata": {},
     "output_type": "display_data"
    }
   ],
   "source": [
    "head(filter(flights,month==11,day==3,carrier=='AA'))"
   ]
  },
  {
   "cell_type": "markdown",
   "metadata": {},
   "source": [
    "#### In dataframe"
   ]
  },
  {
   "cell_type": "code",
   "execution_count": 6,
   "metadata": {
    "collapsed": false
   },
   "outputs": [
    {
     "data": {
      "text/html": [
       "<table>\n",
       "<thead><tr><th scope=col>year</th><th scope=col>month</th><th scope=col>day</th><th scope=col>dep_time</th><th scope=col>sched_dep_time</th><th scope=col>dep_delay</th><th scope=col>arr_time</th><th scope=col>sched_arr_time</th><th scope=col>arr_delay</th><th scope=col>carrier</th><th scope=col>flight</th><th scope=col>tailnum</th><th scope=col>origin</th><th scope=col>dest</th><th scope=col>air_time</th><th scope=col>distance</th><th scope=col>hour</th><th scope=col>minute</th><th scope=col>time_hour</th></tr></thead>\n",
       "<tbody>\n",
       "\t<tr><td>2013               </td><td>11                 </td><td>3                  </td><td>538                </td><td>545                </td><td>-7                 </td><td>824                </td><td>855                </td><td>-31                </td><td>AA                 </td><td>2243               </td><td>N5DWAA             </td><td>JFK                </td><td>MIA                </td><td>144                </td><td>1089               </td><td>5                  </td><td>45                 </td><td>2013-11-03 05:00:00</td></tr>\n",
       "\t<tr><td>2013               </td><td>11                 </td><td>3                  </td><td>556                </td><td>600                </td><td>-4                 </td><td>900                </td><td>905                </td><td> -5                </td><td>AA                 </td><td>1175               </td><td>N3CSAA             </td><td>LGA                </td><td>MIA                </td><td>148                </td><td>1096               </td><td>6                  </td><td> 0                 </td><td>2013-11-03 06:00:00</td></tr>\n",
       "\t<tr><td>2013               </td><td>11                 </td><td>3                  </td><td>604                </td><td>610                </td><td>-6                 </td><td>844                </td><td>855                </td><td>-11                </td><td>AA                 </td><td>1103               </td><td>N3KDAA             </td><td>LGA                </td><td>DFW                </td><td>192                </td><td>1389               </td><td>6                  </td><td>10                 </td><td>2013-11-03 06:00:00</td></tr>\n",
       "\t<tr><td>2013               </td><td>11                 </td><td>3                  </td><td>624                </td><td>629                </td><td>-5                 </td><td>907                </td><td>929                </td><td>-22                </td><td>AA                 </td><td>1205               </td><td>N3EJAA             </td><td>EWR                </td><td>MIA                </td><td>141                </td><td>1085               </td><td>6                  </td><td>29                 </td><td>2013-11-03 06:00:00</td></tr>\n",
       "\t<tr><td>2013               </td><td>11                 </td><td>3                  </td><td>625                </td><td>630                </td><td>-5                 </td><td>736                </td><td>805                </td><td>-29                </td><td>AA                 </td><td> 303               </td><td>N4WJAA             </td><td>LGA                </td><td>ORD                </td><td>113                </td><td> 733               </td><td>6                  </td><td>30                 </td><td>2013-11-03 06:00:00</td></tr>\n",
       "\t<tr><td>2013               </td><td>11                 </td><td>3                  </td><td>653                </td><td>655                </td><td>-2                 </td><td>925                </td><td>920                </td><td>  5                </td><td>AA                 </td><td>1263               </td><td>N634AA             </td><td>JFK                </td><td>LAS                </td><td>306                </td><td>2248               </td><td>6                  </td><td>55                 </td><td>2013-11-03 06:00:00</td></tr>\n",
       "</tbody>\n",
       "</table>\n"
      ],
      "text/latex": [
       "\\begin{tabular}{r|lllllllllllllllllll}\n",
       " year & month & day & dep\\_time & sched\\_dep\\_time & dep\\_delay & arr\\_time & sched\\_arr\\_time & arr\\_delay & carrier & flight & tailnum & origin & dest & air\\_time & distance & hour & minute & time\\_hour\\\\\n",
       "\\hline\n",
       "\t 2013                & 11                  & 3                   & 538                 & 545                 & -7                  & 824                 & 855                 & -31                 & AA                  & 2243                & N5DWAA              & JFK                 & MIA                 & 144                 & 1089                & 5                   & 45                  & 2013-11-03 05:00:00\\\\\n",
       "\t 2013                & 11                  & 3                   & 556                 & 600                 & -4                  & 900                 & 905                 &  -5                 & AA                  & 1175                & N3CSAA              & LGA                 & MIA                 & 148                 & 1096                & 6                   &  0                  & 2013-11-03 06:00:00\\\\\n",
       "\t 2013                & 11                  & 3                   & 604                 & 610                 & -6                  & 844                 & 855                 & -11                 & AA                  & 1103                & N3KDAA              & LGA                 & DFW                 & 192                 & 1389                & 6                   & 10                  & 2013-11-03 06:00:00\\\\\n",
       "\t 2013                & 11                  & 3                   & 624                 & 629                 & -5                  & 907                 & 929                 & -22                 & AA                  & 1205                & N3EJAA              & EWR                 & MIA                 & 141                 & 1085                & 6                   & 29                  & 2013-11-03 06:00:00\\\\\n",
       "\t 2013                & 11                  & 3                   & 625                 & 630                 & -5                  & 736                 & 805                 & -29                 & AA                  &  303                & N4WJAA              & LGA                 & ORD                 & 113                 &  733                & 6                   & 30                  & 2013-11-03 06:00:00\\\\\n",
       "\t 2013                & 11                  & 3                   & 653                 & 655                 & -2                  & 925                 & 920                 &   5                 & AA                  & 1263                & N634AA              & JFK                 & LAS                 & 306                 & 2248                & 6                   & 55                  & 2013-11-03 06:00:00\\\\\n",
       "\\end{tabular}\n"
      ],
      "text/markdown": [
       "\n",
       "year | month | day | dep_time | sched_dep_time | dep_delay | arr_time | sched_arr_time | arr_delay | carrier | flight | tailnum | origin | dest | air_time | distance | hour | minute | time_hour | \n",
       "|---|---|---|---|---|---|\n",
       "| 2013                | 11                  | 3                   | 538                 | 545                 | -7                  | 824                 | 855                 | -31                 | AA                  | 2243                | N5DWAA              | JFK                 | MIA                 | 144                 | 1089                | 5                   | 45                  | 2013-11-03 05:00:00 | \n",
       "| 2013                | 11                  | 3                   | 556                 | 600                 | -4                  | 900                 | 905                 |  -5                 | AA                  | 1175                | N3CSAA              | LGA                 | MIA                 | 148                 | 1096                | 6                   |  0                  | 2013-11-03 06:00:00 | \n",
       "| 2013                | 11                  | 3                   | 604                 | 610                 | -6                  | 844                 | 855                 | -11                 | AA                  | 1103                | N3KDAA              | LGA                 | DFW                 | 192                 | 1389                | 6                   | 10                  | 2013-11-03 06:00:00 | \n",
       "| 2013                | 11                  | 3                   | 624                 | 629                 | -5                  | 907                 | 929                 | -22                 | AA                  | 1205                | N3EJAA              | EWR                 | MIA                 | 141                 | 1085                | 6                   | 29                  | 2013-11-03 06:00:00 | \n",
       "| 2013                | 11                  | 3                   | 625                 | 630                 | -5                  | 736                 | 805                 | -29                 | AA                  |  303                | N4WJAA              | LGA                 | ORD                 | 113                 |  733                | 6                   | 30                  | 2013-11-03 06:00:00 | \n",
       "| 2013                | 11                  | 3                   | 653                 | 655                 | -2                  | 925                 | 920                 |   5                 | AA                  | 1263                | N634AA              | JFK                 | LAS                 | 306                 | 2248                | 6                   | 55                  | 2013-11-03 06:00:00 | \n",
       "\n",
       "\n"
      ],
      "text/plain": [
       "  year month day dep_time sched_dep_time dep_delay arr_time sched_arr_time\n",
       "1 2013 11    3   538      545            -7        824      855           \n",
       "2 2013 11    3   556      600            -4        900      905           \n",
       "3 2013 11    3   604      610            -6        844      855           \n",
       "4 2013 11    3   624      629            -5        907      929           \n",
       "5 2013 11    3   625      630            -5        736      805           \n",
       "6 2013 11    3   653      655            -2        925      920           \n",
       "  arr_delay carrier flight tailnum origin dest air_time distance hour minute\n",
       "1 -31       AA      2243   N5DWAA  JFK    MIA  144      1089     5    45    \n",
       "2  -5       AA      1175   N3CSAA  LGA    MIA  148      1096     6     0    \n",
       "3 -11       AA      1103   N3KDAA  LGA    DFW  192      1389     6    10    \n",
       "4 -22       AA      1205   N3EJAA  EWR    MIA  141      1085     6    29    \n",
       "5 -29       AA       303   N4WJAA  LGA    ORD  113       733     6    30    \n",
       "6   5       AA      1263   N634AA  JFK    LAS  306      2248     6    55    \n",
       "  time_hour          \n",
       "1 2013-11-03 05:00:00\n",
       "2 2013-11-03 06:00:00\n",
       "3 2013-11-03 06:00:00\n",
       "4 2013-11-03 06:00:00\n",
       "5 2013-11-03 06:00:00\n",
       "6 2013-11-03 06:00:00"
      ]
     },
     "metadata": {},
     "output_type": "display_data"
    }
   ],
   "source": [
    "head(flights[flights$month == 11 & flights$day == 3 & flights$carrier == 'AA', ])"
   ]
  },
  {
   "cell_type": "markdown",
   "metadata": {},
   "source": [
    "#### slice()\n",
    "We can select rows by position using slice()"
   ]
  },
  {
   "cell_type": "code",
   "execution_count": 7,
   "metadata": {
    "collapsed": false
   },
   "outputs": [
    {
     "data": {
      "text/html": [
       "<table>\n",
       "<thead><tr><th scope=col>year</th><th scope=col>month</th><th scope=col>day</th><th scope=col>dep_time</th><th scope=col>sched_dep_time</th><th scope=col>dep_delay</th><th scope=col>arr_time</th><th scope=col>sched_arr_time</th><th scope=col>arr_delay</th><th scope=col>carrier</th><th scope=col>flight</th><th scope=col>tailnum</th><th scope=col>origin</th><th scope=col>dest</th><th scope=col>air_time</th><th scope=col>distance</th><th scope=col>hour</th><th scope=col>minute</th><th scope=col>time_hour</th></tr></thead>\n",
       "<tbody>\n",
       "\t<tr><td>2013               </td><td>1                  </td><td>1                  </td><td>517                </td><td>515                </td><td> 2                 </td><td> 830               </td><td> 819               </td><td> 11                </td><td>UA                 </td><td>1545               </td><td>N14228             </td><td>EWR                </td><td>IAH                </td><td>227                </td><td>1400               </td><td>5                  </td><td>15                 </td><td>2013-01-01 05:00:00</td></tr>\n",
       "\t<tr><td>2013               </td><td>1                  </td><td>1                  </td><td>533                </td><td>529                </td><td> 4                 </td><td> 850               </td><td> 830               </td><td> 20                </td><td>UA                 </td><td>1714               </td><td>N24211             </td><td>LGA                </td><td>IAH                </td><td>227                </td><td>1416               </td><td>5                  </td><td>29                 </td><td>2013-01-01 05:00:00</td></tr>\n",
       "\t<tr><td>2013               </td><td>1                  </td><td>1                  </td><td>542                </td><td>540                </td><td> 2                 </td><td> 923               </td><td> 850               </td><td> 33                </td><td>AA                 </td><td>1141               </td><td>N619AA             </td><td>JFK                </td><td>MIA                </td><td>160                </td><td>1089               </td><td>5                  </td><td>40                 </td><td>2013-01-01 05:00:00</td></tr>\n",
       "\t<tr><td>2013               </td><td>1                  </td><td>1                  </td><td>544                </td><td>545                </td><td>-1                 </td><td>1004               </td><td>1022               </td><td>-18                </td><td>B6                 </td><td> 725               </td><td>N804JB             </td><td>JFK                </td><td>BQN                </td><td>183                </td><td>1576               </td><td>5                  </td><td>45                 </td><td>2013-01-01 05:00:00</td></tr>\n",
       "\t<tr><td>2013               </td><td>1                  </td><td>1                  </td><td>554                </td><td>600                </td><td>-6                 </td><td> 812               </td><td> 837               </td><td>-25                </td><td>DL                 </td><td> 461               </td><td>N668DN             </td><td>LGA                </td><td>ATL                </td><td>116                </td><td> 762               </td><td>6                  </td><td> 0                 </td><td>2013-01-01 06:00:00</td></tr>\n",
       "\t<tr><td>2013               </td><td>1                  </td><td>1                  </td><td>554                </td><td>558                </td><td>-4                 </td><td> 740               </td><td> 728               </td><td> 12                </td><td>UA                 </td><td>1696               </td><td>N39463             </td><td>EWR                </td><td>ORD                </td><td>150                </td><td> 719               </td><td>5                  </td><td>58                 </td><td>2013-01-01 05:00:00</td></tr>\n",
       "\t<tr><td>2013               </td><td>1                  </td><td>1                  </td><td>555                </td><td>600                </td><td>-5                 </td><td> 913               </td><td> 854               </td><td> 19                </td><td>B6                 </td><td> 507               </td><td>N516JB             </td><td>EWR                </td><td>FLL                </td><td>158                </td><td>1065               </td><td>6                  </td><td> 0                 </td><td>2013-01-01 06:00:00</td></tr>\n",
       "\t<tr><td>2013               </td><td>1                  </td><td>1                  </td><td>557                </td><td>600                </td><td>-3                 </td><td> 709               </td><td> 723               </td><td>-14                </td><td>EV                 </td><td>5708               </td><td>N829AS             </td><td>LGA                </td><td>IAD                </td><td> 53                </td><td> 229               </td><td>6                  </td><td> 0                 </td><td>2013-01-01 06:00:00</td></tr>\n",
       "\t<tr><td>2013               </td><td>1                  </td><td>1                  </td><td>557                </td><td>600                </td><td>-3                 </td><td> 838               </td><td> 846               </td><td> -8                </td><td>B6                 </td><td>  79               </td><td>N593JB             </td><td>JFK                </td><td>MCO                </td><td>140                </td><td> 944               </td><td>6                  </td><td> 0                 </td><td>2013-01-01 06:00:00</td></tr>\n",
       "\t<tr><td>2013               </td><td>1                  </td><td>1                  </td><td>558                </td><td>600                </td><td>-2                 </td><td> 753               </td><td> 745               </td><td>  8                </td><td>AA                 </td><td> 301               </td><td>N3ALAA             </td><td>LGA                </td><td>ORD                </td><td>138                </td><td> 733               </td><td>6                  </td><td> 0                 </td><td>2013-01-01 06:00:00</td></tr>\n",
       "</tbody>\n",
       "</table>\n"
      ],
      "text/latex": [
       "\\begin{tabular}{r|lllllllllllllllllll}\n",
       " year & month & day & dep\\_time & sched\\_dep\\_time & dep\\_delay & arr\\_time & sched\\_arr\\_time & arr\\_delay & carrier & flight & tailnum & origin & dest & air\\_time & distance & hour & minute & time\\_hour\\\\\n",
       "\\hline\n",
       "\t 2013                & 1                   & 1                   & 517                 & 515                 &  2                  &  830                &  819                &  11                 & UA                  & 1545                & N14228              & EWR                 & IAH                 & 227                 & 1400                & 5                   & 15                  & 2013-01-01 05:00:00\\\\\n",
       "\t 2013                & 1                   & 1                   & 533                 & 529                 &  4                  &  850                &  830                &  20                 & UA                  & 1714                & N24211              & LGA                 & IAH                 & 227                 & 1416                & 5                   & 29                  & 2013-01-01 05:00:00\\\\\n",
       "\t 2013                & 1                   & 1                   & 542                 & 540                 &  2                  &  923                &  850                &  33                 & AA                  & 1141                & N619AA              & JFK                 & MIA                 & 160                 & 1089                & 5                   & 40                  & 2013-01-01 05:00:00\\\\\n",
       "\t 2013                & 1                   & 1                   & 544                 & 545                 & -1                  & 1004                & 1022                & -18                 & B6                  &  725                & N804JB              & JFK                 & BQN                 & 183                 & 1576                & 5                   & 45                  & 2013-01-01 05:00:00\\\\\n",
       "\t 2013                & 1                   & 1                   & 554                 & 600                 & -6                  &  812                &  837                & -25                 & DL                  &  461                & N668DN              & LGA                 & ATL                 & 116                 &  762                & 6                   &  0                  & 2013-01-01 06:00:00\\\\\n",
       "\t 2013                & 1                   & 1                   & 554                 & 558                 & -4                  &  740                &  728                &  12                 & UA                  & 1696                & N39463              & EWR                 & ORD                 & 150                 &  719                & 5                   & 58                  & 2013-01-01 05:00:00\\\\\n",
       "\t 2013                & 1                   & 1                   & 555                 & 600                 & -5                  &  913                &  854                &  19                 & B6                  &  507                & N516JB              & EWR                 & FLL                 & 158                 & 1065                & 6                   &  0                  & 2013-01-01 06:00:00\\\\\n",
       "\t 2013                & 1                   & 1                   & 557                 & 600                 & -3                  &  709                &  723                & -14                 & EV                  & 5708                & N829AS              & LGA                 & IAD                 &  53                 &  229                & 6                   &  0                  & 2013-01-01 06:00:00\\\\\n",
       "\t 2013                & 1                   & 1                   & 557                 & 600                 & -3                  &  838                &  846                &  -8                 & B6                  &   79                & N593JB              & JFK                 & MCO                 & 140                 &  944                & 6                   &  0                  & 2013-01-01 06:00:00\\\\\n",
       "\t 2013                & 1                   & 1                   & 558                 & 600                 & -2                  &  753                &  745                &   8                 & AA                  &  301                & N3ALAA              & LGA                 & ORD                 & 138                 &  733                & 6                   &  0                  & 2013-01-01 06:00:00\\\\\n",
       "\\end{tabular}\n"
      ],
      "text/markdown": [
       "\n",
       "year | month | day | dep_time | sched_dep_time | dep_delay | arr_time | sched_arr_time | arr_delay | carrier | flight | tailnum | origin | dest | air_time | distance | hour | minute | time_hour | \n",
       "|---|---|---|---|---|---|---|---|---|---|\n",
       "| 2013                | 1                   | 1                   | 517                 | 515                 |  2                  |  830                |  819                |  11                 | UA                  | 1545                | N14228              | EWR                 | IAH                 | 227                 | 1400                | 5                   | 15                  | 2013-01-01 05:00:00 | \n",
       "| 2013                | 1                   | 1                   | 533                 | 529                 |  4                  |  850                |  830                |  20                 | UA                  | 1714                | N24211              | LGA                 | IAH                 | 227                 | 1416                | 5                   | 29                  | 2013-01-01 05:00:00 | \n",
       "| 2013                | 1                   | 1                   | 542                 | 540                 |  2                  |  923                |  850                |  33                 | AA                  | 1141                | N619AA              | JFK                 | MIA                 | 160                 | 1089                | 5                   | 40                  | 2013-01-01 05:00:00 | \n",
       "| 2013                | 1                   | 1                   | 544                 | 545                 | -1                  | 1004                | 1022                | -18                 | B6                  |  725                | N804JB              | JFK                 | BQN                 | 183                 | 1576                | 5                   | 45                  | 2013-01-01 05:00:00 | \n",
       "| 2013                | 1                   | 1                   | 554                 | 600                 | -6                  |  812                |  837                | -25                 | DL                  |  461                | N668DN              | LGA                 | ATL                 | 116                 |  762                | 6                   |  0                  | 2013-01-01 06:00:00 | \n",
       "| 2013                | 1                   | 1                   | 554                 | 558                 | -4                  |  740                |  728                |  12                 | UA                  | 1696                | N39463              | EWR                 | ORD                 | 150                 |  719                | 5                   | 58                  | 2013-01-01 05:00:00 | \n",
       "| 2013                | 1                   | 1                   | 555                 | 600                 | -5                  |  913                |  854                |  19                 | B6                  |  507                | N516JB              | EWR                 | FLL                 | 158                 | 1065                | 6                   |  0                  | 2013-01-01 06:00:00 | \n",
       "| 2013                | 1                   | 1                   | 557                 | 600                 | -3                  |  709                |  723                | -14                 | EV                  | 5708                | N829AS              | LGA                 | IAD                 |  53                 |  229                | 6                   |  0                  | 2013-01-01 06:00:00 | \n",
       "| 2013                | 1                   | 1                   | 557                 | 600                 | -3                  |  838                |  846                |  -8                 | B6                  |   79                | N593JB              | JFK                 | MCO                 | 140                 |  944                | 6                   |  0                  | 2013-01-01 06:00:00 | \n",
       "| 2013                | 1                   | 1                   | 558                 | 600                 | -2                  |  753                |  745                |   8                 | AA                  |  301                | N3ALAA              | LGA                 | ORD                 | 138                 |  733                | 6                   |  0                  | 2013-01-01 06:00:00 | \n",
       "\n",
       "\n"
      ],
      "text/plain": [
       "   year month day dep_time sched_dep_time dep_delay arr_time sched_arr_time\n",
       "1  2013 1     1   517      515             2         830      819          \n",
       "2  2013 1     1   533      529             4         850      830          \n",
       "3  2013 1     1   542      540             2         923      850          \n",
       "4  2013 1     1   544      545            -1        1004     1022          \n",
       "5  2013 1     1   554      600            -6         812      837          \n",
       "6  2013 1     1   554      558            -4         740      728          \n",
       "7  2013 1     1   555      600            -5         913      854          \n",
       "8  2013 1     1   557      600            -3         709      723          \n",
       "9  2013 1     1   557      600            -3         838      846          \n",
       "10 2013 1     1   558      600            -2         753      745          \n",
       "   arr_delay carrier flight tailnum origin dest air_time distance hour minute\n",
       "1   11       UA      1545   N14228  EWR    IAH  227      1400     5    15    \n",
       "2   20       UA      1714   N24211  LGA    IAH  227      1416     5    29    \n",
       "3   33       AA      1141   N619AA  JFK    MIA  160      1089     5    40    \n",
       "4  -18       B6       725   N804JB  JFK    BQN  183      1576     5    45    \n",
       "5  -25       DL       461   N668DN  LGA    ATL  116       762     6     0    \n",
       "6   12       UA      1696   N39463  EWR    ORD  150       719     5    58    \n",
       "7   19       B6       507   N516JB  EWR    FLL  158      1065     6     0    \n",
       "8  -14       EV      5708   N829AS  LGA    IAD   53       229     6     0    \n",
       "9   -8       B6        79   N593JB  JFK    MCO  140       944     6     0    \n",
       "10   8       AA       301   N3ALAA  LGA    ORD  138       733     6     0    \n",
       "   time_hour          \n",
       "1  2013-01-01 05:00:00\n",
       "2  2013-01-01 05:00:00\n",
       "3  2013-01-01 05:00:00\n",
       "4  2013-01-01 05:00:00\n",
       "5  2013-01-01 06:00:00\n",
       "6  2013-01-01 05:00:00\n",
       "7  2013-01-01 06:00:00\n",
       "8  2013-01-01 06:00:00\n",
       "9  2013-01-01 06:00:00\n",
       "10 2013-01-01 06:00:00"
      ]
     },
     "metadata": {},
     "output_type": "display_data"
    }
   ],
   "source": [
    "slice(flights, 1:10)"
   ]
  },
  {
   "cell_type": "markdown",
   "metadata": {},
   "source": [
    "#### arrange()\n",
    "arrange() works similarly to filter() except that instead of filtering or selecting rows, it reorders them. It takes a data frame, and a set of column names (or more complicated expressions) to order by. If you provide more than one column name, each additional column will be used to break ties in the values of preceding columns:"
   ]
  },
  {
   "cell_type": "code",
   "execution_count": 8,
   "metadata": {
    "collapsed": false
   },
   "outputs": [
    {
     "data": {
      "text/html": [
       "<table>\n",
       "<thead><tr><th scope=col>year</th><th scope=col>month</th><th scope=col>day</th><th scope=col>dep_time</th><th scope=col>sched_dep_time</th><th scope=col>dep_delay</th><th scope=col>arr_time</th><th scope=col>sched_arr_time</th><th scope=col>arr_delay</th><th scope=col>carrier</th><th scope=col>flight</th><th scope=col>tailnum</th><th scope=col>origin</th><th scope=col>dest</th><th scope=col>air_time</th><th scope=col>distance</th><th scope=col>hour</th><th scope=col>minute</th><th scope=col>time_hour</th></tr></thead>\n",
       "<tbody>\n",
       "\t<tr><td>2013               </td><td>1                  </td><td>1                  </td><td>2302               </td><td>2200               </td><td>62                 </td><td>2342               </td><td>2253               </td><td> 49                </td><td>EV                 </td><td>4276               </td><td>N13903             </td><td>EWR                </td><td>BDL                </td><td>24                 </td><td>116                </td><td>22                 </td><td> 0                 </td><td>2013-01-01 22:00:00</td></tr>\n",
       "\t<tr><td>2013               </td><td>1                  </td><td>1                  </td><td>1318               </td><td>1322               </td><td>-4                 </td><td>1358               </td><td>1416               </td><td>-18                </td><td>EV                 </td><td>4106               </td><td>N19554             </td><td>EWR                </td><td>BDL                </td><td>25                 </td><td>116                </td><td>13                 </td><td>22                 </td><td>2013-01-01 13:00:00</td></tr>\n",
       "\t<tr><td>2013               </td><td>1                  </td><td>1                  </td><td>2116               </td><td>2110               </td><td> 6                 </td><td>2202               </td><td>2212               </td><td>-10                </td><td>EV                 </td><td>4404               </td><td>N15912             </td><td>EWR                </td><td>PVD                </td><td>28                 </td><td>160                </td><td>21                 </td><td>10                 </td><td>2013-01-01 21:00:00</td></tr>\n",
       "\t<tr><td>2013               </td><td>1                  </td><td>1                  </td><td>2000               </td><td>2000               </td><td> 0                 </td><td>2054               </td><td>2110               </td><td>-16                </td><td>9E                 </td><td>3664               </td><td>N836AY             </td><td>JFK                </td><td>PHL                </td><td>30                 </td><td> 94                </td><td>20                 </td><td> 0                 </td><td>2013-01-01 20:00:00</td></tr>\n",
       "\t<tr><td>2013               </td><td>1                  </td><td>1                  </td><td>2056               </td><td>2004               </td><td>52                 </td><td>2156               </td><td>2112               </td><td> 44                </td><td>EV                 </td><td>4170               </td><td>N12540             </td><td>EWR                </td><td>ALB                </td><td>31                 </td><td>143                </td><td>20                 </td><td> 4                 </td><td>2013-01-01 20:00:00</td></tr>\n",
       "\t<tr><td>2013               </td><td>1                  </td><td>1                  </td><td> 908               </td><td> 915               </td><td>-7                 </td><td>1004               </td><td>1033               </td><td>-29                </td><td>US                 </td><td>1467               </td><td>N959UW             </td><td>LGA                </td><td>PHL                </td><td>32                 </td><td> 96                </td><td> 9                 </td><td>15                 </td><td>2013-01-01 09:00:00</td></tr>\n",
       "</tbody>\n",
       "</table>\n"
      ],
      "text/latex": [
       "\\begin{tabular}{r|lllllllllllllllllll}\n",
       " year & month & day & dep\\_time & sched\\_dep\\_time & dep\\_delay & arr\\_time & sched\\_arr\\_time & arr\\_delay & carrier & flight & tailnum & origin & dest & air\\_time & distance & hour & minute & time\\_hour\\\\\n",
       "\\hline\n",
       "\t 2013                & 1                   & 1                   & 2302                & 2200                & 62                  & 2342                & 2253                &  49                 & EV                  & 4276                & N13903              & EWR                 & BDL                 & 24                  & 116                 & 22                  &  0                  & 2013-01-01 22:00:00\\\\\n",
       "\t 2013                & 1                   & 1                   & 1318                & 1322                & -4                  & 1358                & 1416                & -18                 & EV                  & 4106                & N19554              & EWR                 & BDL                 & 25                  & 116                 & 13                  & 22                  & 2013-01-01 13:00:00\\\\\n",
       "\t 2013                & 1                   & 1                   & 2116                & 2110                &  6                  & 2202                & 2212                & -10                 & EV                  & 4404                & N15912              & EWR                 & PVD                 & 28                  & 160                 & 21                  & 10                  & 2013-01-01 21:00:00\\\\\n",
       "\t 2013                & 1                   & 1                   & 2000                & 2000                &  0                  & 2054                & 2110                & -16                 & 9E                  & 3664                & N836AY              & JFK                 & PHL                 & 30                  &  94                 & 20                  &  0                  & 2013-01-01 20:00:00\\\\\n",
       "\t 2013                & 1                   & 1                   & 2056                & 2004                & 52                  & 2156                & 2112                &  44                 & EV                  & 4170                & N12540              & EWR                 & ALB                 & 31                  & 143                 & 20                  &  4                  & 2013-01-01 20:00:00\\\\\n",
       "\t 2013                & 1                   & 1                   &  908                &  915                & -7                  & 1004                & 1033                & -29                 & US                  & 1467                & N959UW              & LGA                 & PHL                 & 32                  &  96                 &  9                  & 15                  & 2013-01-01 09:00:00\\\\\n",
       "\\end{tabular}\n"
      ],
      "text/markdown": [
       "\n",
       "year | month | day | dep_time | sched_dep_time | dep_delay | arr_time | sched_arr_time | arr_delay | carrier | flight | tailnum | origin | dest | air_time | distance | hour | minute | time_hour | \n",
       "|---|---|---|---|---|---|\n",
       "| 2013                | 1                   | 1                   | 2302                | 2200                | 62                  | 2342                | 2253                |  49                 | EV                  | 4276                | N13903              | EWR                 | BDL                 | 24                  | 116                 | 22                  |  0                  | 2013-01-01 22:00:00 | \n",
       "| 2013                | 1                   | 1                   | 1318                | 1322                | -4                  | 1358                | 1416                | -18                 | EV                  | 4106                | N19554              | EWR                 | BDL                 | 25                  | 116                 | 13                  | 22                  | 2013-01-01 13:00:00 | \n",
       "| 2013                | 1                   | 1                   | 2116                | 2110                |  6                  | 2202                | 2212                | -10                 | EV                  | 4404                | N15912              | EWR                 | PVD                 | 28                  | 160                 | 21                  | 10                  | 2013-01-01 21:00:00 | \n",
       "| 2013                | 1                   | 1                   | 2000                | 2000                |  0                  | 2054                | 2110                | -16                 | 9E                  | 3664                | N836AY              | JFK                 | PHL                 | 30                  |  94                 | 20                  |  0                  | 2013-01-01 20:00:00 | \n",
       "| 2013                | 1                   | 1                   | 2056                | 2004                | 52                  | 2156                | 2112                |  44                 | EV                  | 4170                | N12540              | EWR                 | ALB                 | 31                  | 143                 | 20                  |  4                  | 2013-01-01 20:00:00 | \n",
       "| 2013                | 1                   | 1                   |  908                |  915                | -7                  | 1004                | 1033                | -29                 | US                  | 1467                | N959UW              | LGA                 | PHL                 | 32                  |  96                 |  9                  | 15                  | 2013-01-01 09:00:00 | \n",
       "\n",
       "\n"
      ],
      "text/plain": [
       "  year month day dep_time sched_dep_time dep_delay arr_time sched_arr_time\n",
       "1 2013 1     1   2302     2200           62        2342     2253          \n",
       "2 2013 1     1   1318     1322           -4        1358     1416          \n",
       "3 2013 1     1   2116     2110            6        2202     2212          \n",
       "4 2013 1     1   2000     2000            0        2054     2110          \n",
       "5 2013 1     1   2056     2004           52        2156     2112          \n",
       "6 2013 1     1    908      915           -7        1004     1033          \n",
       "  arr_delay carrier flight tailnum origin dest air_time distance hour minute\n",
       "1  49       EV      4276   N13903  EWR    BDL  24       116      22    0    \n",
       "2 -18       EV      4106   N19554  EWR    BDL  25       116      13   22    \n",
       "3 -10       EV      4404   N15912  EWR    PVD  28       160      21   10    \n",
       "4 -16       9E      3664   N836AY  JFK    PHL  30        94      20    0    \n",
       "5  44       EV      4170   N12540  EWR    ALB  31       143      20    4    \n",
       "6 -29       US      1467   N959UW  LGA    PHL  32        96       9   15    \n",
       "  time_hour          \n",
       "1 2013-01-01 22:00:00\n",
       "2 2013-01-01 13:00:00\n",
       "3 2013-01-01 21:00:00\n",
       "4 2013-01-01 20:00:00\n",
       "5 2013-01-01 20:00:00\n",
       "6 2013-01-01 09:00:00"
      ]
     },
     "metadata": {},
     "output_type": "display_data"
    }
   ],
   "source": [
    "head(arrange(flights,year,month,day,air_time))"
   ]
  },
  {
   "cell_type": "markdown",
   "metadata": {},
   "source": [
    "desc() to arrange in descending order:"
   ]
  },
  {
   "cell_type": "code",
   "execution_count": 9,
   "metadata": {
    "collapsed": false
   },
   "outputs": [
    {
     "data": {
      "text/html": [
       "<table>\n",
       "<thead><tr><th scope=col>year</th><th scope=col>month</th><th scope=col>day</th><th scope=col>dep_time</th><th scope=col>sched_dep_time</th><th scope=col>dep_delay</th><th scope=col>arr_time</th><th scope=col>sched_arr_time</th><th scope=col>arr_delay</th><th scope=col>carrier</th><th scope=col>flight</th><th scope=col>tailnum</th><th scope=col>origin</th><th scope=col>dest</th><th scope=col>air_time</th><th scope=col>distance</th><th scope=col>hour</th><th scope=col>minute</th><th scope=col>time_hour</th></tr></thead>\n",
       "<tbody>\n",
       "\t<tr><td>2013               </td><td>1                  </td><td> 9                 </td><td> 641               </td><td> 900               </td><td>1301               </td><td>1242               </td><td>1530               </td><td>1272               </td><td>HA                 </td><td>  51               </td><td>N384HA             </td><td>JFK                </td><td>HNL                </td><td>640                </td><td>4983               </td><td> 9                 </td><td> 0                 </td><td>2013-01-09 09:00:00</td></tr>\n",
       "\t<tr><td>2013               </td><td>6                  </td><td>15                 </td><td>1432               </td><td>1935               </td><td>1137               </td><td>1607               </td><td>2120               </td><td>1127               </td><td>MQ                 </td><td>3535               </td><td>N504MQ             </td><td>JFK                </td><td>CMH                </td><td> 74                </td><td> 483               </td><td>19                 </td><td>35                 </td><td>2013-06-15 19:00:00</td></tr>\n",
       "\t<tr><td>2013               </td><td>1                  </td><td>10                 </td><td>1121               </td><td>1635               </td><td>1126               </td><td>1239               </td><td>1810               </td><td>1109               </td><td>MQ                 </td><td>3695               </td><td>N517MQ             </td><td>EWR                </td><td>ORD                </td><td>111                </td><td> 719               </td><td>16                 </td><td>35                 </td><td>2013-01-10 16:00:00</td></tr>\n",
       "\t<tr><td>2013               </td><td>9                  </td><td>20                 </td><td>1139               </td><td>1845               </td><td>1014               </td><td>1457               </td><td>2210               </td><td>1007               </td><td>AA                 </td><td> 177               </td><td>N338AA             </td><td>JFK                </td><td>SFO                </td><td>354                </td><td>2586               </td><td>18                 </td><td>45                 </td><td>2013-09-20 18:00:00</td></tr>\n",
       "\t<tr><td>2013               </td><td>7                  </td><td>22                 </td><td> 845               </td><td>1600               </td><td>1005               </td><td>1044               </td><td>1815               </td><td> 989               </td><td>MQ                 </td><td>3075               </td><td>N665MQ             </td><td>JFK                </td><td>CVG                </td><td> 96                </td><td> 589               </td><td>16                 </td><td> 0                 </td><td>2013-07-22 16:00:00</td></tr>\n",
       "\t<tr><td>2013               </td><td>4                  </td><td>10                 </td><td>1100               </td><td>1900               </td><td> 960               </td><td>1342               </td><td>2211               </td><td> 931               </td><td>DL                 </td><td>2391               </td><td>N959DL             </td><td>JFK                </td><td>TPA                </td><td>139                </td><td>1005               </td><td>19                 </td><td> 0                 </td><td>2013-04-10 19:00:00</td></tr>\n",
       "</tbody>\n",
       "</table>\n"
      ],
      "text/latex": [
       "\\begin{tabular}{r|lllllllllllllllllll}\n",
       " year & month & day & dep\\_time & sched\\_dep\\_time & dep\\_delay & arr\\_time & sched\\_arr\\_time & arr\\_delay & carrier & flight & tailnum & origin & dest & air\\_time & distance & hour & minute & time\\_hour\\\\\n",
       "\\hline\n",
       "\t 2013                & 1                   &  9                  &  641                &  900                & 1301                & 1242                & 1530                & 1272                & HA                  &   51                & N384HA              & JFK                 & HNL                 & 640                 & 4983                &  9                  &  0                  & 2013-01-09 09:00:00\\\\\n",
       "\t 2013                & 6                   & 15                  & 1432                & 1935                & 1137                & 1607                & 2120                & 1127                & MQ                  & 3535                & N504MQ              & JFK                 & CMH                 &  74                 &  483                & 19                  & 35                  & 2013-06-15 19:00:00\\\\\n",
       "\t 2013                & 1                   & 10                  & 1121                & 1635                & 1126                & 1239                & 1810                & 1109                & MQ                  & 3695                & N517MQ              & EWR                 & ORD                 & 111                 &  719                & 16                  & 35                  & 2013-01-10 16:00:00\\\\\n",
       "\t 2013                & 9                   & 20                  & 1139                & 1845                & 1014                & 1457                & 2210                & 1007                & AA                  &  177                & N338AA              & JFK                 & SFO                 & 354                 & 2586                & 18                  & 45                  & 2013-09-20 18:00:00\\\\\n",
       "\t 2013                & 7                   & 22                  &  845                & 1600                & 1005                & 1044                & 1815                &  989                & MQ                  & 3075                & N665MQ              & JFK                 & CVG                 &  96                 &  589                & 16                  &  0                  & 2013-07-22 16:00:00\\\\\n",
       "\t 2013                & 4                   & 10                  & 1100                & 1900                &  960                & 1342                & 2211                &  931                & DL                  & 2391                & N959DL              & JFK                 & TPA                 & 139                 & 1005                & 19                  &  0                  & 2013-04-10 19:00:00\\\\\n",
       "\\end{tabular}\n"
      ],
      "text/markdown": [
       "\n",
       "year | month | day | dep_time | sched_dep_time | dep_delay | arr_time | sched_arr_time | arr_delay | carrier | flight | tailnum | origin | dest | air_time | distance | hour | minute | time_hour | \n",
       "|---|---|---|---|---|---|\n",
       "| 2013                | 1                   |  9                  |  641                |  900                | 1301                | 1242                | 1530                | 1272                | HA                  |   51                | N384HA              | JFK                 | HNL                 | 640                 | 4983                |  9                  |  0                  | 2013-01-09 09:00:00 | \n",
       "| 2013                | 6                   | 15                  | 1432                | 1935                | 1137                | 1607                | 2120                | 1127                | MQ                  | 3535                | N504MQ              | JFK                 | CMH                 |  74                 |  483                | 19                  | 35                  | 2013-06-15 19:00:00 | \n",
       "| 2013                | 1                   | 10                  | 1121                | 1635                | 1126                | 1239                | 1810                | 1109                | MQ                  | 3695                | N517MQ              | EWR                 | ORD                 | 111                 |  719                | 16                  | 35                  | 2013-01-10 16:00:00 | \n",
       "| 2013                | 9                   | 20                  | 1139                | 1845                | 1014                | 1457                | 2210                | 1007                | AA                  |  177                | N338AA              | JFK                 | SFO                 | 354                 | 2586                | 18                  | 45                  | 2013-09-20 18:00:00 | \n",
       "| 2013                | 7                   | 22                  |  845                | 1600                | 1005                | 1044                | 1815                |  989                | MQ                  | 3075                | N665MQ              | JFK                 | CVG                 |  96                 |  589                | 16                  |  0                  | 2013-07-22 16:00:00 | \n",
       "| 2013                | 4                   | 10                  | 1100                | 1900                |  960                | 1342                | 2211                |  931                | DL                  | 2391                | N959DL              | JFK                 | TPA                 | 139                 | 1005                | 19                  |  0                  | 2013-04-10 19:00:00 | \n",
       "\n",
       "\n"
      ],
      "text/plain": [
       "  year month day dep_time sched_dep_time dep_delay arr_time sched_arr_time\n",
       "1 2013 1      9   641      900           1301      1242     1530          \n",
       "2 2013 6     15  1432     1935           1137      1607     2120          \n",
       "3 2013 1     10  1121     1635           1126      1239     1810          \n",
       "4 2013 9     20  1139     1845           1014      1457     2210          \n",
       "5 2013 7     22   845     1600           1005      1044     1815          \n",
       "6 2013 4     10  1100     1900            960      1342     2211          \n",
       "  arr_delay carrier flight tailnum origin dest air_time distance hour minute\n",
       "1 1272      HA        51   N384HA  JFK    HNL  640      4983      9    0    \n",
       "2 1127      MQ      3535   N504MQ  JFK    CMH   74       483     19   35    \n",
       "3 1109      MQ      3695   N517MQ  EWR    ORD  111       719     16   35    \n",
       "4 1007      AA       177   N338AA  JFK    SFO  354      2586     18   45    \n",
       "5  989      MQ      3075   N665MQ  JFK    CVG   96       589     16    0    \n",
       "6  931      DL      2391   N959DL  JFK    TPA  139      1005     19    0    \n",
       "  time_hour          \n",
       "1 2013-01-09 09:00:00\n",
       "2 2013-06-15 19:00:00\n",
       "3 2013-01-10 16:00:00\n",
       "4 2013-09-20 18:00:00\n",
       "5 2013-07-22 16:00:00\n",
       "6 2013-04-10 19:00:00"
      ]
     },
     "metadata": {},
     "output_type": "display_data"
    }
   ],
   "source": [
    "head(arrange(flights,desc(dep_delay)))"
   ]
  },
  {
   "cell_type": "markdown",
   "metadata": {},
   "source": [
    "#### select()\n",
    "Often you work with large datasets with many columns but only a few are actually of interest to you. select() allows you to rapidly zoom in on a useful subset using operations that usually only work on numeric variable positions:"
   ]
  },
  {
   "cell_type": "code",
   "execution_count": 10,
   "metadata": {
    "collapsed": false
   },
   "outputs": [
    {
     "data": {
      "text/html": [
       "<table>\n",
       "<thead><tr><th scope=col>carrier</th></tr></thead>\n",
       "<tbody>\n",
       "\t<tr><td>UA</td></tr>\n",
       "\t<tr><td>UA</td></tr>\n",
       "\t<tr><td>AA</td></tr>\n",
       "\t<tr><td>B6</td></tr>\n",
       "\t<tr><td>DL</td></tr>\n",
       "\t<tr><td>UA</td></tr>\n",
       "</tbody>\n",
       "</table>\n"
      ],
      "text/latex": [
       "\\begin{tabular}{r|l}\n",
       " carrier\\\\\n",
       "\\hline\n",
       "\t UA\\\\\n",
       "\t UA\\\\\n",
       "\t AA\\\\\n",
       "\t B6\\\\\n",
       "\t DL\\\\\n",
       "\t UA\\\\\n",
       "\\end{tabular}\n"
      ],
      "text/markdown": [
       "\n",
       "carrier | \n",
       "|---|---|---|---|---|---|\n",
       "| UA | \n",
       "| UA | \n",
       "| AA | \n",
       "| B6 | \n",
       "| DL | \n",
       "| UA | \n",
       "\n",
       "\n"
      ],
      "text/plain": [
       "  carrier\n",
       "1 UA     \n",
       "2 UA     \n",
       "3 AA     \n",
       "4 B6     \n",
       "5 DL     \n",
       "6 UA     "
      ]
     },
     "metadata": {},
     "output_type": "display_data"
    }
   ],
   "source": [
    "head(select(flights,carrier))"
   ]
  },
  {
   "cell_type": "markdown",
   "metadata": {},
   "source": [
    "#### rename()\n",
    "You can use rename() to rename columns, note this is not \"in-place\" you'll need to reassign the renamed data structures"
   ]
  },
  {
   "cell_type": "code",
   "execution_count": 11,
   "metadata": {
    "collapsed": false
   },
   "outputs": [
    {
     "data": {
      "text/html": [
       "<table>\n",
       "<thead><tr><th scope=col>year</th><th scope=col>month</th><th scope=col>day</th><th scope=col>dep_time</th><th scope=col>sched_dep_time</th><th scope=col>dep_delay</th><th scope=col>arr_time</th><th scope=col>sched_arr_time</th><th scope=col>arr_delay</th><th scope=col>airline_car</th><th scope=col>flight</th><th scope=col>tailnum</th><th scope=col>origin</th><th scope=col>dest</th><th scope=col>air_time</th><th scope=col>distance</th><th scope=col>hour</th><th scope=col>minute</th><th scope=col>time_hour</th></tr></thead>\n",
       "<tbody>\n",
       "\t<tr><td>2013               </td><td>1                  </td><td>1                  </td><td>517                </td><td>515                </td><td> 2                 </td><td> 830               </td><td> 819               </td><td> 11                </td><td>UA                 </td><td>1545               </td><td>N14228             </td><td>EWR                </td><td>IAH                </td><td>227                </td><td>1400               </td><td>5                  </td><td>15                 </td><td>2013-01-01 05:00:00</td></tr>\n",
       "\t<tr><td>2013               </td><td>1                  </td><td>1                  </td><td>533                </td><td>529                </td><td> 4                 </td><td> 850               </td><td> 830               </td><td> 20                </td><td>UA                 </td><td>1714               </td><td>N24211             </td><td>LGA                </td><td>IAH                </td><td>227                </td><td>1416               </td><td>5                  </td><td>29                 </td><td>2013-01-01 05:00:00</td></tr>\n",
       "\t<tr><td>2013               </td><td>1                  </td><td>1                  </td><td>542                </td><td>540                </td><td> 2                 </td><td> 923               </td><td> 850               </td><td> 33                </td><td>AA                 </td><td>1141               </td><td>N619AA             </td><td>JFK                </td><td>MIA                </td><td>160                </td><td>1089               </td><td>5                  </td><td>40                 </td><td>2013-01-01 05:00:00</td></tr>\n",
       "\t<tr><td>2013               </td><td>1                  </td><td>1                  </td><td>544                </td><td>545                </td><td>-1                 </td><td>1004               </td><td>1022               </td><td>-18                </td><td>B6                 </td><td> 725               </td><td>N804JB             </td><td>JFK                </td><td>BQN                </td><td>183                </td><td>1576               </td><td>5                  </td><td>45                 </td><td>2013-01-01 05:00:00</td></tr>\n",
       "\t<tr><td>2013               </td><td>1                  </td><td>1                  </td><td>554                </td><td>600                </td><td>-6                 </td><td> 812               </td><td> 837               </td><td>-25                </td><td>DL                 </td><td> 461               </td><td>N668DN             </td><td>LGA                </td><td>ATL                </td><td>116                </td><td> 762               </td><td>6                  </td><td> 0                 </td><td>2013-01-01 06:00:00</td></tr>\n",
       "\t<tr><td>2013               </td><td>1                  </td><td>1                  </td><td>554                </td><td>558                </td><td>-4                 </td><td> 740               </td><td> 728               </td><td> 12                </td><td>UA                 </td><td>1696               </td><td>N39463             </td><td>EWR                </td><td>ORD                </td><td>150                </td><td> 719               </td><td>5                  </td><td>58                 </td><td>2013-01-01 05:00:00</td></tr>\n",
       "</tbody>\n",
       "</table>\n"
      ],
      "text/latex": [
       "\\begin{tabular}{r|lllllllllllllllllll}\n",
       " year & month & day & dep\\_time & sched\\_dep\\_time & dep\\_delay & arr\\_time & sched\\_arr\\_time & arr\\_delay & airline\\_car & flight & tailnum & origin & dest & air\\_time & distance & hour & minute & time\\_hour\\\\\n",
       "\\hline\n",
       "\t 2013                & 1                   & 1                   & 517                 & 515                 &  2                  &  830                &  819                &  11                 & UA                  & 1545                & N14228              & EWR                 & IAH                 & 227                 & 1400                & 5                   & 15                  & 2013-01-01 05:00:00\\\\\n",
       "\t 2013                & 1                   & 1                   & 533                 & 529                 &  4                  &  850                &  830                &  20                 & UA                  & 1714                & N24211              & LGA                 & IAH                 & 227                 & 1416                & 5                   & 29                  & 2013-01-01 05:00:00\\\\\n",
       "\t 2013                & 1                   & 1                   & 542                 & 540                 &  2                  &  923                &  850                &  33                 & AA                  & 1141                & N619AA              & JFK                 & MIA                 & 160                 & 1089                & 5                   & 40                  & 2013-01-01 05:00:00\\\\\n",
       "\t 2013                & 1                   & 1                   & 544                 & 545                 & -1                  & 1004                & 1022                & -18                 & B6                  &  725                & N804JB              & JFK                 & BQN                 & 183                 & 1576                & 5                   & 45                  & 2013-01-01 05:00:00\\\\\n",
       "\t 2013                & 1                   & 1                   & 554                 & 600                 & -6                  &  812                &  837                & -25                 & DL                  &  461                & N668DN              & LGA                 & ATL                 & 116                 &  762                & 6                   &  0                  & 2013-01-01 06:00:00\\\\\n",
       "\t 2013                & 1                   & 1                   & 554                 & 558                 & -4                  &  740                &  728                &  12                 & UA                  & 1696                & N39463              & EWR                 & ORD                 & 150                 &  719                & 5                   & 58                  & 2013-01-01 05:00:00\\\\\n",
       "\\end{tabular}\n"
      ],
      "text/markdown": [
       "\n",
       "year | month | day | dep_time | sched_dep_time | dep_delay | arr_time | sched_arr_time | arr_delay | airline_car | flight | tailnum | origin | dest | air_time | distance | hour | minute | time_hour | \n",
       "|---|---|---|---|---|---|\n",
       "| 2013                | 1                   | 1                   | 517                 | 515                 |  2                  |  830                |  819                |  11                 | UA                  | 1545                | N14228              | EWR                 | IAH                 | 227                 | 1400                | 5                   | 15                  | 2013-01-01 05:00:00 | \n",
       "| 2013                | 1                   | 1                   | 533                 | 529                 |  4                  |  850                |  830                |  20                 | UA                  | 1714                | N24211              | LGA                 | IAH                 | 227                 | 1416                | 5                   | 29                  | 2013-01-01 05:00:00 | \n",
       "| 2013                | 1                   | 1                   | 542                 | 540                 |  2                  |  923                |  850                |  33                 | AA                  | 1141                | N619AA              | JFK                 | MIA                 | 160                 | 1089                | 5                   | 40                  | 2013-01-01 05:00:00 | \n",
       "| 2013                | 1                   | 1                   | 544                 | 545                 | -1                  | 1004                | 1022                | -18                 | B6                  |  725                | N804JB              | JFK                 | BQN                 | 183                 | 1576                | 5                   | 45                  | 2013-01-01 05:00:00 | \n",
       "| 2013                | 1                   | 1                   | 554                 | 600                 | -6                  |  812                |  837                | -25                 | DL                  |  461                | N668DN              | LGA                 | ATL                 | 116                 |  762                | 6                   |  0                  | 2013-01-01 06:00:00 | \n",
       "| 2013                | 1                   | 1                   | 554                 | 558                 | -4                  |  740                |  728                |  12                 | UA                  | 1696                | N39463              | EWR                 | ORD                 | 150                 |  719                | 5                   | 58                  | 2013-01-01 05:00:00 | \n",
       "\n",
       "\n"
      ],
      "text/plain": [
       "  year month day dep_time sched_dep_time dep_delay arr_time sched_arr_time\n",
       "1 2013 1     1   517      515             2         830      819          \n",
       "2 2013 1     1   533      529             4         850      830          \n",
       "3 2013 1     1   542      540             2         923      850          \n",
       "4 2013 1     1   544      545            -1        1004     1022          \n",
       "5 2013 1     1   554      600            -6         812      837          \n",
       "6 2013 1     1   554      558            -4         740      728          \n",
       "  arr_delay airline_car flight tailnum origin dest air_time distance hour\n",
       "1  11       UA          1545   N14228  EWR    IAH  227      1400     5   \n",
       "2  20       UA          1714   N24211  LGA    IAH  227      1416     5   \n",
       "3  33       AA          1141   N619AA  JFK    MIA  160      1089     5   \n",
       "4 -18       B6           725   N804JB  JFK    BQN  183      1576     5   \n",
       "5 -25       DL           461   N668DN  LGA    ATL  116       762     6   \n",
       "6  12       UA          1696   N39463  EWR    ORD  150       719     5   \n",
       "  minute time_hour          \n",
       "1 15     2013-01-01 05:00:00\n",
       "2 29     2013-01-01 05:00:00\n",
       "3 40     2013-01-01 05:00:00\n",
       "4 45     2013-01-01 05:00:00\n",
       "5  0     2013-01-01 06:00:00\n",
       "6 58     2013-01-01 05:00:00"
      ]
     },
     "metadata": {},
     "output_type": "display_data"
    }
   ],
   "source": [
    "head(rename(flights,airline_car = carrier))"
   ]
  },
  {
   "cell_type": "markdown",
   "metadata": {},
   "source": [
    "#### distinct()\n",
    "A common use of select() is to find the values of a set of variables. This is particularly useful in conjunction with the distinct() verb which only returns the unique values in a table."
   ]
  },
  {
   "cell_type": "code",
   "execution_count": 12,
   "metadata": {
    "collapsed": false
   },
   "outputs": [
    {
     "data": {
      "text/html": [
       "<table>\n",
       "<thead><tr><th scope=col>carrier</th></tr></thead>\n",
       "<tbody>\n",
       "\t<tr><td>UA</td></tr>\n",
       "\t<tr><td>AA</td></tr>\n",
       "\t<tr><td>B6</td></tr>\n",
       "\t<tr><td>DL</td></tr>\n",
       "\t<tr><td>EV</td></tr>\n",
       "\t<tr><td>MQ</td></tr>\n",
       "\t<tr><td>US</td></tr>\n",
       "\t<tr><td>WN</td></tr>\n",
       "\t<tr><td>VX</td></tr>\n",
       "\t<tr><td>FL</td></tr>\n",
       "\t<tr><td>AS</td></tr>\n",
       "\t<tr><td>9E</td></tr>\n",
       "\t<tr><td>F9</td></tr>\n",
       "\t<tr><td>HA</td></tr>\n",
       "\t<tr><td>YV</td></tr>\n",
       "\t<tr><td>OO</td></tr>\n",
       "</tbody>\n",
       "</table>\n"
      ],
      "text/latex": [
       "\\begin{tabular}{r|l}\n",
       " carrier\\\\\n",
       "\\hline\n",
       "\t UA\\\\\n",
       "\t AA\\\\\n",
       "\t B6\\\\\n",
       "\t DL\\\\\n",
       "\t EV\\\\\n",
       "\t MQ\\\\\n",
       "\t US\\\\\n",
       "\t WN\\\\\n",
       "\t VX\\\\\n",
       "\t FL\\\\\n",
       "\t AS\\\\\n",
       "\t 9E\\\\\n",
       "\t F9\\\\\n",
       "\t HA\\\\\n",
       "\t YV\\\\\n",
       "\t OO\\\\\n",
       "\\end{tabular}\n"
      ],
      "text/markdown": [
       "\n",
       "carrier | \n",
       "|---|---|---|---|---|---|---|---|---|---|---|---|---|---|---|---|\n",
       "| UA | \n",
       "| AA | \n",
       "| B6 | \n",
       "| DL | \n",
       "| EV | \n",
       "| MQ | \n",
       "| US | \n",
       "| WN | \n",
       "| VX | \n",
       "| FL | \n",
       "| AS | \n",
       "| 9E | \n",
       "| F9 | \n",
       "| HA | \n",
       "| YV | \n",
       "| OO | \n",
       "\n",
       "\n"
      ],
      "text/plain": [
       "   carrier\n",
       "1  UA     \n",
       "2  AA     \n",
       "3  B6     \n",
       "4  DL     \n",
       "5  EV     \n",
       "6  MQ     \n",
       "7  US     \n",
       "8  WN     \n",
       "9  VX     \n",
       "10 FL     \n",
       "11 AS     \n",
       "12 9E     \n",
       "13 F9     \n",
       "14 HA     \n",
       "15 YV     \n",
       "16 OO     "
      ]
     },
     "metadata": {},
     "output_type": "display_data"
    }
   ],
   "source": [
    "distinct(select(flights,carrier))"
   ]
  },
  {
   "cell_type": "markdown",
   "metadata": {},
   "source": [
    "#### mutate()\n",
    "Besides selecting sets of existing columns, it’s often useful to add new columns that are functions of existing columns. This is the job of mutate():"
   ]
  },
  {
   "cell_type": "code",
   "execution_count": 13,
   "metadata": {
    "collapsed": false
   },
   "outputs": [
    {
     "data": {
      "text/html": [
       "<table>\n",
       "<thead><tr><th scope=col>year</th><th scope=col>month</th><th scope=col>day</th><th scope=col>dep_time</th><th scope=col>sched_dep_time</th><th scope=col>dep_delay</th><th scope=col>arr_time</th><th scope=col>sched_arr_time</th><th scope=col>arr_delay</th><th scope=col>carrier</th><th scope=col>flight</th><th scope=col>tailnum</th><th scope=col>origin</th><th scope=col>dest</th><th scope=col>air_time</th><th scope=col>distance</th><th scope=col>hour</th><th scope=col>minute</th><th scope=col>time_hour</th><th scope=col>new_col</th></tr></thead>\n",
       "<tbody>\n",
       "\t<tr><td>2013               </td><td>1                  </td><td>1                  </td><td>517                </td><td>515                </td><td> 2                 </td><td> 830               </td><td> 819               </td><td> 11                </td><td>UA                 </td><td>1545               </td><td>N14228             </td><td>EWR                </td><td>IAH                </td><td>227                </td><td>1400               </td><td>5                  </td><td>15                 </td><td>2013-01-01 05:00:00</td><td>  9                </td></tr>\n",
       "\t<tr><td>2013               </td><td>1                  </td><td>1                  </td><td>533                </td><td>529                </td><td> 4                 </td><td> 850               </td><td> 830               </td><td> 20                </td><td>UA                 </td><td>1714               </td><td>N24211             </td><td>LGA                </td><td>IAH                </td><td>227                </td><td>1416               </td><td>5                  </td><td>29                 </td><td>2013-01-01 05:00:00</td><td> 16                </td></tr>\n",
       "\t<tr><td>2013               </td><td>1                  </td><td>1                  </td><td>542                </td><td>540                </td><td> 2                 </td><td> 923               </td><td> 850               </td><td> 33                </td><td>AA                 </td><td>1141               </td><td>N619AA             </td><td>JFK                </td><td>MIA                </td><td>160                </td><td>1089               </td><td>5                  </td><td>40                 </td><td>2013-01-01 05:00:00</td><td> 31                </td></tr>\n",
       "\t<tr><td>2013               </td><td>1                  </td><td>1                  </td><td>544                </td><td>545                </td><td>-1                 </td><td>1004               </td><td>1022               </td><td>-18                </td><td>B6                 </td><td> 725               </td><td>N804JB             </td><td>JFK                </td><td>BQN                </td><td>183                </td><td>1576               </td><td>5                  </td><td>45                 </td><td>2013-01-01 05:00:00</td><td>-17                </td></tr>\n",
       "\t<tr><td>2013               </td><td>1                  </td><td>1                  </td><td>554                </td><td>600                </td><td>-6                 </td><td> 812               </td><td> 837               </td><td>-25                </td><td>DL                 </td><td> 461               </td><td>N668DN             </td><td>LGA                </td><td>ATL                </td><td>116                </td><td> 762               </td><td>6                  </td><td> 0                 </td><td>2013-01-01 06:00:00</td><td>-19                </td></tr>\n",
       "\t<tr><td>2013               </td><td>1                  </td><td>1                  </td><td>554                </td><td>558                </td><td>-4                 </td><td> 740               </td><td> 728               </td><td> 12                </td><td>UA                 </td><td>1696               </td><td>N39463             </td><td>EWR                </td><td>ORD                </td><td>150                </td><td> 719               </td><td>5                  </td><td>58                 </td><td>2013-01-01 05:00:00</td><td> 16                </td></tr>\n",
       "</tbody>\n",
       "</table>\n"
      ],
      "text/latex": [
       "\\begin{tabular}{r|llllllllllllllllllll}\n",
       " year & month & day & dep\\_time & sched\\_dep\\_time & dep\\_delay & arr\\_time & sched\\_arr\\_time & arr\\_delay & carrier & flight & tailnum & origin & dest & air\\_time & distance & hour & minute & time\\_hour & new\\_col\\\\\n",
       "\\hline\n",
       "\t 2013                & 1                   & 1                   & 517                 & 515                 &  2                  &  830                &  819                &  11                 & UA                  & 1545                & N14228              & EWR                 & IAH                 & 227                 & 1400                & 5                   & 15                  & 2013-01-01 05:00:00 &   9                \\\\\n",
       "\t 2013                & 1                   & 1                   & 533                 & 529                 &  4                  &  850                &  830                &  20                 & UA                  & 1714                & N24211              & LGA                 & IAH                 & 227                 & 1416                & 5                   & 29                  & 2013-01-01 05:00:00 &  16                \\\\\n",
       "\t 2013                & 1                   & 1                   & 542                 & 540                 &  2                  &  923                &  850                &  33                 & AA                  & 1141                & N619AA              & JFK                 & MIA                 & 160                 & 1089                & 5                   & 40                  & 2013-01-01 05:00:00 &  31                \\\\\n",
       "\t 2013                & 1                   & 1                   & 544                 & 545                 & -1                  & 1004                & 1022                & -18                 & B6                  &  725                & N804JB              & JFK                 & BQN                 & 183                 & 1576                & 5                   & 45                  & 2013-01-01 05:00:00 & -17                \\\\\n",
       "\t 2013                & 1                   & 1                   & 554                 & 600                 & -6                  &  812                &  837                & -25                 & DL                  &  461                & N668DN              & LGA                 & ATL                 & 116                 &  762                & 6                   &  0                  & 2013-01-01 06:00:00 & -19                \\\\\n",
       "\t 2013                & 1                   & 1                   & 554                 & 558                 & -4                  &  740                &  728                &  12                 & UA                  & 1696                & N39463              & EWR                 & ORD                 & 150                 &  719                & 5                   & 58                  & 2013-01-01 05:00:00 &  16                \\\\\n",
       "\\end{tabular}\n"
      ],
      "text/markdown": [
       "\n",
       "year | month | day | dep_time | sched_dep_time | dep_delay | arr_time | sched_arr_time | arr_delay | carrier | flight | tailnum | origin | dest | air_time | distance | hour | minute | time_hour | new_col | \n",
       "|---|---|---|---|---|---|\n",
       "| 2013                | 1                   | 1                   | 517                 | 515                 |  2                  |  830                |  819                |  11                 | UA                  | 1545                | N14228              | EWR                 | IAH                 | 227                 | 1400                | 5                   | 15                  | 2013-01-01 05:00:00 |   9                 | \n",
       "| 2013                | 1                   | 1                   | 533                 | 529                 |  4                  |  850                |  830                |  20                 | UA                  | 1714                | N24211              | LGA                 | IAH                 | 227                 | 1416                | 5                   | 29                  | 2013-01-01 05:00:00 |  16                 | \n",
       "| 2013                | 1                   | 1                   | 542                 | 540                 |  2                  |  923                |  850                |  33                 | AA                  | 1141                | N619AA              | JFK                 | MIA                 | 160                 | 1089                | 5                   | 40                  | 2013-01-01 05:00:00 |  31                 | \n",
       "| 2013                | 1                   | 1                   | 544                 | 545                 | -1                  | 1004                | 1022                | -18                 | B6                  |  725                | N804JB              | JFK                 | BQN                 | 183                 | 1576                | 5                   | 45                  | 2013-01-01 05:00:00 | -17                 | \n",
       "| 2013                | 1                   | 1                   | 554                 | 600                 | -6                  |  812                |  837                | -25                 | DL                  |  461                | N668DN              | LGA                 | ATL                 | 116                 |  762                | 6                   |  0                  | 2013-01-01 06:00:00 | -19                 | \n",
       "| 2013                | 1                   | 1                   | 554                 | 558                 | -4                  |  740                |  728                |  12                 | UA                  | 1696                | N39463              | EWR                 | ORD                 | 150                 |  719                | 5                   | 58                  | 2013-01-01 05:00:00 |  16                 | \n",
       "\n",
       "\n"
      ],
      "text/plain": [
       "  year month day dep_time sched_dep_time dep_delay arr_time sched_arr_time\n",
       "1 2013 1     1   517      515             2         830      819          \n",
       "2 2013 1     1   533      529             4         850      830          \n",
       "3 2013 1     1   542      540             2         923      850          \n",
       "4 2013 1     1   544      545            -1        1004     1022          \n",
       "5 2013 1     1   554      600            -6         812      837          \n",
       "6 2013 1     1   554      558            -4         740      728          \n",
       "  arr_delay carrier flight tailnum origin dest air_time distance hour minute\n",
       "1  11       UA      1545   N14228  EWR    IAH  227      1400     5    15    \n",
       "2  20       UA      1714   N24211  LGA    IAH  227      1416     5    29    \n",
       "3  33       AA      1141   N619AA  JFK    MIA  160      1089     5    40    \n",
       "4 -18       B6       725   N804JB  JFK    BQN  183      1576     5    45    \n",
       "5 -25       DL       461   N668DN  LGA    ATL  116       762     6     0    \n",
       "6  12       UA      1696   N39463  EWR    ORD  150       719     5    58    \n",
       "  time_hour           new_col\n",
       "1 2013-01-01 05:00:00   9    \n",
       "2 2013-01-01 05:00:00  16    \n",
       "3 2013-01-01 05:00:00  31    \n",
       "4 2013-01-01 05:00:00 -17    \n",
       "5 2013-01-01 06:00:00 -19    \n",
       "6 2013-01-01 05:00:00  16    "
      ]
     },
     "metadata": {},
     "output_type": "display_data"
    }
   ],
   "source": [
    "head(mutate(flights, new_col = arr_delay-dep_delay))"
   ]
  },
  {
   "cell_type": "markdown",
   "metadata": {},
   "source": [
    "#### transmute()\n",
    "Use transmute if you only want the new columns:"
   ]
  },
  {
   "cell_type": "code",
   "execution_count": 14,
   "metadata": {
    "collapsed": false
   },
   "outputs": [
    {
     "data": {
      "text/html": [
       "<table>\n",
       "<thead><tr><th scope=col>new_col</th></tr></thead>\n",
       "<tbody>\n",
       "\t<tr><td>  9</td></tr>\n",
       "\t<tr><td> 16</td></tr>\n",
       "\t<tr><td> 31</td></tr>\n",
       "\t<tr><td>-17</td></tr>\n",
       "\t<tr><td>-19</td></tr>\n",
       "\t<tr><td> 16</td></tr>\n",
       "</tbody>\n",
       "</table>\n"
      ],
      "text/latex": [
       "\\begin{tabular}{r|l}\n",
       " new\\_col\\\\\n",
       "\\hline\n",
       "\t   9\\\\\n",
       "\t  16\\\\\n",
       "\t  31\\\\\n",
       "\t -17\\\\\n",
       "\t -19\\\\\n",
       "\t  16\\\\\n",
       "\\end{tabular}\n"
      ],
      "text/markdown": [
       "\n",
       "new_col | \n",
       "|---|---|---|---|---|---|\n",
       "|   9 | \n",
       "|  16 | \n",
       "|  31 | \n",
       "| -17 | \n",
       "| -19 | \n",
       "|  16 | \n",
       "\n",
       "\n"
      ],
      "text/plain": [
       "  new_col\n",
       "1   9    \n",
       "2  16    \n",
       "3  31    \n",
       "4 -17    \n",
       "5 -19    \n",
       "6  16    "
      ]
     },
     "metadata": {},
     "output_type": "display_data"
    }
   ],
   "source": [
    "head(transmute(flights, new_col = arr_delay-dep_delay))"
   ]
  },
  {
   "cell_type": "markdown",
   "metadata": {},
   "source": [
    "#### summarise()\n",
    "You can use summarise() to quickly collapse data frames into single rows using functions that aggregate results. Remember to use na.rm=TRUE to remove NA values."
   ]
  },
  {
   "cell_type": "code",
   "execution_count": 16,
   "metadata": {
    "collapsed": false
   },
   "outputs": [
    {
     "data": {
      "text/html": [
       "<table>\n",
       "<thead><tr><th scope=col>avg_air_time</th></tr></thead>\n",
       "<tbody>\n",
       "\t<tr><td>150.6865</td></tr>\n",
       "</tbody>\n",
       "</table>\n"
      ],
      "text/latex": [
       "\\begin{tabular}{r|l}\n",
       " avg\\_air\\_time\\\\\n",
       "\\hline\n",
       "\t 150.6865\\\\\n",
       "\\end{tabular}\n"
      ],
      "text/markdown": [
       "\n",
       "avg_air_time | \n",
       "|---|\n",
       "| 150.6865 | \n",
       "\n",
       "\n"
      ],
      "text/plain": [
       "  avg_air_time\n",
       "1 150.6865    "
      ]
     },
     "metadata": {},
     "output_type": "display_data"
    }
   ],
   "source": [
    "summarise(flights,avg_air_time=mean(air_time,na.rm=TRUE))"
   ]
  },
  {
   "cell_type": "markdown",
   "metadata": {},
   "source": [
    "#### sample_n() and sample_frac()\n",
    "You can use sample_n() and sample_frac() to take a random sample of rows: use sample_n() for a fixed number and sample_frac() for a fixed fraction."
   ]
  },
  {
   "cell_type": "code",
   "execution_count": 15,
   "metadata": {
    "collapsed": false
   },
   "outputs": [
    {
     "data": {
      "text/html": [
       "<table>\n",
       "<thead><tr><th scope=col>year</th><th scope=col>month</th><th scope=col>day</th><th scope=col>dep_time</th><th scope=col>sched_dep_time</th><th scope=col>dep_delay</th><th scope=col>arr_time</th><th scope=col>sched_arr_time</th><th scope=col>arr_delay</th><th scope=col>carrier</th><th scope=col>flight</th><th scope=col>tailnum</th><th scope=col>origin</th><th scope=col>dest</th><th scope=col>air_time</th><th scope=col>distance</th><th scope=col>hour</th><th scope=col>minute</th><th scope=col>time_hour</th></tr></thead>\n",
       "<tbody>\n",
       "\t<tr><td>2013               </td><td> 2                 </td><td>11                 </td><td> 913               </td><td> 915               </td><td> -2                </td><td>1215               </td><td>1209               </td><td>  6                </td><td>UA                 </td><td>1020               </td><td>N12114             </td><td>EWR                </td><td>MCO                </td><td>135                </td><td> 937               </td><td> 9                 </td><td>15                 </td><td>2013-02-11 09:00:00</td></tr>\n",
       "\t<tr><td>2013               </td><td> 9                 </td><td> 9                 </td><td>1651               </td><td>1655               </td><td> -4                </td><td>1833               </td><td>1840               </td><td> -7                </td><td>MQ                 </td><td>3411               </td><td>N722MQ             </td><td>LGA                </td><td>RDU                </td><td> 70                </td><td> 431               </td><td>16                 </td><td>55                 </td><td>2013-09-09 16:00:00</td></tr>\n",
       "\t<tr><td>2013               </td><td>10                 </td><td>23                 </td><td>1441               </td><td>1445               </td><td> -4                </td><td>1541               </td><td>1611               </td><td>-30                </td><td>9E                 </td><td>3983               </td><td>N8969A             </td><td>JFK                </td><td>BWI                </td><td> 36                </td><td> 184               </td><td>14                 </td><td>45                 </td><td>2013-10-23 14:00:00</td></tr>\n",
       "\t<tr><td>2013               </td><td>10                 </td><td>18                 </td><td>1219               </td><td>1200               </td><td> 19                </td><td>1410               </td><td>1354               </td><td> 16                </td><td>US                 </td><td>1978               </td><td>N152UW             </td><td>JFK                </td><td>CLT                </td><td> 84                </td><td> 541               </td><td>12                 </td><td> 0                 </td><td>2013-10-18 12:00:00</td></tr>\n",
       "\t<tr><td>2013               </td><td> 2                 </td><td> 5                 </td><td> 700               </td><td> 705               </td><td> -5                </td><td>1025               </td><td>1020               </td><td>  5                </td><td>B6                 </td><td> 981               </td><td>N621JB             </td><td>JFK                </td><td>FLL                </td><td>160                </td><td>1069               </td><td> 7                 </td><td> 5                 </td><td>2013-02-05 07:00:00</td></tr>\n",
       "\t<tr><td>2013               </td><td> 9                 </td><td> 9                 </td><td>1201               </td><td>1210               </td><td> -9                </td><td>1341               </td><td>1330               </td><td> 11                </td><td>MQ                 </td><td>3461               </td><td>N527MQ             </td><td>LGA                </td><td>BNA                </td><td> 97                </td><td> 764               </td><td>12                 </td><td>10                 </td><td>2013-09-09 12:00:00</td></tr>\n",
       "\t<tr><td>2013               </td><td>11                 </td><td>30                 </td><td>1810               </td><td>1815               </td><td> -5                </td><td>2108               </td><td>2135               </td><td>-27                </td><td>AA                 </td><td>1611               </td><td>N3KYAA             </td><td>LGA                </td><td>MIA                </td><td>152                </td><td>1096               </td><td>18                 </td><td>15                 </td><td>2013-11-30 18:00:00</td></tr>\n",
       "\t<tr><td>2013               </td><td> 9                 </td><td> 3                 </td><td> 836               </td><td> 843               </td><td> -7                </td><td>1104               </td><td>1114               </td><td>-10                </td><td>EV                 </td><td>4388               </td><td>N19554             </td><td>EWR                </td><td>JAX                </td><td>121                </td><td> 820               </td><td> 8                 </td><td>43                 </td><td>2013-09-03 08:00:00</td></tr>\n",
       "\t<tr><td>2013               </td><td> 7                 </td><td>29                 </td><td>1454               </td><td>1445               </td><td>  9                </td><td>1613               </td><td>1603               </td><td> 10                </td><td>EV                 </td><td>6049               </td><td>N12967             </td><td>EWR                </td><td>IAD                </td><td> 45                </td><td> 212               </td><td>14                 </td><td>45                 </td><td>2013-07-29 14:00:00</td></tr>\n",
       "\t<tr><td>2013               </td><td> 5                 </td><td> 7                 </td><td>2149               </td><td>2159               </td><td>-10                </td><td>2247               </td><td>2313               </td><td>-26                </td><td>EV                 </td><td>3813               </td><td>N21537             </td><td>EWR                </td><td>BTV                </td><td> 43                </td><td> 266               </td><td>21                 </td><td>59                 </td><td>2013-05-07 21:00:00</td></tr>\n",
       "</tbody>\n",
       "</table>\n"
      ],
      "text/latex": [
       "\\begin{tabular}{r|lllllllllllllllllll}\n",
       " year & month & day & dep\\_time & sched\\_dep\\_time & dep\\_delay & arr\\_time & sched\\_arr\\_time & arr\\_delay & carrier & flight & tailnum & origin & dest & air\\_time & distance & hour & minute & time\\_hour\\\\\n",
       "\\hline\n",
       "\t 2013                &  2                  & 11                  &  913                &  915                &  -2                 & 1215                & 1209                &   6                 & UA                  & 1020                & N12114              & EWR                 & MCO                 & 135                 &  937                &  9                  & 15                  & 2013-02-11 09:00:00\\\\\n",
       "\t 2013                &  9                  &  9                  & 1651                & 1655                &  -4                 & 1833                & 1840                &  -7                 & MQ                  & 3411                & N722MQ              & LGA                 & RDU                 &  70                 &  431                & 16                  & 55                  & 2013-09-09 16:00:00\\\\\n",
       "\t 2013                & 10                  & 23                  & 1441                & 1445                &  -4                 & 1541                & 1611                & -30                 & 9E                  & 3983                & N8969A              & JFK                 & BWI                 &  36                 &  184                & 14                  & 45                  & 2013-10-23 14:00:00\\\\\n",
       "\t 2013                & 10                  & 18                  & 1219                & 1200                &  19                 & 1410                & 1354                &  16                 & US                  & 1978                & N152UW              & JFK                 & CLT                 &  84                 &  541                & 12                  &  0                  & 2013-10-18 12:00:00\\\\\n",
       "\t 2013                &  2                  &  5                  &  700                &  705                &  -5                 & 1025                & 1020                &   5                 & B6                  &  981                & N621JB              & JFK                 & FLL                 & 160                 & 1069                &  7                  &  5                  & 2013-02-05 07:00:00\\\\\n",
       "\t 2013                &  9                  &  9                  & 1201                & 1210                &  -9                 & 1341                & 1330                &  11                 & MQ                  & 3461                & N527MQ              & LGA                 & BNA                 &  97                 &  764                & 12                  & 10                  & 2013-09-09 12:00:00\\\\\n",
       "\t 2013                & 11                  & 30                  & 1810                & 1815                &  -5                 & 2108                & 2135                & -27                 & AA                  & 1611                & N3KYAA              & LGA                 & MIA                 & 152                 & 1096                & 18                  & 15                  & 2013-11-30 18:00:00\\\\\n",
       "\t 2013                &  9                  &  3                  &  836                &  843                &  -7                 & 1104                & 1114                & -10                 & EV                  & 4388                & N19554              & EWR                 & JAX                 & 121                 &  820                &  8                  & 43                  & 2013-09-03 08:00:00\\\\\n",
       "\t 2013                &  7                  & 29                  & 1454                & 1445                &   9                 & 1613                & 1603                &  10                 & EV                  & 6049                & N12967              & EWR                 & IAD                 &  45                 &  212                & 14                  & 45                  & 2013-07-29 14:00:00\\\\\n",
       "\t 2013                &  5                  &  7                  & 2149                & 2159                & -10                 & 2247                & 2313                & -26                 & EV                  & 3813                & N21537              & EWR                 & BTV                 &  43                 &  266                & 21                  & 59                  & 2013-05-07 21:00:00\\\\\n",
       "\\end{tabular}\n"
      ],
      "text/markdown": [
       "\n",
       "year | month | day | dep_time | sched_dep_time | dep_delay | arr_time | sched_arr_time | arr_delay | carrier | flight | tailnum | origin | dest | air_time | distance | hour | minute | time_hour | \n",
       "|---|---|---|---|---|---|---|---|---|---|\n",
       "| 2013                |  2                  | 11                  |  913                |  915                |  -2                 | 1215                | 1209                |   6                 | UA                  | 1020                | N12114              | EWR                 | MCO                 | 135                 |  937                |  9                  | 15                  | 2013-02-11 09:00:00 | \n",
       "| 2013                |  9                  |  9                  | 1651                | 1655                |  -4                 | 1833                | 1840                |  -7                 | MQ                  | 3411                | N722MQ              | LGA                 | RDU                 |  70                 |  431                | 16                  | 55                  | 2013-09-09 16:00:00 | \n",
       "| 2013                | 10                  | 23                  | 1441                | 1445                |  -4                 | 1541                | 1611                | -30                 | 9E                  | 3983                | N8969A              | JFK                 | BWI                 |  36                 |  184                | 14                  | 45                  | 2013-10-23 14:00:00 | \n",
       "| 2013                | 10                  | 18                  | 1219                | 1200                |  19                 | 1410                | 1354                |  16                 | US                  | 1978                | N152UW              | JFK                 | CLT                 |  84                 |  541                | 12                  |  0                  | 2013-10-18 12:00:00 | \n",
       "| 2013                |  2                  |  5                  |  700                |  705                |  -5                 | 1025                | 1020                |   5                 | B6                  |  981                | N621JB              | JFK                 | FLL                 | 160                 | 1069                |  7                  |  5                  | 2013-02-05 07:00:00 | \n",
       "| 2013                |  9                  |  9                  | 1201                | 1210                |  -9                 | 1341                | 1330                |  11                 | MQ                  | 3461                | N527MQ              | LGA                 | BNA                 |  97                 |  764                | 12                  | 10                  | 2013-09-09 12:00:00 | \n",
       "| 2013                | 11                  | 30                  | 1810                | 1815                |  -5                 | 2108                | 2135                | -27                 | AA                  | 1611                | N3KYAA              | LGA                 | MIA                 | 152                 | 1096                | 18                  | 15                  | 2013-11-30 18:00:00 | \n",
       "| 2013                |  9                  |  3                  |  836                |  843                |  -7                 | 1104                | 1114                | -10                 | EV                  | 4388                | N19554              | EWR                 | JAX                 | 121                 |  820                |  8                  | 43                  | 2013-09-03 08:00:00 | \n",
       "| 2013                |  7                  | 29                  | 1454                | 1445                |   9                 | 1613                | 1603                |  10                 | EV                  | 6049                | N12967              | EWR                 | IAD                 |  45                 |  212                | 14                  | 45                  | 2013-07-29 14:00:00 | \n",
       "| 2013                |  5                  |  7                  | 2149                | 2159                | -10                 | 2247                | 2313                | -26                 | EV                  | 3813                | N21537              | EWR                 | BTV                 |  43                 |  266                | 21                  | 59                  | 2013-05-07 21:00:00 | \n",
       "\n",
       "\n"
      ],
      "text/plain": [
       "   year month day dep_time sched_dep_time dep_delay arr_time sched_arr_time\n",
       "1  2013  2    11   913      915            -2       1215     1209          \n",
       "2  2013  9     9  1651     1655            -4       1833     1840          \n",
       "3  2013 10    23  1441     1445            -4       1541     1611          \n",
       "4  2013 10    18  1219     1200            19       1410     1354          \n",
       "5  2013  2     5   700      705            -5       1025     1020          \n",
       "6  2013  9     9  1201     1210            -9       1341     1330          \n",
       "7  2013 11    30  1810     1815            -5       2108     2135          \n",
       "8  2013  9     3   836      843            -7       1104     1114          \n",
       "9  2013  7    29  1454     1445             9       1613     1603          \n",
       "10 2013  5     7  2149     2159           -10       2247     2313          \n",
       "   arr_delay carrier flight tailnum origin dest air_time distance hour minute\n",
       "1    6       UA      1020   N12114  EWR    MCO  135       937      9   15    \n",
       "2   -7       MQ      3411   N722MQ  LGA    RDU   70       431     16   55    \n",
       "3  -30       9E      3983   N8969A  JFK    BWI   36       184     14   45    \n",
       "4   16       US      1978   N152UW  JFK    CLT   84       541     12    0    \n",
       "5    5       B6       981   N621JB  JFK    FLL  160      1069      7    5    \n",
       "6   11       MQ      3461   N527MQ  LGA    BNA   97       764     12   10    \n",
       "7  -27       AA      1611   N3KYAA  LGA    MIA  152      1096     18   15    \n",
       "8  -10       EV      4388   N19554  EWR    JAX  121       820      8   43    \n",
       "9   10       EV      6049   N12967  EWR    IAD   45       212     14   45    \n",
       "10 -26       EV      3813   N21537  EWR    BTV   43       266     21   59    \n",
       "   time_hour          \n",
       "1  2013-02-11 09:00:00\n",
       "2  2013-09-09 16:00:00\n",
       "3  2013-10-23 14:00:00\n",
       "4  2013-10-18 12:00:00\n",
       "5  2013-02-05 07:00:00\n",
       "6  2013-09-09 12:00:00\n",
       "7  2013-11-30 18:00:00\n",
       "8  2013-09-03 08:00:00\n",
       "9  2013-07-29 14:00:00\n",
       "10 2013-05-07 21:00:00"
      ]
     },
     "metadata": {},
     "output_type": "display_data"
    }
   ],
   "source": [
    "sample_n(flights,10)"
   ]
  },
  {
   "cell_type": "code",
   "execution_count": 16,
   "metadata": {
    "collapsed": false
   },
   "outputs": [
    {
     "data": {
      "text/html": [
       "<table>\n",
       "<thead><tr><th scope=col>year</th><th scope=col>month</th><th scope=col>day</th><th scope=col>dep_time</th><th scope=col>sched_dep_time</th><th scope=col>dep_delay</th><th scope=col>arr_time</th><th scope=col>sched_arr_time</th><th scope=col>arr_delay</th><th scope=col>carrier</th><th scope=col>flight</th><th scope=col>tailnum</th><th scope=col>origin</th><th scope=col>dest</th><th scope=col>air_time</th><th scope=col>distance</th><th scope=col>hour</th><th scope=col>minute</th><th scope=col>time_hour</th></tr></thead>\n",
       "<tbody>\n",
       "\t<tr><td>2013               </td><td> 5                 </td><td> 6                 </td><td>1459               </td><td>1459               </td><td>  0                </td><td>1712               </td><td>1732               </td><td>-20                </td><td>DL                 </td><td>2347               </td><td>N668DN             </td><td>LGA                </td><td>ATL                </td><td>106                </td><td> 762               </td><td>14                 </td><td>59                 </td><td>2013-05-06 14:00:00</td></tr>\n",
       "\t<tr><td>2013               </td><td> 1                 </td><td>25                 </td><td>1000               </td><td>1005               </td><td> -5                </td><td>1257               </td><td>1303               </td><td> -6                </td><td>DL                 </td><td>1529               </td><td>N3746H             </td><td>JFK                </td><td>LAS                </td><td>327                </td><td>2248               </td><td>10                 </td><td> 5                 </td><td>2013-01-25 10:00:00</td></tr>\n",
       "\t<tr><td>2013               </td><td> 5                 </td><td>16                 </td><td>2105               </td><td>2055               </td><td> 10                </td><td>2226               </td><td>2225               </td><td>  1                </td><td>WN                 </td><td>1731               </td><td>N290WN             </td><td>LGA                </td><td>MDW                </td><td>114                </td><td> 725               </td><td>20                 </td><td>55                 </td><td>2013-05-16 20:00:00</td></tr>\n",
       "\t<tr><td>2013               </td><td> 9                 </td><td> 4                 </td><td>1532               </td><td>1545               </td><td>-13                </td><td>1657               </td><td>1733               </td><td>-36                </td><td>9E                 </td><td>3459               </td><td>N925XJ             </td><td>JFK                </td><td>BNA                </td><td>103                </td><td> 765               </td><td>15                 </td><td>45                 </td><td>2013-09-04 15:00:00</td></tr>\n",
       "\t<tr><td>2013               </td><td> 9                 </td><td>24                 </td><td>1426               </td><td>1429               </td><td> -3                </td><td>1715               </td><td>1730               </td><td>-15                </td><td>B6                 </td><td> 301               </td><td>N535JB             </td><td>JFK                </td><td>FLL                </td><td>146                </td><td>1069               </td><td>14                 </td><td>29                 </td><td>2013-09-24 14:00:00</td></tr>\n",
       "\t<tr><td>2013               </td><td>12                 </td><td>14                 </td><td> 741               </td><td> 745               </td><td> -4                </td><td> 922               </td><td> 930               </td><td> -8                </td><td>9E                 </td><td>2935               </td><td>N909XJ             </td><td>JFK                </td><td>PIT                </td><td> 71                </td><td> 340               </td><td> 7                 </td><td>45                 </td><td>2013-12-14 07:00:00</td></tr>\n",
       "\t<tr><td>2013               </td><td> 7                 </td><td>26                 </td><td>1540               </td><td>1545               </td><td> -5                </td><td>1918               </td><td>1906               </td><td> 12                </td><td>DL                 </td><td>1982               </td><td>N959DL             </td><td>LGA                </td><td>MIA                </td><td>157                </td><td>1096               </td><td>15                 </td><td>45                 </td><td>2013-07-26 15:00:00</td></tr>\n",
       "\t<tr><td>2013               </td><td> 3                 </td><td> 2                 </td><td>1555               </td><td>1600               </td><td> -5                </td><td>1905               </td><td>1926               </td><td>-21                </td><td>DL                 </td><td>1043               </td><td>N3772H             </td><td>JFK                </td><td>SEA                </td><td>341                </td><td>2422               </td><td>16                 </td><td> 0                 </td><td>2013-03-02 16:00:00</td></tr>\n",
       "\t<tr><td>2013               </td><td> 4                 </td><td> 4                 </td><td>1758               </td><td>1805               </td><td> -7                </td><td>1931               </td><td>1945               </td><td>-14                </td><td>9E                 </td><td>4019               </td><td>N8886A             </td><td>JFK                </td><td>RIC                </td><td> 56                </td><td> 288               </td><td>18                 </td><td> 5                 </td><td>2013-04-04 18:00:00</td></tr>\n",
       "\t<tr><td>2013               </td><td> 4                 </td><td>17                 </td><td>1642               </td><td>1631               </td><td> 11                </td><td>1821               </td><td>1757               </td><td> 24                </td><td>EV                 </td><td>4463               </td><td>N16541             </td><td>EWR                </td><td>RIC                </td><td> 57                </td><td> 277               </td><td>16                 </td><td>31                 </td><td>2013-04-17 16:00:00</td></tr>\n",
       "\t<tr><td>2013               </td><td> 8                 </td><td>17                 </td><td>1603               </td><td>1605               </td><td> -2                </td><td>1903               </td><td>1926               </td><td>-23                </td><td>DL                 </td><td>1543               </td><td>N185DN             </td><td>JFK                </td><td>SEA                </td><td>316                </td><td>2422               </td><td>16                 </td><td> 5                 </td><td>2013-08-17 16:00:00</td></tr>\n",
       "\t<tr><td>2013               </td><td> 9                 </td><td>17                 </td><td>1647               </td><td>1649               </td><td> -2                </td><td>1901               </td><td>1903               </td><td> -2                </td><td>EV                 </td><td>4294               </td><td>N13949             </td><td>EWR                </td><td>SAV                </td><td>104                </td><td> 708               </td><td>16                 </td><td>49                 </td><td>2013-09-17 16:00:00</td></tr>\n",
       "\t<tr><td>2013               </td><td>12                 </td><td> 5                 </td><td> 859               </td><td> 900               </td><td> -1                </td><td>1228               </td><td>1206               </td><td> 22                </td><td>B6                 </td><td>1701               </td><td>N637JB             </td><td>JFK                </td><td>FLL                </td><td>155                </td><td>1069               </td><td> 9                 </td><td> 0                 </td><td>2013-12-05 09:00:00</td></tr>\n",
       "\t<tr><td>2013               </td><td>11                 </td><td>25                 </td><td>1341               </td><td>1343               </td><td> -2                </td><td>1525               </td><td>1551               </td><td>-26                </td><td>US                 </td><td>1802               </td><td>N760US             </td><td>JFK                </td><td>CLT                </td><td> 86                </td><td> 541               </td><td>13                 </td><td>43                 </td><td>2013-11-25 13:00:00</td></tr>\n",
       "\t<tr><td>2013               </td><td> 6                 </td><td>18                 </td><td> 623               </td><td> 630               </td><td> -7                </td><td> 815               </td><td> 825               </td><td>-10                </td><td>MQ                 </td><td>3676               </td><td>N511MQ             </td><td>LGA                </td><td>CLT                </td><td> 90                </td><td> 544               </td><td> 6                 </td><td>30                 </td><td>2013-06-18 06:00:00</td></tr>\n",
       "\t<tr><td>2013               </td><td> 9                 </td><td>22                 </td><td>1755               </td><td>1759               </td><td> -4                </td><td>1919               </td><td>1938               </td><td>-19                </td><td>UA                 </td><td> 691               </td><td>N460UA             </td><td>LGA                </td><td>ORD                </td><td>115                </td><td> 733               </td><td>17                 </td><td>59                 </td><td>2013-09-22 17:00:00</td></tr>\n",
       "\t<tr><td>2013               </td><td>10                 </td><td>24                 </td><td>1022               </td><td> 955               </td><td> 27                </td><td>1130               </td><td>1110               </td><td> 20                </td><td>B6                 </td><td> 586               </td><td>N247JB             </td><td>JFK                </td><td>ROC                </td><td> 51                </td><td> 264               </td><td> 9                 </td><td>55                 </td><td>2013-10-24 09:00:00</td></tr>\n",
       "</tbody>\n",
       "</table>\n"
      ],
      "text/latex": [
       "\\begin{tabular}{r|lllllllllllllllllll}\n",
       " year & month & day & dep\\_time & sched\\_dep\\_time & dep\\_delay & arr\\_time & sched\\_arr\\_time & arr\\_delay & carrier & flight & tailnum & origin & dest & air\\_time & distance & hour & minute & time\\_hour\\\\\n",
       "\\hline\n",
       "\t 2013                &  5                  &  6                  & 1459                & 1459                &   0                 & 1712                & 1732                & -20                 & DL                  & 2347                & N668DN              & LGA                 & ATL                 & 106                 &  762                & 14                  & 59                  & 2013-05-06 14:00:00\\\\\n",
       "\t 2013                &  1                  & 25                  & 1000                & 1005                &  -5                 & 1257                & 1303                &  -6                 & DL                  & 1529                & N3746H              & JFK                 & LAS                 & 327                 & 2248                & 10                  &  5                  & 2013-01-25 10:00:00\\\\\n",
       "\t 2013                &  5                  & 16                  & 2105                & 2055                &  10                 & 2226                & 2225                &   1                 & WN                  & 1731                & N290WN              & LGA                 & MDW                 & 114                 &  725                & 20                  & 55                  & 2013-05-16 20:00:00\\\\\n",
       "\t 2013                &  9                  &  4                  & 1532                & 1545                & -13                 & 1657                & 1733                & -36                 & 9E                  & 3459                & N925XJ              & JFK                 & BNA                 & 103                 &  765                & 15                  & 45                  & 2013-09-04 15:00:00\\\\\n",
       "\t 2013                &  9                  & 24                  & 1426                & 1429                &  -3                 & 1715                & 1730                & -15                 & B6                  &  301                & N535JB              & JFK                 & FLL                 & 146                 & 1069                & 14                  & 29                  & 2013-09-24 14:00:00\\\\\n",
       "\t 2013                & 12                  & 14                  &  741                &  745                &  -4                 &  922                &  930                &  -8                 & 9E                  & 2935                & N909XJ              & JFK                 & PIT                 &  71                 &  340                &  7                  & 45                  & 2013-12-14 07:00:00\\\\\n",
       "\t 2013                &  7                  & 26                  & 1540                & 1545                &  -5                 & 1918                & 1906                &  12                 & DL                  & 1982                & N959DL              & LGA                 & MIA                 & 157                 & 1096                & 15                  & 45                  & 2013-07-26 15:00:00\\\\\n",
       "\t 2013                &  3                  &  2                  & 1555                & 1600                &  -5                 & 1905                & 1926                & -21                 & DL                  & 1043                & N3772H              & JFK                 & SEA                 & 341                 & 2422                & 16                  &  0                  & 2013-03-02 16:00:00\\\\\n",
       "\t 2013                &  4                  &  4                  & 1758                & 1805                &  -7                 & 1931                & 1945                & -14                 & 9E                  & 4019                & N8886A              & JFK                 & RIC                 &  56                 &  288                & 18                  &  5                  & 2013-04-04 18:00:00\\\\\n",
       "\t 2013                &  4                  & 17                  & 1642                & 1631                &  11                 & 1821                & 1757                &  24                 & EV                  & 4463                & N16541              & EWR                 & RIC                 &  57                 &  277                & 16                  & 31                  & 2013-04-17 16:00:00\\\\\n",
       "\t 2013                &  8                  & 17                  & 1603                & 1605                &  -2                 & 1903                & 1926                & -23                 & DL                  & 1543                & N185DN              & JFK                 & SEA                 & 316                 & 2422                & 16                  &  5                  & 2013-08-17 16:00:00\\\\\n",
       "\t 2013                &  9                  & 17                  & 1647                & 1649                &  -2                 & 1901                & 1903                &  -2                 & EV                  & 4294                & N13949              & EWR                 & SAV                 & 104                 &  708                & 16                  & 49                  & 2013-09-17 16:00:00\\\\\n",
       "\t 2013                & 12                  &  5                  &  859                &  900                &  -1                 & 1228                & 1206                &  22                 & B6                  & 1701                & N637JB              & JFK                 & FLL                 & 155                 & 1069                &  9                  &  0                  & 2013-12-05 09:00:00\\\\\n",
       "\t 2013                & 11                  & 25                  & 1341                & 1343                &  -2                 & 1525                & 1551                & -26                 & US                  & 1802                & N760US              & JFK                 & CLT                 &  86                 &  541                & 13                  & 43                  & 2013-11-25 13:00:00\\\\\n",
       "\t 2013                &  6                  & 18                  &  623                &  630                &  -7                 &  815                &  825                & -10                 & MQ                  & 3676                & N511MQ              & LGA                 & CLT                 &  90                 &  544                &  6                  & 30                  & 2013-06-18 06:00:00\\\\\n",
       "\t 2013                &  9                  & 22                  & 1755                & 1759                &  -4                 & 1919                & 1938                & -19                 & UA                  &  691                & N460UA              & LGA                 & ORD                 & 115                 &  733                & 17                  & 59                  & 2013-09-22 17:00:00\\\\\n",
       "\t 2013                & 10                  & 24                  & 1022                &  955                &  27                 & 1130                & 1110                &  20                 & B6                  &  586                & N247JB              & JFK                 & ROC                 &  51                 &  264                &  9                  & 55                  & 2013-10-24 09:00:00\\\\\n",
       "\\end{tabular}\n"
      ],
      "text/markdown": [
       "\n",
       "year | month | day | dep_time | sched_dep_time | dep_delay | arr_time | sched_arr_time | arr_delay | carrier | flight | tailnum | origin | dest | air_time | distance | hour | minute | time_hour | \n",
       "|---|---|---|---|---|---|---|---|---|---|---|---|---|---|---|---|---|\n",
       "| 2013                |  5                  |  6                  | 1459                | 1459                |   0                 | 1712                | 1732                | -20                 | DL                  | 2347                | N668DN              | LGA                 | ATL                 | 106                 |  762                | 14                  | 59                  | 2013-05-06 14:00:00 | \n",
       "| 2013                |  1                  | 25                  | 1000                | 1005                |  -5                 | 1257                | 1303                |  -6                 | DL                  | 1529                | N3746H              | JFK                 | LAS                 | 327                 | 2248                | 10                  |  5                  | 2013-01-25 10:00:00 | \n",
       "| 2013                |  5                  | 16                  | 2105                | 2055                |  10                 | 2226                | 2225                |   1                 | WN                  | 1731                | N290WN              | LGA                 | MDW                 | 114                 |  725                | 20                  | 55                  | 2013-05-16 20:00:00 | \n",
       "| 2013                |  9                  |  4                  | 1532                | 1545                | -13                 | 1657                | 1733                | -36                 | 9E                  | 3459                | N925XJ              | JFK                 | BNA                 | 103                 |  765                | 15                  | 45                  | 2013-09-04 15:00:00 | \n",
       "| 2013                |  9                  | 24                  | 1426                | 1429                |  -3                 | 1715                | 1730                | -15                 | B6                  |  301                | N535JB              | JFK                 | FLL                 | 146                 | 1069                | 14                  | 29                  | 2013-09-24 14:00:00 | \n",
       "| 2013                | 12                  | 14                  |  741                |  745                |  -4                 |  922                |  930                |  -8                 | 9E                  | 2935                | N909XJ              | JFK                 | PIT                 |  71                 |  340                |  7                  | 45                  | 2013-12-14 07:00:00 | \n",
       "| 2013                |  7                  | 26                  | 1540                | 1545                |  -5                 | 1918                | 1906                |  12                 | DL                  | 1982                | N959DL              | LGA                 | MIA                 | 157                 | 1096                | 15                  | 45                  | 2013-07-26 15:00:00 | \n",
       "| 2013                |  3                  |  2                  | 1555                | 1600                |  -5                 | 1905                | 1926                | -21                 | DL                  | 1043                | N3772H              | JFK                 | SEA                 | 341                 | 2422                | 16                  |  0                  | 2013-03-02 16:00:00 | \n",
       "| 2013                |  4                  |  4                  | 1758                | 1805                |  -7                 | 1931                | 1945                | -14                 | 9E                  | 4019                | N8886A              | JFK                 | RIC                 |  56                 |  288                | 18                  |  5                  | 2013-04-04 18:00:00 | \n",
       "| 2013                |  4                  | 17                  | 1642                | 1631                |  11                 | 1821                | 1757                |  24                 | EV                  | 4463                | N16541              | EWR                 | RIC                 |  57                 |  277                | 16                  | 31                  | 2013-04-17 16:00:00 | \n",
       "| 2013                |  8                  | 17                  | 1603                | 1605                |  -2                 | 1903                | 1926                | -23                 | DL                  | 1543                | N185DN              | JFK                 | SEA                 | 316                 | 2422                | 16                  |  5                  | 2013-08-17 16:00:00 | \n",
       "| 2013                |  9                  | 17                  | 1647                | 1649                |  -2                 | 1901                | 1903                |  -2                 | EV                  | 4294                | N13949              | EWR                 | SAV                 | 104                 |  708                | 16                  | 49                  | 2013-09-17 16:00:00 | \n",
       "| 2013                | 12                  |  5                  |  859                |  900                |  -1                 | 1228                | 1206                |  22                 | B6                  | 1701                | N637JB              | JFK                 | FLL                 | 155                 | 1069                |  9                  |  0                  | 2013-12-05 09:00:00 | \n",
       "| 2013                | 11                  | 25                  | 1341                | 1343                |  -2                 | 1525                | 1551                | -26                 | US                  | 1802                | N760US              | JFK                 | CLT                 |  86                 |  541                | 13                  | 43                  | 2013-11-25 13:00:00 | \n",
       "| 2013                |  6                  | 18                  |  623                |  630                |  -7                 |  815                |  825                | -10                 | MQ                  | 3676                | N511MQ              | LGA                 | CLT                 |  90                 |  544                |  6                  | 30                  | 2013-06-18 06:00:00 | \n",
       "| 2013                |  9                  | 22                  | 1755                | 1759                |  -4                 | 1919                | 1938                | -19                 | UA                  |  691                | N460UA              | LGA                 | ORD                 | 115                 |  733                | 17                  | 59                  | 2013-09-22 17:00:00 | \n",
       "| 2013                | 10                  | 24                  | 1022                |  955                |  27                 | 1130                | 1110                |  20                 | B6                  |  586                | N247JB              | JFK                 | ROC                 |  51                 |  264                |  9                  | 55                  | 2013-10-24 09:00:00 | \n",
       "\n",
       "\n"
      ],
      "text/plain": [
       "   year month day dep_time sched_dep_time dep_delay arr_time sched_arr_time\n",
       "1  2013  5     6  1459     1459             0       1712     1732          \n",
       "2  2013  1    25  1000     1005            -5       1257     1303          \n",
       "3  2013  5    16  2105     2055            10       2226     2225          \n",
       "4  2013  9     4  1532     1545           -13       1657     1733          \n",
       "5  2013  9    24  1426     1429            -3       1715     1730          \n",
       "6  2013 12    14   741      745            -4        922      930          \n",
       "7  2013  7    26  1540     1545            -5       1918     1906          \n",
       "8  2013  3     2  1555     1600            -5       1905     1926          \n",
       "9  2013  4     4  1758     1805            -7       1931     1945          \n",
       "10 2013  4    17  1642     1631            11       1821     1757          \n",
       "11 2013  8    17  1603     1605            -2       1903     1926          \n",
       "12 2013  9    17  1647     1649            -2       1901     1903          \n",
       "13 2013 12     5   859      900            -1       1228     1206          \n",
       "14 2013 11    25  1341     1343            -2       1525     1551          \n",
       "15 2013  6    18   623      630            -7        815      825          \n",
       "16 2013  9    22  1755     1759            -4       1919     1938          \n",
       "17 2013 10    24  1022      955            27       1130     1110          \n",
       "   arr_delay carrier flight tailnum origin dest air_time distance hour minute\n",
       "1  -20       DL      2347   N668DN  LGA    ATL  106       762     14   59    \n",
       "2   -6       DL      1529   N3746H  JFK    LAS  327      2248     10    5    \n",
       "3    1       WN      1731   N290WN  LGA    MDW  114       725     20   55    \n",
       "4  -36       9E      3459   N925XJ  JFK    BNA  103       765     15   45    \n",
       "5  -15       B6       301   N535JB  JFK    FLL  146      1069     14   29    \n",
       "6   -8       9E      2935   N909XJ  JFK    PIT   71       340      7   45    \n",
       "7   12       DL      1982   N959DL  LGA    MIA  157      1096     15   45    \n",
       "8  -21       DL      1043   N3772H  JFK    SEA  341      2422     16    0    \n",
       "9  -14       9E      4019   N8886A  JFK    RIC   56       288     18    5    \n",
       "10  24       EV      4463   N16541  EWR    RIC   57       277     16   31    \n",
       "11 -23       DL      1543   N185DN  JFK    SEA  316      2422     16    5    \n",
       "12  -2       EV      4294   N13949  EWR    SAV  104       708     16   49    \n",
       "13  22       B6      1701   N637JB  JFK    FLL  155      1069      9    0    \n",
       "14 -26       US      1802   N760US  JFK    CLT   86       541     13   43    \n",
       "15 -10       MQ      3676   N511MQ  LGA    CLT   90       544      6   30    \n",
       "16 -19       UA       691   N460UA  LGA    ORD  115       733     17   59    \n",
       "17  20       B6       586   N247JB  JFK    ROC   51       264      9   55    \n",
       "   time_hour          \n",
       "1  2013-05-06 14:00:00\n",
       "2  2013-01-25 10:00:00\n",
       "3  2013-05-16 20:00:00\n",
       "4  2013-09-04 15:00:00\n",
       "5  2013-09-24 14:00:00\n",
       "6  2013-12-14 07:00:00\n",
       "7  2013-07-26 15:00:00\n",
       "8  2013-03-02 16:00:00\n",
       "9  2013-04-04 18:00:00\n",
       "10 2013-04-17 16:00:00\n",
       "11 2013-08-17 16:00:00\n",
       "12 2013-09-17 16:00:00\n",
       "13 2013-12-05 09:00:00\n",
       "14 2013-11-25 13:00:00\n",
       "15 2013-06-18 06:00:00\n",
       "16 2013-09-22 17:00:00\n",
       "17 2013-10-24 09:00:00"
      ]
     },
     "metadata": {},
     "output_type": "display_data"
    }
   ],
   "source": [
    "# .005% of the data\n",
    "sample_frac(flights,0.00005) # USE replace=TRUE for bootstrap sampling"
   ]
  },
  {
   "cell_type": "markdown",
   "metadata": {
    "collapsed": true
   },
   "source": [
    "#### group_by()"
   ]
  },
  {
   "cell_type": "code",
   "execution_count": 21,
   "metadata": {
    "collapsed": false
   },
   "outputs": [
    {
     "data": {
      "text/html": [
       "<ol class=list-inline>\n",
       "\t<li>336776</li>\n",
       "\t<li>19</li>\n",
       "</ol>\n"
      ],
      "text/latex": [
       "\\begin{enumerate*}\n",
       "\\item 336776\n",
       "\\item 19\n",
       "\\end{enumerate*}\n"
      ],
      "text/markdown": [
       "1. 336776\n",
       "2. 19\n",
       "\n",
       "\n"
      ],
      "text/plain": [
       "[1] 336776     19"
      ]
     },
     "metadata": {},
     "output_type": "display_data"
    }
   ],
   "source": [
    "dim(group_by(flights,carrier))"
   ]
  },
  {
   "cell_type": "code",
   "execution_count": 22,
   "metadata": {
    "collapsed": false
   },
   "outputs": [
    {
     "data": {
      "text/html": [
       "<table>\n",
       "<thead><tr><th scope=col>year</th><th scope=col>month</th><th scope=col>day</th><th scope=col>dep_time</th><th scope=col>sched_dep_time</th><th scope=col>dep_delay</th><th scope=col>arr_time</th><th scope=col>sched_arr_time</th><th scope=col>arr_delay</th><th scope=col>carrier</th><th scope=col>flight</th><th scope=col>tailnum</th><th scope=col>origin</th><th scope=col>dest</th><th scope=col>air_time</th><th scope=col>distance</th><th scope=col>hour</th><th scope=col>minute</th><th scope=col>time_hour</th></tr></thead>\n",
       "<tbody>\n",
       "\t<tr><td>2013               </td><td>1                  </td><td>1                  </td><td>517                </td><td>515                </td><td> 2                 </td><td> 830               </td><td> 819               </td><td> 11                </td><td>UA                 </td><td>1545               </td><td>N14228             </td><td>EWR                </td><td>IAH                </td><td>227                </td><td>1400               </td><td>5                  </td><td>15                 </td><td>2013-01-01 05:00:00</td></tr>\n",
       "\t<tr><td>2013               </td><td>1                  </td><td>1                  </td><td>533                </td><td>529                </td><td> 4                 </td><td> 850               </td><td> 830               </td><td> 20                </td><td>UA                 </td><td>1714               </td><td>N24211             </td><td>LGA                </td><td>IAH                </td><td>227                </td><td>1416               </td><td>5                  </td><td>29                 </td><td>2013-01-01 05:00:00</td></tr>\n",
       "\t<tr><td>2013               </td><td>1                  </td><td>1                  </td><td>554                </td><td>558                </td><td>-4                 </td><td> 740               </td><td> 728               </td><td> 12                </td><td>UA                 </td><td>1696               </td><td>N39463             </td><td>EWR                </td><td>ORD                </td><td>150                </td><td> 719               </td><td>5                  </td><td>58                 </td><td>2013-01-01 05:00:00</td></tr>\n",
       "\t<tr><td>2013               </td><td>1                  </td><td>1                  </td><td>558                </td><td>600                </td><td>-2                 </td><td> 924               </td><td> 917               </td><td>  7                </td><td>UA                 </td><td> 194               </td><td>N29129             </td><td>JFK                </td><td>LAX                </td><td>345                </td><td>2475               </td><td>6                  </td><td> 0                 </td><td>2013-01-01 06:00:00</td></tr>\n",
       "\t<tr><td>2013               </td><td>1                  </td><td>1                  </td><td>558                </td><td>600                </td><td>-2                 </td><td> 923               </td><td> 937               </td><td>-14                </td><td>UA                 </td><td>1124               </td><td>N53441             </td><td>EWR                </td><td>SFO                </td><td>361                </td><td>2565               </td><td>6                  </td><td> 0                 </td><td>2013-01-01 06:00:00</td></tr>\n",
       "\t<tr><td>2013               </td><td>1                  </td><td>1                  </td><td>559                </td><td>600                </td><td>-1                 </td><td> 854               </td><td> 902               </td><td> -8                </td><td>UA                 </td><td>1187               </td><td>N76515             </td><td>EWR                </td><td>LAS                </td><td>337                </td><td>2227               </td><td>6                  </td><td> 0                 </td><td>2013-01-01 06:00:00</td></tr>\n",
       "\t<tr><td>2013               </td><td>1                  </td><td>1                  </td><td>607                </td><td>607                </td><td> 0                 </td><td> 858               </td><td> 915               </td><td>-17                </td><td>UA                 </td><td>1077               </td><td>N53442             </td><td>EWR                </td><td>MIA                </td><td>157                </td><td>1085               </td><td>6                  </td><td> 7                 </td><td>2013-01-01 06:00:00</td></tr>\n",
       "\t<tr><td>2013               </td><td>1                  </td><td>1                  </td><td>611                </td><td>600                </td><td>11                 </td><td> 945               </td><td> 931               </td><td> 14                </td><td>UA                 </td><td> 303               </td><td>N532UA             </td><td>JFK                </td><td>SFO                </td><td>366                </td><td>2586               </td><td>6                  </td><td> 0                 </td><td>2013-01-01 06:00:00</td></tr>\n",
       "\t<tr><td>2013               </td><td>1                  </td><td>1                  </td><td>623                </td><td>627                </td><td>-4                 </td><td> 933               </td><td> 932               </td><td>  1                </td><td>UA                 </td><td> 496               </td><td>N459UA             </td><td>LGA                </td><td>IAH                </td><td>229                </td><td>1416               </td><td>6                  </td><td>27                 </td><td>2013-01-01 06:00:00</td></tr>\n",
       "\t<tr><td>2013               </td><td>1                  </td><td>1                  </td><td>628                </td><td>630                </td><td>-2                 </td><td>1016               </td><td> 947               </td><td> 29                </td><td>UA                 </td><td>1665               </td><td>N33289             </td><td>EWR                </td><td>LAX                </td><td>366                </td><td>2454               </td><td>6                  </td><td>30                 </td><td>2013-01-01 06:00:00</td></tr>\n",
       "\t<tr><td>2013               </td><td>1                  </td><td>1                  </td><td>643                </td><td>646                </td><td>-3                 </td><td> 922               </td><td> 940               </td><td>-18                </td><td>UA                 </td><td> 556               </td><td>N497UA             </td><td>EWR                </td><td>PBI                </td><td>146                </td><td>1023               </td><td>6                  </td><td>46                 </td><td>2013-01-01 06:00:00</td></tr>\n",
       "\t<tr><td>2013               </td><td>1                  </td><td>1                  </td><td>644                </td><td>636                </td><td> 8                 </td><td> 931               </td><td> 940               </td><td> -9                </td><td>UA                 </td><td>1701               </td><td>N75435             </td><td>EWR                </td><td>FLL                </td><td>151                </td><td>1065               </td><td>6                  </td><td>36                 </td><td>2013-01-01 06:00:00</td></tr>\n",
       "\t<tr><td>2013               </td><td>1                  </td><td>1                  </td><td>646                </td><td>645                </td><td> 1                 </td><td> 910               </td><td> 916               </td><td> -6                </td><td>UA                 </td><td> 883               </td><td>N569UA             </td><td>LGA                </td><td>DEN                </td><td>243                </td><td>1620               </td><td>6                  </td><td>45                 </td><td>2013-01-01 06:00:00</td></tr>\n",
       "\t<tr><td>2013               </td><td>1                  </td><td>1                  </td><td>646                </td><td>645                </td><td> 1                 </td><td>1023               </td><td>1030               </td><td> -7                </td><td>UA                 </td><td>1496               </td><td>N38727             </td><td>EWR                </td><td>SNA                </td><td>380                </td><td>2434               </td><td>6                  </td><td>45                 </td><td>2013-01-01 06:00:00</td></tr>\n",
       "\t<tr><td>2013               </td><td>1                  </td><td>1                  </td><td>656                </td><td>700                </td><td>-4                 </td><td> 948               </td><td>1011               </td><td>-23                </td><td>UA                 </td><td>1115               </td><td>N24212             </td><td>EWR                </td><td>TPA                </td><td>156                </td><td> 997               </td><td>7                  </td><td> 0                 </td><td>2013-01-01 07:00:00</td></tr>\n",
       "\t<tr><td>2013               </td><td>1                  </td><td>1                  </td><td>659                </td><td>700                </td><td>-1                 </td><td> 959               </td><td>1008               </td><td> -9                </td><td>UA                 </td><td> 960               </td><td>N838UA             </td><td>EWR                </td><td>RSW                </td><td>164                </td><td>1068               </td><td>7                  </td><td> 0                 </td><td>2013-01-01 07:00:00</td></tr>\n",
       "\t<tr><td>2013               </td><td>1                  </td><td>1                  </td><td>701                </td><td>700                </td><td> 1                 </td><td>1123               </td><td>1154               </td><td>-31                </td><td>UA                 </td><td>1203               </td><td>N77296             </td><td>EWR                </td><td>SJU                </td><td>188                </td><td>1608               </td><td>7                  </td><td> 0                 </td><td>2013-01-01 07:00:00</td></tr>\n",
       "\t<tr><td>2013               </td><td>1                  </td><td>1                  </td><td>709                </td><td>700                </td><td> 9                 </td><td> 852               </td><td> 832               </td><td> 20                </td><td>UA                 </td><td>1092               </td><td>N26226             </td><td>LGA                </td><td>ORD                </td><td>135                </td><td> 733               </td><td>7                  </td><td> 0                 </td><td>2013-01-01 07:00:00</td></tr>\n",
       "\t<tr><td>2013               </td><td>1                  </td><td>1                  </td><td>715                </td><td>713                </td><td> 2                 </td><td> 911               </td><td> 850               </td><td> 21                </td><td>UA                 </td><td> 544               </td><td>N841UA             </td><td>EWR                </td><td>ORD                </td><td>156                </td><td> 719               </td><td>7                  </td><td>13                 </td><td>2013-01-01 07:00:00</td></tr>\n",
       "\t<tr><td>2013               </td><td>1                  </td><td>1                  </td><td>723                </td><td>725                </td><td>-2                 </td><td>1013               </td><td>1017               </td><td> -4                </td><td>UA                 </td><td> 962               </td><td>N514UA             </td><td>EWR                </td><td>PBI                </td><td>153                </td><td>1023               </td><td>7                  </td><td>25                 </td><td>2013-01-01 07:00:00</td></tr>\n",
       "\t<tr><td>2013               </td><td>1                  </td><td>1                  </td><td>727                </td><td>730                </td><td>-3                 </td><td> 959               </td><td> 952               </td><td>  7                </td><td>UA                 </td><td>1162               </td><td>N37462             </td><td>EWR                </td><td>DEN                </td><td>254                </td><td>1605               </td><td>7                  </td><td>30                 </td><td>2013-01-01 07:00:00</td></tr>\n",
       "\t<tr><td>2013               </td><td>1                  </td><td>1                  </td><td>728                </td><td>732                </td><td>-4                 </td><td>1041               </td><td>1038               </td><td>  3                </td><td>UA                 </td><td> 473               </td><td>N488UA             </td><td>LGA                </td><td>IAH                </td><td>238                </td><td>1416               </td><td>7                  </td><td>32                 </td><td>2013-01-01 07:00:00</td></tr>\n",
       "\t<tr><td>2013               </td><td>1                  </td><td>1                  </td><td>732                </td><td>645                </td><td>47                 </td><td>1011               </td><td> 941               </td><td> 30                </td><td>UA                 </td><td>1111               </td><td>N37456             </td><td>EWR                </td><td>MCO                </td><td>145                </td><td> 937               </td><td>6                  </td><td>45                 </td><td>2013-01-01 06:00:00</td></tr>\n",
       "\t<tr><td>2013               </td><td>1                  </td><td>1                  </td><td>739                </td><td>739                </td><td> 0                 </td><td>1104               </td><td>1038               </td><td> 26                </td><td>UA                 </td><td>1479               </td><td>N37408             </td><td>EWR                </td><td>IAH                </td><td>249                </td><td>1400               </td><td>7                  </td><td>39                 </td><td>2013-01-01 07:00:00</td></tr>\n",
       "\t<tr><td>2013               </td><td>1                  </td><td>1                  </td><td>746                </td><td>746                </td><td> 0                 </td><td>1119               </td><td>1129               </td><td>-10                </td><td>UA                 </td><td>1668               </td><td>N24224             </td><td>EWR                </td><td>SFO                </td><td>373                </td><td>2565               </td><td>7                  </td><td>46                 </td><td>2013-01-01 07:00:00</td></tr>\n",
       "\t<tr><td>2013               </td><td>1                  </td><td>1                  </td><td>752                </td><td>750                </td><td> 2                 </td><td>1025               </td><td>1029               </td><td> -4                </td><td>UA                 </td><td> 477               </td><td>N511UA             </td><td>LGA                </td><td>DEN                </td><td>249                </td><td>1620               </td><td>7                  </td><td>50                 </td><td>2013-01-01 07:00:00</td></tr>\n",
       "\t<tr><td>2013               </td><td>1                  </td><td>1                  </td><td>803                </td><td>800                </td><td> 3                 </td><td>1132               </td><td>1144               </td><td>-12                </td><td>UA                 </td><td> 223               </td><td>N510UA             </td><td>JFK                </td><td>SFO                </td><td>369                </td><td>2586               </td><td>8                  </td><td> 0                 </td><td>2013-01-01 08:00:00</td></tr>\n",
       "\t<tr><td>2013               </td><td>1                  </td><td>1                  </td><td>823                </td><td>823                </td><td> 0                 </td><td>1151               </td><td>1135               </td><td> 16                </td><td>UA                 </td><td>1223               </td><td>N39728             </td><td>EWR                </td><td>DFW                </td><td>250                </td><td>1372               </td><td>8                  </td><td>23                 </td><td>2013-01-01 08:00:00</td></tr>\n",
       "\t<tr><td>2013               </td><td>1                  </td><td>1                  </td><td>826                </td><td>817                </td><td> 9                 </td><td>1145               </td><td>1158               </td><td>-13                </td><td>UA                 </td><td>1480               </td><td>N76522             </td><td>EWR                </td><td>SFO                </td><td>357                </td><td>2565               </td><td>8                  </td><td>17                 </td><td>2013-01-01 08:00:00</td></tr>\n",
       "\t<tr><td>2013               </td><td>1                  </td><td>1                  </td><td>828                </td><td>823                </td><td> 5                 </td><td>1150               </td><td>1143               </td><td>  7                </td><td>UA                 </td><td>1506               </td><td>N76528             </td><td>EWR                </td><td>LAX                </td><td>359                </td><td>2454               </td><td>8                  </td><td>23                 </td><td>2013-01-01 08:00:00</td></tr>\n",
       "\t<tr><td>...</td><td>...</td><td>...</td><td>...</td><td>...</td><td>...</td><td>...</td><td>...</td><td>...</td><td>...</td><td>...</td><td>...</td><td>...</td><td>...</td><td>...</td><td>...</td><td>...</td><td>...</td><td>...</td></tr>\n",
       "\t<tr><td>2013               </td><td>9                  </td><td>30                 </td><td>1802               </td><td>1805               </td><td>-3                 </td><td>2022               </td><td>2028               </td><td> -6                </td><td>UA                 </td><td>1139               </td><td>N39415             </td><td>EWR                </td><td>DEN                </td><td>228                </td><td>1605               </td><td>18                 </td><td> 5                 </td><td>2013-09-30 18:00:00</td></tr>\n",
       "\t<tr><td>2013               </td><td>9                  </td><td>30                 </td><td>1810               </td><td>1815               </td><td>-5                 </td><td>2049               </td><td>2130               </td><td>-41                </td><td>UA                 </td><td>1022               </td><td>N25705             </td><td>EWR                </td><td>SNA                </td><td>309                </td><td>2434               </td><td>18                 </td><td>15                 </td><td>2013-09-30 18:00:00</td></tr>\n",
       "\t<tr><td>2013               </td><td>9                  </td><td>30                 </td><td>1814               </td><td>1820               </td><td>-6                 </td><td>2111               </td><td>2125               </td><td>-14                </td><td>UA                 </td><td> 472               </td><td>N437UA             </td><td>EWR                </td><td>FLL                </td><td>142                </td><td>1065               </td><td>18                 </td><td>20                 </td><td>2013-09-30 18:00:00</td></tr>\n",
       "\t<tr><td>2013               </td><td>9                  </td><td>30                 </td><td>1815               </td><td>1803               </td><td>12                 </td><td>2113               </td><td>2117               </td><td> -4                </td><td>UA                 </td><td>1165               </td><td>N76522             </td><td>EWR                </td><td>LAX                </td><td>299                </td><td>2454               </td><td>18                 </td><td> 3                 </td><td>2013-09-30 18:00:00</td></tr>\n",
       "\t<tr><td>2013               </td><td>9                  </td><td>30                 </td><td>1822               </td><td>1829               </td><td>-7                 </td><td>2003               </td><td>2011               </td><td> -8                </td><td>UA                 </td><td>1053               </td><td>N33266             </td><td>EWR                </td><td>CLE                </td><td> 65                </td><td> 404               </td><td>18                 </td><td>29                 </td><td>2013-09-30 18:00:00</td></tr>\n",
       "\t<tr><td>2013               </td><td>9                  </td><td>30                 </td><td>1844               </td><td>1830               </td><td>14                 </td><td>2128               </td><td>2157               </td><td>-29                </td><td>UA                 </td><td> 389               </td><td>N597UA             </td><td>JFK                </td><td>SFO                </td><td>322                </td><td>2586               </td><td>18                 </td><td>30                 </td><td>2013-09-30 18:00:00</td></tr>\n",
       "\t<tr><td>2013               </td><td>9                  </td><td>30                 </td><td>1854               </td><td>1900               </td><td>-6                 </td><td>2021               </td><td>2041               </td><td>-20                </td><td>UA                 </td><td> 203               </td><td>N809UA             </td><td>EWR                </td><td>ORD                </td><td>105                </td><td> 719               </td><td>19                 </td><td> 0                 </td><td>2013-09-30 19:00:00</td></tr>\n",
       "\t<tr><td>2013               </td><td>9                  </td><td>30                 </td><td>1856               </td><td>1901               </td><td>-5                 </td><td>2024               </td><td>2040               </td><td>-16                </td><td>UA                 </td><td> 693               </td><td>N465UA             </td><td>LGA                </td><td>ORD                </td><td>104                </td><td> 733               </td><td>19                 </td><td> 1                 </td><td>2013-09-30 19:00:00</td></tr>\n",
       "\t<tr><td>2013               </td><td>9                  </td><td>30                 </td><td>1859               </td><td>1859               </td><td> 0                 </td><td>2134               </td><td>2159               </td><td>-25                </td><td>UA                 </td><td>1128               </td><td>N14731             </td><td>LGA                </td><td>IAH                </td><td>180                </td><td>1416               </td><td>18                 </td><td>59                 </td><td>2013-09-30 18:00:00</td></tr>\n",
       "\t<tr><td>2013               </td><td>9                  </td><td>30                 </td><td>1903               </td><td>1900               </td><td> 3                 </td><td>2155               </td><td>2154               </td><td>  1                </td><td>UA                 </td><td>1528               </td><td>N34222             </td><td>EWR                </td><td>MCO                </td><td>127                </td><td> 937               </td><td>19                 </td><td> 0                 </td><td>2013-09-30 19:00:00</td></tr>\n",
       "\t<tr><td>2013               </td><td>9                  </td><td>30                 </td><td>1907               </td><td>1901               </td><td> 6                 </td><td>2156               </td><td>2215               </td><td>-19                </td><td>UA                 </td><td>1526               </td><td>N35204             </td><td>EWR                </td><td>LAX                </td><td>302                </td><td>2454               </td><td>19                 </td><td> 1                 </td><td>2013-09-30 19:00:00</td></tr>\n",
       "\t<tr><td>2013               </td><td>9                  </td><td>30                 </td><td>1909               </td><td>1901               </td><td> 8                 </td><td>2212               </td><td>2211               </td><td>  1                </td><td>UA                 </td><td> 237               </td><td>N513UA             </td><td>EWR                </td><td>SFO                </td><td>307                </td><td>2565               </td><td>19                 </td><td> 1                 </td><td>2013-09-30 19:00:00</td></tr>\n",
       "\t<tr><td>2013               </td><td>9                  </td><td>30                 </td><td>1931               </td><td>1934               </td><td>-3                 </td><td>2147               </td><td>2226               </td><td>-39                </td><td>UA                 </td><td>1429               </td><td>N26215             </td><td>EWR                </td><td>LAS                </td><td>279                </td><td>2227               </td><td>19                 </td><td>34                 </td><td>2013-09-30 19:00:00</td></tr>\n",
       "\t<tr><td>2013               </td><td>9                  </td><td>30                 </td><td>1935               </td><td>1930               </td><td> 5                 </td><td>2230               </td><td>2233               </td><td> -3                </td><td>UA                 </td><td>1115               </td><td>N38446             </td><td>EWR                </td><td>TPA                </td><td>132                </td><td> 997               </td><td>19                 </td><td>30                 </td><td>2013-09-30 19:00:00</td></tr>\n",
       "\t<tr><td>2013               </td><td>9                  </td><td>30                 </td><td>1953               </td><td>2000               </td><td>-7                 </td><td>2119               </td><td>2132               </td><td>-13                </td><td>UA                 </td><td> 695               </td><td>N853UA             </td><td>LGA                </td><td>ORD                </td><td>107                </td><td> 733               </td><td>20                 </td><td> 0                 </td><td>2013-09-30 20:00:00</td></tr>\n",
       "\t<tr><td>2013               </td><td>9                  </td><td>30                 </td><td>2001               </td><td>2000               </td><td> 1                 </td><td>2302               </td><td>2328               </td><td>-26                </td><td>UA                 </td><td>1651               </td><td>N35260             </td><td>EWR                </td><td>SFO                </td><td>323                </td><td>2565               </td><td>20                 </td><td> 0                 </td><td>2013-09-30 20:00:00</td></tr>\n",
       "\t<tr><td>2013               </td><td>9                  </td><td>30                 </td><td>2003               </td><td>2004               </td><td>-1                 </td><td>2235               </td><td>2314               </td><td>-39                </td><td>UA                 </td><td>1224               </td><td>N38473             </td><td>EWR                </td><td>LAX                </td><td>295                </td><td>2454               </td><td>20                 </td><td> 4                 </td><td>2013-09-30 20:00:00</td></tr>\n",
       "\t<tr><td>2013               </td><td>9                  </td><td>30                 </td><td>2008               </td><td>1935               </td><td>33                 </td><td>2322               </td><td>2242               </td><td> 40                </td><td>UA                 </td><td> 208               </td><td>N816UA             </td><td>EWR                </td><td>SEA                </td><td>339                </td><td>2402               </td><td>19                 </td><td>35                 </td><td>2013-09-30 19:00:00</td></tr>\n",
       "\t<tr><td>2013               </td><td>9                  </td><td>30                 </td><td>2009               </td><td>2009               </td><td> 0                 </td><td>2126               </td><td>2129               </td><td> -3                </td><td>UA                 </td><td>1049               </td><td>N77258             </td><td>EWR                </td><td>BOS                </td><td> 38                </td><td> 200               </td><td>20                 </td><td> 9                 </td><td>2013-09-30 20:00:00</td></tr>\n",
       "\t<tr><td>2013               </td><td>9                  </td><td>30                 </td><td>2015               </td><td>2015               </td><td> 0                 </td><td>2244               </td><td>2307               </td><td>-23                </td><td>UA                 </td><td>1545               </td><td>N17730             </td><td>EWR                </td><td>IAH                </td><td>174                </td><td>1400               </td><td>20                 </td><td>15                 </td><td>2013-09-30 20:00:00</td></tr>\n",
       "\t<tr><td>2013               </td><td>9                  </td><td>30                 </td><td>2017               </td><td>2017               </td><td> 0                 </td><td>2253               </td><td>2320               </td><td>-27                </td><td>UA                 </td><td> 771               </td><td>N510UA             </td><td>JFK                </td><td>LAX                </td><td>304                </td><td>2475               </td><td>20                 </td><td>17                 </td><td>2013-09-30 20:00:00</td></tr>\n",
       "\t<tr><td>2013               </td><td>9                  </td><td>30                 </td><td>2021               </td><td>2022               </td><td>-1                 </td><td>2144               </td><td>2200               </td><td>-16                </td><td>UA                 </td><td>1464               </td><td>N76503             </td><td>EWR                </td><td>CLE                </td><td> 54                </td><td> 404               </td><td>20                 </td><td>22                 </td><td>2013-09-30 20:00:00</td></tr>\n",
       "\t<tr><td>2013               </td><td>9                  </td><td>30                 </td><td>2026               </td><td>2028               </td><td>-2                 </td><td>2317               </td><td>2340               </td><td>-23                </td><td>UA                 </td><td>1680               </td><td>N31412             </td><td>EWR                </td><td>MIA                </td><td>141                </td><td>1085               </td><td>20                 </td><td>28                 </td><td>2013-09-30 20:00:00</td></tr>\n",
       "\t<tr><td>2013               </td><td>9                  </td><td>30                 </td><td>2030               </td><td>2035               </td><td>-5                 </td><td>2324               </td><td>2340               </td><td>-16                </td><td>UA                 </td><td> 374               </td><td>N484UA             </td><td>EWR                </td><td>FLL                </td><td>141                </td><td>1065               </td><td>20                 </td><td>35                 </td><td>2013-09-30 20:00:00</td></tr>\n",
       "\t<tr><td>2013               </td><td>9                  </td><td>30                 </td><td>2035               </td><td>2029               </td><td> 6                 </td><td>2318               </td><td>2337               </td><td>-19                </td><td>UA                 </td><td>1039               </td><td>N78524             </td><td>EWR                </td><td>AUS                </td><td>191                </td><td>1504               </td><td>20                 </td><td>29                 </td><td>2013-09-30 20:00:00</td></tr>\n",
       "\t<tr><td>2013               </td><td>9                  </td><td>30                 </td><td>2052               </td><td>2059               </td><td>-7                 </td><td>2315               </td><td>2358               </td><td>-43                </td><td>UA                 </td><td>1416               </td><td>N68453             </td><td>EWR                </td><td>MCO                </td><td>123                </td><td> 937               </td><td>20                 </td><td>59                 </td><td>2013-09-30 20:00:00</td></tr>\n",
       "\t<tr><td>2013               </td><td>9                  </td><td>30                 </td><td>2055               </td><td>2059               </td><td>-4                 </td><td>2158               </td><td>2211               </td><td>-13                </td><td>UA                 </td><td>1066               </td><td>N16701             </td><td>EWR                </td><td>BOS                </td><td> 40                </td><td> 200               </td><td>20                 </td><td>59                 </td><td>2013-09-30 20:00:00</td></tr>\n",
       "\t<tr><td>2013               </td><td>9                  </td><td>30                 </td><td>2105               </td><td>2106               </td><td>-1                 </td><td>2329               </td><td>2354               </td><td>-25                </td><td>UA                 </td><td> 475               </td><td>N477UA             </td><td>EWR                </td><td>IAH                </td><td>175                </td><td>1400               </td><td>21                 </td><td> 6                 </td><td>2013-09-30 21:00:00</td></tr>\n",
       "\t<tr><td>2013               </td><td>9                  </td><td>30                 </td><td>2149               </td><td>2156               </td><td>-7                 </td><td>2245               </td><td>2308               </td><td>-23                </td><td>UA                 </td><td> 523               </td><td>N813UA             </td><td>EWR                </td><td>BOS                </td><td> 37                </td><td> 200               </td><td>21                 </td><td>56                 </td><td>2013-09-30 21:00:00</td></tr>\n",
       "\t<tr><td>2013               </td><td>9                  </td><td>30                 </td><td>2233               </td><td>2113               </td><td>80                 </td><td> 112               </td><td>  30               </td><td> 42                </td><td>UA                 </td><td> 471               </td><td>N578UA             </td><td>EWR                </td><td>SFO                </td><td>318                </td><td>2565               </td><td>21                 </td><td>13                 </td><td>2013-09-30 21:00:00</td></tr>\n",
       "</tbody>\n",
       "</table>\n"
      ],
      "text/latex": [
       "\\begin{tabular}{r|lllllllllllllllllll}\n",
       " year & month & day & dep\\_time & sched\\_dep\\_time & dep\\_delay & arr\\_time & sched\\_arr\\_time & arr\\_delay & carrier & flight & tailnum & origin & dest & air\\_time & distance & hour & minute & time\\_hour\\\\\n",
       "\\hline\n",
       "\t 2013                & 1                   & 1                   & 517                 & 515                 &  2                  &  830                &  819                &  11                 & UA                  & 1545                & N14228              & EWR                 & IAH                 & 227                 & 1400                & 5                   & 15                  & 2013-01-01 05:00:00\\\\\n",
       "\t 2013                & 1                   & 1                   & 533                 & 529                 &  4                  &  850                &  830                &  20                 & UA                  & 1714                & N24211              & LGA                 & IAH                 & 227                 & 1416                & 5                   & 29                  & 2013-01-01 05:00:00\\\\\n",
       "\t 2013                & 1                   & 1                   & 554                 & 558                 & -4                  &  740                &  728                &  12                 & UA                  & 1696                & N39463              & EWR                 & ORD                 & 150                 &  719                & 5                   & 58                  & 2013-01-01 05:00:00\\\\\n",
       "\t 2013                & 1                   & 1                   & 558                 & 600                 & -2                  &  924                &  917                &   7                 & UA                  &  194                & N29129              & JFK                 & LAX                 & 345                 & 2475                & 6                   &  0                  & 2013-01-01 06:00:00\\\\\n",
       "\t 2013                & 1                   & 1                   & 558                 & 600                 & -2                  &  923                &  937                & -14                 & UA                  & 1124                & N53441              & EWR                 & SFO                 & 361                 & 2565                & 6                   &  0                  & 2013-01-01 06:00:00\\\\\n",
       "\t 2013                & 1                   & 1                   & 559                 & 600                 & -1                  &  854                &  902                &  -8                 & UA                  & 1187                & N76515              & EWR                 & LAS                 & 337                 & 2227                & 6                   &  0                  & 2013-01-01 06:00:00\\\\\n",
       "\t 2013                & 1                   & 1                   & 607                 & 607                 &  0                  &  858                &  915                & -17                 & UA                  & 1077                & N53442              & EWR                 & MIA                 & 157                 & 1085                & 6                   &  7                  & 2013-01-01 06:00:00\\\\\n",
       "\t 2013                & 1                   & 1                   & 611                 & 600                 & 11                  &  945                &  931                &  14                 & UA                  &  303                & N532UA              & JFK                 & SFO                 & 366                 & 2586                & 6                   &  0                  & 2013-01-01 06:00:00\\\\\n",
       "\t 2013                & 1                   & 1                   & 623                 & 627                 & -4                  &  933                &  932                &   1                 & UA                  &  496                & N459UA              & LGA                 & IAH                 & 229                 & 1416                & 6                   & 27                  & 2013-01-01 06:00:00\\\\\n",
       "\t 2013                & 1                   & 1                   & 628                 & 630                 & -2                  & 1016                &  947                &  29                 & UA                  & 1665                & N33289              & EWR                 & LAX                 & 366                 & 2454                & 6                   & 30                  & 2013-01-01 06:00:00\\\\\n",
       "\t 2013                & 1                   & 1                   & 643                 & 646                 & -3                  &  922                &  940                & -18                 & UA                  &  556                & N497UA              & EWR                 & PBI                 & 146                 & 1023                & 6                   & 46                  & 2013-01-01 06:00:00\\\\\n",
       "\t 2013                & 1                   & 1                   & 644                 & 636                 &  8                  &  931                &  940                &  -9                 & UA                  & 1701                & N75435              & EWR                 & FLL                 & 151                 & 1065                & 6                   & 36                  & 2013-01-01 06:00:00\\\\\n",
       "\t 2013                & 1                   & 1                   & 646                 & 645                 &  1                  &  910                &  916                &  -6                 & UA                  &  883                & N569UA              & LGA                 & DEN                 & 243                 & 1620                & 6                   & 45                  & 2013-01-01 06:00:00\\\\\n",
       "\t 2013                & 1                   & 1                   & 646                 & 645                 &  1                  & 1023                & 1030                &  -7                 & UA                  & 1496                & N38727              & EWR                 & SNA                 & 380                 & 2434                & 6                   & 45                  & 2013-01-01 06:00:00\\\\\n",
       "\t 2013                & 1                   & 1                   & 656                 & 700                 & -4                  &  948                & 1011                & -23                 & UA                  & 1115                & N24212              & EWR                 & TPA                 & 156                 &  997                & 7                   &  0                  & 2013-01-01 07:00:00\\\\\n",
       "\t 2013                & 1                   & 1                   & 659                 & 700                 & -1                  &  959                & 1008                &  -9                 & UA                  &  960                & N838UA              & EWR                 & RSW                 & 164                 & 1068                & 7                   &  0                  & 2013-01-01 07:00:00\\\\\n",
       "\t 2013                & 1                   & 1                   & 701                 & 700                 &  1                  & 1123                & 1154                & -31                 & UA                  & 1203                & N77296              & EWR                 & SJU                 & 188                 & 1608                & 7                   &  0                  & 2013-01-01 07:00:00\\\\\n",
       "\t 2013                & 1                   & 1                   & 709                 & 700                 &  9                  &  852                &  832                &  20                 & UA                  & 1092                & N26226              & LGA                 & ORD                 & 135                 &  733                & 7                   &  0                  & 2013-01-01 07:00:00\\\\\n",
       "\t 2013                & 1                   & 1                   & 715                 & 713                 &  2                  &  911                &  850                &  21                 & UA                  &  544                & N841UA              & EWR                 & ORD                 & 156                 &  719                & 7                   & 13                  & 2013-01-01 07:00:00\\\\\n",
       "\t 2013                & 1                   & 1                   & 723                 & 725                 & -2                  & 1013                & 1017                &  -4                 & UA                  &  962                & N514UA              & EWR                 & PBI                 & 153                 & 1023                & 7                   & 25                  & 2013-01-01 07:00:00\\\\\n",
       "\t 2013                & 1                   & 1                   & 727                 & 730                 & -3                  &  959                &  952                &   7                 & UA                  & 1162                & N37462              & EWR                 & DEN                 & 254                 & 1605                & 7                   & 30                  & 2013-01-01 07:00:00\\\\\n",
       "\t 2013                & 1                   & 1                   & 728                 & 732                 & -4                  & 1041                & 1038                &   3                 & UA                  &  473                & N488UA              & LGA                 & IAH                 & 238                 & 1416                & 7                   & 32                  & 2013-01-01 07:00:00\\\\\n",
       "\t 2013                & 1                   & 1                   & 732                 & 645                 & 47                  & 1011                &  941                &  30                 & UA                  & 1111                & N37456              & EWR                 & MCO                 & 145                 &  937                & 6                   & 45                  & 2013-01-01 06:00:00\\\\\n",
       "\t 2013                & 1                   & 1                   & 739                 & 739                 &  0                  & 1104                & 1038                &  26                 & UA                  & 1479                & N37408              & EWR                 & IAH                 & 249                 & 1400                & 7                   & 39                  & 2013-01-01 07:00:00\\\\\n",
       "\t 2013                & 1                   & 1                   & 746                 & 746                 &  0                  & 1119                & 1129                & -10                 & UA                  & 1668                & N24224              & EWR                 & SFO                 & 373                 & 2565                & 7                   & 46                  & 2013-01-01 07:00:00\\\\\n",
       "\t 2013                & 1                   & 1                   & 752                 & 750                 &  2                  & 1025                & 1029                &  -4                 & UA                  &  477                & N511UA              & LGA                 & DEN                 & 249                 & 1620                & 7                   & 50                  & 2013-01-01 07:00:00\\\\\n",
       "\t 2013                & 1                   & 1                   & 803                 & 800                 &  3                  & 1132                & 1144                & -12                 & UA                  &  223                & N510UA              & JFK                 & SFO                 & 369                 & 2586                & 8                   &  0                  & 2013-01-01 08:00:00\\\\\n",
       "\t 2013                & 1                   & 1                   & 823                 & 823                 &  0                  & 1151                & 1135                &  16                 & UA                  & 1223                & N39728              & EWR                 & DFW                 & 250                 & 1372                & 8                   & 23                  & 2013-01-01 08:00:00\\\\\n",
       "\t 2013                & 1                   & 1                   & 826                 & 817                 &  9                  & 1145                & 1158                & -13                 & UA                  & 1480                & N76522              & EWR                 & SFO                 & 357                 & 2565                & 8                   & 17                  & 2013-01-01 08:00:00\\\\\n",
       "\t 2013                & 1                   & 1                   & 828                 & 823                 &  5                  & 1150                & 1143                &   7                 & UA                  & 1506                & N76528              & EWR                 & LAX                 & 359                 & 2454                & 8                   & 23                  & 2013-01-01 08:00:00\\\\\n",
       "\t ... & ... & ... & ... & ... & ... & ... & ... & ... & ... & ... & ... & ... & ... & ... & ... & ... & ... & ...\\\\\n",
       "\t 2013                & 9                   & 30                  & 1802                & 1805                & -3                  & 2022                & 2028                &  -6                 & UA                  & 1139                & N39415              & EWR                 & DEN                 & 228                 & 1605                & 18                  &  5                  & 2013-09-30 18:00:00\\\\\n",
       "\t 2013                & 9                   & 30                  & 1810                & 1815                & -5                  & 2049                & 2130                & -41                 & UA                  & 1022                & N25705              & EWR                 & SNA                 & 309                 & 2434                & 18                  & 15                  & 2013-09-30 18:00:00\\\\\n",
       "\t 2013                & 9                   & 30                  & 1814                & 1820                & -6                  & 2111                & 2125                & -14                 & UA                  &  472                & N437UA              & EWR                 & FLL                 & 142                 & 1065                & 18                  & 20                  & 2013-09-30 18:00:00\\\\\n",
       "\t 2013                & 9                   & 30                  & 1815                & 1803                & 12                  & 2113                & 2117                &  -4                 & UA                  & 1165                & N76522              & EWR                 & LAX                 & 299                 & 2454                & 18                  &  3                  & 2013-09-30 18:00:00\\\\\n",
       "\t 2013                & 9                   & 30                  & 1822                & 1829                & -7                  & 2003                & 2011                &  -8                 & UA                  & 1053                & N33266              & EWR                 & CLE                 &  65                 &  404                & 18                  & 29                  & 2013-09-30 18:00:00\\\\\n",
       "\t 2013                & 9                   & 30                  & 1844                & 1830                & 14                  & 2128                & 2157                & -29                 & UA                  &  389                & N597UA              & JFK                 & SFO                 & 322                 & 2586                & 18                  & 30                  & 2013-09-30 18:00:00\\\\\n",
       "\t 2013                & 9                   & 30                  & 1854                & 1900                & -6                  & 2021                & 2041                & -20                 & UA                  &  203                & N809UA              & EWR                 & ORD                 & 105                 &  719                & 19                  &  0                  & 2013-09-30 19:00:00\\\\\n",
       "\t 2013                & 9                   & 30                  & 1856                & 1901                & -5                  & 2024                & 2040                & -16                 & UA                  &  693                & N465UA              & LGA                 & ORD                 & 104                 &  733                & 19                  &  1                  & 2013-09-30 19:00:00\\\\\n",
       "\t 2013                & 9                   & 30                  & 1859                & 1859                &  0                  & 2134                & 2159                & -25                 & UA                  & 1128                & N14731              & LGA                 & IAH                 & 180                 & 1416                & 18                  & 59                  & 2013-09-30 18:00:00\\\\\n",
       "\t 2013                & 9                   & 30                  & 1903                & 1900                &  3                  & 2155                & 2154                &   1                 & UA                  & 1528                & N34222              & EWR                 & MCO                 & 127                 &  937                & 19                  &  0                  & 2013-09-30 19:00:00\\\\\n",
       "\t 2013                & 9                   & 30                  & 1907                & 1901                &  6                  & 2156                & 2215                & -19                 & UA                  & 1526                & N35204              & EWR                 & LAX                 & 302                 & 2454                & 19                  &  1                  & 2013-09-30 19:00:00\\\\\n",
       "\t 2013                & 9                   & 30                  & 1909                & 1901                &  8                  & 2212                & 2211                &   1                 & UA                  &  237                & N513UA              & EWR                 & SFO                 & 307                 & 2565                & 19                  &  1                  & 2013-09-30 19:00:00\\\\\n",
       "\t 2013                & 9                   & 30                  & 1931                & 1934                & -3                  & 2147                & 2226                & -39                 & UA                  & 1429                & N26215              & EWR                 & LAS                 & 279                 & 2227                & 19                  & 34                  & 2013-09-30 19:00:00\\\\\n",
       "\t 2013                & 9                   & 30                  & 1935                & 1930                &  5                  & 2230                & 2233                &  -3                 & UA                  & 1115                & N38446              & EWR                 & TPA                 & 132                 &  997                & 19                  & 30                  & 2013-09-30 19:00:00\\\\\n",
       "\t 2013                & 9                   & 30                  & 1953                & 2000                & -7                  & 2119                & 2132                & -13                 & UA                  &  695                & N853UA              & LGA                 & ORD                 & 107                 &  733                & 20                  &  0                  & 2013-09-30 20:00:00\\\\\n",
       "\t 2013                & 9                   & 30                  & 2001                & 2000                &  1                  & 2302                & 2328                & -26                 & UA                  & 1651                & N35260              & EWR                 & SFO                 & 323                 & 2565                & 20                  &  0                  & 2013-09-30 20:00:00\\\\\n",
       "\t 2013                & 9                   & 30                  & 2003                & 2004                & -1                  & 2235                & 2314                & -39                 & UA                  & 1224                & N38473              & EWR                 & LAX                 & 295                 & 2454                & 20                  &  4                  & 2013-09-30 20:00:00\\\\\n",
       "\t 2013                & 9                   & 30                  & 2008                & 1935                & 33                  & 2322                & 2242                &  40                 & UA                  &  208                & N816UA              & EWR                 & SEA                 & 339                 & 2402                & 19                  & 35                  & 2013-09-30 19:00:00\\\\\n",
       "\t 2013                & 9                   & 30                  & 2009                & 2009                &  0                  & 2126                & 2129                &  -3                 & UA                  & 1049                & N77258              & EWR                 & BOS                 &  38                 &  200                & 20                  &  9                  & 2013-09-30 20:00:00\\\\\n",
       "\t 2013                & 9                   & 30                  & 2015                & 2015                &  0                  & 2244                & 2307                & -23                 & UA                  & 1545                & N17730              & EWR                 & IAH                 & 174                 & 1400                & 20                  & 15                  & 2013-09-30 20:00:00\\\\\n",
       "\t 2013                & 9                   & 30                  & 2017                & 2017                &  0                  & 2253                & 2320                & -27                 & UA                  &  771                & N510UA              & JFK                 & LAX                 & 304                 & 2475                & 20                  & 17                  & 2013-09-30 20:00:00\\\\\n",
       "\t 2013                & 9                   & 30                  & 2021                & 2022                & -1                  & 2144                & 2200                & -16                 & UA                  & 1464                & N76503              & EWR                 & CLE                 &  54                 &  404                & 20                  & 22                  & 2013-09-30 20:00:00\\\\\n",
       "\t 2013                & 9                   & 30                  & 2026                & 2028                & -2                  & 2317                & 2340                & -23                 & UA                  & 1680                & N31412              & EWR                 & MIA                 & 141                 & 1085                & 20                  & 28                  & 2013-09-30 20:00:00\\\\\n",
       "\t 2013                & 9                   & 30                  & 2030                & 2035                & -5                  & 2324                & 2340                & -16                 & UA                  &  374                & N484UA              & EWR                 & FLL                 & 141                 & 1065                & 20                  & 35                  & 2013-09-30 20:00:00\\\\\n",
       "\t 2013                & 9                   & 30                  & 2035                & 2029                &  6                  & 2318                & 2337                & -19                 & UA                  & 1039                & N78524              & EWR                 & AUS                 & 191                 & 1504                & 20                  & 29                  & 2013-09-30 20:00:00\\\\\n",
       "\t 2013                & 9                   & 30                  & 2052                & 2059                & -7                  & 2315                & 2358                & -43                 & UA                  & 1416                & N68453              & EWR                 & MCO                 & 123                 &  937                & 20                  & 59                  & 2013-09-30 20:00:00\\\\\n",
       "\t 2013                & 9                   & 30                  & 2055                & 2059                & -4                  & 2158                & 2211                & -13                 & UA                  & 1066                & N16701              & EWR                 & BOS                 &  40                 &  200                & 20                  & 59                  & 2013-09-30 20:00:00\\\\\n",
       "\t 2013                & 9                   & 30                  & 2105                & 2106                & -1                  & 2329                & 2354                & -25                 & UA                  &  475                & N477UA              & EWR                 & IAH                 & 175                 & 1400                & 21                  &  6                  & 2013-09-30 21:00:00\\\\\n",
       "\t 2013                & 9                   & 30                  & 2149                & 2156                & -7                  & 2245                & 2308                & -23                 & UA                  &  523                & N813UA              & EWR                 & BOS                 &  37                 &  200                & 21                  & 56                  & 2013-09-30 21:00:00\\\\\n",
       "\t 2013                & 9                   & 30                  & 2233                & 2113                & 80                  &  112                &   30                &  42                 & UA                  &  471                & N578UA              & EWR                 & SFO                 & 318                 & 2565                & 21                  & 13                  & 2013-09-30 21:00:00\\\\\n",
       "\\end{tabular}\n"
      ],
      "text/markdown": [
       "\n",
       "year | month | day | dep_time | sched_dep_time | dep_delay | arr_time | sched_arr_time | arr_delay | carrier | flight | tailnum | origin | dest | air_time | distance | hour | minute | time_hour | \n",
       "|---|---|---|---|---|---|---|---|---|---|---|---|---|---|---|---|---|---|---|---|---|---|---|---|---|---|---|---|---|---|---|---|---|---|---|---|---|---|---|---|---|---|---|---|---|---|---|---|---|---|---|---|---|---|---|---|---|---|---|---|---|\n",
       "| 2013                | 1                   | 1                   | 517                 | 515                 |  2                  |  830                |  819                |  11                 | UA                  | 1545                | N14228              | EWR                 | IAH                 | 227                 | 1400                | 5                   | 15                  | 2013-01-01 05:00:00 | \n",
       "| 2013                | 1                   | 1                   | 533                 | 529                 |  4                  |  850                |  830                |  20                 | UA                  | 1714                | N24211              | LGA                 | IAH                 | 227                 | 1416                | 5                   | 29                  | 2013-01-01 05:00:00 | \n",
       "| 2013                | 1                   | 1                   | 554                 | 558                 | -4                  |  740                |  728                |  12                 | UA                  | 1696                | N39463              | EWR                 | ORD                 | 150                 |  719                | 5                   | 58                  | 2013-01-01 05:00:00 | \n",
       "| 2013                | 1                   | 1                   | 558                 | 600                 | -2                  |  924                |  917                |   7                 | UA                  |  194                | N29129              | JFK                 | LAX                 | 345                 | 2475                | 6                   |  0                  | 2013-01-01 06:00:00 | \n",
       "| 2013                | 1                   | 1                   | 558                 | 600                 | -2                  |  923                |  937                | -14                 | UA                  | 1124                | N53441              | EWR                 | SFO                 | 361                 | 2565                | 6                   |  0                  | 2013-01-01 06:00:00 | \n",
       "| 2013                | 1                   | 1                   | 559                 | 600                 | -1                  |  854                |  902                |  -8                 | UA                  | 1187                | N76515              | EWR                 | LAS                 | 337                 | 2227                | 6                   |  0                  | 2013-01-01 06:00:00 | \n",
       "| 2013                | 1                   | 1                   | 607                 | 607                 |  0                  |  858                |  915                | -17                 | UA                  | 1077                | N53442              | EWR                 | MIA                 | 157                 | 1085                | 6                   |  7                  | 2013-01-01 06:00:00 | \n",
       "| 2013                | 1                   | 1                   | 611                 | 600                 | 11                  |  945                |  931                |  14                 | UA                  |  303                | N532UA              | JFK                 | SFO                 | 366                 | 2586                | 6                   |  0                  | 2013-01-01 06:00:00 | \n",
       "| 2013                | 1                   | 1                   | 623                 | 627                 | -4                  |  933                |  932                |   1                 | UA                  |  496                | N459UA              | LGA                 | IAH                 | 229                 | 1416                | 6                   | 27                  | 2013-01-01 06:00:00 | \n",
       "| 2013                | 1                   | 1                   | 628                 | 630                 | -2                  | 1016                |  947                |  29                 | UA                  | 1665                | N33289              | EWR                 | LAX                 | 366                 | 2454                | 6                   | 30                  | 2013-01-01 06:00:00 | \n",
       "| 2013                | 1                   | 1                   | 643                 | 646                 | -3                  |  922                |  940                | -18                 | UA                  |  556                | N497UA              | EWR                 | PBI                 | 146                 | 1023                | 6                   | 46                  | 2013-01-01 06:00:00 | \n",
       "| 2013                | 1                   | 1                   | 644                 | 636                 |  8                  |  931                |  940                |  -9                 | UA                  | 1701                | N75435              | EWR                 | FLL                 | 151                 | 1065                | 6                   | 36                  | 2013-01-01 06:00:00 | \n",
       "| 2013                | 1                   | 1                   | 646                 | 645                 |  1                  |  910                |  916                |  -6                 | UA                  |  883                | N569UA              | LGA                 | DEN                 | 243                 | 1620                | 6                   | 45                  | 2013-01-01 06:00:00 | \n",
       "| 2013                | 1                   | 1                   | 646                 | 645                 |  1                  | 1023                | 1030                |  -7                 | UA                  | 1496                | N38727              | EWR                 | SNA                 | 380                 | 2434                | 6                   | 45                  | 2013-01-01 06:00:00 | \n",
       "| 2013                | 1                   | 1                   | 656                 | 700                 | -4                  |  948                | 1011                | -23                 | UA                  | 1115                | N24212              | EWR                 | TPA                 | 156                 |  997                | 7                   |  0                  | 2013-01-01 07:00:00 | \n",
       "| 2013                | 1                   | 1                   | 659                 | 700                 | -1                  |  959                | 1008                |  -9                 | UA                  |  960                | N838UA              | EWR                 | RSW                 | 164                 | 1068                | 7                   |  0                  | 2013-01-01 07:00:00 | \n",
       "| 2013                | 1                   | 1                   | 701                 | 700                 |  1                  | 1123                | 1154                | -31                 | UA                  | 1203                | N77296              | EWR                 | SJU                 | 188                 | 1608                | 7                   |  0                  | 2013-01-01 07:00:00 | \n",
       "| 2013                | 1                   | 1                   | 709                 | 700                 |  9                  |  852                |  832                |  20                 | UA                  | 1092                | N26226              | LGA                 | ORD                 | 135                 |  733                | 7                   |  0                  | 2013-01-01 07:00:00 | \n",
       "| 2013                | 1                   | 1                   | 715                 | 713                 |  2                  |  911                |  850                |  21                 | UA                  |  544                | N841UA              | EWR                 | ORD                 | 156                 |  719                | 7                   | 13                  | 2013-01-01 07:00:00 | \n",
       "| 2013                | 1                   | 1                   | 723                 | 725                 | -2                  | 1013                | 1017                |  -4                 | UA                  |  962                | N514UA              | EWR                 | PBI                 | 153                 | 1023                | 7                   | 25                  | 2013-01-01 07:00:00 | \n",
       "| 2013                | 1                   | 1                   | 727                 | 730                 | -3                  |  959                |  952                |   7                 | UA                  | 1162                | N37462              | EWR                 | DEN                 | 254                 | 1605                | 7                   | 30                  | 2013-01-01 07:00:00 | \n",
       "| 2013                | 1                   | 1                   | 728                 | 732                 | -4                  | 1041                | 1038                |   3                 | UA                  |  473                | N488UA              | LGA                 | IAH                 | 238                 | 1416                | 7                   | 32                  | 2013-01-01 07:00:00 | \n",
       "| 2013                | 1                   | 1                   | 732                 | 645                 | 47                  | 1011                |  941                |  30                 | UA                  | 1111                | N37456              | EWR                 | MCO                 | 145                 |  937                | 6                   | 45                  | 2013-01-01 06:00:00 | \n",
       "| 2013                | 1                   | 1                   | 739                 | 739                 |  0                  | 1104                | 1038                |  26                 | UA                  | 1479                | N37408              | EWR                 | IAH                 | 249                 | 1400                | 7                   | 39                  | 2013-01-01 07:00:00 | \n",
       "| 2013                | 1                   | 1                   | 746                 | 746                 |  0                  | 1119                | 1129                | -10                 | UA                  | 1668                | N24224              | EWR                 | SFO                 | 373                 | 2565                | 7                   | 46                  | 2013-01-01 07:00:00 | \n",
       "| 2013                | 1                   | 1                   | 752                 | 750                 |  2                  | 1025                | 1029                |  -4                 | UA                  |  477                | N511UA              | LGA                 | DEN                 | 249                 | 1620                | 7                   | 50                  | 2013-01-01 07:00:00 | \n",
       "| 2013                | 1                   | 1                   | 803                 | 800                 |  3                  | 1132                | 1144                | -12                 | UA                  |  223                | N510UA              | JFK                 | SFO                 | 369                 | 2586                | 8                   |  0                  | 2013-01-01 08:00:00 | \n",
       "| 2013                | 1                   | 1                   | 823                 | 823                 |  0                  | 1151                | 1135                |  16                 | UA                  | 1223                | N39728              | EWR                 | DFW                 | 250                 | 1372                | 8                   | 23                  | 2013-01-01 08:00:00 | \n",
       "| 2013                | 1                   | 1                   | 826                 | 817                 |  9                  | 1145                | 1158                | -13                 | UA                  | 1480                | N76522              | EWR                 | SFO                 | 357                 | 2565                | 8                   | 17                  | 2013-01-01 08:00:00 | \n",
       "| 2013                | 1                   | 1                   | 828                 | 823                 |  5                  | 1150                | 1143                |   7                 | UA                  | 1506                | N76528              | EWR                 | LAX                 | 359                 | 2454                | 8                   | 23                  | 2013-01-01 08:00:00 | \n",
       "| ... | ... | ... | ... | ... | ... | ... | ... | ... | ... | ... | ... | ... | ... | ... | ... | ... | ... | ... | \n",
       "| 2013                | 9                   | 30                  | 1802                | 1805                | -3                  | 2022                | 2028                |  -6                 | UA                  | 1139                | N39415              | EWR                 | DEN                 | 228                 | 1605                | 18                  |  5                  | 2013-09-30 18:00:00 | \n",
       "| 2013                | 9                   | 30                  | 1810                | 1815                | -5                  | 2049                | 2130                | -41                 | UA                  | 1022                | N25705              | EWR                 | SNA                 | 309                 | 2434                | 18                  | 15                  | 2013-09-30 18:00:00 | \n",
       "| 2013                | 9                   | 30                  | 1814                | 1820                | -6                  | 2111                | 2125                | -14                 | UA                  |  472                | N437UA              | EWR                 | FLL                 | 142                 | 1065                | 18                  | 20                  | 2013-09-30 18:00:00 | \n",
       "| 2013                | 9                   | 30                  | 1815                | 1803                | 12                  | 2113                | 2117                |  -4                 | UA                  | 1165                | N76522              | EWR                 | LAX                 | 299                 | 2454                | 18                  |  3                  | 2013-09-30 18:00:00 | \n",
       "| 2013                | 9                   | 30                  | 1822                | 1829                | -7                  | 2003                | 2011                |  -8                 | UA                  | 1053                | N33266              | EWR                 | CLE                 |  65                 |  404                | 18                  | 29                  | 2013-09-30 18:00:00 | \n",
       "| 2013                | 9                   | 30                  | 1844                | 1830                | 14                  | 2128                | 2157                | -29                 | UA                  |  389                | N597UA              | JFK                 | SFO                 | 322                 | 2586                | 18                  | 30                  | 2013-09-30 18:00:00 | \n",
       "| 2013                | 9                   | 30                  | 1854                | 1900                | -6                  | 2021                | 2041                | -20                 | UA                  |  203                | N809UA              | EWR                 | ORD                 | 105                 |  719                | 19                  |  0                  | 2013-09-30 19:00:00 | \n",
       "| 2013                | 9                   | 30                  | 1856                | 1901                | -5                  | 2024                | 2040                | -16                 | UA                  |  693                | N465UA              | LGA                 | ORD                 | 104                 |  733                | 19                  |  1                  | 2013-09-30 19:00:00 | \n",
       "| 2013                | 9                   | 30                  | 1859                | 1859                |  0                  | 2134                | 2159                | -25                 | UA                  | 1128                | N14731              | LGA                 | IAH                 | 180                 | 1416                | 18                  | 59                  | 2013-09-30 18:00:00 | \n",
       "| 2013                | 9                   | 30                  | 1903                | 1900                |  3                  | 2155                | 2154                |   1                 | UA                  | 1528                | N34222              | EWR                 | MCO                 | 127                 |  937                | 19                  |  0                  | 2013-09-30 19:00:00 | \n",
       "| 2013                | 9                   | 30                  | 1907                | 1901                |  6                  | 2156                | 2215                | -19                 | UA                  | 1526                | N35204              | EWR                 | LAX                 | 302                 | 2454                | 19                  |  1                  | 2013-09-30 19:00:00 | \n",
       "| 2013                | 9                   | 30                  | 1909                | 1901                |  8                  | 2212                | 2211                |   1                 | UA                  |  237                | N513UA              | EWR                 | SFO                 | 307                 | 2565                | 19                  |  1                  | 2013-09-30 19:00:00 | \n",
       "| 2013                | 9                   | 30                  | 1931                | 1934                | -3                  | 2147                | 2226                | -39                 | UA                  | 1429                | N26215              | EWR                 | LAS                 | 279                 | 2227                | 19                  | 34                  | 2013-09-30 19:00:00 | \n",
       "| 2013                | 9                   | 30                  | 1935                | 1930                |  5                  | 2230                | 2233                |  -3                 | UA                  | 1115                | N38446              | EWR                 | TPA                 | 132                 |  997                | 19                  | 30                  | 2013-09-30 19:00:00 | \n",
       "| 2013                | 9                   | 30                  | 1953                | 2000                | -7                  | 2119                | 2132                | -13                 | UA                  |  695                | N853UA              | LGA                 | ORD                 | 107                 |  733                | 20                  |  0                  | 2013-09-30 20:00:00 | \n",
       "| 2013                | 9                   | 30                  | 2001                | 2000                |  1                  | 2302                | 2328                | -26                 | UA                  | 1651                | N35260              | EWR                 | SFO                 | 323                 | 2565                | 20                  |  0                  | 2013-09-30 20:00:00 | \n",
       "| 2013                | 9                   | 30                  | 2003                | 2004                | -1                  | 2235                | 2314                | -39                 | UA                  | 1224                | N38473              | EWR                 | LAX                 | 295                 | 2454                | 20                  |  4                  | 2013-09-30 20:00:00 | \n",
       "| 2013                | 9                   | 30                  | 2008                | 1935                | 33                  | 2322                | 2242                |  40                 | UA                  |  208                | N816UA              | EWR                 | SEA                 | 339                 | 2402                | 19                  | 35                  | 2013-09-30 19:00:00 | \n",
       "| 2013                | 9                   | 30                  | 2009                | 2009                |  0                  | 2126                | 2129                |  -3                 | UA                  | 1049                | N77258              | EWR                 | BOS                 |  38                 |  200                | 20                  |  9                  | 2013-09-30 20:00:00 | \n",
       "| 2013                | 9                   | 30                  | 2015                | 2015                |  0                  | 2244                | 2307                | -23                 | UA                  | 1545                | N17730              | EWR                 | IAH                 | 174                 | 1400                | 20                  | 15                  | 2013-09-30 20:00:00 | \n",
       "| 2013                | 9                   | 30                  | 2017                | 2017                |  0                  | 2253                | 2320                | -27                 | UA                  |  771                | N510UA              | JFK                 | LAX                 | 304                 | 2475                | 20                  | 17                  | 2013-09-30 20:00:00 | \n",
       "| 2013                | 9                   | 30                  | 2021                | 2022                | -1                  | 2144                | 2200                | -16                 | UA                  | 1464                | N76503              | EWR                 | CLE                 |  54                 |  404                | 20                  | 22                  | 2013-09-30 20:00:00 | \n",
       "| 2013                | 9                   | 30                  | 2026                | 2028                | -2                  | 2317                | 2340                | -23                 | UA                  | 1680                | N31412              | EWR                 | MIA                 | 141                 | 1085                | 20                  | 28                  | 2013-09-30 20:00:00 | \n",
       "| 2013                | 9                   | 30                  | 2030                | 2035                | -5                  | 2324                | 2340                | -16                 | UA                  |  374                | N484UA              | EWR                 | FLL                 | 141                 | 1065                | 20                  | 35                  | 2013-09-30 20:00:00 | \n",
       "| 2013                | 9                   | 30                  | 2035                | 2029                |  6                  | 2318                | 2337                | -19                 | UA                  | 1039                | N78524              | EWR                 | AUS                 | 191                 | 1504                | 20                  | 29                  | 2013-09-30 20:00:00 | \n",
       "| 2013                | 9                   | 30                  | 2052                | 2059                | -7                  | 2315                | 2358                | -43                 | UA                  | 1416                | N68453              | EWR                 | MCO                 | 123                 |  937                | 20                  | 59                  | 2013-09-30 20:00:00 | \n",
       "| 2013                | 9                   | 30                  | 2055                | 2059                | -4                  | 2158                | 2211                | -13                 | UA                  | 1066                | N16701              | EWR                 | BOS                 |  40                 |  200                | 20                  | 59                  | 2013-09-30 20:00:00 | \n",
       "| 2013                | 9                   | 30                  | 2105                | 2106                | -1                  | 2329                | 2354                | -25                 | UA                  |  475                | N477UA              | EWR                 | IAH                 | 175                 | 1400                | 21                  |  6                  | 2013-09-30 21:00:00 | \n",
       "| 2013                | 9                   | 30                  | 2149                | 2156                | -7                  | 2245                | 2308                | -23                 | UA                  |  523                | N813UA              | EWR                 | BOS                 |  37                 |  200                | 21                  | 56                  | 2013-09-30 21:00:00 | \n",
       "| 2013                | 9                   | 30                  | 2233                | 2113                | 80                  |  112                |   30                |  42                 | UA                  |  471                | N578UA              | EWR                 | SFO                 | 318                 | 2565                | 21                  | 13                  | 2013-09-30 21:00:00 | \n",
       "\n",
       "\n"
      ],
      "text/plain": [
       "      year month day dep_time sched_dep_time dep_delay arr_time sched_arr_time\n",
       "1     2013 1     1   517      515             2         830      819          \n",
       "2     2013 1     1   533      529             4         850      830          \n",
       "3     2013 1     1   554      558            -4         740      728          \n",
       "4     2013 1     1   558      600            -2         924      917          \n",
       "5     2013 1     1   558      600            -2         923      937          \n",
       "6     2013 1     1   559      600            -1         854      902          \n",
       "7     2013 1     1   607      607             0         858      915          \n",
       "8     2013 1     1   611      600            11         945      931          \n",
       "9     2013 1     1   623      627            -4         933      932          \n",
       "10    2013 1     1   628      630            -2        1016      947          \n",
       "11    2013 1     1   643      646            -3         922      940          \n",
       "12    2013 1     1   644      636             8         931      940          \n",
       "13    2013 1     1   646      645             1         910      916          \n",
       "14    2013 1     1   646      645             1        1023     1030          \n",
       "15    2013 1     1   656      700            -4         948     1011          \n",
       "16    2013 1     1   659      700            -1         959     1008          \n",
       "17    2013 1     1   701      700             1        1123     1154          \n",
       "18    2013 1     1   709      700             9         852      832          \n",
       "19    2013 1     1   715      713             2         911      850          \n",
       "20    2013 1     1   723      725            -2        1013     1017          \n",
       "21    2013 1     1   727      730            -3         959      952          \n",
       "22    2013 1     1   728      732            -4        1041     1038          \n",
       "23    2013 1     1   732      645            47        1011      941          \n",
       "24    2013 1     1   739      739             0        1104     1038          \n",
       "25    2013 1     1   746      746             0        1119     1129          \n",
       "26    2013 1     1   752      750             2        1025     1029          \n",
       "27    2013 1     1   803      800             3        1132     1144          \n",
       "28    2013 1     1   823      823             0        1151     1135          \n",
       "29    2013 1     1   826      817             9        1145     1158          \n",
       "30    2013 1     1   828      823             5        1150     1143          \n",
       "...   ...  ...   ... ...      ...            ...       ...      ...           \n",
       "58636 2013 9     30  1802     1805           -3        2022     2028          \n",
       "58637 2013 9     30  1810     1815           -5        2049     2130          \n",
       "58638 2013 9     30  1814     1820           -6        2111     2125          \n",
       "58639 2013 9     30  1815     1803           12        2113     2117          \n",
       "58640 2013 9     30  1822     1829           -7        2003     2011          \n",
       "58641 2013 9     30  1844     1830           14        2128     2157          \n",
       "58642 2013 9     30  1854     1900           -6        2021     2041          \n",
       "58643 2013 9     30  1856     1901           -5        2024     2040          \n",
       "58644 2013 9     30  1859     1859            0        2134     2159          \n",
       "58645 2013 9     30  1903     1900            3        2155     2154          \n",
       "58646 2013 9     30  1907     1901            6        2156     2215          \n",
       "58647 2013 9     30  1909     1901            8        2212     2211          \n",
       "58648 2013 9     30  1931     1934           -3        2147     2226          \n",
       "58649 2013 9     30  1935     1930            5        2230     2233          \n",
       "58650 2013 9     30  1953     2000           -7        2119     2132          \n",
       "58651 2013 9     30  2001     2000            1        2302     2328          \n",
       "58652 2013 9     30  2003     2004           -1        2235     2314          \n",
       "58653 2013 9     30  2008     1935           33        2322     2242          \n",
       "58654 2013 9     30  2009     2009            0        2126     2129          \n",
       "58655 2013 9     30  2015     2015            0        2244     2307          \n",
       "58656 2013 9     30  2017     2017            0        2253     2320          \n",
       "58657 2013 9     30  2021     2022           -1        2144     2200          \n",
       "58658 2013 9     30  2026     2028           -2        2317     2340          \n",
       "58659 2013 9     30  2030     2035           -5        2324     2340          \n",
       "58660 2013 9     30  2035     2029            6        2318     2337          \n",
       "58661 2013 9     30  2052     2059           -7        2315     2358          \n",
       "58662 2013 9     30  2055     2059           -4        2158     2211          \n",
       "58663 2013 9     30  2105     2106           -1        2329     2354          \n",
       "58664 2013 9     30  2149     2156           -7        2245     2308          \n",
       "58665 2013 9     30  2233     2113           80         112       30          \n",
       "      arr_delay carrier flight tailnum origin dest air_time distance hour\n",
       "1      11       UA      1545   N14228  EWR    IAH  227      1400     5   \n",
       "2      20       UA      1714   N24211  LGA    IAH  227      1416     5   \n",
       "3      12       UA      1696   N39463  EWR    ORD  150       719     5   \n",
       "4       7       UA       194   N29129  JFK    LAX  345      2475     6   \n",
       "5     -14       UA      1124   N53441  EWR    SFO  361      2565     6   \n",
       "6      -8       UA      1187   N76515  EWR    LAS  337      2227     6   \n",
       "7     -17       UA      1077   N53442  EWR    MIA  157      1085     6   \n",
       "8      14       UA       303   N532UA  JFK    SFO  366      2586     6   \n",
       "9       1       UA       496   N459UA  LGA    IAH  229      1416     6   \n",
       "10     29       UA      1665   N33289  EWR    LAX  366      2454     6   \n",
       "11    -18       UA       556   N497UA  EWR    PBI  146      1023     6   \n",
       "12     -9       UA      1701   N75435  EWR    FLL  151      1065     6   \n",
       "13     -6       UA       883   N569UA  LGA    DEN  243      1620     6   \n",
       "14     -7       UA      1496   N38727  EWR    SNA  380      2434     6   \n",
       "15    -23       UA      1115   N24212  EWR    TPA  156       997     7   \n",
       "16     -9       UA       960   N838UA  EWR    RSW  164      1068     7   \n",
       "17    -31       UA      1203   N77296  EWR    SJU  188      1608     7   \n",
       "18     20       UA      1092   N26226  LGA    ORD  135       733     7   \n",
       "19     21       UA       544   N841UA  EWR    ORD  156       719     7   \n",
       "20     -4       UA       962   N514UA  EWR    PBI  153      1023     7   \n",
       "21      7       UA      1162   N37462  EWR    DEN  254      1605     7   \n",
       "22      3       UA       473   N488UA  LGA    IAH  238      1416     7   \n",
       "23     30       UA      1111   N37456  EWR    MCO  145       937     6   \n",
       "24     26       UA      1479   N37408  EWR    IAH  249      1400     7   \n",
       "25    -10       UA      1668   N24224  EWR    SFO  373      2565     7   \n",
       "26     -4       UA       477   N511UA  LGA    DEN  249      1620     7   \n",
       "27    -12       UA       223   N510UA  JFK    SFO  369      2586     8   \n",
       "28     16       UA      1223   N39728  EWR    DFW  250      1372     8   \n",
       "29    -13       UA      1480   N76522  EWR    SFO  357      2565     8   \n",
       "30      7       UA      1506   N76528  EWR    LAX  359      2454     8   \n",
       "...   ...       ...     ...    ...     ...    ...  ...      ...      ... \n",
       "58636  -6       UA      1139   N39415  EWR    DEN  228      1605     18  \n",
       "58637 -41       UA      1022   N25705  EWR    SNA  309      2434     18  \n",
       "58638 -14       UA       472   N437UA  EWR    FLL  142      1065     18  \n",
       "58639  -4       UA      1165   N76522  EWR    LAX  299      2454     18  \n",
       "58640  -8       UA      1053   N33266  EWR    CLE   65       404     18  \n",
       "58641 -29       UA       389   N597UA  JFK    SFO  322      2586     18  \n",
       "58642 -20       UA       203   N809UA  EWR    ORD  105       719     19  \n",
       "58643 -16       UA       693   N465UA  LGA    ORD  104       733     19  \n",
       "58644 -25       UA      1128   N14731  LGA    IAH  180      1416     18  \n",
       "58645   1       UA      1528   N34222  EWR    MCO  127       937     19  \n",
       "58646 -19       UA      1526   N35204  EWR    LAX  302      2454     19  \n",
       "58647   1       UA       237   N513UA  EWR    SFO  307      2565     19  \n",
       "58648 -39       UA      1429   N26215  EWR    LAS  279      2227     19  \n",
       "58649  -3       UA      1115   N38446  EWR    TPA  132       997     19  \n",
       "58650 -13       UA       695   N853UA  LGA    ORD  107       733     20  \n",
       "58651 -26       UA      1651   N35260  EWR    SFO  323      2565     20  \n",
       "58652 -39       UA      1224   N38473  EWR    LAX  295      2454     20  \n",
       "58653  40       UA       208   N816UA  EWR    SEA  339      2402     19  \n",
       "58654  -3       UA      1049   N77258  EWR    BOS   38       200     20  \n",
       "58655 -23       UA      1545   N17730  EWR    IAH  174      1400     20  \n",
       "58656 -27       UA       771   N510UA  JFK    LAX  304      2475     20  \n",
       "58657 -16       UA      1464   N76503  EWR    CLE   54       404     20  \n",
       "58658 -23       UA      1680   N31412  EWR    MIA  141      1085     20  \n",
       "58659 -16       UA       374   N484UA  EWR    FLL  141      1065     20  \n",
       "58660 -19       UA      1039   N78524  EWR    AUS  191      1504     20  \n",
       "58661 -43       UA      1416   N68453  EWR    MCO  123       937     20  \n",
       "58662 -13       UA      1066   N16701  EWR    BOS   40       200     20  \n",
       "58663 -25       UA       475   N477UA  EWR    IAH  175      1400     21  \n",
       "58664 -23       UA       523   N813UA  EWR    BOS   37       200     21  \n",
       "58665  42       UA       471   N578UA  EWR    SFO  318      2565     21  \n",
       "      minute time_hour          \n",
       "1     15     2013-01-01 05:00:00\n",
       "2     29     2013-01-01 05:00:00\n",
       "3     58     2013-01-01 05:00:00\n",
       "4      0     2013-01-01 06:00:00\n",
       "5      0     2013-01-01 06:00:00\n",
       "6      0     2013-01-01 06:00:00\n",
       "7      7     2013-01-01 06:00:00\n",
       "8      0     2013-01-01 06:00:00\n",
       "9     27     2013-01-01 06:00:00\n",
       "10    30     2013-01-01 06:00:00\n",
       "11    46     2013-01-01 06:00:00\n",
       "12    36     2013-01-01 06:00:00\n",
       "13    45     2013-01-01 06:00:00\n",
       "14    45     2013-01-01 06:00:00\n",
       "15     0     2013-01-01 07:00:00\n",
       "16     0     2013-01-01 07:00:00\n",
       "17     0     2013-01-01 07:00:00\n",
       "18     0     2013-01-01 07:00:00\n",
       "19    13     2013-01-01 07:00:00\n",
       "20    25     2013-01-01 07:00:00\n",
       "21    30     2013-01-01 07:00:00\n",
       "22    32     2013-01-01 07:00:00\n",
       "23    45     2013-01-01 06:00:00\n",
       "24    39     2013-01-01 07:00:00\n",
       "25    46     2013-01-01 07:00:00\n",
       "26    50     2013-01-01 07:00:00\n",
       "27     0     2013-01-01 08:00:00\n",
       "28    23     2013-01-01 08:00:00\n",
       "29    17     2013-01-01 08:00:00\n",
       "30    23     2013-01-01 08:00:00\n",
       "...   ...    ...                \n",
       "58636  5     2013-09-30 18:00:00\n",
       "58637 15     2013-09-30 18:00:00\n",
       "58638 20     2013-09-30 18:00:00\n",
       "58639  3     2013-09-30 18:00:00\n",
       "58640 29     2013-09-30 18:00:00\n",
       "58641 30     2013-09-30 18:00:00\n",
       "58642  0     2013-09-30 19:00:00\n",
       "58643  1     2013-09-30 19:00:00\n",
       "58644 59     2013-09-30 18:00:00\n",
       "58645  0     2013-09-30 19:00:00\n",
       "58646  1     2013-09-30 19:00:00\n",
       "58647  1     2013-09-30 19:00:00\n",
       "58648 34     2013-09-30 19:00:00\n",
       "58649 30     2013-09-30 19:00:00\n",
       "58650  0     2013-09-30 20:00:00\n",
       "58651  0     2013-09-30 20:00:00\n",
       "58652  4     2013-09-30 20:00:00\n",
       "58653 35     2013-09-30 19:00:00\n",
       "58654  9     2013-09-30 20:00:00\n",
       "58655 15     2013-09-30 20:00:00\n",
       "58656 17     2013-09-30 20:00:00\n",
       "58657 22     2013-09-30 20:00:00\n",
       "58658 28     2013-09-30 20:00:00\n",
       "58659 35     2013-09-30 20:00:00\n",
       "58660 29     2013-09-30 20:00:00\n",
       "58661 59     2013-09-30 20:00:00\n",
       "58662 59     2013-09-30 20:00:00\n",
       "58663  6     2013-09-30 21:00:00\n",
       "58664 56     2013-09-30 21:00:00\n",
       "58665 13     2013-09-30 21:00:00"
      ]
     },
     "metadata": {},
     "output_type": "display_data"
    }
   ],
   "source": [
    "filter(flights,carrier=='UA')"
   ]
  },
  {
   "cell_type": "code",
   "execution_count": null,
   "metadata": {
    "collapsed": true
   },
   "outputs": [],
   "source": []
  }
 ],
 "metadata": {
  "kernelspec": {
   "display_name": "R",
   "language": "R",
   "name": "ir"
  },
  "language_info": {
   "codemirror_mode": "r",
   "file_extension": ".r",
   "mimetype": "text/x-r-source",
   "name": "R",
   "pygments_lexer": "r",
   "version": "3.3.2"
  }
 },
 "nbformat": 4,
 "nbformat_minor": 2
}
