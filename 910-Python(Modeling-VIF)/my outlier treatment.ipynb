{
 "cells": [
  {
   "cell_type": "code",
   "execution_count": 1,
   "metadata": {},
   "outputs": [
    {
     "data": {
      "text/html": [
       "<table>\n",
       "<thead><tr><th scope=col>speed</th><th scope=col>dist</th></tr></thead>\n",
       "<tbody>\n",
       "\t<tr><td>4 </td><td> 2</td></tr>\n",
       "\t<tr><td>4 </td><td>10</td></tr>\n",
       "\t<tr><td>7 </td><td> 4</td></tr>\n",
       "\t<tr><td>7 </td><td>22</td></tr>\n",
       "\t<tr><td>8 </td><td>16</td></tr>\n",
       "\t<tr><td>9 </td><td>10</td></tr>\n",
       "</tbody>\n",
       "</table>\n"
      ],
      "text/latex": [
       "\\begin{tabular}{r|ll}\n",
       " speed & dist\\\\\n",
       "\\hline\n",
       "\t 4  &  2\\\\\n",
       "\t 4  & 10\\\\\n",
       "\t 7  &  4\\\\\n",
       "\t 7  & 22\\\\\n",
       "\t 8  & 16\\\\\n",
       "\t 9  & 10\\\\\n",
       "\\end{tabular}\n"
      ],
      "text/markdown": [
       "\n",
       "speed | dist | \n",
       "|---|---|---|---|---|---|\n",
       "| 4  |  2 | \n",
       "| 4  | 10 | \n",
       "| 7  |  4 | \n",
       "| 7  | 22 | \n",
       "| 8  | 16 | \n",
       "| 9  | 10 | \n",
       "\n",
       "\n"
      ],
      "text/plain": [
       "  speed dist\n",
       "1 4      2  \n",
       "2 4     10  \n",
       "3 7      4  \n",
       "4 7     22  \n",
       "5 8     16  \n",
       "6 9     10  "
      ]
     },
     "metadata": {},
     "output_type": "display_data"
    }
   ],
   "source": [
    "head(cars)"
   ]
  },
  {
   "cell_type": "code",
   "execution_count": 3,
   "metadata": {},
   "outputs": [
    {
     "data": {
      "text/html": [
       "<table>\n",
       "<thead><tr><th scope=col>speed</th><th scope=col>dist</th></tr></thead>\n",
       "<tbody>\n",
       "\t<tr><td> 4</td><td> 2</td></tr>\n",
       "\t<tr><td> 4</td><td>10</td></tr>\n",
       "\t<tr><td> 7</td><td> 4</td></tr>\n",
       "\t<tr><td> 7</td><td>22</td></tr>\n",
       "\t<tr><td> 8</td><td>16</td></tr>\n",
       "\t<tr><td> 9</td><td>10</td></tr>\n",
       "\t<tr><td>10</td><td>18</td></tr>\n",
       "\t<tr><td>10</td><td>26</td></tr>\n",
       "\t<tr><td>10</td><td>34</td></tr>\n",
       "\t<tr><td>11</td><td>17</td></tr>\n",
       "\t<tr><td>11</td><td>28</td></tr>\n",
       "\t<tr><td>12</td><td>14</td></tr>\n",
       "\t<tr><td>12</td><td>20</td></tr>\n",
       "\t<tr><td>12</td><td>24</td></tr>\n",
       "\t<tr><td>12</td><td>28</td></tr>\n",
       "\t<tr><td>13</td><td>26</td></tr>\n",
       "\t<tr><td>13</td><td>34</td></tr>\n",
       "\t<tr><td>13</td><td>34</td></tr>\n",
       "\t<tr><td>13</td><td>46</td></tr>\n",
       "\t<tr><td>14</td><td>26</td></tr>\n",
       "\t<tr><td>14</td><td>36</td></tr>\n",
       "\t<tr><td>14</td><td>60</td></tr>\n",
       "\t<tr><td>14</td><td>80</td></tr>\n",
       "\t<tr><td>15</td><td>20</td></tr>\n",
       "\t<tr><td>15</td><td>26</td></tr>\n",
       "\t<tr><td>15</td><td>54</td></tr>\n",
       "\t<tr><td>16</td><td>32</td></tr>\n",
       "\t<tr><td>16</td><td>40</td></tr>\n",
       "\t<tr><td>17</td><td>32</td></tr>\n",
       "\t<tr><td>17</td><td>40</td></tr>\n",
       "</tbody>\n",
       "</table>\n"
      ],
      "text/latex": [
       "\\begin{tabular}{r|ll}\n",
       " speed & dist\\\\\n",
       "\\hline\n",
       "\t  4 &  2\\\\\n",
       "\t  4 & 10\\\\\n",
       "\t  7 &  4\\\\\n",
       "\t  7 & 22\\\\\n",
       "\t  8 & 16\\\\\n",
       "\t  9 & 10\\\\\n",
       "\t 10 & 18\\\\\n",
       "\t 10 & 26\\\\\n",
       "\t 10 & 34\\\\\n",
       "\t 11 & 17\\\\\n",
       "\t 11 & 28\\\\\n",
       "\t 12 & 14\\\\\n",
       "\t 12 & 20\\\\\n",
       "\t 12 & 24\\\\\n",
       "\t 12 & 28\\\\\n",
       "\t 13 & 26\\\\\n",
       "\t 13 & 34\\\\\n",
       "\t 13 & 34\\\\\n",
       "\t 13 & 46\\\\\n",
       "\t 14 & 26\\\\\n",
       "\t 14 & 36\\\\\n",
       "\t 14 & 60\\\\\n",
       "\t 14 & 80\\\\\n",
       "\t 15 & 20\\\\\n",
       "\t 15 & 26\\\\\n",
       "\t 15 & 54\\\\\n",
       "\t 16 & 32\\\\\n",
       "\t 16 & 40\\\\\n",
       "\t 17 & 32\\\\\n",
       "\t 17 & 40\\\\\n",
       "\\end{tabular}\n"
      ],
      "text/markdown": [
       "\n",
       "speed | dist | \n",
       "|---|---|---|---|---|---|---|---|---|---|---|---|---|---|---|---|---|---|---|---|---|---|---|---|---|---|---|---|---|---|\n",
       "|  4 |  2 | \n",
       "|  4 | 10 | \n",
       "|  7 |  4 | \n",
       "|  7 | 22 | \n",
       "|  8 | 16 | \n",
       "|  9 | 10 | \n",
       "| 10 | 18 | \n",
       "| 10 | 26 | \n",
       "| 10 | 34 | \n",
       "| 11 | 17 | \n",
       "| 11 | 28 | \n",
       "| 12 | 14 | \n",
       "| 12 | 20 | \n",
       "| 12 | 24 | \n",
       "| 12 | 28 | \n",
       "| 13 | 26 | \n",
       "| 13 | 34 | \n",
       "| 13 | 34 | \n",
       "| 13 | 46 | \n",
       "| 14 | 26 | \n",
       "| 14 | 36 | \n",
       "| 14 | 60 | \n",
       "| 14 | 80 | \n",
       "| 15 | 20 | \n",
       "| 15 | 26 | \n",
       "| 15 | 54 | \n",
       "| 16 | 32 | \n",
       "| 16 | 40 | \n",
       "| 17 | 32 | \n",
       "| 17 | 40 | \n",
       "\n",
       "\n"
      ],
      "text/plain": [
       "   speed dist\n",
       "1   4     2  \n",
       "2   4    10  \n",
       "3   7     4  \n",
       "4   7    22  \n",
       "5   8    16  \n",
       "6   9    10  \n",
       "7  10    18  \n",
       "8  10    26  \n",
       "9  10    34  \n",
       "10 11    17  \n",
       "11 11    28  \n",
       "12 12    14  \n",
       "13 12    20  \n",
       "14 12    24  \n",
       "15 12    28  \n",
       "16 13    26  \n",
       "17 13    34  \n",
       "18 13    34  \n",
       "19 13    46  \n",
       "20 14    26  \n",
       "21 14    36  \n",
       "22 14    60  \n",
       "23 14    80  \n",
       "24 15    20  \n",
       "25 15    26  \n",
       "26 15    54  \n",
       "27 16    32  \n",
       "28 16    40  \n",
       "29 17    32  \n",
       "30 17    40  "
      ]
     },
     "metadata": {},
     "output_type": "display_data"
    }
   ],
   "source": [
    "cars1 <- cars[1:30,]\n",
    "cars1"
   ]
  },
  {
   "cell_type": "code",
   "execution_count": 5,
   "metadata": {},
   "outputs": [
    {
     "data": {
      "text/html": [
       "<table>\n",
       "<thead><tr><th scope=col>speed</th><th scope=col>dist</th></tr></thead>\n",
       "<tbody>\n",
       "\t<tr><td> 4 </td><td>  2</td></tr>\n",
       "\t<tr><td> 4 </td><td> 10</td></tr>\n",
       "\t<tr><td> 7 </td><td>  4</td></tr>\n",
       "\t<tr><td> 7 </td><td> 22</td></tr>\n",
       "\t<tr><td> 8 </td><td> 16</td></tr>\n",
       "\t<tr><td> 9 </td><td> 10</td></tr>\n",
       "\t<tr><td>10 </td><td> 18</td></tr>\n",
       "\t<tr><td>10 </td><td> 26</td></tr>\n",
       "\t<tr><td>10 </td><td> 34</td></tr>\n",
       "\t<tr><td>11 </td><td> 17</td></tr>\n",
       "\t<tr><td>11 </td><td> 28</td></tr>\n",
       "\t<tr><td>12 </td><td> 14</td></tr>\n",
       "\t<tr><td>12 </td><td> 20</td></tr>\n",
       "\t<tr><td>12 </td><td> 24</td></tr>\n",
       "\t<tr><td>12 </td><td> 28</td></tr>\n",
       "\t<tr><td>13 </td><td> 26</td></tr>\n",
       "\t<tr><td>13 </td><td> 34</td></tr>\n",
       "\t<tr><td>13 </td><td> 34</td></tr>\n",
       "\t<tr><td>13 </td><td> 46</td></tr>\n",
       "\t<tr><td>14 </td><td> 26</td></tr>\n",
       "\t<tr><td>14 </td><td> 36</td></tr>\n",
       "\t<tr><td>14 </td><td> 60</td></tr>\n",
       "\t<tr><td>14 </td><td> 80</td></tr>\n",
       "\t<tr><td>15 </td><td> 20</td></tr>\n",
       "\t<tr><td>15 </td><td> 26</td></tr>\n",
       "\t<tr><td>15 </td><td> 54</td></tr>\n",
       "\t<tr><td>16 </td><td> 32</td></tr>\n",
       "\t<tr><td>16 </td><td> 40</td></tr>\n",
       "\t<tr><td>17 </td><td> 32</td></tr>\n",
       "\t<tr><td>17 </td><td> 40</td></tr>\n",
       "\t<tr><td>19 </td><td>190</td></tr>\n",
       "\t<tr><td>19 </td><td>186</td></tr>\n",
       "\t<tr><td>20 </td><td>210</td></tr>\n",
       "\t<tr><td>20 </td><td>220</td></tr>\n",
       "\t<tr><td>20 </td><td>218</td></tr>\n",
       "</tbody>\n",
       "</table>\n"
      ],
      "text/latex": [
       "\\begin{tabular}{r|ll}\n",
       " speed & dist\\\\\n",
       "\\hline\n",
       "\t  4  &   2\\\\\n",
       "\t  4  &  10\\\\\n",
       "\t  7  &   4\\\\\n",
       "\t  7  &  22\\\\\n",
       "\t  8  &  16\\\\\n",
       "\t  9  &  10\\\\\n",
       "\t 10  &  18\\\\\n",
       "\t 10  &  26\\\\\n",
       "\t 10  &  34\\\\\n",
       "\t 11  &  17\\\\\n",
       "\t 11  &  28\\\\\n",
       "\t 12  &  14\\\\\n",
       "\t 12  &  20\\\\\n",
       "\t 12  &  24\\\\\n",
       "\t 12  &  28\\\\\n",
       "\t 13  &  26\\\\\n",
       "\t 13  &  34\\\\\n",
       "\t 13  &  34\\\\\n",
       "\t 13  &  46\\\\\n",
       "\t 14  &  26\\\\\n",
       "\t 14  &  36\\\\\n",
       "\t 14  &  60\\\\\n",
       "\t 14  &  80\\\\\n",
       "\t 15  &  20\\\\\n",
       "\t 15  &  26\\\\\n",
       "\t 15  &  54\\\\\n",
       "\t 16  &  32\\\\\n",
       "\t 16  &  40\\\\\n",
       "\t 17  &  32\\\\\n",
       "\t 17  &  40\\\\\n",
       "\t 19  & 190\\\\\n",
       "\t 19  & 186\\\\\n",
       "\t 20  & 210\\\\\n",
       "\t 20  & 220\\\\\n",
       "\t 20  & 218\\\\\n",
       "\\end{tabular}\n"
      ],
      "text/markdown": [
       "\n",
       "speed | dist | \n",
       "|---|---|---|---|---|---|---|---|---|---|---|---|---|---|---|---|---|---|---|---|---|---|---|---|---|---|---|---|---|---|---|---|---|---|---|\n",
       "|  4  |   2 | \n",
       "|  4  |  10 | \n",
       "|  7  |   4 | \n",
       "|  7  |  22 | \n",
       "|  8  |  16 | \n",
       "|  9  |  10 | \n",
       "| 10  |  18 | \n",
       "| 10  |  26 | \n",
       "| 10  |  34 | \n",
       "| 11  |  17 | \n",
       "| 11  |  28 | \n",
       "| 12  |  14 | \n",
       "| 12  |  20 | \n",
       "| 12  |  24 | \n",
       "| 12  |  28 | \n",
       "| 13  |  26 | \n",
       "| 13  |  34 | \n",
       "| 13  |  34 | \n",
       "| 13  |  46 | \n",
       "| 14  |  26 | \n",
       "| 14  |  36 | \n",
       "| 14  |  60 | \n",
       "| 14  |  80 | \n",
       "| 15  |  20 | \n",
       "| 15  |  26 | \n",
       "| 15  |  54 | \n",
       "| 16  |  32 | \n",
       "| 16  |  40 | \n",
       "| 17  |  32 | \n",
       "| 17  |  40 | \n",
       "| 19  | 190 | \n",
       "| 19  | 186 | \n",
       "| 20  | 210 | \n",
       "| 20  | 220 | \n",
       "| 20  | 218 | \n",
       "\n",
       "\n"
      ],
      "text/plain": [
       "   speed dist\n",
       "1   4      2 \n",
       "2   4     10 \n",
       "3   7      4 \n",
       "4   7     22 \n",
       "5   8     16 \n",
       "6   9     10 \n",
       "7  10     18 \n",
       "8  10     26 \n",
       "9  10     34 \n",
       "10 11     17 \n",
       "11 11     28 \n",
       "12 12     14 \n",
       "13 12     20 \n",
       "14 12     24 \n",
       "15 12     28 \n",
       "16 13     26 \n",
       "17 13     34 \n",
       "18 13     34 \n",
       "19 13     46 \n",
       "20 14     26 \n",
       "21 14     36 \n",
       "22 14     60 \n",
       "23 14     80 \n",
       "24 15     20 \n",
       "25 15     26 \n",
       "26 15     54 \n",
       "27 16     32 \n",
       "28 16     40 \n",
       "29 17     32 \n",
       "30 17     40 \n",
       "31 19    190 \n",
       "32 19    186 \n",
       "33 20    210 \n",
       "34 20    220 \n",
       "35 20    218 "
      ]
     },
     "metadata": {},
     "output_type": "display_data"
    }
   ],
   "source": [
    "cars_outliers <- data.frame(speed=c(19,19,20,20,20), dist=c(190, 186, 210, 220, 218))  # introduce outliers.\n",
    "cars2 <- rbind(cars1, cars_outliers)  # data with outliers.\n",
    "cars2"
   ]
  },
  {
   "cell_type": "code",
   "execution_count": 15,
   "metadata": {},
   "outputs": [
    {
     "data": {
      "image/png": "[encoded data removed]",
      "text/plain": [
       "Plot with title \"With Outliers\""
      ]
     },
     "metadata": {},
     "output_type": "display_data"
    }
   ],
   "source": [
    "par(mfrow=c(1, 2))\n",
    "plot(cars2$speed, cars2$dist, xlim=c(0, 28), ylim=c(0, 230), main=\"With Outliers\", xlab=\"speed\", ylab=\"dist\", pch=\"*\", col=\"red\", cex=2)\n",
    "abline(lm(dist ~ speed, data=cars2), col=\"blue\", lwd=3, lty=2)"
   ]
  },
  {
   "cell_type": "code",
   "execution_count": 16,
   "metadata": {},
   "outputs": [
    {
     "data": {
      "image/png": "[encoded data removed]",
      "text/plain": [
       "Plot with title \"Outliers removed \n",
       " A much better fit!\""
      ]
     },
     "metadata": {},
     "output_type": "display_data"
    }
   ],
   "source": [
    "plot(cars1$speed, cars1$dist, xlim=c(0, 28), ylim=c(0, 230), main=\"Outliers removed \\n A much better fit!\", xlab=\"speed\", ylab=\"dist\", pch=\"*\", col=\"red\", cex=2)\n",
    "abline(lm(dist ~ speed, data=cars1), col=\"blue\", lwd=3, lty=2)"
   ]
  },
  {
   "cell_type": "code",
   "execution_count": 17,
   "metadata": {
    "collapsed": true
   },
   "outputs": [],
   "source": [
    "inputdata <- read.csv('ozone.csv')"
   ]
  },
  {
   "cell_type": "code",
   "execution_count": 19,
   "metadata": {},
   "outputs": [
    {
     "data": {
      "text/html": [
       "<table>\n",
       "<thead><tr><th scope=col>Month</th><th scope=col>Day_of_month</th><th scope=col>Day_of_week</th><th scope=col>ozone_reading</th><th scope=col>pressure_height</th><th scope=col>Wind_speed</th><th scope=col>Humidity</th><th scope=col>Temperature_Sandburg</th><th scope=col>Temperature_ElMonte</th><th scope=col>Inversion_base_height</th><th scope=col>Pressure_gradient</th><th scope=col>Inversion_temperature</th><th scope=col>Visibility</th></tr></thead>\n",
       "<tbody>\n",
       "\t<tr><td>1    </td><td>1    </td><td>4    </td><td>3.01 </td><td>5480 </td><td>8    </td><td>20   </td><td>NA   </td><td>   NA</td><td>5000 </td><td>-15  </td><td>30.56</td><td>200  </td></tr>\n",
       "\t<tr><td>1    </td><td>2    </td><td>5    </td><td>3.20 </td><td>5660 </td><td>6    </td><td>NA   </td><td>38   </td><td>   NA</td><td>  NA </td><td>-14  </td><td>   NA</td><td>300  </td></tr>\n",
       "\t<tr><td>1    </td><td>3    </td><td>6    </td><td>2.70 </td><td>5710 </td><td>4    </td><td>28   </td><td>40   </td><td>   NA</td><td>2693 </td><td>-25  </td><td>47.66</td><td>250  </td></tr>\n",
       "\t<tr><td>1    </td><td>4    </td><td>7    </td><td>5.18 </td><td>5700 </td><td>3    </td><td>37   </td><td>45   </td><td>   NA</td><td> 590 </td><td>-24  </td><td>55.04</td><td>100  </td></tr>\n",
       "\t<tr><td>1    </td><td>5    </td><td>1    </td><td>5.34 </td><td>5760 </td><td>3    </td><td>51   </td><td>54   </td><td>45.32</td><td>1450 </td><td> 25  </td><td>57.02</td><td> 60  </td></tr>\n",
       "\t<tr><td>1    </td><td>6    </td><td>2    </td><td>5.77 </td><td>5720 </td><td>4    </td><td>69   </td><td>35   </td><td>49.64</td><td>1568 </td><td> 15  </td><td>53.78</td><td> 60  </td></tr>\n",
       "</tbody>\n",
       "</table>\n"
      ],
      "text/latex": [
       "\\begin{tabular}{r|lllllllllllll}\n",
       " Month & Day\\_of\\_month & Day\\_of\\_week & ozone\\_reading & pressure\\_height & Wind\\_speed & Humidity & Temperature\\_Sandburg & Temperature\\_ElMonte & Inversion\\_base\\_height & Pressure\\_gradient & Inversion\\_temperature & Visibility\\\\\n",
       "\\hline\n",
       "\t 1     & 1     & 4     & 3.01  & 5480  & 8     & 20    & NA    &    NA & 5000  & -15   & 30.56 & 200  \\\\\n",
       "\t 1     & 2     & 5     & 3.20  & 5660  & 6     & NA    & 38    &    NA &   NA  & -14   &    NA & 300  \\\\\n",
       "\t 1     & 3     & 6     & 2.70  & 5710  & 4     & 28    & 40    &    NA & 2693  & -25   & 47.66 & 250  \\\\\n",
       "\t 1     & 4     & 7     & 5.18  & 5700  & 3     & 37    & 45    &    NA &  590  & -24   & 55.04 & 100  \\\\\n",
       "\t 1     & 5     & 1     & 5.34  & 5760  & 3     & 51    & 54    & 45.32 & 1450  &  25   & 57.02 &  60  \\\\\n",
       "\t 1     & 6     & 2     & 5.77  & 5720  & 4     & 69    & 35    & 49.64 & 1568  &  15   & 53.78 &  60  \\\\\n",
       "\\end{tabular}\n"
      ],
      "text/markdown": [
       "\n",
       "Month | Day_of_month | Day_of_week | ozone_reading | pressure_height | Wind_speed | Humidity | Temperature_Sandburg | Temperature_ElMonte | Inversion_base_height | Pressure_gradient | Inversion_temperature | Visibility | \n",
       "|---|---|---|---|---|---|\n",
       "| 1     | 1     | 4     | 3.01  | 5480  | 8     | 20    | NA    |    NA | 5000  | -15   | 30.56 | 200   | \n",
       "| 1     | 2     | 5     | 3.20  | 5660  | 6     | NA    | 38    |    NA |   NA  | -14   |    NA | 300   | \n",
       "| 1     | 3     | 6     | 2.70  | 5710  | 4     | 28    | 40    |    NA | 2693  | -25   | 47.66 | 250   | \n",
       "| 1     | 4     | 7     | 5.18  | 5700  | 3     | 37    | 45    |    NA |  590  | -24   | 55.04 | 100   | \n",
       "| 1     | 5     | 1     | 5.34  | 5760  | 3     | 51    | 54    | 45.32 | 1450  |  25   | 57.02 |  60   | \n",
       "| 1     | 6     | 2     | 5.77  | 5720  | 4     | 69    | 35    | 49.64 | 1568  |  15   | 53.78 |  60   | \n",
       "\n",
       "\n"
      ],
      "text/plain": [
       "  Month Day_of_month Day_of_week ozone_reading pressure_height Wind_speed\n",
       "1 1     1            4           3.01          5480            8         \n",
       "2 1     2            5           3.20          5660            6         \n",
       "3 1     3            6           2.70          5710            4         \n",
       "4 1     4            7           5.18          5700            3         \n",
       "5 1     5            1           5.34          5760            3         \n",
       "6 1     6            2           5.77          5720            4         \n",
       "  Humidity Temperature_Sandburg Temperature_ElMonte Inversion_base_height\n",
       "1 20       NA                      NA               5000                 \n",
       "2 NA       38                      NA                 NA                 \n",
       "3 28       40                      NA               2693                 \n",
       "4 37       45                      NA                590                 \n",
       "5 51       54                   45.32               1450                 \n",
       "6 69       35                   49.64               1568                 \n",
       "  Pressure_gradient Inversion_temperature Visibility\n",
       "1 -15               30.56                 200       \n",
       "2 -14                  NA                 300       \n",
       "3 -25               47.66                 250       \n",
       "4 -24               55.04                 100       \n",
       "5  25               57.02                  60       \n",
       "6  15               53.78                  60       "
      ]
     },
     "metadata": {},
     "output_type": "display_data"
    }
   ],
   "source": [
    "head(inputdata)"
   ]
  },
  {
   "cell_type": "code",
   "execution_count": 30,
   "metadata": {},
   "outputs": [
    {
     "data": {
      "text/html": [
       "<ol class=list-inline>\n",
       "\t<li>5480</li>\n",
       "\t<li>5410</li>\n",
       "\t<li>5350</li>\n",
       "\t<li>5480</li>\n",
       "\t<li>5490</li>\n",
       "\t<li>5470</li>\n",
       "\t<li>5320</li>\n",
       "\t<li>5420</li>\n",
       "\t<li>5440</li>\n",
       "\t<li>5480</li>\n",
       "\t<li>5450</li>\n",
       "\t<li>5500</li>\n",
       "</ol>\n"
      ],
      "text/latex": [
       "\\begin{enumerate*}\n",
       "\\item 5480\n",
       "\\item 5410\n",
       "\\item 5350\n",
       "\\item 5480\n",
       "\\item 5490\n",
       "\\item 5470\n",
       "\\item 5320\n",
       "\\item 5420\n",
       "\\item 5440\n",
       "\\item 5480\n",
       "\\item 5450\n",
       "\\item 5500\n",
       "\\end{enumerate*}\n"
      ],
      "text/markdown": [
       "1. 5480\n",
       "2. 5410\n",
       "3. 5350\n",
       "4. 5480\n",
       "5. 5490\n",
       "6. 5470\n",
       "7. 5320\n",
       "8. 5420\n",
       "9. 5440\n",
       "10. 5480\n",
       "11. 5450\n",
       "12. 5500\n",
       "\n",
       "\n"
      ],
      "text/plain": [
       " [1] 5480 5410 5350 5480 5490 5470 5320 5420 5440 5480 5450 5500"
      ]
     },
     "metadata": {},
     "output_type": "display_data"
    },
    {
     "data": {
      "image/png": "[encoded data removed]",
      "text/plain": [
       "Plot with title \"Pressure Height\""
      ]
     },
     "metadata": {},
     "output_type": "display_data"
    }
   ],
   "source": [
    "outliers_values <- boxplot.stats(inputdata$pressure_height)$out\n",
    "outliers_values \n",
    "boxplot(inputdata$pressure_height, main=\"Pressure Height\", boxwex=0.1)\n",
    "mtext(paste(\"Outliers: \", paste(outliers_values, collapse=\", \")), cex=0.6)"
   ]
  },
  {
   "cell_type": "code",
   "execution_count": 32,
   "metadata": {},
   "outputs": [
    {
     "data": {
      "image/png": "[encoded data removed]",
      "text/plain": [
       "Plot with title \"Ozone reading across months\""
      ]
     },
     "metadata": {},
     "output_type": "display_data"
    },
    {
     "data": {
      "image/png": "[encoded data removed]",
      "text/plain": [
       "Plot with title \"Ozone reading for days of week\""
      ]
     },
     "metadata": {},
     "output_type": "display_data"
    }
   ],
   "source": [
    "\n",
    "boxplot(ozone_reading ~ Month, data=inputdata, main=\"Ozone reading across months\")  # clear pattern is noticeable.\n",
    "boxplot(ozone_reading ~ Day_of_week, data=inputdata, main=\"Ozone reading for days of week\")  # this may not be significant, as day of week variable is a subset of the month var."
   ]
  },
  {
   "cell_type": "code",
   "execution_count": null,
   "metadata": {
    "collapsed": true
   },
   "outputs": [],
   "source": []
  }
 ],
 "metadata": {
  "kernelspec": {
   "display_name": "R",
   "language": "R",
   "name": "ir"
  },
  "language_info": {
   "codemirror_mode": "r",
   "file_extension": ".r",
   "mimetype": "text/x-r-source",
   "name": "R",
   "pygments_lexer": "r",
   "version": "3.4.1"
  }
 },
 "nbformat": 4,
 "nbformat_minor": 2
}
