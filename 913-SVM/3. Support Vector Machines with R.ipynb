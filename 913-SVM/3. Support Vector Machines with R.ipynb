{
 "cells": [
  {
   "cell_type": "markdown",
   "metadata": {},
   "source": [
    "### Get the Data"
   ]
  },
  {
   "cell_type": "code",
   "execution_count": 3,
   "metadata": {
    "collapsed": true
   },
   "outputs": [],
   "source": [
    "df <- read.csv('cancer.csv')"
   ]
  },
  {
   "cell_type": "code",
   "execution_count": 4,
   "metadata": {},
   "outputs": [
    {
     "data": {
      "text/html": [
       "<table>\n",
       "<thead><tr><th scope=col>mean.radius</th><th scope=col>mean.texture</th><th scope=col>mean.perimeter</th><th scope=col>mean.area</th><th scope=col>mean.smoothness</th><th scope=col>mean.compactness</th><th scope=col>mean.concavity</th><th scope=col>mean.concave.points</th><th scope=col>mean.symmetry</th><th scope=col>mean.fractal.dimension</th><th scope=col>...</th><th scope=col>worst.texture</th><th scope=col>worst.perimeter</th><th scope=col>worst.area</th><th scope=col>worst.smoothness</th><th scope=col>worst.compactness</th><th scope=col>worst.concavity</th><th scope=col>worst.concave.points</th><th scope=col>worst.symmetry</th><th scope=col>worst.fractal.dimension</th><th scope=col>target</th></tr></thead>\n",
       "<tbody>\n",
       "\t<tr><td>17.99  </td><td>10.38  </td><td>122.80 </td><td>1001.0 </td><td>0.11840</td><td>0.27760</td><td>0.3001 </td><td>0.14710</td><td>0.2419 </td><td>0.07871</td><td>...    </td><td>17.33  </td><td>184.60 </td><td>2019.0 </td><td>0.1622 </td><td>0.6656 </td><td>0.7119 </td><td>0.2654 </td><td>0.4601 </td><td>0.11890</td><td>0      </td></tr>\n",
       "\t<tr><td>20.57  </td><td>17.77  </td><td>132.90 </td><td>1326.0 </td><td>0.08474</td><td>0.07864</td><td>0.0869 </td><td>0.07017</td><td>0.1812 </td><td>0.05667</td><td>...    </td><td>23.41  </td><td>158.80 </td><td>1956.0 </td><td>0.1238 </td><td>0.1866 </td><td>0.2416 </td><td>0.1860 </td><td>0.2750 </td><td>0.08902</td><td>0      </td></tr>\n",
       "\t<tr><td>19.69  </td><td>21.25  </td><td>130.00 </td><td>1203.0 </td><td>0.10960</td><td>0.15990</td><td>0.1974 </td><td>0.12790</td><td>0.2069 </td><td>0.05999</td><td>...    </td><td>25.53  </td><td>152.50 </td><td>1709.0 </td><td>0.1444 </td><td>0.4245 </td><td>0.4504 </td><td>0.2430 </td><td>0.3613 </td><td>0.08758</td><td>0      </td></tr>\n",
       "\t<tr><td>11.42  </td><td>20.38  </td><td> 77.58 </td><td> 386.1 </td><td>0.14250</td><td>0.28390</td><td>0.2414 </td><td>0.10520</td><td>0.2597 </td><td>0.09744</td><td>...    </td><td>26.50  </td><td> 98.87 </td><td> 567.7 </td><td>0.2098 </td><td>0.8663 </td><td>0.6869 </td><td>0.2575 </td><td>0.6638 </td><td>0.17300</td><td>0      </td></tr>\n",
       "\t<tr><td>20.29  </td><td>14.34  </td><td>135.10 </td><td>1297.0 </td><td>0.10030</td><td>0.13280</td><td>0.1980 </td><td>0.10430</td><td>0.1809 </td><td>0.05883</td><td>...    </td><td>16.67  </td><td>152.20 </td><td>1575.0 </td><td>0.1374 </td><td>0.2050 </td><td>0.4000 </td><td>0.1625 </td><td>0.2364 </td><td>0.07678</td><td>0      </td></tr>\n",
       "\t<tr><td>12.45  </td><td>15.70  </td><td> 82.57 </td><td> 477.1 </td><td>0.12780</td><td>0.17000</td><td>0.1578 </td><td>0.08089</td><td>0.2087 </td><td>0.07613</td><td>...    </td><td>23.75  </td><td>103.40 </td><td> 741.6 </td><td>0.1791 </td><td>0.5249 </td><td>0.5355 </td><td>0.1741 </td><td>0.3985 </td><td>0.12440</td><td>0      </td></tr>\n",
       "</tbody>\n",
       "</table>\n"
      ],
      "text/latex": [
       "\\begin{tabular}{r|lllllllllllllllllllllllllllllll}\n",
       " mean.radius & mean.texture & mean.perimeter & mean.area & mean.smoothness & mean.compactness & mean.concavity & mean.concave.points & mean.symmetry & mean.fractal.dimension & ... & worst.texture & worst.perimeter & worst.area & worst.smoothness & worst.compactness & worst.concavity & worst.concave.points & worst.symmetry & worst.fractal.dimension & target\\\\\n",
       "\\hline\n",
       "\t 17.99   & 10.38   & 122.80  & 1001.0  & 0.11840 & 0.27760 & 0.3001  & 0.14710 & 0.2419  & 0.07871 & ...     & 17.33   & 184.60  & 2019.0  & 0.1622  & 0.6656  & 0.7119  & 0.2654  & 0.4601  & 0.11890 & 0      \\\\\n",
       "\t 20.57   & 17.77   & 132.90  & 1326.0  & 0.08474 & 0.07864 & 0.0869  & 0.07017 & 0.1812  & 0.05667 & ...     & 23.41   & 158.80  & 1956.0  & 0.1238  & 0.1866  & 0.2416  & 0.1860  & 0.2750  & 0.08902 & 0      \\\\\n",
       "\t 19.69   & 21.25   & 130.00  & 1203.0  & 0.10960 & 0.15990 & 0.1974  & 0.12790 & 0.2069  & 0.05999 & ...     & 25.53   & 152.50  & 1709.0  & 0.1444  & 0.4245  & 0.4504  & 0.2430  & 0.3613  & 0.08758 & 0      \\\\\n",
       "\t 11.42   & 20.38   &  77.58  &  386.1  & 0.14250 & 0.28390 & 0.2414  & 0.10520 & 0.2597  & 0.09744 & ...     & 26.50   &  98.87  &  567.7  & 0.2098  & 0.8663  & 0.6869  & 0.2575  & 0.6638  & 0.17300 & 0      \\\\\n",
       "\t 20.29   & 14.34   & 135.10  & 1297.0  & 0.10030 & 0.13280 & 0.1980  & 0.10430 & 0.1809  & 0.05883 & ...     & 16.67   & 152.20  & 1575.0  & 0.1374  & 0.2050  & 0.4000  & 0.1625  & 0.2364  & 0.07678 & 0      \\\\\n",
       "\t 12.45   & 15.70   &  82.57  &  477.1  & 0.12780 & 0.17000 & 0.1578  & 0.08089 & 0.2087  & 0.07613 & ...     & 23.75   & 103.40  &  741.6  & 0.1791  & 0.5249  & 0.5355  & 0.1741  & 0.3985  & 0.12440 & 0      \\\\\n",
       "\\end{tabular}\n"
      ],
      "text/markdown": [
       "\n",
       "mean.radius | mean.texture | mean.perimeter | mean.area | mean.smoothness | mean.compactness | mean.concavity | mean.concave.points | mean.symmetry | mean.fractal.dimension | ... | worst.texture | worst.perimeter | worst.area | worst.smoothness | worst.compactness | worst.concavity | worst.concave.points | worst.symmetry | worst.fractal.dimension | target | \n",
       "|---|---|---|---|---|---|\n",
       "| 17.99   | 10.38   | 122.80  | 1001.0  | 0.11840 | 0.27760 | 0.3001  | 0.14710 | 0.2419  | 0.07871 | ...     | 17.33   | 184.60  | 2019.0  | 0.1622  | 0.6656  | 0.7119  | 0.2654  | 0.4601  | 0.11890 | 0       | \n",
       "| 20.57   | 17.77   | 132.90  | 1326.0  | 0.08474 | 0.07864 | 0.0869  | 0.07017 | 0.1812  | 0.05667 | ...     | 23.41   | 158.80  | 1956.0  | 0.1238  | 0.1866  | 0.2416  | 0.1860  | 0.2750  | 0.08902 | 0       | \n",
       "| 19.69   | 21.25   | 130.00  | 1203.0  | 0.10960 | 0.15990 | 0.1974  | 0.12790 | 0.2069  | 0.05999 | ...     | 25.53   | 152.50  | 1709.0  | 0.1444  | 0.4245  | 0.4504  | 0.2430  | 0.3613  | 0.08758 | 0       | \n",
       "| 11.42   | 20.38   |  77.58  |  386.1  | 0.14250 | 0.28390 | 0.2414  | 0.10520 | 0.2597  | 0.09744 | ...     | 26.50   |  98.87  |  567.7  | 0.2098  | 0.8663  | 0.6869  | 0.2575  | 0.6638  | 0.17300 | 0       | \n",
       "| 20.29   | 14.34   | 135.10  | 1297.0  | 0.10030 | 0.13280 | 0.1980  | 0.10430 | 0.1809  | 0.05883 | ...     | 16.67   | 152.20  | 1575.0  | 0.1374  | 0.2050  | 0.4000  | 0.1625  | 0.2364  | 0.07678 | 0       | \n",
       "| 12.45   | 15.70   |  82.57  |  477.1  | 0.12780 | 0.17000 | 0.1578  | 0.08089 | 0.2087  | 0.07613 | ...     | 23.75   | 103.40  |  741.6  | 0.1791  | 0.5249  | 0.5355  | 0.1741  | 0.3985  | 0.12440 | 0       | \n",
       "\n",
       "\n"
      ],
      "text/plain": [
       "  mean.radius mean.texture mean.perimeter mean.area mean.smoothness\n",
       "1 17.99       10.38        122.80         1001.0    0.11840        \n",
       "2 20.57       17.77        132.90         1326.0    0.08474        \n",
       "3 19.69       21.25        130.00         1203.0    0.10960        \n",
       "4 11.42       20.38         77.58          386.1    0.14250        \n",
       "5 20.29       14.34        135.10         1297.0    0.10030        \n",
       "6 12.45       15.70         82.57          477.1    0.12780        \n",
       "  mean.compactness mean.concavity mean.concave.points mean.symmetry\n",
       "1 0.27760          0.3001         0.14710             0.2419       \n",
       "2 0.07864          0.0869         0.07017             0.1812       \n",
       "3 0.15990          0.1974         0.12790             0.2069       \n",
       "4 0.28390          0.2414         0.10520             0.2597       \n",
       "5 0.13280          0.1980         0.10430             0.1809       \n",
       "6 0.17000          0.1578         0.08089             0.2087       \n",
       "  mean.fractal.dimension ... worst.texture worst.perimeter worst.area\n",
       "1 0.07871                ... 17.33         184.60          2019.0    \n",
       "2 0.05667                ... 23.41         158.80          1956.0    \n",
       "3 0.05999                ... 25.53         152.50          1709.0    \n",
       "4 0.09744                ... 26.50          98.87           567.7    \n",
       "5 0.05883                ... 16.67         152.20          1575.0    \n",
       "6 0.07613                ... 23.75         103.40           741.6    \n",
       "  worst.smoothness worst.compactness worst.concavity worst.concave.points\n",
       "1 0.1622           0.6656            0.7119          0.2654              \n",
       "2 0.1238           0.1866            0.2416          0.1860              \n",
       "3 0.1444           0.4245            0.4504          0.2430              \n",
       "4 0.2098           0.8663            0.6869          0.2575              \n",
       "5 0.1374           0.2050            0.4000          0.1625              \n",
       "6 0.1791           0.5249            0.5355          0.1741              \n",
       "  worst.symmetry worst.fractal.dimension target\n",
       "1 0.4601         0.11890                 0     \n",
       "2 0.2750         0.08902                 0     \n",
       "3 0.3613         0.08758                 0     \n",
       "4 0.6638         0.17300                 0     \n",
       "5 0.2364         0.07678                 0     \n",
       "6 0.3985         0.12440                 0     "
      ]
     },
     "metadata": {},
     "output_type": "display_data"
    }
   ],
   "source": [
    "head(df)"
   ]
  },
  {
   "cell_type": "code",
   "execution_count": 6,
   "metadata": {},
   "outputs": [
    {
     "data": {
      "text/html": [
       "<ol class=list-inline>\n",
       "\t<li>'mean.radius'</li>\n",
       "\t<li>'mean.texture'</li>\n",
       "\t<li>'mean.perimeter'</li>\n",
       "\t<li>'mean.area'</li>\n",
       "\t<li>'mean.smoothness'</li>\n",
       "\t<li>'mean.compactness'</li>\n",
       "\t<li>'mean.concavity'</li>\n",
       "\t<li>'mean.concave.points'</li>\n",
       "\t<li>'mean.symmetry'</li>\n",
       "\t<li>'mean.fractal.dimension'</li>\n",
       "\t<li>'radius.error'</li>\n",
       "\t<li>'texture.error'</li>\n",
       "\t<li>'perimeter.error'</li>\n",
       "\t<li>'area.error'</li>\n",
       "\t<li>'smoothness.error'</li>\n",
       "\t<li>'compactness.error'</li>\n",
       "\t<li>'concavity.error'</li>\n",
       "\t<li>'concave.points.error'</li>\n",
       "\t<li>'symmetry.error'</li>\n",
       "\t<li>'fractal.dimension.error'</li>\n",
       "\t<li>'worst.radius'</li>\n",
       "\t<li>'worst.texture'</li>\n",
       "\t<li>'worst.perimeter'</li>\n",
       "\t<li>'worst.area'</li>\n",
       "\t<li>'worst.smoothness'</li>\n",
       "\t<li>'worst.compactness'</li>\n",
       "\t<li>'worst.concavity'</li>\n",
       "\t<li>'worst.concave.points'</li>\n",
       "\t<li>'worst.symmetry'</li>\n",
       "\t<li>'worst.fractal.dimension'</li>\n",
       "\t<li>'target'</li>\n",
       "</ol>\n"
      ],
      "text/latex": [
       "\\begin{enumerate*}\n",
       "\\item 'mean.radius'\n",
       "\\item 'mean.texture'\n",
       "\\item 'mean.perimeter'\n",
       "\\item 'mean.area'\n",
       "\\item 'mean.smoothness'\n",
       "\\item 'mean.compactness'\n",
       "\\item 'mean.concavity'\n",
       "\\item 'mean.concave.points'\n",
       "\\item 'mean.symmetry'\n",
       "\\item 'mean.fractal.dimension'\n",
       "\\item 'radius.error'\n",
       "\\item 'texture.error'\n",
       "\\item 'perimeter.error'\n",
       "\\item 'area.error'\n",
       "\\item 'smoothness.error'\n",
       "\\item 'compactness.error'\n",
       "\\item 'concavity.error'\n",
       "\\item 'concave.points.error'\n",
       "\\item 'symmetry.error'\n",
       "\\item 'fractal.dimension.error'\n",
       "\\item 'worst.radius'\n",
       "\\item 'worst.texture'\n",
       "\\item 'worst.perimeter'\n",
       "\\item 'worst.area'\n",
       "\\item 'worst.smoothness'\n",
       "\\item 'worst.compactness'\n",
       "\\item 'worst.concavity'\n",
       "\\item 'worst.concave.points'\n",
       "\\item 'worst.symmetry'\n",
       "\\item 'worst.fractal.dimension'\n",
       "\\item 'target'\n",
       "\\end{enumerate*}\n"
      ],
      "text/markdown": [
       "1. 'mean.radius'\n",
       "2. 'mean.texture'\n",
       "3. 'mean.perimeter'\n",
       "4. 'mean.area'\n",
       "5. 'mean.smoothness'\n",
       "6. 'mean.compactness'\n",
       "7. 'mean.concavity'\n",
       "8. 'mean.concave.points'\n",
       "9. 'mean.symmetry'\n",
       "10. 'mean.fractal.dimension'\n",
       "11. 'radius.error'\n",
       "12. 'texture.error'\n",
       "13. 'perimeter.error'\n",
       "14. 'area.error'\n",
       "15. 'smoothness.error'\n",
       "16. 'compactness.error'\n",
       "17. 'concavity.error'\n",
       "18. 'concave.points.error'\n",
       "19. 'symmetry.error'\n",
       "20. 'fractal.dimension.error'\n",
       "21. 'worst.radius'\n",
       "22. 'worst.texture'\n",
       "23. 'worst.perimeter'\n",
       "24. 'worst.area'\n",
       "25. 'worst.smoothness'\n",
       "26. 'worst.compactness'\n",
       "27. 'worst.concavity'\n",
       "28. 'worst.concave.points'\n",
       "29. 'worst.symmetry'\n",
       "30. 'worst.fractal.dimension'\n",
       "31. 'target'\n",
       "\n",
       "\n"
      ],
      "text/plain": [
       " [1] \"mean.radius\"             \"mean.texture\"           \n",
       " [3] \"mean.perimeter\"          \"mean.area\"              \n",
       " [5] \"mean.smoothness\"         \"mean.compactness\"       \n",
       " [7] \"mean.concavity\"          \"mean.concave.points\"    \n",
       " [9] \"mean.symmetry\"           \"mean.fractal.dimension\" \n",
       "[11] \"radius.error\"            \"texture.error\"          \n",
       "[13] \"perimeter.error\"         \"area.error\"             \n",
       "[15] \"smoothness.error\"        \"compactness.error\"      \n",
       "[17] \"concavity.error\"         \"concave.points.error\"   \n",
       "[19] \"symmetry.error\"          \"fractal.dimension.error\"\n",
       "[21] \"worst.radius\"            \"worst.texture\"          \n",
       "[23] \"worst.perimeter\"         \"worst.area\"             \n",
       "[25] \"worst.smoothness\"        \"worst.compactness\"      \n",
       "[27] \"worst.concavity\"         \"worst.concave.points\"   \n",
       "[29] \"worst.symmetry\"          \"worst.fractal.dimension\"\n",
       "[31] \"target\"                 "
      ]
     },
     "metadata": {},
     "output_type": "display_data"
    }
   ],
   "source": [
    "colnames(df)"
   ]
  },
  {
   "cell_type": "markdown",
   "metadata": {},
   "source": [
    "### Building the Model\n",
    "We'll need the e1071 library."
   ]
  },
  {
   "cell_type": "code",
   "execution_count": 7,
   "metadata": {
    "collapsed": true
   },
   "outputs": [],
   "source": [
    "#install.packages('e1071',repos = 'http://cran.us.r-project.org')"
   ]
  },
  {
   "cell_type": "code",
   "execution_count": 8,
   "metadata": {
    "collapsed": true
   },
   "outputs": [],
   "source": [
    "library(e1071)"
   ]
  },
  {
   "cell_type": "code",
   "execution_count": 9,
   "metadata": {
    "collapsed": true
   },
   "outputs": [],
   "source": [
    "help(svm)"
   ]
  },
  {
   "cell_type": "markdown",
   "metadata": {},
   "source": [
    "#### Train Test split "
   ]
  },
  {
   "cell_type": "code",
   "execution_count": 36,
   "metadata": {
    "collapsed": true
   },
   "outputs": [],
   "source": [
    "df$target <- factor(df$target)"
   ]
  },
  {
   "cell_type": "code",
   "execution_count": 37,
   "metadata": {
    "collapsed": true
   },
   "outputs": [],
   "source": [
    "library(caTools)\n",
    "set.seed(101)\n",
    "\n",
    "split = sample.split(df$target, SplitRatio = 0.70)\n",
    "\n",
    "final.train = subset(df, split == TRUE)\n",
    "final.test = subset(df, split == FALSE)"
   ]
  },
  {
   "cell_type": "markdown",
   "metadata": {},
   "source": [
    "### Model on Train data"
   ]
  },
  {
   "cell_type": "code",
   "execution_count": 38,
   "metadata": {},
   "outputs": [],
   "source": [
    "model <- svm(target ~ ., data=final.train)"
   ]
  },
  {
   "cell_type": "code",
   "execution_count": 39,
   "metadata": {},
   "outputs": [
    {
     "data": {
      "text/plain": [
       "\n",
       "Call:\n",
       "svm(formula = target ~ ., data = final.train)\n",
       "\n",
       "\n",
       "Parameters:\n",
       "   SVM-Type:  C-classification \n",
       " SVM-Kernel:  radial \n",
       "       cost:  1 \n",
       "      gamma:  0.03333333 \n",
       "\n",
       "Number of Support Vectors:  98\n",
       "\n",
       " ( 51 47 )\n",
       "\n",
       "\n",
       "Number of Classes:  2 \n",
       "\n",
       "Levels: \n",
       " 0 1\n",
       "\n",
       "\n"
      ]
     },
     "metadata": {},
     "output_type": "display_data"
    }
   ],
   "source": [
    "summary(model)"
   ]
  },
  {
   "cell_type": "markdown",
   "metadata": {},
   "source": [
    "### Example Predictions"
   ]
  },
  {
   "cell_type": "code",
   "execution_count": 42,
   "metadata": {},
   "outputs": [],
   "source": [
    "predicted.values.test <- predict(model,final.test)"
   ]
  },
  {
   "cell_type": "code",
   "execution_count": 43,
   "metadata": {},
   "outputs": [
    {
     "data": {
      "text/plain": [
       "                     \n",
       "predicted.values.test   0   1\n",
       "                    0  63   1\n",
       "                    1   1 106"
      ]
     },
     "metadata": {},
     "output_type": "display_data"
    }
   ],
   "source": [
    "table(predicted.values.test,final.test$target)"
   ]
  },
  {
   "cell_type": "markdown",
   "metadata": {},
   "source": [
    "### Advanced - Tuning"
   ]
  },
  {
   "cell_type": "code",
   "execution_count": 50,
   "metadata": {},
   "outputs": [],
   "source": [
    "x.train <- subset(final.train, select = -c(target))\n",
    "y.train <- subset(final.train, select = c(target))"
   ]
  },
  {
   "cell_type": "code",
   "execution_count": 53,
   "metadata": {},
   "outputs": [],
   "source": [
    "  obj <- tune(svm, target~., data = final.train, \n",
    "              ranges = list(gamma = 2^(-1:1), cost = 2^(2:4)),\n",
    "              tunecontrol = tune.control(sampling = \"fix\")\n",
    "             )"
   ]
  },
  {
   "cell_type": "code",
   "execution_count": 55,
   "metadata": {},
   "outputs": [
    {
     "data": {
      "text/plain": [
       "\n",
       "Parameter tuning of 'svm':\n",
       "\n",
       "- sampling method: fixed training/validation set \n",
       "\n",
       "- best parameters:\n",
       " gamma cost\n",
       "   0.5    4\n",
       "\n",
       "- best performance: 0.2556391 \n",
       "\n",
       "- Detailed performance results:\n",
       "  gamma cost     error dispersion\n",
       "1   0.5    4 0.2556391         NA\n",
       "2   1.0    4 0.3533835         NA\n",
       "3   2.0    4 0.3609023         NA\n",
       "4   0.5    8 0.2556391         NA\n",
       "5   1.0    8 0.3533835         NA\n",
       "6   2.0    8 0.3609023         NA\n",
       "7   0.5   16 0.2556391         NA\n",
       "8   1.0   16 0.3533835         NA\n",
       "9   2.0   16 0.3609023         NA\n"
      ]
     },
     "metadata": {},
     "output_type": "display_data"
    }
   ],
   "source": [
    "summary(obj)\n",
    "  "
   ]
  },
  {
   "cell_type": "code",
   "execution_count": 56,
   "metadata": {
    "collapsed": true
   },
   "outputs": [],
   "source": [
    "help(tune)"
   ]
  },
  {
   "cell_type": "code",
   "execution_count": 58,
   "metadata": {},
   "outputs": [
    {
     "data": {
      "text/plain": [
       "\n",
       "Call:\n",
       "best.tune(method = svm, train.x = target ~ ., data = final.train, \n",
       "    ranges = list(gamma = 2^(-1:1), cost = 2^(2:4)), tunecontrol = tune.control(sampling = \"fix\"))\n",
       "\n",
       "\n",
       "Parameters:\n",
       "   SVM-Type:  C-classification \n",
       " SVM-Kernel:  radial \n",
       "       cost:  4 \n",
       "      gamma:  0.5 \n",
       "\n",
       "Number of Support Vectors:  374\n"
      ]
     },
     "metadata": {},
     "output_type": "display_data"
    }
   ],
   "source": [
    "obj$best.model"
   ]
  },
  {
   "cell_type": "code",
   "execution_count": 59,
   "metadata": {
    "collapsed": true
   },
   "outputs": [],
   "source": [
    "predicted.values.test <- predict(obj$best.model,final.test)"
   ]
  },
  {
   "cell_type": "code",
   "execution_count": 60,
   "metadata": {},
   "outputs": [
    {
     "data": {
      "text/plain": [
       "                     \n",
       "predicted.values.test   0   1\n",
       "                    0  44   2\n",
       "                    1  20 105"
      ]
     },
     "metadata": {},
     "output_type": "display_data"
    }
   ],
   "source": [
    "table(predicted.values.test,final.test$target)"
   ]
  },
  {
   "cell_type": "code",
   "execution_count": null,
   "metadata": {
    "collapsed": true
   },
   "outputs": [],
   "source": []
  }
 ],
 "metadata": {
  "kernelspec": {
   "display_name": "R",
   "language": "R",
   "name": "ir"
  },
  "language_info": {
   "codemirror_mode": "r",
   "file_extension": ".r",
   "mimetype": "text/x-r-source",
   "name": "R",
   "pygments_lexer": "r",
   "version": "3.4.1"
  }
 },
 "nbformat": 4,
 "nbformat_minor": 2
}
